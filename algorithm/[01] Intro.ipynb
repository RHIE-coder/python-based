{
 "cells": [
  {
   "cell_type": "markdown",
   "id": "a1067886-f247-498f-8411-b3703174f96e",
   "metadata": {},
   "source": [
    "# 자료구조(Data Structure)와 추상데이터타입(ADT)"
   ]
  },
  {
   "cell_type": "markdown",
   "id": "01fd25ba-2687-4441-a102-e133fd717d2f",
   "metadata": {},
   "source": [
    "## 1. 자료구조란?\n",
    "\n",
    "일련의 동일한 타입의 데이터를 정동하여 저장한 구성체\n",
    " - 목적: CRUD 연산을 효율적으로 수행하기 위해\n",
    "\n",
    "## 2. ADT란?\n",
    "\n",
    "자료구조를 프로그램으로 구현할 때에는 데이터를 저장할 구조를 생성한 이후, 실제 저장되는 데이터를 처리하기 위한 연산을 정의해야하는데, 추상데이터타입(Abstract Data Type)은 이러한 관계를 정형화시킨 개념\n",
    "\n",
    "```\n",
    "ADT --> 구현 --> Data Structure\n",
    "```\n",
    "\n",
    "## 3. 효율성\n",
    "\n",
    "자료구조의 효율성은 연산의 수행시간을 측정\n",
    "\n",
    " - 시간복잡도(Time Complexity)\n",
    " - 공간복잡도(Space Complexity)\n",
    "\n",
    "### - 수행시간 분석과 의미\n",
    " - Worst-case Analysis : `어떤 입력이 주어져도 일정 이상을 넘지 않는다. 상한(Upper Bound)의 의미`\n",
    " - Average-case Analysis : `입력의 확률 분포를 균등분포(Uniform Distribution)로 가정 - 입력이 무작위로 주어짐`\n",
    " - Best-case Analysis : `가장 빠른 수행시간 분석. 거의 사용되지 않지만 최적(Optimal) 알고리즘을 찾는데 활용`\n",
    " \n",
    "## 4. 표기법\n",
    "\n",
    "### 점근표기법(Asymptotic Notation)\n",
    " - Big-Oh : 상한(Upper Bound)\n",
    " - Big-Omega : 하한(Lower Bound)\n",
    " - Theta : Big-Oh 표기와 Big-Omega 표기가 동일할 때 사용\n",
    " \n",
    "### O-표기\n",
    " - `O(1)`: 상수시간(Constant Time)\n",
    " - `O(logN)`: 로그(대수)시간(Logarithmic Time)\n",
    " - `O(N)`: 선형시간(Linear Time)\n",
    " - `O(NlogN)`: 로그선형시간(Log-linear Time)\n",
    " - `O(N^2)`: 제곱시간(Quadratic Time)\n",
    " - `O(N^3)`: 세제곱시간(Cubic time)\n",
    " - `O(2^N)`: 지수시간(Exponential Time)\n",
    " \n"
   ]
  },
  {
   "cell_type": "code",
   "execution_count": null,
   "id": "391644eb-8c89-4cd5-8549-baceb747dc48",
   "metadata": {},
   "outputs": [],
   "source": []
  }
 ],
 "metadata": {
  "kernelspec": {
   "display_name": "Python 3 (ipykernel)",
   "language": "python",
   "name": "python3"
  },
  "language_info": {
   "codemirror_mode": {
    "name": "ipython",
    "version": 3
   },
   "file_extension": ".py",
   "mimetype": "text/x-python",
   "name": "python",
   "nbconvert_exporter": "python",
   "pygments_lexer": "ipython3",
   "version": "3.9.13"
  }
 },
 "nbformat": 4,
 "nbformat_minor": 5
}
