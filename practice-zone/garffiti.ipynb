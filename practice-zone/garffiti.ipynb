{
 "cells": [
  {
   "cell_type": "markdown",
   "id": "51efc82e-303e-403b-838c-6ce68dc4d453",
   "metadata": {},
   "source": [
    "# numpy\n",
    " - 파이썬 리스트보다 빠르고 적은 메모리 사용\n",
    " - Vectorization\n",
    " - ndarray"
   ]
  },
  {
   "cell_type": "markdown",
   "id": "64c9e711",
   "metadata": {},
   "source": [
    "빠르게 시작\n",
    "\n",
    "```python\n",
    "import numpy as np\n",
    "import matplotlib as plt\n",
    "\n",
    "x = np.array([1, 2, 3])\n",
    "y = np.array([4, 5, 6])\n",
    "\n",
    "plt.plot(x, y)\n",
    "```"
   ]
  },
  {
   "cell_type": "markdown",
   "id": "50a8e039",
   "metadata": {},
   "source": [
    "### - Guide\n",
    "```python\n",
    "# 기본 생성\n",
    "x = np.array([1, 2, 3, 4])\n",
    "\n",
    "# Iterator 활용하여 생성\n",
    "np.arange(1, 10)\n",
    "\n",
    "# 초기화\n",
    "np.ones((4, 5))\n",
    "np.zeros((6, 7))\n",
    "np.empty((8, 9))\n",
    "np.full((1, 2), 10)\n",
    "np.eye(5) # 단위행렬\n",
    "np.linspace(1, 100, 5)\n",
    "\n",
    "# reshape\n",
    "x.shape\n",
    "x.reshape(2, 2) # 2 * 2 = 4\n",
    "```"
   ]
  },
  {
   "cell_type": "markdown",
   "id": "faaf52e3",
   "metadata": {},
   "source": [
    " <br><br><br><br><br><hr>"
   ]
  },
  {
   "cell_type": "markdown",
   "id": "89a0b9fd",
   "metadata": {},
   "source": [
    " # Pandas"
   ]
  },
  {
   "cell_type": "markdown",
   "id": "b70d7e7d",
   "metadata": {},
   "source": [
    "```python\n",
    "import pandas as pd\n",
    "\n",
    "# Series 1차원 <> DataFrame 2차원\n",
    "\n",
    "```"
   ]
  }
 ],
 "metadata": {
  "kernelspec": {
   "display_name": "Python 3 (ipykernel)",
   "language": "python",
   "name": "python3"
  },
  "language_info": {
   "codemirror_mode": {
    "name": "ipython",
    "version": 3
   },
   "file_extension": ".py",
   "mimetype": "text/x-python",
   "name": "python",
   "nbconvert_exporter": "python",
   "pygments_lexer": "ipython3",
   "version": "3.9.7"
  }
 },
 "nbformat": 4,
 "nbformat_minor": 5
}
