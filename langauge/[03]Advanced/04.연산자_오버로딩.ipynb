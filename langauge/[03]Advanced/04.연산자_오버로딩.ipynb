{
 "cells": [
  {
   "cell_type": "markdown",
   "id": "905291f3-4fd8-4588-8882-6764c9861a4c",
   "metadata": {},
   "source": [
    "# 04. 연산자 오버로딩"
   ]
  },
  {
   "cell_type": "markdown",
   "id": "4e872754-4399-4ed3-a396-75ce21d35c28",
   "metadata": {},
   "source": [
    "객체간 연산을 도와주는 메서드들이다."
   ]
  },
  {
   "cell_type": "markdown",
   "id": "1e41b2be-e68d-4b50-9cca-2cdbbfdce482",
   "metadata": {},
   "source": [
    "## - 연산자 오버로딩(Overloading)"
   ]
  },
  {
   "cell_type": "markdown",
   "id": "12ba41e4-7128-48c1-8ef4-f21b90aacdcf",
   "metadata": {},
   "source": [
    "- `__add__(self, other)` : 이항 + 연산자(A + B, A += B)<br>\n",
    "- `__sub__(self, other)` : 이항 - 연산자(A - B, A -= B)<br>\n",
    "- `__mul__(self, other)` : 이항 * 연산자(A * B, A *= B)<br>\n",
    "- `__truediv__(self, other)` : 이항 / 연산자(A / B, A /= B)<br>\n",
    "- `__floordiv__(self, other)` : 이항 // 연산자(A // B, A //= B)<br>\n",
    "- `__mod__(self, other)` : 이항 % 연산자(A % B, A %= B)<br>\n",
    "- `__pow__(self, other)` : 이항 연산자(A B, pow(A, B))<br>\n",
    "- `__lshift__(self, other)` : 이항 << 연산자(A << B, A <<= B)<br>\n",
    "- `__rshift__(self, other)` : 이항 >> 연산자(A >> B, A >>= B)<br>\n",
    "- `__and__(self, other)` : 이항 & 연산자(A & B, A &= B)<br>\n",
    "- `__xor__(self, other)` : 이항 ^ 연산자(A ^ B, A ^= B)<br>\n",
    "- `__or__(self, other)` : 이항 | 연산자(A | B, A |= B)<br>\n",
    "- `__not__(self)` : 단항 ~ 연산자(~A)<br>\n",
    "- `__abs__(self)` : 단항 절대값 연산자(abs(A))<br>"
   ]
  },
  {
   "cell_type": "code",
   "execution_count": 1,
   "id": "1be26648-1ec4-4e4f-997a-ef71fcb8ea46",
   "metadata": {},
   "outputs": [
    {
     "ename": "TypeError",
     "evalue": "unsupported operand type(s) for +: 'NumBox' and 'int'",
     "output_type": "error",
     "traceback": [
      "\u001b[1;31m---------------------------------------------------------------------------\u001b[0m",
      "\u001b[1;31mTypeError\u001b[0m                                 Traceback (most recent call last)",
      "\u001b[1;32m~\\AppData\\Local\\Temp/ipykernel_23156/1540170986.py\u001b[0m in \u001b[0;36m<module>\u001b[1;34m\u001b[0m\n\u001b[0;32m      5\u001b[0m \u001b[1;33m\u001b[0m\u001b[0m\n\u001b[0;32m      6\u001b[0m \u001b[0mn\u001b[0m \u001b[1;33m=\u001b[0m \u001b[0mNumBox\u001b[0m\u001b[1;33m(\u001b[0m\u001b[1;36m10\u001b[0m\u001b[1;33m)\u001b[0m\u001b[1;33m\u001b[0m\u001b[1;33m\u001b[0m\u001b[0m\n\u001b[1;32m----> 7\u001b[1;33m \u001b[0mn\u001b[0m \u001b[1;33m+\u001b[0m \u001b[1;36m10\u001b[0m\u001b[1;33m\u001b[0m\u001b[1;33m\u001b[0m\u001b[0m\n\u001b[0m",
      "\u001b[1;31mTypeError\u001b[0m: unsupported operand type(s) for +: 'NumBox' and 'int'"
     ]
    }
   ],
   "source": [
    "class NumBox:\n",
    "    def __init__(self, num):\n",
    "        self.num = num\n",
    "        \n",
    "\n",
    "n = NumBox(10)\n",
    "n + 10"
   ]
  },
  {
   "cell_type": "markdown",
   "id": "04a6d772-7c49-4da4-b589-bf3ec7aa2a7c",
   "metadata": {},
   "source": [
    "위와 같이 원래 객체(주소값)에 무언가를 더하고 빼는 연산을 한다는 건 타입이 맞지 않아 에러가 일어난다."
   ]
  },
  {
   "cell_type": "code",
   "execution_count": 2,
   "id": "79c82c1d-5506-4ee7-bf6c-7696eb48a096",
   "metadata": {},
   "outputs": [
    {
     "name": "stdout",
     "output_type": "stream",
     "text": [
      "60\n"
     ]
    }
   ],
   "source": [
    "class NumBox:\n",
    "    def __init__(self, num):\n",
    "        self.num = num\n",
    "    \n",
    "    def __add__(self, num):\n",
    "        self.num += num\n",
    "    \n",
    "    def __sub__(self, num):\n",
    "        self.num -= num\n",
    "    \n",
    "n = NumBox(10)\n",
    "n + 100\n",
    "n - 50\n",
    "print(n.num)"
   ]
  },
  {
   "cell_type": "markdown",
   "id": "ed339eee-884b-483e-96f8-7ed58f3c2f81",
   "metadata": {},
   "source": [
    "이제 `__add__`와 `__sub__`를 통해 무언가를 더하고 뺄 수 있게 되었다.\n",
    "\n",
    "그러나... 위치가 바뀌니 되질 않는다."
   ]
  },
  {
   "cell_type": "code",
   "execution_count": 3,
   "id": "f3f06b26-f7cd-4031-b21d-12baeb90fea9",
   "metadata": {},
   "outputs": [
    {
     "ename": "TypeError",
     "evalue": "unsupported operand type(s) for +: 'int' and 'NumBox'",
     "output_type": "error",
     "traceback": [
      "\u001b[1;31m---------------------------------------------------------------------------\u001b[0m",
      "\u001b[1;31mTypeError\u001b[0m                                 Traceback (most recent call last)",
      "\u001b[1;32m~\\AppData\\Local\\Temp/ipykernel_23156/1273796842.py\u001b[0m in \u001b[0;36m<module>\u001b[1;34m\u001b[0m\n\u001b[1;32m----> 1\u001b[1;33m \u001b[1;36m100\u001b[0m \u001b[1;33m+\u001b[0m \u001b[0mn\u001b[0m\u001b[1;33m\u001b[0m\u001b[1;33m\u001b[0m\u001b[0m\n\u001b[0m\u001b[0;32m      2\u001b[0m \u001b[1;36m50\u001b[0m \u001b[1;33m-\u001b[0m \u001b[0mn\u001b[0m\u001b[1;33m\u001b[0m\u001b[1;33m\u001b[0m\u001b[0m\n",
      "\u001b[1;31mTypeError\u001b[0m: unsupported operand type(s) for +: 'int' and 'NumBox'"
     ]
    }
   ],
   "source": [
    "100 + n\n",
    "50 - n"
   ]
  },
  {
   "cell_type": "code",
   "execution_count": 4,
   "id": "1e2b52fd-c89e-45af-a230-d0d8a31733ca",
   "metadata": {},
   "outputs": [
    {
     "name": "stdout",
     "output_type": "stream",
     "text": [
      "60\n"
     ]
    }
   ],
   "source": [
    "class NumBox:\n",
    "    def __init__(self, num):\n",
    "        self.num = num\n",
    "    \n",
    "    def __radd__(self, num):\n",
    "        self.num += num\n",
    "    \n",
    "    def __rsub__(self, num):\n",
    "        self.num -= num\n",
    "\n",
    "n = NumBox(10)\n",
    "100 + n\n",
    "50 - n\n",
    "print(n.num)"
   ]
  },
  {
   "cell_type": "markdown",
   "id": "0a71461d-c3c1-406d-8230-0feaa8b2b7e9",
   "metadata": {},
   "source": [
    "이는 객체가 연산자 오른쪽에 있을 때 원하는 결과를 얻을 수 있는 `__radd__`와 `__rsub__`를 이용하면 된다."
   ]
  },
  {
   "cell_type": "markdown",
   "id": "fa2b71ef-7677-4d31-baf1-9d5292431721",
   "metadata": {},
   "source": [
    "<br>\n",
    "<br>\n",
    "<br>\n",
    "<br>\n",
    "<br>\n",
    "<br>\n",
    "<hr>\n",
    "<br>\n",
    "<br>\n",
    "<br>\n",
    "<br>\n",
    "<br>\n",
    "<br>"
   ]
  }
 ],
 "metadata": {
  "kernelspec": {
   "display_name": "Python 3 (ipykernel)",
   "language": "python",
   "name": "python3"
  },
  "language_info": {
   "codemirror_mode": {
    "name": "ipython",
    "version": 3
   },
   "file_extension": ".py",
   "mimetype": "text/x-python",
   "name": "python",
   "nbconvert_exporter": "python",
   "pygments_lexer": "ipython3",
   "version": "3.9.6"
  }
 },
 "nbformat": 4,
 "nbformat_minor": 5
}
