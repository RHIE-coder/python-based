{
 "cells": [
  {
   "cell_type": "markdown",
   "id": "12bbab6d",
   "metadata": {
    "tags": []
   },
   "source": [
    "# 09. 비동기"
   ]
  },
  {
   "cell_type": "markdown",
   "id": "d4a98df2",
   "metadata": {},
   "source": [
    "내용이 방대해 네트워크, 스트림, 쓰레드 등은 다루지 않고 필요한 내용만 다루었다. \n",
    "\n",
    "본 장에서는 고수준 API와 저수준 API 모두 소개했지만 현재 당장은 고수준 API만 알아도 무방할 듯하다."
   ]
  },
  {
   "cell_type": "markdown",
   "id": "607316c2",
   "metadata": {},
   "source": [
    "<br><br><br>"
   ]
  },
  {
   "cell_type": "markdown",
   "id": "1b768e62",
   "metadata": {},
   "source": [
    "## - asyncio\r\n",
    "\r\n",
    "`async/await` 구문을 사용하여 동시성 코드를 작성하는 라이브러리\r\n",
    "\r\n",
    "`고수준 API`와 `저수준 API`를 지원한다.\r\n",
    "\r\n",
    " -  [고수준 API Reference](https://docs.python.org/ko/3/library/asyncio-api-index.html)\r\n",
    "\r\n",
    " -  [저수준 API Reference](https://docs.python.org/ko/3/library/asyncio-llapi-index.html)"
   ]
  },
  {
   "cell_type": "markdown",
   "id": "c08f2e78",
   "metadata": {},
   "source": [
    "```python\n",
    "import asyncio\n",
    "```"
   ]
  },
  {
   "cell_type": "markdown",
   "id": "a6558faf",
   "metadata": {},
   "source": [
    "<br><br><br>"
   ]
  },
  {
   "cell_type": "markdown",
   "id": "dbeb5a5b",
   "metadata": {},
   "source": [
    "## - 고수준 API"
   ]
  },
  {
   "cell_type": "markdown",
   "id": "0c58c6c4",
   "metadata": {},
   "source": [
    "### * async/await 개요\n",
    "\n",
    "코루틴을 선언할 때는 함수(def) 옆 키워드로 `async`를 붙이면 된다. 그리고 `await`는 `async`로 정의된 함수 안에서만 사용이 가능하며 `await`는 코루틴을 실행하고 끝날 때까지 기다린다."
   ]
  },
  {
   "cell_type": "markdown",
   "id": "72f4c98b",
   "metadata": {},
   "source": [
    "### * 코루틴 함수 and 코루틴 객체\n",
    "\n",
    "`코루틴 함수`는 `async def`로 선언된 함수를 이야기하고 `코루틴 객체`는 코루틴 함수를 호출하여 반환된 코루틴을 이야기한다."
   ]
  },
  {
   "cell_type": "markdown",
   "id": "ed82338f",
   "metadata": {},
   "source": [
    "### * awaitable 객체\n",
    "\n",
    "`await` 표현식을 통해 사용할 수 있으면 어웨이터블 객체라고 말한다.\n",
    "\n",
    " - 코루틴(Coroutine)\n",
    " - 태스크(Task)\n",
    " - 퓨처(Futrue)"
   ]
  },
  {
   "cell_type": "markdown",
   "id": "feffa1d3",
   "metadata": {},
   "source": [
    "### * asyncio.run(coro, *, debug=False)\n",
    "\n",
    "동기 코드에서 비동기 코드로 진입하는 부분이다. 선언된 코루틴을 `coro` 위치에 인수로서 대입하면 된다.\n",
    "\n",
    "내부적으로 이벤트 루프(even_loop)를 만들고 코루틴(coroutine)을 실행한 다음 이벤트 루프를 닫는다(close)."
   ]
  },
  {
   "cell_type": "markdown",
   "id": "0f009f5a",
   "metadata": {},
   "source": [
    "### * asyncio.sleep(delay, result=None, *, loop=None)\n",
    "\n",
    "delay 동안 Blocking한다. 즉, 잠깐 멈춘다.\n",
    "\n",
    "result가 있으면 완료시 호출자에게 반환한다.\n",
    "\n",
    "<hr>"
   ]
  },
  {
   "cell_type": "markdown",
   "id": "84aee40f",
   "metadata": {},
   "source": [
    "```python\n",
    "import asyncio\n",
    "\n",
    "async def main():\n",
    "    print('hello')\n",
    "    await asyncio.sleep(1)\n",
    "    print('world')\n",
    "\n",
    "asyncio.run(main());\n",
    "```\n",
    "\n",
    " - 결과\n",
    " \n",
    "```\n",
    "hello\n",
    "world\n",
    "```"
   ]
  },
  {
   "cell_type": "markdown",
   "id": "f7fa941b",
   "metadata": {},
   "source": [
    "<hr>\n",
    "\n",
    "또 다른 코드를 실행해보자.\n",
    "\n",
    "<hr>"
   ]
  },
  {
   "cell_type": "markdown",
   "id": "ea03aaaf",
   "metadata": {},
   "source": [
    "```python\n",
    "import asyncio\n",
    "import time\n",
    "\n",
    "async def say_after(delay, what):\n",
    "    await asyncio.sleep(delay)\n",
    "    print(what)\n",
    "\n",
    "async def main():\n",
    "    \n",
    "    # the '%X' means Locale’s appropriate time representation.\n",
    "    print(f\"started at {time.strftime('%X')}\") \n",
    "\n",
    "    await say_after(3, 'hello')\n",
    "    await say_after(4, 'world')\n",
    "\n",
    "    print(f\"finished at {time.strftime('%X')}\")\n",
    "\n",
    "asyncio.run(main())\n",
    "```\n",
    "\n",
    " - 결과\n",
    " \n",
    "```\n",
    "started at 00:56:52\n",
    "hello\n",
    "world\n",
    "finished at 00:56:59\n",
    "```"
   ]
  },
  {
   "cell_type": "markdown",
   "id": "9f3e40d4",
   "metadata": {},
   "source": [
    "<hr>\n",
    "\n",
    "위 코드가 모두 마치기까지 약 7초가 걸렸다. 이유는 먼저 `say_after(3, 'hello')` 코루틴을 실행하고 약 3초간 기다렸다가 마무리된 후 `say_after(4, 'world')` 코루틴에서 4초간 기다렸기 때문이다.\n",
    "\n",
    "`time.strftime()` 함수에 대해 궁금하다면 공식 문서를 참고하자. [click](https://docs.python.org/3.8/library/time.html#time.strftime)\n",
    "\n",
    "때문에 각 코루틴의 결과값에 서로 의존적이지 않다면 각각의 코루틴이 모두 따로 동시에 실행되도록 하는 솔루션이 필요하다."
   ]
  },
  {
   "cell_type": "markdown",
   "id": "0aae1ac7",
   "metadata": {},
   "source": [
    "### * asyncio.create_task(coro, *, name=None)\n",
    "\n",
    "흐름을 분기하는 코드이며, 새로운 micro-thread 생성한다.\n",
    "\n",
    "전달 받은 코루틴을 Task로 감싸고 실행을 예약한다.\n",
    "\n",
    "그리고 그러한 Task 객체를 반환한다.\n",
    "\n",
    "name이 None이 아니면 내부적으로 `Task.set_name()`을 사용해 Task 이름을 설정한다.\n",
    "\n",
    "\n",
    "\n",
    "<hr>"
   ]
  },
  {
   "cell_type": "markdown",
   "id": "bbd14e61",
   "metadata": {},
   "source": [
    "```python\n",
    "import asyncio\n",
    "import time\n",
    "\n",
    "async def say_after(delay, what):\n",
    "    await asyncio.sleep(delay)\n",
    "    print(what)\n",
    "\n",
    "async def main():\n",
    "    coro1 =  say_after(3, 'hello')\n",
    "    coro2 =  say_after(4, 'world')\n",
    "\n",
    "    task1 = asyncio.create_task(coro1)\n",
    "    task2 = asyncio.create_task(coro2)\n",
    "\n",
    "    print(f\"started at {time.strftime('%X')}\")\n",
    "\n",
    "    await task1\n",
    "    await task2\n",
    "\n",
    "    print(f\"finished at {time.strftime('%X')}\")\n",
    "\n",
    "asyncio.run(main())\n",
    "```\n",
    "\n",
    " - 결과\n",
    " \n",
    "```\n",
    "started at 01:09:12\n",
    "hello\n",
    "world\n",
    "finished at 01:09:16\n",
    "```"
   ]
  },
  {
   "cell_type": "markdown",
   "id": "d517b493",
   "metadata": {},
   "source": [
    "<hr>\n",
    "\n",
    "위에 결과를 보면 알 수 있듯이 각 코루틴이 Task 객체로 감싸져서 나왔고 코루틴을 실행했던 것처럼 `await` 키워드를 통해 비동기적인 실행을 하였다. 그러나 각 코루틴이 끝날 때까지 기다렸다가 다음 코루틴 작업으로 넘어가는 것이 아니라 동시에 실행한 것을 볼 수 있다."
   ]
  },
  {
   "cell_type": "markdown",
   "id": "052db678",
   "metadata": {},
   "source": [
    "또다른 예제를 살펴보자.\n",
    "\n",
    "<hr>"
   ]
  },
  {
   "cell_type": "markdown",
   "id": "8791921f",
   "metadata": {},
   "source": [
    "```python\n",
    "import asyncio\n",
    "\n",
    "async def saying(interval, what, how_many):\n",
    "    while how_many > 0:\n",
    "        await asyncio.sleep(interval)\n",
    "        print(what)\n",
    "        how_many -= 1\n",
    "\n",
    "async def main():\n",
    "    coro1 =  saying(1, 'hello', 5)\n",
    "    coro2 =  saying(2, 'world', 3)\n",
    "\n",
    "    await coro1\n",
    "    await coro2\n",
    "\n",
    "asyncio.run(main())\n",
    "```\n",
    "\n",
    " - 결과\n",
    " \n",
    "```\n",
    "hello\n",
    "hello\n",
    "hello\n",
    "hello\n",
    "hello\n",
    "world\n",
    "world\n",
    "world\n",
    "```"
   ]
  },
  {
   "cell_type": "markdown",
   "id": "a1d956cc",
   "metadata": {},
   "source": [
    "<hr>\n",
    "\n",
    "본 예제도 마찬가지로 코루틴 프로그래밍을 통해 비동기적인 프로그램 실행을 노렸지만 결과적으로는 마치 동기적으로 실행되어버린 케이스다.\n",
    "\n",
    "물론 `create_task()` 함수를 통해 코루틴을 Task 객체로 감싸서 동시에 처리할 수 있다.\n",
    "\n",
    "<hr>"
   ]
  },
  {
   "cell_type": "markdown",
   "id": "5c7ded76",
   "metadata": {},
   "source": [
    "```python\n",
    "import asyncio\n",
    "\n",
    "async def saying(interval, what, how_many):\n",
    "    while how_many > 0:\n",
    "        await asyncio.sleep(interval)\n",
    "        print(what)\n",
    "        how_many -= 1\n",
    "\n",
    "async def main():\n",
    "    coro1 =  saying(1, 'hello', 5)\n",
    "    coro2 =  saying(2, 'world', 3)\n",
    "    coro3 =  saying(3, 'python', 2)\n",
    "\n",
    "    task1 = asyncio.create_task(coro1)\n",
    "    task2 = asyncio.create_task(coro2)\n",
    "    task3 = asyncio.create_task(coro3)\n",
    "\n",
    "    await task1\n",
    "    await task2\n",
    "    await task3\n",
    "\n",
    "asyncio.run(main())\n",
    "```\n",
    "\n",
    " - 결과\n",
    " \n",
    "```\n",
    "hello\n",
    "world\n",
    "hello\n",
    "python\n",
    "hello\n",
    "world\n",
    "hello\n",
    "hello\n",
    "world\n",
    "python\n",
    "```"
   ]
  },
  {
   "cell_type": "markdown",
   "id": "c8d7a532",
   "metadata": {},
   "source": [
    "<hr>\n",
    "\n",
    "그리고 `gather()` 함수로도 여러가지를 동시에 예약하고 처리할 수도 있다. \n",
    "\n",
    "### * asyncio.gather(*aws, loop=None, return_exceptions=False)\n",
    "\n",
    "aws 파라미터에 들어간 코루틴 객체들을 자동으로 태스크로 예약시키고 동시에 실행한다. 처리 결과값들은 선언된 순서와 일치한다.\n",
    "\n",
    "<hr>"
   ]
  },
  {
   "cell_type": "markdown",
   "id": "f3436af9",
   "metadata": {},
   "source": [
    "```python\n",
    "import asyncio\n",
    "\n",
    "async def saying(interval, what, how_many):\n",
    "    while how_many > 0:\n",
    "        await asyncio.sleep(interval)\n",
    "        print(what)\n",
    "        how_many -= 1\n",
    "    return what\n",
    "\n",
    "async def main():\n",
    "    coro1 =  saying(1, 'hello', 5)\n",
    "    coro2 =  saying(2, 'world', 3)\n",
    "    coro3 =  saying(3, 'python', 2)\n",
    "\n",
    "    coro_result_list = await asyncio.gather(\n",
    "        coro1, coro2, coro3\n",
    "    )\n",
    "    print(coro_result_list)\n",
    "\n",
    "asyncio.run(main())\n",
    "```\n",
    "\n",
    " - 결과\n",
    " \n",
    "```\n",
    "hello\n",
    "world\n",
    "hello\n",
    "python\n",
    "hello\n",
    "hello\n",
    "world\n",
    "hello\n",
    "python\n",
    "world\n",
    "['hello', 'world', 'python']\n",
    "```"
   ]
  },
  {
   "cell_type": "markdown",
   "id": "2bac6d66",
   "metadata": {},
   "source": [
    "<hr>"
   ]
  },
  {
   "cell_type": "markdown",
   "id": "e80af49f",
   "metadata": {},
   "source": [
    "<br><br><br>"
   ]
  },
  {
   "cell_type": "markdown",
   "id": "44518b47",
   "metadata": {},
   "source": [
    "## - 저수준 API"
   ]
  },
  {
   "cell_type": "markdown",
   "id": "5c5a4fd5",
   "metadata": {},
   "source": [
    "asyncio 모듈의 고수준 API는 응용 프로그램 개발자를 위한 것이었다면, 저수준 API는 라이브러리와 프레임워크 개발자를 위한 것이다.\n",
    "\n",
    "아래 코드는 이미 위에서 경험한 고수준 API를 이용한 프로그램이다."
   ]
  },
  {
   "cell_type": "markdown",
   "id": "36632179",
   "metadata": {},
   "source": [
    "<hr>"
   ]
  },
  {
   "cell_type": "markdown",
   "id": "11091131",
   "metadata": {},
   "source": [
    "```python\n",
    "import asyncio\n",
    "\n",
    "async def main():\n",
    "    print('hello')\n",
    "    await asyncio.sleep(1)\n",
    "    print('world')\n",
    "\n",
    "asyncio.run(main());\n",
    "```\n",
    "\n",
    " - 결과\n",
    " \n",
    "```\n",
    "hello\n",
    "world\n",
    "```"
   ]
  },
  {
   "cell_type": "markdown",
   "id": "6e457956",
   "metadata": {},
   "source": [
    "<hr>"
   ]
  },
  {
   "cell_type": "markdown",
   "id": "9740933f",
   "metadata": {},
   "source": [
    "이를 저수준 API 형식으로 바꾸면 다음과 같다."
   ]
  },
  {
   "cell_type": "markdown",
   "id": "df659ea6",
   "metadata": {},
   "source": [
    "<hr>"
   ]
  },
  {
   "cell_type": "markdown",
   "id": "b0068582",
   "metadata": {},
   "source": [
    "```python\n",
    "import asyncio\n",
    "\n",
    "async def main():\n",
    "    print('hello')\n",
    "    await asyncio.sleep(1)\n",
    "    print('world')\n",
    "\n",
    "loop = asyncio.get_event_loop()\n",
    "loop.run_until_complete(main())\n",
    "loop.close()\n",
    "```\n",
    "\n",
    " - 결과\n",
    " \n",
    "```\n",
    "hello\n",
    "world\n",
    "```"
   ]
  },
  {
   "cell_type": "markdown",
   "id": "fcdb763e",
   "metadata": {},
   "source": [
    "<hr>"
   ]
  },
  {
   "cell_type": "markdown",
   "id": "6c359037",
   "metadata": {},
   "source": [
    "왜 `asyncio.run()`와 똑같이 동작할까? 이 함수에 대한 설명을 다시 살펴보자. 이 안에 답이 있다."
   ]
  },
  {
   "cell_type": "markdown",
   "id": "989eeb79",
   "metadata": {},
   "source": [
    "### * asyncio.run()\n",
    "\n",
    "동기 코드에서 비동기 코드로 진입하는 부분이다. 선언된 코루틴을 `coro` 위치에 인수로서 대입하면 된다.\n",
    "\n",
    "내부적으로 이벤트 루프(even_loop)를 만들고 코루틴(coroutine)을 실행한 다음 이벤트 루프를 닫는다(close)."
   ]
  },
  {
   "cell_type": "markdown",
   "id": "93f0261d",
   "metadata": {},
   "source": [
    "여기서 주목할 부분은 다음과 같다.\n",
    "\n",
    "```\n",
    "...\n",
    "...\n",
    "내부적으로 이벤트 루프(even_loop)를 만들고 코루틴(coroutine)을 실행한 다음 이벤트 루프를 닫는다(close).\n",
    "...\n",
    "...\n",
    "```\n",
    "\n",
    "이 말은 아래 코드를 말하는 것이다.\n",
    "\n",
    "```python\n",
    "loop = asyncio.get_event_loop()\n",
    "loop.run_until_complete(main())\n",
    "loop.close()\n",
    "```"
   ]
  },
  {
   "cell_type": "markdown",
   "id": "b4687cda",
   "metadata": {},
   "source": [
    "### * asyncio.get_event_loop()\n",
    "\n",
    "현재 사용중인 이벤트 루프를 가져온다. \n",
    "\n",
    "파이썬 공식 문서에서는 이러한 저수준의 함수를 사용하여 수동으로 이벤트 루프를 생성하고 닫는 대신 그냥 `asyncio.run()` 함수를 사용하는 것을 고려하라고 한다."
   ]
  },
  {
   "cell_type": "markdown",
   "id": "8605e376",
   "metadata": {},
   "source": [
    "### * loop.run_until_complete(future)\n",
    " Future의 인스턴스가 완료가 될 때까지 실행하고 만일 Future 객체가 아니라 코루틴 객체가 들어오면 TasK 객체로 실행되도록 묵시적으로 예약된다."
   ]
  },
  {
   "cell_type": "markdown",
   "id": "bff4987e",
   "metadata": {},
   "source": [
    "### * loop.close()\n",
    "\n",
    "이벤트 루트를 닫는다."
   ]
  },
  {
   "cell_type": "markdown",
   "id": "01cd992a",
   "metadata": {},
   "source": [
    "### * Future 객체"
   ]
  },
  {
   "cell_type": "markdown",
   "id": "60666a6f",
   "metadata": {},
   "source": [
    "Future 객체는 저수준 콜백 기반 코드와 고수준 async/await 코드 간에 다리를 놓는데 사용된다. 또한 비동기 연산의 최종 결과를 나타내는 특별한 저수준 awaitable 객체이다.\n",
    "\n",
    "콜백 기반 코드를 async/await와 함께 사용하려면 asyncio의 Future 객체가 필요하다. 일반적으로 응용 프로그램 수준에서는 Future 객체를 만들 필요는 없다.\n",
    "\n",
    "간단하게 어떤식으로 사용되어지는지 코드만 보도록 하자.\n",
    "\n",
    "단순하게 응용 프로그램을 구현할 것이면 고수준 API를 주로 사용할 것이고 저수준 API가 필요하다면 그 때 문서를 보며 파악하면 된다."
   ]
  },
  {
   "cell_type": "markdown",
   "id": "81190acb",
   "metadata": {},
   "source": [
    "<hr>"
   ]
  },
  {
   "cell_type": "markdown",
   "id": "8ace7729",
   "metadata": {},
   "source": [
    "```python\n",
    "import asyncio\n",
    "\n",
    "def function_that_returns_a_future_object():\n",
    "    print(\"future object function~!\")\n",
    "    loop = asyncio.get_event_loop()\n",
    "    loop.call_soon(lambda : print(\"hello world\"))\n",
    "    future = loop.create_future()\n",
    "    future.set_result(\"success\")\n",
    "    return future\n",
    "\n",
    "async def main():\n",
    "    result = await function_that_returns_a_future_object()\n",
    "    print(result)\n",
    "    print(\"AAAAAAAA\")\n",
    "    print(\"BBBBBBBB\")\n",
    "    print(\"CCCCCCCC\")\n",
    "    \n",
    "# loop = asyncio.get_event_loop()\n",
    "# loop.run_until_complete(main())\n",
    "# loop.close()\n",
    "asyncio.run(main())\n",
    "```\n",
    "\n",
    " - 결과\n",
    " \n",
    "```\n",
    "future object function~!\n",
    "success\n",
    "AAAAAAAA\n",
    "BBBBBBBB\n",
    "CCCCCCCC\n",
    "hello world\n",
    "```"
   ]
  },
  {
   "cell_type": "markdown",
   "id": "fd42dcfd",
   "metadata": {},
   "source": [
    "<hr>"
   ]
  },
  {
   "cell_type": "markdown",
   "id": "31adf160",
   "metadata": {},
   "source": [
    "<br><br><br>"
   ]
  },
  {
   "cell_type": "markdown",
   "id": "3e9922d0",
   "metadata": {},
   "source": [
    "## - 참고사항"
   ]
  },
  {
   "cell_type": "markdown",
   "id": "7c0474aa",
   "metadata": {},
   "source": [
    "## * 제너레이터 코루틴"
   ]
  },
  {
   "cell_type": "markdown",
   "id": "6f4449fd",
   "metadata": {},
   "source": [
    "제너레이터 기반 코루틴은 async/await 문법 전에 나왔다.\n",
    "\n",
    "제너레이터 기반 코루틴이란 `yield from` 표현식을 사용하여 구현하는 파이썬 제너레이터이다.\n",
    "\n",
    "파이썬 코루틴 관련 인터넷 자료 및 강의들을 보면 파이썬 제너레이터에 대한 기초 강의 후 제너레이터 기반 코루틴을 알려주는 데가 많다.\n",
    "\n",
    "그러나 버전 3.8부터 이러한 방식은 Deprecated 되었다. 즉, 제너레이터 기반 코루틴에 대한 지원은 폐지되었다. 그리고 버전 3.10 때 삭제될 예정이다.\n",
    "\n",
    "파이썬 공식 문서는 제너레이터 코루틴 대신 `async def`를 사용하기를 권장하고 있다."
   ]
  },
  {
   "cell_type": "markdown",
   "id": "8f32c648",
   "metadata": {},
   "source": [
    " - Use Example\n",
    " \n",
    "```python\n",
    "@asyncio.coroutine\n",
    "def old_style_coroutine():\n",
    "    yield from asyncio.sleep(1)\n",
    "async def main():\n",
    "    await old_style_coroutine()\n",
    "```"
   ]
  },
  {
   "cell_type": "markdown",
   "id": "62711309",
   "metadata": {},
   "source": [
    "`@asyncio.coroutine` 데코레이터 사용이 강제되지는 않는다"
   ]
  },
  {
   "cell_type": "markdown",
   "id": "fb1666d0",
   "metadata": {},
   "source": [
    "### * Blocking vs. Non-blocking\n",
    "\n",
    " - 입출력 처리를 완료될 때까지 기다릴 것인지 혹은 시작만 해두고 다음 작업을 계속 진행할 것인지 여부\n",
    " - 후속 작업이 있는 경우 Polling이나 Callback을 사용"
   ]
  },
  {
   "cell_type": "markdown",
   "id": "46a9a818",
   "metadata": {},
   "source": [
    "### * Sync vs. Async Programming\n",
    "\n",
    " - 프로그램의 주 실행 흐름을 멈추지 않고 진행할 수 있는가의 여부\n",
    " - 코드의 실행 결과 처리및 활용을 별도의 채널에 맡겨둔 뒤 결과를 기다리지 않고 다음 코드를 실행하는 방식의 프로그래밍\n",
    " - Futrue, Promise, Coroutine 등"
   ]
  },
  {
   "cell_type": "markdown",
   "id": "86c0db3f",
   "metadata": {},
   "source": [
    "### * 현재 유명한 Async Framework\n",
    " - Fast API\n",
    " - Vibora\n",
    " - AIOHTTP\n",
    " - Sanic\n",
    " - Tornado (async/await 지원 이전에 많이 사용, 요즘은 잘 사용 안함)"
   ]
  },
  {
   "cell_type": "markdown",
   "id": "0bdb854b",
   "metadata": {},
   "source": [
    "<br>\n",
    "<br>\n",
    "<br>\n",
    "<br>\n",
    "<br>\n",
    "<br>\n",
    "<hr>\n",
    "<br>\n",
    "<br>\n",
    "<br>\n",
    "<br>\n",
    "<br>\n",
    "<br>"
   ]
  }
 ],
 "metadata": {
  "kernelspec": {
   "display_name": "Python 3 (ipykernel)",
   "language": "python",
   "name": "python3"
  },
  "language_info": {
   "codemirror_mode": {
    "name": "ipython",
    "version": 3
   },
   "file_extension": ".py",
   "mimetype": "text/x-python",
   "name": "python",
   "nbconvert_exporter": "python",
   "pygments_lexer": "ipython3",
   "version": "3.9.7"
  }
 },
 "nbformat": 4,
 "nbformat_minor": 5
}
