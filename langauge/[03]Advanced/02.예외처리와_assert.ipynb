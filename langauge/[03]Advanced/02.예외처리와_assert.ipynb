{
 "cells": [
  {
   "cell_type": "markdown",
   "id": "708945c1-0dcd-49cd-81e9-71ecb9b4b56f",
   "metadata": {
    "tags": []
   },
   "source": [
    "# 02. 예외 처리와 assert"
   ]
  },
  {
   "cell_type": "code",
   "execution_count": 32,
   "id": "6bdd66a9-84eb-4e14-9ea5-23ad89dffedc",
   "metadata": {
    "tags": []
   },
   "outputs": [
    {
     "ename": "ZeroDivisionError",
     "evalue": "division by zero",
     "output_type": "error",
     "traceback": [
      "\u001b[1;31m---------------------------------------------------------------------------\u001b[0m",
      "\u001b[1;31mZeroDivisionError\u001b[0m                         Traceback (most recent call last)",
      "\u001b[1;32m<ipython-input-32-e574edb36883>\u001b[0m in \u001b[0;36m<module>\u001b[1;34m\u001b[0m\n\u001b[1;32m----> 1\u001b[1;33m \u001b[1;36m10\u001b[0m\u001b[1;33m/\u001b[0m\u001b[1;36m0\u001b[0m\u001b[1;33m\u001b[0m\u001b[1;33m\u001b[0m\u001b[0m\n\u001b[0m",
      "\u001b[1;31mZeroDivisionError\u001b[0m: division by zero"
     ]
    }
   ],
   "source": [
    "10/0"
   ]
  },
  {
   "cell_type": "markdown",
   "id": "4c6312ca-63e9-4ed8-8707-e130a52829f6",
   "metadata": {},
   "source": [
    "에러 정보는 비정상적인 동작으로부터 올 수 있는 심각한 상황을 대처하는데 도움을 주는 정보다."
   ]
  },
  {
   "cell_type": "code",
   "execution_count": 1,
   "id": "5a1f44b1-82e6-4a63-a7b2-08932d531633",
   "metadata": {},
   "outputs": [
    {
     "name": "stdout",
     "output_type": "stream",
     "text": [
      "프로그램 시작\n"
     ]
    },
    {
     "ename": "TypeError",
     "evalue": "can only concatenate str (not \"int\") to str",
     "output_type": "error",
     "traceback": [
      "\u001b[1;31m---------------------------------------------------------------------------\u001b[0m",
      "\u001b[1;31mTypeError\u001b[0m                                 Traceback (most recent call last)",
      "\u001b[1;32m~\\AppData\\Local\\Temp/ipykernel_8884/4277925349.py\u001b[0m in \u001b[0;36m<module>\u001b[1;34m\u001b[0m\n\u001b[0;32m      1\u001b[0m \u001b[0mprint\u001b[0m\u001b[1;33m(\u001b[0m\u001b[1;34m\"프로그램 시작\"\u001b[0m\u001b[1;33m)\u001b[0m\u001b[1;33m\u001b[0m\u001b[1;33m\u001b[0m\u001b[0m\n\u001b[1;32m----> 2\u001b[1;33m \u001b[1;34m'2'\u001b[0m \u001b[1;33m+\u001b[0m \u001b[1;36m2\u001b[0m\u001b[1;33m\u001b[0m\u001b[1;33m\u001b[0m\u001b[0m\n\u001b[0m\u001b[0;32m      3\u001b[0m \u001b[0mprint\u001b[0m\u001b[1;33m(\u001b[0m\u001b[1;34m\"프로그램 종료\"\u001b[0m\u001b[1;33m)\u001b[0m\u001b[1;33m\u001b[0m\u001b[1;33m\u001b[0m\u001b[0m\n",
      "\u001b[1;31mTypeError\u001b[0m: can only concatenate str (not \"int\") to str"
     ]
    }
   ],
   "source": [
    "print(\"프로그램 시작\")\n",
    "'2' + 2\n",
    "print(\"프로그램 종료\")"
   ]
  },
  {
   "cell_type": "markdown",
   "id": "a3c92807-de75-4cea-a7e3-aa771b73466d",
   "metadata": {},
   "source": [
    "그러나 때로는 에러가 발생해도 강제 종료가 아니라 정상적인 종료를 시키고 에러에 대한 기록을 남기고 싶을 수 있다.\n",
    "\n",
    "이 때, `try ~ catch`를 통해 에러를 핸들링하면 된다."
   ]
  },
  {
   "cell_type": "code",
   "execution_count": 7,
   "id": "44b64768-6c1d-44f0-a6fb-818c65bc6959",
   "metadata": {},
   "outputs": [
    {
     "name": "stdout",
     "output_type": "stream",
     "text": [
      "프로그램 시작\n",
      "에러발생\n",
      "프로그램 종료\n"
     ]
    }
   ],
   "source": [
    "print(\"프로그램 시작\")\n",
    "try:\n",
    "    undefined_var * 10\n",
    "except:\n",
    "    print(\"에러발생\")\n",
    "print(\"프로그램 종료\")"
   ]
  },
  {
   "cell_type": "markdown",
   "id": "b94945d7-41d2-4f37-a2cc-f7f00caf9fcb",
   "metadata": {},
   "source": [
    "## - try ~ except"
   ]
  },
  {
   "cell_type": "code",
   "execution_count": 9,
   "id": "49acf061-5e90-48a3-888d-04c7384d5ad7",
   "metadata": {},
   "outputs": [],
   "source": [
    "try:\n",
    "    10/0 # 에러가 일어날 것 같은 부분\n",
    "except:\n",
    "    pass # 에러가 일어난 후 들어오는 부분"
   ]
  },
  {
   "cell_type": "code",
   "execution_count": 10,
   "id": "d9f8c8f5-565f-4e47-866c-82306ecdbc63",
   "metadata": {},
   "outputs": [
    {
     "name": "stdout",
     "output_type": "stream",
     "text": [
      "before 10/0\n",
      "ERROR\n"
     ]
    }
   ],
   "source": [
    "try:\n",
    "    print(\"before 10/0\")\n",
    "    10/0\n",
    "    print(\"after 10/0\") # 10/0에서 에러가 발생해 프로그램이 except 부분으로 넘어갔으므로 실행 안됨\n",
    "except:\n",
    "    print(\"ERROR\")"
   ]
  },
  {
   "cell_type": "markdown",
   "id": "b470c203-7cb5-4e8b-8da6-d3164afd710b",
   "metadata": {},
   "source": [
    "## - raise와 다중 except"
   ]
  },
  {
   "cell_type": "markdown",
   "id": "df12d13e-9da0-457b-85cf-a3434e7017ad",
   "metadata": {},
   "source": [
    "raise 예약어를 통해 에러를 발생시킬 수 있고 다중 except를 통해 여러 특정 에러에 대한 처리를 선언할 수도 있다.\n",
    "\n",
    "또한 함수 내부에서 발생한 에러를 외부에 처리를 전가할 수도 있다."
   ]
  },
  {
   "cell_type": "code",
   "execution_count": 14,
   "id": "2f266a0b-c7bd-40e0-96ce-f05a0f742055",
   "metadata": {},
   "outputs": [
    {
     "name": "stdout",
     "output_type": "stream",
     "text": [
      "[NameError]\n",
      "Name Error 발생\n"
     ]
    }
   ],
   "source": [
    "try:\n",
    "    raise NameError(\"Name Error 발생\");\n",
    "except ZeroDivisionError as zde:\n",
    "    print(\"[ZeroDivisionError]\")\n",
    "    print(zde)\n",
    "except NameError as ne:\n",
    "    print(\"[NameError]\")\n",
    "    print(ne)"
   ]
  },
  {
   "cell_type": "code",
   "execution_count": 15,
   "id": "aad8f15a-6a82-4b67-8e5f-6b5c482819e0",
   "metadata": {},
   "outputs": [
    {
     "name": "stdout",
     "output_type": "stream",
     "text": [
      "ZeroDivisionError or IndexError\n"
     ]
    }
   ],
   "source": [
    "try:\n",
    "    toError = [1, 2, 3]\n",
    "    toError[100]\n",
    "except NameError as e:\n",
    "    print(\"NameError\")\n",
    "except (ZeroDivisionError, IndexError) as e:\n",
    "    print(\"ZeroDivisionError or IndexError\")"
   ]
  },
  {
   "cell_type": "code",
   "execution_count": 17,
   "id": "f65186cd-13bc-46f1-ae0f-d190f9ce2dfb",
   "metadata": {
    "tags": []
   },
   "outputs": [
    {
     "ename": "RuntimeError",
     "evalue": "",
     "output_type": "error",
     "traceback": [
      "\u001b[1;31m---------------------------------------------------------------------------\u001b[0m",
      "\u001b[1;31mOSError\u001b[0m                                   Traceback (most recent call last)",
      "\u001b[1;32m~\\AppData\\Local\\Temp/ipykernel_8884/1967452663.py\u001b[0m in \u001b[0;36m<module>\u001b[1;34m\u001b[0m\n\u001b[0;32m      4\u001b[0m \u001b[1;32mtry\u001b[0m\u001b[1;33m:\u001b[0m\u001b[1;33m\u001b[0m\u001b[1;33m\u001b[0m\u001b[0m\n\u001b[1;32m----> 5\u001b[1;33m     \u001b[0mfunc\u001b[0m\u001b[1;33m(\u001b[0m\u001b[1;33m)\u001b[0m\u001b[1;33m\u001b[0m\u001b[1;33m\u001b[0m\u001b[0m\n\u001b[0m\u001b[0;32m      6\u001b[0m \u001b[1;32mexcept\u001b[0m \u001b[0mIOError\u001b[0m \u001b[1;32mas\u001b[0m \u001b[0mexc\u001b[0m\u001b[1;33m:\u001b[0m\u001b[1;33m\u001b[0m\u001b[1;33m\u001b[0m\u001b[0m\n",
      "\u001b[1;32m~\\AppData\\Local\\Temp/ipykernel_8884/1967452663.py\u001b[0m in \u001b[0;36mfunc\u001b[1;34m()\u001b[0m\n\u001b[0;32m      1\u001b[0m \u001b[1;32mdef\u001b[0m \u001b[0mfunc\u001b[0m\u001b[1;33m(\u001b[0m\u001b[1;33m)\u001b[0m\u001b[1;33m:\u001b[0m\u001b[1;33m\u001b[0m\u001b[1;33m\u001b[0m\u001b[0m\n\u001b[1;32m----> 2\u001b[1;33m     \u001b[1;32mraise\u001b[0m \u001b[0mIOError\u001b[0m\u001b[1;33m\u001b[0m\u001b[1;33m\u001b[0m\u001b[0m\n\u001b[0m\u001b[0;32m      3\u001b[0m \u001b[1;33m\u001b[0m\u001b[0m\n",
      "\u001b[1;31mOSError\u001b[0m: ",
      "\nDuring handling of the above exception, another exception occurred:\n",
      "\u001b[1;31mRuntimeError\u001b[0m                              Traceback (most recent call last)",
      "\u001b[1;32m~\\AppData\\Local\\Temp/ipykernel_8884/1967452663.py\u001b[0m in \u001b[0;36m<module>\u001b[1;34m\u001b[0m\n\u001b[0;32m      5\u001b[0m     \u001b[0mfunc\u001b[0m\u001b[1;33m(\u001b[0m\u001b[1;33m)\u001b[0m\u001b[1;33m\u001b[0m\u001b[1;33m\u001b[0m\u001b[0m\n\u001b[0;32m      6\u001b[0m \u001b[1;32mexcept\u001b[0m \u001b[0mIOError\u001b[0m \u001b[1;32mas\u001b[0m \u001b[0mexc\u001b[0m\u001b[1;33m:\u001b[0m\u001b[1;33m\u001b[0m\u001b[1;33m\u001b[0m\u001b[0m\n\u001b[1;32m----> 7\u001b[1;33m     \u001b[1;32mraise\u001b[0m \u001b[0mRuntimeError\u001b[0m\u001b[1;33m\u001b[0m\u001b[1;33m\u001b[0m\u001b[0m\n\u001b[0m",
      "\u001b[1;31mRuntimeError\u001b[0m: "
     ]
    }
   ],
   "source": [
    "def func():\n",
    "    raise IOError\n",
    "    \n",
    "try:\n",
    "    func()\n",
    "except IOError as exc:\n",
    "    raise RuntimeError"
   ]
  },
  {
   "cell_type": "markdown",
   "id": "5ea9b838-1b13-4c5d-9220-b070b7569635",
   "metadata": {},
   "source": [
    " - raise문은 예외 연쇄를 만드는 선택적 from을 허용\n",
    " - 솔직히 이게 잘 이해도 안되고 오히려 코드 복잡성만 증가할 것 같아서 필요성을 아직 못느끼겠지만 그래도 알게되어서 적어본다"
   ]
  },
  {
   "cell_type": "code",
   "execution_count": 19,
   "id": "f90967ef-925b-46a5-b8ed-555422d6fac9",
   "metadata": {},
   "outputs": [
    {
     "ename": "RuntimeError",
     "evalue": "",
     "output_type": "error",
     "traceback": [
      "\u001b[1;31m---------------------------------------------------------------------------\u001b[0m",
      "\u001b[1;31mOSError\u001b[0m                                   Traceback (most recent call last)",
      "\u001b[1;32m~\\AppData\\Local\\Temp/ipykernel_8884/3058248335.py\u001b[0m in \u001b[0;36m<module>\u001b[1;34m\u001b[0m\n\u001b[0;32m      4\u001b[0m \u001b[1;32mtry\u001b[0m\u001b[1;33m:\u001b[0m\u001b[1;33m\u001b[0m\u001b[1;33m\u001b[0m\u001b[0m\n\u001b[1;32m----> 5\u001b[1;33m     \u001b[0mfunc\u001b[0m\u001b[1;33m(\u001b[0m\u001b[1;33m)\u001b[0m\u001b[1;33m\u001b[0m\u001b[1;33m\u001b[0m\u001b[0m\n\u001b[0m\u001b[0;32m      6\u001b[0m \u001b[1;32mexcept\u001b[0m \u001b[0mIOError\u001b[0m \u001b[1;32mas\u001b[0m \u001b[0mexc\u001b[0m\u001b[1;33m:\u001b[0m\u001b[1;33m\u001b[0m\u001b[1;33m\u001b[0m\u001b[0m\n",
      "\u001b[1;32m~\\AppData\\Local\\Temp/ipykernel_8884/3058248335.py\u001b[0m in \u001b[0;36mfunc\u001b[1;34m()\u001b[0m\n\u001b[0;32m      1\u001b[0m \u001b[1;32mdef\u001b[0m \u001b[0mfunc\u001b[0m\u001b[1;33m(\u001b[0m\u001b[1;33m)\u001b[0m\u001b[1;33m:\u001b[0m\u001b[1;33m\u001b[0m\u001b[1;33m\u001b[0m\u001b[0m\n\u001b[1;32m----> 2\u001b[1;33m     \u001b[1;32mraise\u001b[0m \u001b[0mIOError\u001b[0m\u001b[1;33m\u001b[0m\u001b[1;33m\u001b[0m\u001b[0m\n\u001b[0m\u001b[0;32m      3\u001b[0m \u001b[1;33m\u001b[0m\u001b[0m\n",
      "\u001b[1;31mOSError\u001b[0m: ",
      "\nThe above exception was the direct cause of the following exception:\n",
      "\u001b[1;31mRuntimeError\u001b[0m                              Traceback (most recent call last)",
      "\u001b[1;32m~\\AppData\\Local\\Temp/ipykernel_8884/3058248335.py\u001b[0m in \u001b[0;36m<module>\u001b[1;34m\u001b[0m\n\u001b[0;32m      5\u001b[0m     \u001b[0mfunc\u001b[0m\u001b[1;33m(\u001b[0m\u001b[1;33m)\u001b[0m\u001b[1;33m\u001b[0m\u001b[1;33m\u001b[0m\u001b[0m\n\u001b[0;32m      6\u001b[0m \u001b[1;32mexcept\u001b[0m \u001b[0mIOError\u001b[0m \u001b[1;32mas\u001b[0m \u001b[0mexc\u001b[0m\u001b[1;33m:\u001b[0m\u001b[1;33m\u001b[0m\u001b[1;33m\u001b[0m\u001b[0m\n\u001b[1;32m----> 7\u001b[1;33m     \u001b[1;32mraise\u001b[0m \u001b[0mRuntimeError\u001b[0m \u001b[1;32mfrom\u001b[0m \u001b[0mexc\u001b[0m \u001b[1;31m# The IOError exception was the direct cause of the RuntimeError exception\u001b[0m\u001b[1;33m\u001b[0m\u001b[1;33m\u001b[0m\u001b[0m\n\u001b[0m",
      "\u001b[1;31mRuntimeError\u001b[0m: "
     ]
    }
   ],
   "source": [
    "def func():\n",
    "    raise IOError\n",
    "    \n",
    "try:\n",
    "    func()\n",
    "except IOError as exc:\n",
    "    raise RuntimeError from exc # The IOError exception was the direct cause of the RuntimeError exception"
   ]
  },
  {
   "cell_type": "markdown",
   "id": "f478cd4d-c0ab-4999-a8fe-5027f97cf4f4",
   "metadata": {},
   "source": [
    "## - try ~ except ~ else"
   ]
  },
  {
   "cell_type": "markdown",
   "id": "7402e683-a071-4c4c-8abf-7a15684bc553",
   "metadata": {},
   "source": [
    " - 에러가 발생한 경우와 발생하지 않은 경우를 나누어 처리할 수 있다"
   ]
  },
  {
   "cell_type": "code",
   "execution_count": 20,
   "id": "74732bff-2714-429a-bce5-cde1c451ec20",
   "metadata": {},
   "outputs": [
    {
     "name": "stdout",
     "output_type": "stream",
     "text": [
      "GOOD\n"
     ]
    }
   ],
   "source": [
    "try:\n",
    "    10/1\n",
    "except:\n",
    "    print(\"ERROR\")\n",
    "else:\n",
    "    print(\"GOOD\")"
   ]
  },
  {
   "cell_type": "markdown",
   "id": "ec7eea61-280b-49b6-bfa2-29b5285415bd",
   "metadata": {},
   "source": [
    "## - try ~ except ~ else ~ finally"
   ]
  },
  {
   "cell_type": "markdown",
   "id": "4be207fc-434f-4d31-ad58-5caf6a8277ba",
   "metadata": {},
   "source": [
    " - finally는 에러가 걸리던 안 걸리던 최종적으로 실행시키는 예약어이다"
   ]
  },
  {
   "cell_type": "code",
   "execution_count": 21,
   "id": "8d2515c3-bdca-4fa4-8711-09ddfcc778b0",
   "metadata": {},
   "outputs": [
    {
     "name": "stdout",
     "output_type": "stream",
     "text": [
      "GOOD\n",
      "DO THIS ANYWAY\n"
     ]
    }
   ],
   "source": [
    "try:\n",
    "    10/1\n",
    "except:\n",
    "    print(\"ERROR\")\n",
    "else:\n",
    "    print(\"GOOD\")\n",
    "finally:\n",
    "    print(\"DO THIS ANYWAY\")"
   ]
  },
  {
   "cell_type": "code",
   "execution_count": 22,
   "id": "f607f9a7-925a-4861-8346-e9356e8a8c0a",
   "metadata": {},
   "outputs": [
    {
     "name": "stdout",
     "output_type": "stream",
     "text": [
      "ERROR\n",
      "DO THIS ANYWAY\n"
     ]
    }
   ],
   "source": [
    "try:\n",
    "    10/0\n",
    "except:\n",
    "    print(\"ERROR\")\n",
    "else:\n",
    "    print(\"GOOD\")\n",
    "finally:\n",
    "    print(\"DO THIS ANYWAY\")"
   ]
  },
  {
   "cell_type": "markdown",
   "id": "a1896e1f-0b14-432c-b79b-84ca2150340f",
   "metadata": {},
   "source": [
    " - 함수의 return을 만나도 finally가 우선처리가 된다"
   ]
  },
  {
   "cell_type": "code",
   "execution_count": 23,
   "id": "16437a68-ae08-4723-aa00-2be643ed0506",
   "metadata": {},
   "outputs": [
    {
     "data": {
      "text/plain": [
       "'DO THIS ANYWAY'"
      ]
     },
     "execution_count": 23,
     "metadata": {},
     "output_type": "execute_result"
    }
   ],
   "source": [
    "def myFunc():\n",
    "    try:\n",
    "        return 10/0\n",
    "    except:\n",
    "        return \"ERROR\"\n",
    "    else:\n",
    "        return \"GOOD\"\n",
    "    finally:\n",
    "        return \"DO THIS ANYWAY\"\n",
    "\n",
    "myFunc()"
   ]
  },
  {
   "cell_type": "code",
   "execution_count": 24,
   "id": "d189c02d-1349-44fb-8a45-89cc874233e0",
   "metadata": {},
   "outputs": [
    {
     "name": "stdout",
     "output_type": "stream",
     "text": [
      "DO THIS ANYWAY\n"
     ]
    },
    {
     "data": {
      "text/plain": [
       "'ERROR'"
      ]
     },
     "execution_count": 24,
     "metadata": {},
     "output_type": "execute_result"
    }
   ],
   "source": [
    "def myFunc():\n",
    "    try:\n",
    "        return 10/0\n",
    "    except:\n",
    "        return \"ERROR\"\n",
    "    else:\n",
    "        return \"GOOD\"\n",
    "    finally:\n",
    "        print(\"DO THIS ANYWAY\")\n",
    "\n",
    "myFunc()"
   ]
  },
  {
   "cell_type": "markdown",
   "id": "cc52ccf6-c010-4fc8-a345-8a4bf6aa30cb",
   "metadata": {},
   "source": [
    "## - 사용자 정의 에러 처리"
   ]
  },
  {
   "cell_type": "markdown",
   "id": "5047bf27-862f-4c41-9ace-d24c2e691ab8",
   "metadata": {},
   "source": [
    "최상위 에러객체 BaseException 아래에 있는 Exception을 상속받는 클래스를 만들어보자.\n",
    "\n",
    "그리고 객체 상속 관계에 따라 어떻게 예외처리되는지 보자"
   ]
  },
  {
   "cell_type": "code",
   "execution_count": 150,
   "id": "3831996f-016d-46eb-81ce-9a61d8d639ea",
   "metadata": {},
   "outputs": [
    {
     "name": "stdout",
     "output_type": "stream",
     "text": [
      "B\n",
      "C\n",
      "D\n"
     ]
    }
   ],
   "source": [
    "class B(Exception):\n",
    "    pass\n",
    "\n",
    "class C(B):\n",
    "    pass\n",
    "\n",
    "class D(C):\n",
    "    pass\n",
    "\n",
    "for cls in [B, C, D]:\n",
    "    try:\n",
    "        raise cls()\n",
    "    except D:\n",
    "        print(\"D\")\n",
    "    except C:\n",
    "        print(\"C\")\n",
    "    except B:\n",
    "        print(\"B\")"
   ]
  },
  {
   "cell_type": "markdown",
   "id": "543bc1f8-1c83-4d5f-8892-bfe7111d3ceb",
   "metadata": {},
   "source": [
    "바로 위와 같은 결과 때문에 거의 모든 예외들의 부모인 에러 객체를 맨 위의 except에 선언하게 된다면 \n",
    "\n",
    "그보다 상속 계층적으로 낮은 자식 에러 객체들이 그 아래에 아무리 많이 선언되어봤자 그곳에 도달할 일은 없을 것이다."
   ]
  },
  {
   "cell_type": "markdown",
   "id": "e3e99c5a-afda-4b9d-a061-0438068e1722",
   "metadata": {},
   "source": [
    "## - assert"
   ]
  },
  {
   "cell_type": "markdown",
   "id": "940dcafc-aa79-4705-8461-8506659d37b8",
   "metadata": {},
   "source": [
    "조건이 false면 AssertionError를 발생시킨다"
   ]
  },
  {
   "cell_type": "code",
   "execution_count": 26,
   "id": "240ce799-591e-4f75-9ee5-52fdfabb4ffe",
   "metadata": {},
   "outputs": [],
   "source": [
    "assert 2 == 2"
   ]
  },
  {
   "cell_type": "code",
   "execution_count": 25,
   "id": "cba0ece8-77b3-47af-98a1-c845f1d8132f",
   "metadata": {},
   "outputs": [
    {
     "ename": "AssertionError",
     "evalue": "",
     "output_type": "error",
     "traceback": [
      "\u001b[1;31m---------------------------------------------------------------------------\u001b[0m",
      "\u001b[1;31mAssertionError\u001b[0m                            Traceback (most recent call last)",
      "\u001b[1;32m~\\AppData\\Local\\Temp/ipykernel_8884/3017664728.py\u001b[0m in \u001b[0;36m<module>\u001b[1;34m\u001b[0m\n\u001b[1;32m----> 1\u001b[1;33m \u001b[1;32massert\u001b[0m \u001b[1;36m1\u001b[0m \u001b[1;33m==\u001b[0m \u001b[1;36m2\u001b[0m\u001b[1;33m\u001b[0m\u001b[1;33m\u001b[0m\u001b[0m\n\u001b[0m",
      "\u001b[1;31mAssertionError\u001b[0m: "
     ]
    }
   ],
   "source": [
    "assert 1 == 2"
   ]
  },
  {
   "cell_type": "code",
   "execution_count": 31,
   "id": "2ef7862f-028b-49e4-bbb8-3b2b5c2de4c8",
   "metadata": {},
   "outputs": [
    {
     "ename": "AssertionError",
     "evalue": "AssertionError 메시지 설정",
     "output_type": "error",
     "traceback": [
      "\u001b[1;31m---------------------------------------------------------------------------\u001b[0m",
      "\u001b[1;31mAssertionError\u001b[0m                            Traceback (most recent call last)",
      "\u001b[1;32m<ipython-input-31-d5c01840543a>\u001b[0m in \u001b[0;36m<module>\u001b[1;34m\u001b[0m\n\u001b[1;32m----> 1\u001b[1;33m \u001b[1;32massert\u001b[0m  \u001b[1;36m2\u001b[0m \u001b[1;33m!=\u001b[0m \u001b[1;36m2\u001b[0m \u001b[1;33m,\u001b[0m\u001b[1;34m\"AssertionError 메시지 설정\"\u001b[0m\u001b[1;33m\u001b[0m\u001b[1;33m\u001b[0m\u001b[0m\n\u001b[0m",
      "\u001b[1;31mAssertionError\u001b[0m: AssertionError 메시지 설정"
     ]
    }
   ],
   "source": [
    "assert  2 != 2 ,\"AssertionError 메시지 설정\""
   ]
  },
  {
   "cell_type": "markdown",
   "id": "bab79943-90e5-4944-a63d-cc57d8e49067",
   "metadata": {},
   "source": [
    "위와 같이 에러 메시지를 설정할 수도 있다."
   ]
  },
  {
   "cell_type": "markdown",
   "id": "b6eb8809-fdd6-4641-aad3-cbd1ccac2faf",
   "metadata": {},
   "source": [
    "<br>\n",
    "<br>\n",
    "<br>\n",
    "<br>\n",
    "<br>\n",
    "<br>\n",
    "<hr>\n",
    "<br>\n",
    "<br>\n",
    "<br>\n",
    "<br>\n",
    "<br>\n",
    "<br>"
   ]
  }
 ],
 "metadata": {
  "kernelspec": {
   "display_name": "Python 3 (ipykernel)",
   "language": "python",
   "name": "python3"
  },
  "language_info": {
   "codemirror_mode": {
    "name": "ipython",
    "version": 3
   },
   "file_extension": ".py",
   "mimetype": "text/x-python",
   "name": "python",
   "nbconvert_exporter": "python",
   "pygments_lexer": "ipython3",
   "version": "3.9.6"
  }
 },
 "nbformat": 4,
 "nbformat_minor": 5
}
