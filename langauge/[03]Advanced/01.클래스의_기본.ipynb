{
 "cells": [
  {
   "cell_type": "markdown",
   "id": "38417226-432a-43b4-bbd4-3dff8b0f0416",
   "metadata": {
    "tags": []
   },
   "source": [
    "# 01. 클래스의 기본"
   ]
  },
  {
   "cell_type": "markdown",
   "id": "192a0c14-6141-44bb-a3d0-e96221cb645e",
   "metadata": {},
   "source": [
    "## - 클래스 선언과 사용"
   ]
  },
  {
   "cell_type": "markdown",
   "id": "a2084c7f-77ec-4d5b-97d4-5788606af039",
   "metadata": {},
   "source": [
    "클래스를 사용하게 되면 어떤 기능과 관련된 변수와 함수(메소드)를 한번에 묶을 수 있다. \n",
    "\n",
    "이렇게 하면 나중에 관리하기도 편하고 사용하기도 좋다.\n",
    "\n",
    "함수(function)나 메소드(method)나 같은 뜻이지만 Python과 같은 객체 지향 언어에서는 함수를 `메소드`라고 한다.\n",
    "\n",
    "그리고 클래스에 선언된 변수는 클래스의 `속성`이며 프로퍼티(Property) 혹은 어트리뷰트(Attribute)라고 한다."
   ]
  },
  {
   "cell_type": "code",
   "execution_count": 1,
   "id": "2463d57e-8afc-48a2-b83f-f365cf45f868",
   "metadata": {},
   "outputs": [],
   "source": [
    "class Dog:\n",
    "    \"\"\"This Class is Dog\"\"\"\n",
    "    dogName = None # 이곳에 정의하는 프로퍼티는 self가 필요 없다. 공유 속성\n",
    "    \n",
    "    def __init__(self, dogName): # 객체가 만들어질 떄 반드시 실행되는 메서드\n",
    "        self.dogName = dogName\n",
    "    \n",
    "    def barking(self):\n",
    "        print(\"멍멍!\")\n",
    "        \n",
    "    def microchip_info(self):\n",
    "        print(\"본 강아지의 이름은 {}입니다.\".format(self.dogName))"
   ]
  },
  {
   "cell_type": "markdown",
   "id": "0a2d4d4f-7240-4829-8e2e-bf8168375957",
   "metadata": {},
   "source": [
    "클래스를 선언할 때는 `class` 키워드와 함께 첫글자를 대문자를 한 이름을 적어주면 된다\n",
    "\n",
    "첫글자가 대문자가 아니라고 해서 동작하지 않는 것은 아니다. 그러나 관행적으로 클래스는 이름을 이렇게 정한다.\n",
    "\n",
    "이제 클래스 이름과 관련된 프로퍼티와 메소드를 지정해주면 된다.\n",
    "\n",
    "`init()` 메소드는 클래스를 기반으로 객체를 생성할 때 호출되는 함수이다. 즉, 초기화 함수다.\n",
    "\n",
    "모든 메소드와 프로퍼티는 첫번째 인자로 `self`를 받아야 해당 클래스에 귀속이 된다.\n",
    "\n",
    "여기서 `self`는 `class Dog`와 같다"
   ]
  },
  {
   "cell_type": "code",
   "execution_count": 2,
   "id": "4b028a6e-7ed3-4ca3-97b7-62c6975bc4ea",
   "metadata": {
    "tags": []
   },
   "outputs": [
    {
     "name": "stdout",
     "output_type": "stream",
     "text": [
      "멍멍!\n",
      "본 강아지의 이름은 쿠키입니다.\n",
      "This Class is Dog\n"
     ]
    }
   ],
   "source": [
    "myDog = Dog(\"쿠키\")\n",
    "myDog.barking();\n",
    "myDog.microchip_info()\n",
    "print(myDog.__doc__)"
   ]
  },
  {
   "cell_type": "markdown",
   "id": "e62120f2-11d3-451f-a718-d92355e6ce90",
   "metadata": {},
   "source": [
    "객체를 만든다는 것은 이미 만들어진 `class`라는 도장을 가지고 찍어내는 동작을 의미한다.\n",
    "\n",
    "이미 만들어진 틀(클래스)을 기반으로 내용을 채우며 객체를 만드는 작업을 인스턴스(Instance)를 만드는 작업이라 한다.\n",
    "\n",
    "프로그래밍 언어마다 용어 정의에 대한 혼란이 있겠지만 보통 객체(Object)는 인스턴스(Instance)와 같은 의미다.\n",
    "\n",
    "객체를 생성할 때 `init()` 메소드에 들어갈 매개변수를 넣어주며 생성하면 된다."
   ]
  },
  {
   "cell_type": "markdown",
   "id": "291a0df2-d916-4931-8ff7-b6d5c7bc94b6",
   "metadata": {},
   "source": [
    " - this의 역할을 하는 첫번째 인자 self의 이름은 관례이고 파이썬에서 아무런 특별한 의미를 갖지 않는다."
   ]
  },
  {
   "cell_type": "code",
   "execution_count": 3,
   "id": "8a9d9ea1-0adf-4d09-9a58-a924e8deb810",
   "metadata": {},
   "outputs": [],
   "source": [
    "class Dog:\n",
    "    \"\"\"This Class is Dog\"\"\"\n",
    "    dogName = None\n",
    "    \n",
    "    def __init__(this, dogName): # 객체가 만들어질 떄 반드시 실행되는 메서드\n",
    "        this.dogName = dogName\n",
    "    \n",
    "    def barking(this):\n",
    "        print(\"멍멍!\")\n",
    "        \n",
    "    def microchip_info(this):\n",
    "        print(\"본 강아지의 이름은 {}입니다.\".format(this.dogName))"
   ]
  },
  {
   "cell_type": "code",
   "execution_count": 4,
   "id": "c965a2b6-7a7a-4b31-92c7-5a551cb0d938",
   "metadata": {},
   "outputs": [
    {
     "name": "stdout",
     "output_type": "stream",
     "text": [
      "멍멍!\n",
      "본 강아지의 이름은 쿠키입니다.\n",
      "This Class is Dog\n"
     ]
    }
   ],
   "source": [
    "myDog = Dog(\"쿠키\")\n",
    "myDog.barking();\n",
    "myDog.microchip_info()\n",
    "print(myDog.__doc__)"
   ]
  },
  {
   "cell_type": "markdown",
   "id": "0f6bb2ce-a462-418d-802d-27753b2d3237",
   "metadata": {},
   "source": [
    "### * 속성 추가하기/지우기"
   ]
  },
  {
   "cell_type": "markdown",
   "id": "b68773df-6a23-47b2-94a8-ebd28c7bcacc",
   "metadata": {},
   "source": [
    "생성된 인스턴스에 속성을 추가하거나 지울 수 있다."
   ]
  },
  {
   "cell_type": "code",
   "execution_count": 5,
   "id": "92421e8d-d924-4d51-8b25-a83f64b1c7e0",
   "metadata": {},
   "outputs": [],
   "source": [
    "myDog.sleeping = lambda : print(\"쿨쿨~~\")"
   ]
  },
  {
   "cell_type": "code",
   "execution_count": 6,
   "id": "bddbd6f0-8be7-4016-bd75-1629a753d6ac",
   "metadata": {},
   "outputs": [
    {
     "name": "stdout",
     "output_type": "stream",
     "text": [
      "쿨쿨~~\n"
     ]
    }
   ],
   "source": [
    "myDog.sleeping()"
   ]
  },
  {
   "cell_type": "code",
   "execution_count": 7,
   "id": "ddaa01f6-1f1f-4110-8379-cebe539f1cb7",
   "metadata": {},
   "outputs": [
    {
     "ename": "AttributeError",
     "evalue": "'Dog' object has no attribute 'sleeping'",
     "output_type": "error",
     "traceback": [
      "\u001b[1;31m---------------------------------------------------------------------------\u001b[0m",
      "\u001b[1;31mAttributeError\u001b[0m                            Traceback (most recent call last)",
      "\u001b[1;32m~\\AppData\\Local\\Temp/ipykernel_19564/3917622004.py\u001b[0m in \u001b[0;36m<module>\u001b[1;34m\u001b[0m\n\u001b[0;32m      1\u001b[0m \u001b[1;32mdel\u001b[0m \u001b[0mmyDog\u001b[0m\u001b[1;33m.\u001b[0m\u001b[0msleeping\u001b[0m\u001b[1;33m\u001b[0m\u001b[1;33m\u001b[0m\u001b[0m\n\u001b[1;32m----> 2\u001b[1;33m \u001b[0mmyDog\u001b[0m\u001b[1;33m.\u001b[0m\u001b[0msleeping\u001b[0m\u001b[1;33m(\u001b[0m\u001b[1;33m)\u001b[0m\u001b[1;33m\u001b[0m\u001b[1;33m\u001b[0m\u001b[0m\n\u001b[0m",
      "\u001b[1;31mAttributeError\u001b[0m: 'Dog' object has no attribute 'sleeping'"
     ]
    }
   ],
   "source": [
    "del myDog.sleeping\n",
    "myDog.sleeping()"
   ]
  },
  {
   "cell_type": "markdown",
   "id": "09a1aa2e-9ef2-4b78-b850-d92a4dba066e",
   "metadata": {},
   "source": [
    "인스턴스에 속성을 추가한다고 해서 원본인 클래스에 영향을 주지 않는다."
   ]
  },
  {
   "cell_type": "code",
   "execution_count": 8,
   "id": "5cecb2fa-bffe-4046-9c77-d045d9535eb5",
   "metadata": {},
   "outputs": [],
   "source": [
    "myDog.sleeping = lambda : print(\"쿨쿨~~\")\n",
    "yourDog = Dog(\"검둥이\")"
   ]
  },
  {
   "cell_type": "code",
   "execution_count": 9,
   "id": "aeb00a49-c03d-411d-9561-8ecbcd344ed5",
   "metadata": {},
   "outputs": [
    {
     "name": "stdout",
     "output_type": "stream",
     "text": [
      "쿨쿨~~\n"
     ]
    }
   ],
   "source": [
    "myDog.sleeping()"
   ]
  },
  {
   "cell_type": "code",
   "execution_count": 10,
   "id": "efb816cb-ed86-43b7-92e9-b23aeb81ca6b",
   "metadata": {},
   "outputs": [
    {
     "ename": "AttributeError",
     "evalue": "'Dog' object has no attribute 'sleeping'",
     "output_type": "error",
     "traceback": [
      "\u001b[1;31m---------------------------------------------------------------------------\u001b[0m",
      "\u001b[1;31mAttributeError\u001b[0m                            Traceback (most recent call last)",
      "\u001b[1;32m~\\AppData\\Local\\Temp/ipykernel_19564/3554627469.py\u001b[0m in \u001b[0;36m<module>\u001b[1;34m\u001b[0m\n\u001b[1;32m----> 1\u001b[1;33m \u001b[0myourDog\u001b[0m\u001b[1;33m.\u001b[0m\u001b[0msleeping\u001b[0m\u001b[1;33m(\u001b[0m\u001b[1;33m)\u001b[0m\u001b[1;33m\u001b[0m\u001b[1;33m\u001b[0m\u001b[0m\n\u001b[0m",
      "\u001b[1;31mAttributeError\u001b[0m: 'Dog' object has no attribute 'sleeping'"
     ]
    }
   ],
   "source": [
    "yourDog.sleeping()"
   ]
  },
  {
   "cell_type": "markdown",
   "id": "d1a43bf8-2c23-4972-a190-6a3cdc1a685a",
   "metadata": {},
   "source": [
    "### * 속성을 다룰 때 주의해야할 점"
   ]
  },
  {
   "cell_type": "markdown",
   "id": "6a050fbf-431e-4c92-9f25-e2b94a24563c",
   "metadata": {},
   "source": [
    "클래스 선언시 리스트나 딕셔너리와 같은 가변 객체(mutable)가 공유 속성으로 취급될 때 다음과 같은 문제가 발생할 수 있다."
   ]
  },
  {
   "cell_type": "code",
   "execution_count": 11,
   "id": "3fc53b7c-f3c3-4718-90ce-2567c7df8b18",
   "metadata": {},
   "outputs": [],
   "source": [
    "class Dog:\n",
    "    tricks = []\n",
    "    \n",
    "    def __init__(self, name):\n",
    "        self.name = name\n",
    "        \n",
    "    def add_trick(self, trick):\n",
    "        self.tricks.append(trick)\n",
    "        \n",
    "d = Dog('Fido')\n",
    "e = Dog('Buddy')\n",
    "d.add_trick('roll over')\n",
    "e.add_trick('play dead')"
   ]
  },
  {
   "cell_type": "code",
   "execution_count": 12,
   "id": "643bf4ae-15e4-4d0e-8c28-976ea749f612",
   "metadata": {},
   "outputs": [
    {
     "data": {
      "text/plain": [
       "['roll over', 'play dead']"
      ]
     },
     "execution_count": 12,
     "metadata": {},
     "output_type": "execute_result"
    }
   ],
   "source": [
    "d.tricks"
   ]
  },
  {
   "cell_type": "code",
   "execution_count": 13,
   "id": "fd3d5561-d722-4590-827c-74a900911e65",
   "metadata": {},
   "outputs": [
    {
     "data": {
      "text/plain": [
       "['roll over', 'play dead']"
      ]
     },
     "execution_count": 13,
     "metadata": {},
     "output_type": "execute_result"
    }
   ],
   "source": [
    "e.tricks"
   ]
  },
  {
   "cell_type": "markdown",
   "id": "171cb8e7-f70c-4717-a59e-c9da5b1e7aa0",
   "metadata": {},
   "source": [
    "다음과 같이 해결하자"
   ]
  },
  {
   "cell_type": "code",
   "execution_count": 14,
   "id": "087f9f87-2c9e-4877-8508-cfef17439943",
   "metadata": {},
   "outputs": [],
   "source": [
    "class Dog:\n",
    "\n",
    "    def __init__(self, name):\n",
    "        self.name = name\n",
    "        self.tricks = []    # creates a new empty list for each dog\n",
    "\n",
    "    def add_trick(self, trick):\n",
    "        self.tricks.append(trick)"
   ]
  },
  {
   "cell_type": "code",
   "execution_count": 15,
   "id": "226aecf1-25b5-4163-b35c-4cd90318b90d",
   "metadata": {},
   "outputs": [
    {
     "name": "stdout",
     "output_type": "stream",
     "text": [
      "['roll over']\n",
      "['play dead']\n"
     ]
    }
   ],
   "source": [
    "d = Dog('Fido')\n",
    "e = Dog('Buddy')\n",
    "d.add_trick('roll over')\n",
    "e.add_trick('play dead')\n",
    "print(d.tricks)\n",
    "print(e.tricks)"
   ]
  },
  {
   "cell_type": "markdown",
   "id": "d3b0f473-dbf4-4bca-b610-b6282dbe6af0",
   "metadata": {},
   "source": [
    "인스턴스와 클래스 모두에서 같은 속성 이름이 등장하면, 속성 조회는 인스턴스를 우선한다."
   ]
  },
  {
   "cell_type": "code",
   "execution_count": 16,
   "id": "930c5953-4836-4728-946d-13061128f88a",
   "metadata": {},
   "outputs": [
    {
     "name": "stdout",
     "output_type": "stream",
     "text": [
      "storage west\n",
      "storage east\n"
     ]
    }
   ],
   "source": [
    "class Warehouse:\n",
    "    purpose = 'storage'\n",
    "    region = 'west'\n",
    "\n",
    "w1 = Warehouse()\n",
    "print(w1.purpose, w1.region)\n",
    "w2 = Warehouse()\n",
    "w2.region = 'east'\n",
    "print(w2.purpose, w2.region)"
   ]
  },
  {
   "cell_type": "markdown",
   "id": "4df2739a-6792-4fce-82ff-045cb0b0e157",
   "metadata": {},
   "source": [
    "### * getter/setter로 속성 제어"
   ]
  },
  {
   "cell_type": "markdown",
   "id": "b227731c-9908-4757-af69-4b3d92a9eac5",
   "metadata": {},
   "source": [
    "아래와 같이 getter/setter를 작성해도 좋지만 속성이 은닉이 되지 않아서 속성을 보호하지 못한다.\n",
    "\n",
    "즉, 마음대로 수정되거나 접근해서는 안되는 변수가 코드를 작성하는 개발자로부터 보호받지 못한다.\n",
    "\n",
    "사람이라 실수를 할 수 있기 때문이다."
   ]
  },
  {
   "cell_type": "code",
   "execution_count": 17,
   "id": "3488e865-0fd1-476f-a2a6-fb7bf63947c7",
   "metadata": {},
   "outputs": [],
   "source": [
    "class Cat:\n",
    "    def __init__(self, name):\n",
    "        self.name = name\n",
    "    \n",
    "    def getname(self):\n",
    "        return self.name\n",
    "    \n",
    "    def setname(self, name):\n",
    "        self.name = name"
   ]
  },
  {
   "cell_type": "code",
   "execution_count": 18,
   "id": "34fbdd22-8b13-4bc9-aaab-6b911e9e3171",
   "metadata": {},
   "outputs": [
    {
     "name": "stdout",
     "output_type": "stream",
     "text": [
      "냥냥이\n",
      "냐옹이\n"
     ]
    }
   ],
   "source": [
    "bobby = Cat(\"냥냥이\")\n",
    "print(bobby.getname())\n",
    "bobby.setname(\"냐옹이\")\n",
    "print(bobby.name) # 속성이 보호되지 않는다. 고양이 이름이 바뀌어 버렸다."
   ]
  },
  {
   "cell_type": "markdown",
   "id": "6aa822b3-e4ff-419a-8115-330510a7586f",
   "metadata": {},
   "source": [
    "### * decorator를 사용한 getter/setter 속성 제어"
   ]
  },
  {
   "cell_type": "markdown",
   "id": "f516c822-0a58-498b-9850-7f25eb0bb08e",
   "metadata": {},
   "source": [
    "아래와 같은 방식으로 은닉을 할 수 있다"
   ]
  },
  {
   "cell_type": "code",
   "execution_count": 19,
   "id": "d93d744f-daf4-4be1-9b7c-63c0224a64a5",
   "metadata": {},
   "outputs": [],
   "source": [
    "class Cat:\n",
    "    def __init__(self, name):\n",
    "        self._name = name\n",
    "        \n",
    "    @property\n",
    "    def name(self):\n",
    "        return self._name\n",
    "    \n",
    "    @name.setter\n",
    "    def name(self, name):\n",
    "        self._name = name"
   ]
  },
  {
   "cell_type": "code",
   "execution_count": 20,
   "id": "7bbb4b86-369d-4839-8d18-61868d11ae85",
   "metadata": {},
   "outputs": [
    {
     "name": "stdout",
     "output_type": "stream",
     "text": [
      "냥냥이\n"
     ]
    }
   ],
   "source": [
    "bobby = Cat(\"냥냥이\")\n",
    "print(bobby.name)"
   ]
  },
  {
   "cell_type": "code",
   "execution_count": 21,
   "id": "d82152ca-dc0d-4947-88ed-6443bf66b382",
   "metadata": {},
   "outputs": [
    {
     "name": "stdout",
     "output_type": "stream",
     "text": [
      "냐옹이\n"
     ]
    }
   ],
   "source": [
    "bobby.name = \"냐옹이\"\n",
    "print(bobby.name)"
   ]
  },
  {
   "cell_type": "markdown",
   "id": "c2430535-a61b-479e-95a4-6730a6bf470c",
   "metadata": {},
   "source": [
    "초기화된 이름만 얻게 하고 이름을 바꿀 수 없게 하자."
   ]
  },
  {
   "cell_type": "code",
   "execution_count": 22,
   "id": "37ec58ca-fc2a-47ad-901c-d38c63c56128",
   "metadata": {},
   "outputs": [],
   "source": [
    "class Cat:\n",
    "    def __init__(self, name):\n",
    "        self._name = name\n",
    "        \n",
    "    @property\n",
    "    def name(self):\n",
    "        return self._name"
   ]
  },
  {
   "cell_type": "code",
   "execution_count": 23,
   "id": "9caf23b3-05bc-4a1d-bf83-045a649c2ff5",
   "metadata": {},
   "outputs": [
    {
     "name": "stdout",
     "output_type": "stream",
     "text": [
      "냥냥이\n"
     ]
    }
   ],
   "source": [
    "bobby = Cat(\"냥냥이\")\n",
    "print(bobby.name)"
   ]
  },
  {
   "cell_type": "code",
   "execution_count": 24,
   "id": "ce230ab0-dee7-40b0-bc1a-1ce085ede4fe",
   "metadata": {},
   "outputs": [
    {
     "ename": "AttributeError",
     "evalue": "can't set attribute",
     "output_type": "error",
     "traceback": [
      "\u001b[1;31m---------------------------------------------------------------------------\u001b[0m",
      "\u001b[1;31mAttributeError\u001b[0m                            Traceback (most recent call last)",
      "\u001b[1;32m~\\AppData\\Local\\Temp/ipykernel_19564/743419187.py\u001b[0m in \u001b[0;36m<module>\u001b[1;34m\u001b[0m\n\u001b[1;32m----> 1\u001b[1;33m \u001b[0mbobby\u001b[0m\u001b[1;33m.\u001b[0m\u001b[0mname\u001b[0m \u001b[1;33m=\u001b[0m \u001b[1;34m\"냐옹이\"\u001b[0m\u001b[1;33m\u001b[0m\u001b[1;33m\u001b[0m\u001b[0m\n\u001b[0m",
      "\u001b[1;31mAttributeError\u001b[0m: can't set attribute"
     ]
    }
   ],
   "source": [
    "bobby.name = \"냐옹이\""
   ]
  },
  {
   "cell_type": "markdown",
   "id": "7f5ba5f2-bbe2-461b-a798-ac44c7843e1b",
   "metadata": {},
   "source": [
    "### * 정적 메소드와 클래스 메소드"
   ]
  },
  {
   "cell_type": "markdown",
   "id": "8b877db7-f7fc-436d-91da-96044ddee74f",
   "metadata": {},
   "source": [
    "정적 메소드(static method)는 인스턴스 생성 없이 사용할 수 있는 함수를 이야기한다."
   ]
  },
  {
   "cell_type": "markdown",
   "id": "ace85c43-b905-4835-ae32-f33c6f28fc69",
   "metadata": {},
   "source": [
    "정적 메소드 `@staticmethod`와 클래스 메소드 `@classmethod` 모두 인스턴스를 생성하지 않아도 호출할 수 있다. 차이점은 파라미터의 차이."
   ]
  },
  {
   "cell_type": "code",
   "execution_count": 25,
   "id": "d5937dbc-b34f-4bda-8b95-f7018f4ce155",
   "metadata": {},
   "outputs": [],
   "source": [
    "class Encoding:\n",
    "    \n",
    "    salt = 2.1442\n",
    "    \n",
    "    @staticmethod\n",
    "    def digest(data):\n",
    "        return len(data) * Encoding.salt"
   ]
  },
  {
   "cell_type": "code",
   "execution_count": 26,
   "id": "9afb9d64-aabe-47f7-af7c-11a22ffa3517",
   "metadata": {},
   "outputs": [
    {
     "name": "stdout",
     "output_type": "stream",
     "text": [
      "10.721\n"
     ]
    }
   ],
   "source": [
    "print(Encoding.digest(\"안녕하세요\"))"
   ]
  },
  {
   "cell_type": "markdown",
   "id": "936410b7-4951-4d7a-81ec-9101d93d3747",
   "metadata": {},
   "source": [
    "`@staticmethod`는 메소드에 `self`, `this`, `cls`와 같이 `class Encoding` 자체를 가리키는 매개변수가 필요없다."
   ]
  },
  {
   "cell_type": "code",
   "execution_count": 27,
   "id": "0671161a-16a1-4217-a60d-c487e476b22a",
   "metadata": {},
   "outputs": [],
   "source": [
    "class Encoding:\n",
    "    \n",
    "    salt = 2.1442\n",
    "    \n",
    "    @classmethod\n",
    "    def digest(cls, data):\n",
    "        return len(data) * cls.salt"
   ]
  },
  {
   "cell_type": "code",
   "execution_count": 28,
   "id": "7f3f82e1-932f-4d07-8ceb-bc59d6689234",
   "metadata": {},
   "outputs": [
    {
     "name": "stdout",
     "output_type": "stream",
     "text": [
      "10.721\n"
     ]
    }
   ],
   "source": [
    "print(Encoding.digest(\"안녕하세요\"))"
   ]
  },
  {
   "cell_type": "markdown",
   "id": "d8c6ff60-8e79-4622-a481-6bb93435c7da",
   "metadata": {},
   "source": [
    "`@classmethod`는 `class Encoding`을 가리키는 매개변수가 필요하다."
   ]
  },
  {
   "cell_type": "markdown",
   "id": "c2756355-6d99-4fd4-94c7-bbcb1fc09ad1",
   "metadata": {},
   "source": [
    "### * 정보 은닉 캡슐화"
   ]
  },
  {
   "cell_type": "markdown",
   "id": "cdec905d-d7a0-48e3-b90b-886bed29515f",
   "metadata": {},
   "source": [
    "getter/setter 방식도 좋지만 다른 방식으로도 접근을 제어할 수 있다.\n",
    "\n",
    "이름 앞에 언더바 2개(`__`)를 붙이면 클래스 내부적인 로직에서만 사용할 수 있는 메소드로 선언할 수 있다."
   ]
  },
  {
   "cell_type": "code",
   "execution_count": 29,
   "id": "07c39e22-07d8-4db4-9dfb-aab0e233028d",
   "metadata": {},
   "outputs": [],
   "source": [
    "class MyClass:\n",
    "    def __init__(self, hide, unhide):\n",
    "        self.__hide = hide\n",
    "        self.unhide = unhide\n",
    "    \n",
    "    def show(self):\n",
    "        print(\"show() method is called\")\n",
    "    \n",
    "    def __not_show(self):\n",
    "        print(\"not_show() methods is called\")\n",
    "        \n",
    "mine = MyClass(\"hide test\", \"not hide test\")"
   ]
  },
  {
   "cell_type": "code",
   "execution_count": 30,
   "id": "750ce9ac-d4fd-451c-bf26-23a9fbefcdf4",
   "metadata": {},
   "outputs": [
    {
     "ename": "AttributeError",
     "evalue": "'MyClass' object has no attribute '__hide'",
     "output_type": "error",
     "traceback": [
      "\u001b[1;31m---------------------------------------------------------------------------\u001b[0m",
      "\u001b[1;31mAttributeError\u001b[0m                            Traceback (most recent call last)",
      "\u001b[1;32m~\\AppData\\Local\\Temp/ipykernel_19564/2633382818.py\u001b[0m in \u001b[0;36m<module>\u001b[1;34m\u001b[0m\n\u001b[1;32m----> 1\u001b[1;33m \u001b[0mmine\u001b[0m\u001b[1;33m.\u001b[0m\u001b[0m__hide\u001b[0m \u001b[1;31m# 접근할 수 없다.\u001b[0m\u001b[1;33m\u001b[0m\u001b[1;33m\u001b[0m\u001b[0m\n\u001b[0m",
      "\u001b[1;31mAttributeError\u001b[0m: 'MyClass' object has no attribute '__hide'"
     ]
    }
   ],
   "source": [
    "mine.__hide # 접근할 수 없다."
   ]
  },
  {
   "cell_type": "code",
   "execution_count": 31,
   "id": "9a6cdcc7-dc18-4f22-9fa4-897d95844c80",
   "metadata": {},
   "outputs": [
    {
     "data": {
      "text/plain": [
       "'not hide test'"
      ]
     },
     "execution_count": 31,
     "metadata": {},
     "output_type": "execute_result"
    }
   ],
   "source": [
    "mine.unhide"
   ]
  },
  {
   "cell_type": "code",
   "execution_count": 32,
   "id": "6e3c4173-81cc-4edf-9e26-b2d7c4fc0ded",
   "metadata": {},
   "outputs": [
    {
     "ename": "AttributeError",
     "evalue": "'MyClass' object has no attribute '__not_show'",
     "output_type": "error",
     "traceback": [
      "\u001b[1;31m---------------------------------------------------------------------------\u001b[0m",
      "\u001b[1;31mAttributeError\u001b[0m                            Traceback (most recent call last)",
      "\u001b[1;32m~\\AppData\\Local\\Temp/ipykernel_19564/2191544075.py\u001b[0m in \u001b[0;36m<module>\u001b[1;34m\u001b[0m\n\u001b[1;32m----> 1\u001b[1;33m \u001b[0mmine\u001b[0m\u001b[1;33m.\u001b[0m\u001b[0m__not_show\u001b[0m\u001b[1;33m(\u001b[0m\u001b[1;33m)\u001b[0m\u001b[1;33m\u001b[0m\u001b[1;33m\u001b[0m\u001b[0m\n\u001b[0m",
      "\u001b[1;31mAttributeError\u001b[0m: 'MyClass' object has no attribute '__not_show'"
     ]
    }
   ],
   "source": [
    "mine.__not_show()"
   ]
  },
  {
   "cell_type": "code",
   "execution_count": 33,
   "id": "ed6ebc20-27ce-44a4-9f93-b6eafb071339",
   "metadata": {
    "tags": []
   },
   "outputs": [
    {
     "name": "stdout",
     "output_type": "stream",
     "text": [
      "show() method is called\n"
     ]
    }
   ],
   "source": [
    "mine.show()"
   ]
  },
  {
   "cell_type": "markdown",
   "id": "a64680c5-af8d-403c-9d1d-3256b8946c48",
   "metadata": {},
   "source": [
    "#### Q. 은닉된 메소드나 속성이 메모리에도 보호가 될까?\n",
    "\n",
    "파이썬과 같이 GC를 사용하여 메모리를 대신 관리해주는 객체 지향 프로그램은 작성자인 프로그래머를 전적으로 믿는 C언어와 다르게 코드 작성자를 신뢰하지 않는다.\n",
    "\n",
    "은닉과 같은 기능을 쓴다고 해서 실제 할당된 메모리 주소가 감춰지거나 값이 은닉되는 것은 아니지만, 프로그램 작성과정에서 생길 수 있는 실수를 줄일 수 있다."
   ]
  },
  {
   "cell_type": "markdown",
   "id": "92a8a5b5-5222-45a1-b67c-52dbbbe69196",
   "metadata": {},
   "source": [
    "## - 상속"
   ]
  },
  {
   "cell_type": "markdown",
   "id": "3dba13e9-8c61-42dd-88a4-726afd17f206",
   "metadata": {},
   "source": [
    "상속은 중복된 코드를 줄일 수 있는 하나의 방법이다.\n",
    "\n",
    "클래스들 간에 중복되는 코드 영역이 있거나 역할이 비슷하다면 이러한 클래스들을 모두 포함할 수 있는 큰 범주의 클래스를 만든다음 중복될 코드를 작성 후에 상속시켜주는 형식이다."
   ]
  },
  {
   "cell_type": "markdown",
   "id": "f3b2e5f5-ef55-48cc-afca-6f39c8c121ed",
   "metadata": {},
   "source": [
    "상속 관계의 부모 클래스와 자식 클래스가 있고 부모 클래스의 초기화 메소드 `init()` 에 받아야할 매개변수가 있다면 \n",
    "\n",
    "자식 클래스의 초기화 메소드에서 부모 클래스 호출을 의미하는 `super` 메소드를 통해 넘겨주어야 한다."
   ]
  },
  {
   "cell_type": "markdown",
   "id": "ce737ae2-54ca-435a-b56d-53ef148d831e",
   "metadata": {},
   "source": [
    "### * 기본적인 상속 방법"
   ]
  },
  {
   "cell_type": "code",
   "execution_count": 34,
   "id": "00ef16b1-5e92-4a61-9c49-c136cd103c3b",
   "metadata": {},
   "outputs": [],
   "source": [
    "class Animal:\n",
    "    def __init__(self, name):\n",
    "        self._name = name\n",
    "        \n",
    "    @property\n",
    "    def name(self):\n",
    "        return self._name\n",
    "\n",
    "class Cat(Animal):\n",
    "    def __init__(self, name, age):\n",
    "        super().__init__(name) # 부모클래스\n",
    "        self._age = age\n",
    "    \n",
    "    @property\n",
    "    def age(self):\n",
    "        return self._age\n",
    "    \n",
    "    @age.setter\n",
    "    def age(self, age):\n",
    "        self._age = age"
   ]
  },
  {
   "cell_type": "code",
   "execution_count": 35,
   "id": "163afb90-90f7-45f9-b310-816b428e8d7b",
   "metadata": {},
   "outputs": [
    {
     "name": "stdout",
     "output_type": "stream",
     "text": [
      "키티\n",
      "5\n"
     ]
    },
    {
     "ename": "AttributeError",
     "evalue": "can't set attribute",
     "output_type": "error",
     "traceback": [
      "\u001b[1;31m---------------------------------------------------------------------------\u001b[0m",
      "\u001b[1;31mAttributeError\u001b[0m                            Traceback (most recent call last)",
      "\u001b[1;32m~\\AppData\\Local\\Temp/ipykernel_19564/544400798.py\u001b[0m in \u001b[0;36m<module>\u001b[1;34m\u001b[0m\n\u001b[0;32m      3\u001b[0m \u001b[0mprint\u001b[0m\u001b[1;33m(\u001b[0m\u001b[0mkitty\u001b[0m\u001b[1;33m.\u001b[0m\u001b[0mage\u001b[0m\u001b[1;33m)\u001b[0m\u001b[1;33m\u001b[0m\u001b[1;33m\u001b[0m\u001b[0m\n\u001b[0;32m      4\u001b[0m \u001b[0mkitty\u001b[0m\u001b[1;33m.\u001b[0m\u001b[0mage\u001b[0m \u001b[1;33m=\u001b[0m \u001b[1;36m10\u001b[0m\u001b[1;33m\u001b[0m\u001b[1;33m\u001b[0m\u001b[0m\n\u001b[1;32m----> 5\u001b[1;33m \u001b[0mkitty\u001b[0m\u001b[1;33m.\u001b[0m\u001b[0mname\u001b[0m \u001b[1;33m=\u001b[0m \u001b[1;34m\"끼티\"\u001b[0m \u001b[1;31m# 불가\u001b[0m\u001b[1;33m\u001b[0m\u001b[1;33m\u001b[0m\u001b[0m\n\u001b[0m",
      "\u001b[1;31mAttributeError\u001b[0m: can't set attribute"
     ]
    }
   ],
   "source": [
    "kitty = Cat(\"키티\", 5)\n",
    "print(kitty.name)\n",
    "print(kitty.age)\n",
    "kitty.age = 10\n",
    "kitty.name = \"끼티\" # 불가"
   ]
  },
  {
   "cell_type": "markdown",
   "id": "24bbd942-8588-4d91-88d9-aa1d218b6435",
   "metadata": {},
   "source": [
    "### * 오버라이딩\n",
    "\n",
    "오버라이딩(Overriding)은 자식 클래스에서 같은 이름을 가지고 있는 부모 클래스의 메소드의 구현을 바꾸고 싶을 때 사용한다.\n",
    "\n",
    "파이썬은 여러 클래스를 상속할 수 있는데, 이 때는 왼쪽부터 오른쪽 순서로 자식 계층이 이루어져서 오버라이딩이 된다."
   ]
  },
  {
   "cell_type": "code",
   "execution_count": 36,
   "id": "5f44aa50-99f9-46d2-a9f4-555910a8a5b8",
   "metadata": {
    "tags": []
   },
   "outputs": [],
   "source": [
    "class Base1:\n",
    "    attr = \"Base1\"\n",
    "    \n",
    "    def func(self):\n",
    "        print(\"Base1 Function\")\n",
    "\n",
    "class Base2:\n",
    "    \n",
    "    attr = \"Base2\"\n",
    "    \n",
    "    def func(self):\n",
    "        print(\"Base2 Function\")\n",
    "    \n",
    "    def func2(self):\n",
    "        print(\"Base2 Function\")\n",
    "        \n",
    "        \n",
    "class Base3:\n",
    "    attr = \"Base3\"\n",
    "    \n",
    "    def func(self):\n",
    "        print(\"Base3 Function\")\n",
    "        \n",
    "    def func2(self):\n",
    "        print(\"Base3 Function\")\n",
    "        \n",
    "    def func3(self):\n",
    "        print(\"Base3 Function\")\n",
    "        \n",
    "class DerivedClassName(Base1, Base2, Base3): # 여러 클래스의 상속은 추천하지 않는다.\n",
    "    attr = \"child\"\n"
   ]
  },
  {
   "cell_type": "code",
   "execution_count": 37,
   "id": "2c3612f6-8cbe-4ee7-97ef-fea9d289090e",
   "metadata": {},
   "outputs": [
    {
     "name": "stdout",
     "output_type": "stream",
     "text": [
      "Base1 Function\n",
      "Base2 Function\n",
      "Base3 Function\n",
      "child\n"
     ]
    }
   ],
   "source": [
    "x = DerivedClassName()\n",
    "x.func()\n",
    "x.func2()\n",
    "x.func3()\n",
    "print(x.attr)"
   ]
  },
  {
   "cell_type": "markdown",
   "id": "8f2dcbec-a598-47c0-878e-1c76244fe1ea",
   "metadata": {},
   "source": [
    "### * 추상 메서드\n",
    "\n",
    "추상 메서드(abstract method)라는 개념이 있다. \n",
    "\n",
    "꼭 필요하지만 보통 상황에 따라서 구현이 달라지게 되어 지금 당장 구현하기 애매할 때 사용한다.\n",
    "\n",
    "그리고 자신을 상속하는 자식 클래스가 구현하게 된다."
   ]
  },
  {
   "cell_type": "code",
   "execution_count": 38,
   "id": "45e30a78-b093-428d-a028-c8991d211253",
   "metadata": {},
   "outputs": [],
   "source": [
    "class Computer:\n",
    "    def __init__(self):\n",
    "        self.isOn = False\n",
    "    \n",
    "    def osname(self): # 추상 메서드\n",
    "        pass\n",
    "    \n",
    "    def power(self):\n",
    "        self.isOn = not self.isOn\n",
    "        print(\"컴퓨터가 켜졌습니다\" if self.isOn else \"컴퓨터가 꺼졌습니다\")\n",
    "        \n",
    "class WindowComputer(Computer):\n",
    "    pass"
   ]
  },
  {
   "cell_type": "code",
   "execution_count": 39,
   "id": "9afaface-a6ee-4b52-8d12-acdfea1b5c1d",
   "metadata": {},
   "outputs": [],
   "source": [
    "mycomp = WindowComputer()"
   ]
  },
  {
   "cell_type": "code",
   "execution_count": 40,
   "id": "b3ccc6db-58b4-4ac3-820d-fb22b477a98b",
   "metadata": {},
   "outputs": [
    {
     "name": "stdout",
     "output_type": "stream",
     "text": [
      "컴퓨터가 켜졌습니다\n",
      "컴퓨터가 꺼졌습니다\n",
      "컴퓨터가 켜졌습니다\n"
     ]
    }
   ],
   "source": [
    "mycomp.power()\n",
    "mycomp.power()\n",
    "mycomp.power()"
   ]
  },
  {
   "cell_type": "markdown",
   "id": "dd8f5e61-412b-4e3c-a426-ca5c8d203ac0",
   "metadata": {},
   "source": [
    "위 클래스에서 osname이 구현되지 않았는데 제대로 실행이 되어버린다. 그리고 구현되지 않은 함수를 사용해도 아무런 제약이 없다."
   ]
  },
  {
   "cell_type": "code",
   "execution_count": 41,
   "id": "554b21be-d3f8-45ae-9071-2a2a55e4fba1",
   "metadata": {},
   "outputs": [],
   "source": [
    "mycomp.osname()"
   ]
  },
  {
   "cell_type": "markdown",
   "id": "d821a0d8-5d51-4bf3-80ea-30698205f942",
   "metadata": {},
   "source": [
    "구현하지 않은체로 사용하면 에러가 발생하도록 설정하자"
   ]
  },
  {
   "cell_type": "code",
   "execution_count": 42,
   "id": "0b186be9-9c23-4d35-9998-bc3f350bdf7d",
   "metadata": {},
   "outputs": [],
   "source": [
    "class Computer:\n",
    "    def __init__(self):\n",
    "        self.isOn = False\n",
    "    \n",
    "    def osname(self):\n",
    "        raise NotImplementedError # 강제 에러 발생\n",
    "    \n",
    "    def power(self):\n",
    "        self.isOn = not self.isOn\n",
    "        print(\"컴퓨터가 켜졌습니다\" if self.isOn else \"컴퓨터가 꺼졌습니다\")\n",
    "        \n",
    "class WindowComputer(Computer):\n",
    "    pass"
   ]
  },
  {
   "cell_type": "code",
   "execution_count": 43,
   "id": "bbaf9ec1-6b91-4ead-bf93-7a3cc9fc7e60",
   "metadata": {},
   "outputs": [],
   "source": [
    "mycomp = WindowComputer()"
   ]
  },
  {
   "cell_type": "code",
   "execution_count": 44,
   "id": "8ae5c2f1-49d9-4445-a12e-e8490a6929a7",
   "metadata": {},
   "outputs": [
    {
     "name": "stdout",
     "output_type": "stream",
     "text": [
      "컴퓨터가 켜졌습니다\n",
      "컴퓨터가 꺼졌습니다\n",
      "컴퓨터가 켜졌습니다\n"
     ]
    }
   ],
   "source": [
    "mycomp.power()\n",
    "mycomp.power()\n",
    "mycomp.power()"
   ]
  },
  {
   "cell_type": "code",
   "execution_count": 45,
   "id": "eecceb6e-0715-4ace-91f0-9211637fa824",
   "metadata": {},
   "outputs": [
    {
     "ename": "NotImplementedError",
     "evalue": "",
     "output_type": "error",
     "traceback": [
      "\u001b[1;31m---------------------------------------------------------------------------\u001b[0m",
      "\u001b[1;31mNotImplementedError\u001b[0m                       Traceback (most recent call last)",
      "\u001b[1;32m~\\AppData\\Local\\Temp/ipykernel_19564/780661140.py\u001b[0m in \u001b[0;36m<module>\u001b[1;34m\u001b[0m\n\u001b[1;32m----> 1\u001b[1;33m \u001b[0mmycomp\u001b[0m\u001b[1;33m.\u001b[0m\u001b[0mosname\u001b[0m\u001b[1;33m(\u001b[0m\u001b[1;33m)\u001b[0m\u001b[1;33m\u001b[0m\u001b[1;33m\u001b[0m\u001b[0m\n\u001b[0m",
      "\u001b[1;32m~\\AppData\\Local\\Temp/ipykernel_19564/1950598104.py\u001b[0m in \u001b[0;36mosname\u001b[1;34m(self)\u001b[0m\n\u001b[0;32m      4\u001b[0m \u001b[1;33m\u001b[0m\u001b[0m\n\u001b[0;32m      5\u001b[0m     \u001b[1;32mdef\u001b[0m \u001b[0mosname\u001b[0m\u001b[1;33m(\u001b[0m\u001b[0mself\u001b[0m\u001b[1;33m)\u001b[0m\u001b[1;33m:\u001b[0m\u001b[1;33m\u001b[0m\u001b[1;33m\u001b[0m\u001b[0m\n\u001b[1;32m----> 6\u001b[1;33m         \u001b[1;32mraise\u001b[0m \u001b[0mNotImplementedError\u001b[0m \u001b[1;31m# 강제 에러 발생\u001b[0m\u001b[1;33m\u001b[0m\u001b[1;33m\u001b[0m\u001b[0m\n\u001b[0m\u001b[0;32m      7\u001b[0m \u001b[1;33m\u001b[0m\u001b[0m\n\u001b[0;32m      8\u001b[0m     \u001b[1;32mdef\u001b[0m \u001b[0mpower\u001b[0m\u001b[1;33m(\u001b[0m\u001b[0mself\u001b[0m\u001b[1;33m)\u001b[0m\u001b[1;33m:\u001b[0m\u001b[1;33m\u001b[0m\u001b[1;33m\u001b[0m\u001b[0m\n",
      "\u001b[1;31mNotImplementedError\u001b[0m: "
     ]
    }
   ],
   "source": [
    "mycomp.osname()"
   ]
  },
  {
   "cell_type": "markdown",
   "id": "720c0e00-8b9f-49cb-b60e-2055deacbe73",
   "metadata": {},
   "source": [
    "그러나 구현되지 않은 함수를 호출되는 상황에만 예외가 발생하는 것이 흠이다. \n",
    "\n",
    "추상 메서드를 구현하지 않았다면 애초에 클래스 호출부터 예외가 발생하도록 하자\n",
    "\n",
    "`abc` 모듈을 사용하면 된다. (아마도 ABstract Class, ABC라서 모듈 이름이 이렇게 지어진 듯하다)"
   ]
  },
  {
   "cell_type": "code",
   "execution_count": 46,
   "id": "4df4994b-b786-458d-81ea-825db8064653",
   "metadata": {},
   "outputs": [],
   "source": [
    "import abc\n",
    "\n",
    "class Computer(metaclass=abc.ABCMeta):\n",
    "    def __init__(self):\n",
    "        self.isOn = False\n",
    "    \n",
    "    @abc.abstractmethod\n",
    "    def osname(self):\n",
    "        pass\n",
    "    \n",
    "    def power(self):\n",
    "        self.isOn = not self.isOn\n",
    "        print(\"컴퓨터가 켜졌습니다\" if self.isOn else \"컴퓨터가 꺼졌습니다\")\n",
    "        \n",
    "class WindowComputer(Computer):\n",
    "    pass"
   ]
  },
  {
   "cell_type": "code",
   "execution_count": 47,
   "id": "95575dd4-01f4-4d96-bc3d-6348b490f79c",
   "metadata": {},
   "outputs": [
    {
     "ename": "TypeError",
     "evalue": "Can't instantiate abstract class WindowComputer with abstract method osname",
     "output_type": "error",
     "traceback": [
      "\u001b[1;31m---------------------------------------------------------------------------\u001b[0m",
      "\u001b[1;31mTypeError\u001b[0m                                 Traceback (most recent call last)",
      "\u001b[1;32m~\\AppData\\Local\\Temp/ipykernel_19564/3499452135.py\u001b[0m in \u001b[0;36m<module>\u001b[1;34m\u001b[0m\n\u001b[1;32m----> 1\u001b[1;33m \u001b[0mmycomp\u001b[0m \u001b[1;33m=\u001b[0m \u001b[0mWindowComputer\u001b[0m\u001b[1;33m(\u001b[0m\u001b[1;33m)\u001b[0m\u001b[1;33m\u001b[0m\u001b[1;33m\u001b[0m\u001b[0m\n\u001b[0m",
      "\u001b[1;31mTypeError\u001b[0m: Can't instantiate abstract class WindowComputer with abstract method osname"
     ]
    }
   ],
   "source": [
    "mycomp = WindowComputer()"
   ]
  },
  {
   "cell_type": "code",
   "execution_count": 48,
   "id": "7da105c0-520f-41bb-b4eb-b2cf128c4f63",
   "metadata": {},
   "outputs": [],
   "source": [
    "import abc\n",
    "\n",
    "class Computer(metaclass=abc.ABCMeta):\n",
    "    def __init__(self):\n",
    "        self.isOn = False\n",
    "    \n",
    "    @abc.abstractmethod\n",
    "    def osname(self):\n",
    "        pass\n",
    "    \n",
    "    def power(self):\n",
    "        self.isOn = not self.isOn\n",
    "        print(\"컴퓨터가 켜졌습니다\" if self.isOn else \"컴퓨터가 꺼졌습니다\")\n",
    "        \n",
    "class WindowComputer(Computer):\n",
    "    def osname(self):\n",
    "        print(\"WINDOW\")"
   ]
  },
  {
   "cell_type": "code",
   "execution_count": 49,
   "id": "ffa522ed-76a3-4a1e-8833-1343eac58364",
   "metadata": {},
   "outputs": [
    {
     "name": "stdout",
     "output_type": "stream",
     "text": [
      "컴퓨터가 켜졌습니다\n",
      "컴퓨터가 꺼졌습니다\n",
      "컴퓨터가 켜졌습니다\n",
      "WINDOW\n"
     ]
    }
   ],
   "source": [
    "mycomp = WindowComputer()\n",
    "mycomp.power()\n",
    "mycomp.power()\n",
    "mycomp.power()\n",
    "mycomp.osname()"
   ]
  },
  {
   "cell_type": "markdown",
   "id": "8f55ce18-38aa-45e0-9fb3-7c4b8ba027d6",
   "metadata": {},
   "source": [
    "### * 클래스 정보"
   ]
  },
  {
   "cell_type": "markdown",
   "id": "a28badac-ab37-4255-ae50-157292caa478",
   "metadata": {},
   "source": [
    "이전 함수를 선언할 때 협업을 위해 `Documentation`과 `Annotation`을 이용해 함수에 대한 설명을 추가하는 것이 개인적으로 좋다고 하였다.\n",
    "\n",
    "클래스도 클래스에 대한 설명을 나타내는 정보를 남길 수 있다."
   ]
  },
  {
   "cell_type": "code",
   "execution_count": 50,
   "id": "19d5b638-c695-47ee-83de-b593d00323af",
   "metadata": {},
   "outputs": [],
   "source": [
    "import abc\n",
    "\n",
    "class Computer(metaclass=abc.ABCMeta):\n",
    "    \"\"\"\\\n",
    "    컴퓨터를 구현하기 위한 추상클래스입니다.\n",
    "    본 클래스를 사용하기 위해선 반드시 구현클래스로 상속받고 osname을 구현하여 사용해야합니다\n",
    "    \"\"\"\n",
    "    def __init__(self):\n",
    "        self.isOn = False\n",
    "    \n",
    "    @abc.abstractmethod\n",
    "    def osname(self):\n",
    "        pass\n",
    "    \n",
    "    def power(self):\n",
    "        self.isOn = not self.isOn\n",
    "        print(\"컴퓨터가 켜졌습니다\" if self.isOn else \"컴퓨터가 꺼졌습니다\")\n",
    "\n",
    "class WindowComputer(Computer):\n",
    "    def osname(self):\n",
    "        print(\"WINDOW\")"
   ]
  },
  {
   "cell_type": "markdown",
   "id": "69fccdaf-85cd-4bb4-8ba1-f00edde77969",
   "metadata": {},
   "source": [
    "`help()`를 통해 확인해보자"
   ]
  },
  {
   "cell_type": "code",
   "execution_count": 51,
   "id": "19584d86-ebd8-4b85-8645-7206389ad3b8",
   "metadata": {},
   "outputs": [
    {
     "name": "stdout",
     "output_type": "stream",
     "text": [
      "Help on class Computer in module __main__:\n",
      "\n",
      "class Computer(builtins.object)\n",
      " |  컴퓨터를 구현하기 위한 추상클래스입니다.\n",
      " |  본 클래스를 사용하기 위해선 반드시 구현클래스로 상속받고 osname을 구현하여 사용해야합니다\n",
      " |  \n",
      " |  Methods defined here:\n",
      " |  \n",
      " |  __init__(self)\n",
      " |      Initialize self.  See help(type(self)) for accurate signature.\n",
      " |  \n",
      " |  osname(self)\n",
      " |  \n",
      " |  power(self)\n",
      " |  \n",
      " |  ----------------------------------------------------------------------\n",
      " |  Data descriptors defined here:\n",
      " |  \n",
      " |  __dict__\n",
      " |      dictionary for instance variables (if defined)\n",
      " |  \n",
      " |  __weakref__\n",
      " |      list of weak references to the object (if defined)\n",
      " |  \n",
      " |  ----------------------------------------------------------------------\n",
      " |  Data and other attributes defined here:\n",
      " |  \n",
      " |  __abstractmethods__ = frozenset({'osname'})\n",
      "\n"
     ]
    }
   ],
   "source": [
    "help(Computer)"
   ]
  },
  {
   "cell_type": "markdown",
   "id": "8eb820e2-bb6e-4bbd-9817-aee42a795fb7",
   "metadata": {},
   "source": [
    " - `__doc__`와 `__dict__`를 통해서도 클래스 정보를 볼 수 있다."
   ]
  },
  {
   "cell_type": "code",
   "execution_count": 52,
   "id": "05fd77c9-6235-4969-b004-596bb4c9ac77",
   "metadata": {},
   "outputs": [
    {
     "data": {
      "text/plain": [
       "'    컴퓨터를 구현하기 위한 추상클래스입니다.\\n    본 클래스를 사용하기 위해선 반드시 구현클래스로 상속받고 osname을 구현하여 사용해야합니다\\n    '"
      ]
     },
     "execution_count": 52,
     "metadata": {},
     "output_type": "execute_result"
    }
   ],
   "source": [
    "Computer.__doc__"
   ]
  },
  {
   "cell_type": "code",
   "execution_count": 53,
   "id": "b2fdfaa0-5ce2-40ae-b1b9-1b1c562abef6",
   "metadata": {},
   "outputs": [],
   "source": [
    "WindowComputer.__doc__"
   ]
  },
  {
   "cell_type": "code",
   "execution_count": 54,
   "id": "d9a86c91-9d69-4a22-98c3-41a67c8acc09",
   "metadata": {},
   "outputs": [
    {
     "data": {
      "text/plain": [
       "mappingproxy({'__module__': '__main__',\n",
       "              '__doc__': '    컴퓨터를 구현하기 위한 추상클래스입니다.\\n    본 클래스를 사용하기 위해선 반드시 구현클래스로 상속받고 osname을 구현하여 사용해야합니다\\n    ',\n",
       "              '__init__': <function __main__.Computer.__init__(self)>,\n",
       "              'osname': <function __main__.Computer.osname(self)>,\n",
       "              'power': <function __main__.Computer.power(self)>,\n",
       "              '__dict__': <attribute '__dict__' of 'Computer' objects>,\n",
       "              '__weakref__': <attribute '__weakref__' of 'Computer' objects>,\n",
       "              '__abstractmethods__': frozenset({'osname'}),\n",
       "              '_abc_impl': <_abc._abc_data at 0x27e2b3e92c0>})"
      ]
     },
     "execution_count": 54,
     "metadata": {},
     "output_type": "execute_result"
    }
   ],
   "source": [
    "Computer.__dict__"
   ]
  },
  {
   "cell_type": "code",
   "execution_count": 55,
   "id": "b59f9431-dd7b-49f4-a1c2-65473fb9ee38",
   "metadata": {},
   "outputs": [
    {
     "data": {
      "text/plain": [
       "mappingproxy({'__module__': '__main__',\n",
       "              'osname': <function __main__.WindowComputer.osname(self)>,\n",
       "              '__doc__': None,\n",
       "              '__abstractmethods__': frozenset(),\n",
       "              '_abc_impl': <_abc._abc_data at 0x27e2b3e9980>})"
      ]
     },
     "execution_count": 55,
     "metadata": {},
     "output_type": "execute_result"
    }
   ],
   "source": [
    "WindowComputer.__dict__"
   ]
  },
  {
   "cell_type": "markdown",
   "id": "c2c7a848-b598-410f-b8c1-ae88f766458e",
   "metadata": {},
   "source": [
    " - `isinstance()`를 통해서 해당 인스턴스에 관련된 클래스에 대해 판단할 수 있다."
   ]
  },
  {
   "cell_type": "code",
   "execution_count": 56,
   "id": "55d26aad-5bc8-4fb6-af8f-c599418b98a4",
   "metadata": {},
   "outputs": [],
   "source": [
    "comp = WindowComputer()"
   ]
  },
  {
   "cell_type": "code",
   "execution_count": 57,
   "id": "04fcecea-2deb-46d9-9f24-c2c2e7a0fb4c",
   "metadata": {},
   "outputs": [
    {
     "data": {
      "text/plain": [
       "True"
      ]
     },
     "execution_count": 57,
     "metadata": {},
     "output_type": "execute_result"
    }
   ],
   "source": [
    "isinstance(comp, WindowComputer)"
   ]
  },
  {
   "cell_type": "code",
   "execution_count": 58,
   "id": "2caa9614-d7de-48cf-9c31-5614c50b483d",
   "metadata": {},
   "outputs": [
    {
     "data": {
      "text/plain": [
       "True"
      ]
     },
     "execution_count": 58,
     "metadata": {},
     "output_type": "execute_result"
    }
   ],
   "source": [
    "isinstance(comp, Computer)"
   ]
  },
  {
   "cell_type": "markdown",
   "id": "41a897d3-ef5c-453c-be48-de5893a14edc",
   "metadata": {},
   "source": [
    " - `hasattr()`를 통해서 해당 인스턴스에 관련된 메소드 및 속성을 알 수 있다."
   ]
  },
  {
   "cell_type": "code",
   "execution_count": 59,
   "id": "d21b17c6-43c3-46b4-9c4f-9a2beaa9bdb4",
   "metadata": {},
   "outputs": [
    {
     "data": {
      "text/plain": [
       "True"
      ]
     },
     "execution_count": 59,
     "metadata": {},
     "output_type": "execute_result"
    }
   ],
   "source": [
    "hasattr(comp, 'power')"
   ]
  },
  {
   "cell_type": "code",
   "execution_count": 60,
   "id": "2b497951-57bd-4ae6-9295-1816bb63f5e8",
   "metadata": {},
   "outputs": [
    {
     "data": {
      "text/plain": [
       "True"
      ]
     },
     "execution_count": 60,
     "metadata": {},
     "output_type": "execute_result"
    }
   ],
   "source": [
    "hasattr(comp, 'osname')"
   ]
  },
  {
   "cell_type": "code",
   "execution_count": 61,
   "id": "3fcd93dd-bda9-491a-a0b6-7a09858c4b14",
   "metadata": {
    "tags": []
   },
   "outputs": [
    {
     "data": {
      "text/plain": [
       "False"
      ]
     },
     "execution_count": 61,
     "metadata": {},
     "output_type": "execute_result"
    }
   ],
   "source": [
    "hasattr(comp, 'nothing')"
   ]
  },
  {
   "cell_type": "markdown",
   "id": "4a0ef38f-b483-40e3-af2f-6ef0f2ae62e1",
   "metadata": {},
   "source": [
    "<br>\n",
    "<br>\n",
    "<br>\n",
    "<br>\n",
    "<br>\n",
    "<br>\n",
    "<hr>\n",
    "<br>\n",
    "<br>\n",
    "<br>\n",
    "<br>\n",
    "<br>\n",
    "<br>"
   ]
  }
 ],
 "metadata": {
  "kernelspec": {
   "display_name": "Python 3 (ipykernel)",
   "language": "python",
   "name": "python3"
  },
  "language_info": {
   "codemirror_mode": {
    "name": "ipython",
    "version": 3
   },
   "file_extension": ".py",
   "mimetype": "text/x-python",
   "name": "python",
   "nbconvert_exporter": "python",
   "pygments_lexer": "ipython3",
   "version": "3.9.6"
  }
 },
 "nbformat": 4,
 "nbformat_minor": 5
}
