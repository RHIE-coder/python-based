{
 "cells": [
  {
   "cell_type": "markdown",
   "id": "social-contest",
   "metadata": {
    "tags": []
   },
   "source": [
    "# 06. 모듈과 패키지"
   ]
  },
  {
   "cell_type": "markdown",
   "id": "accessible-fence",
   "metadata": {},
   "source": [
    "## - 모듈"
   ]
  },
  {
   "cell_type": "markdown",
   "id": "clean-cricket",
   "metadata": {},
   "source": [
    "먼저 현재 위치에서 `fibo.py`라는 파일을 추가하고 다음 코드를 추가해보자"
   ]
  },
  {
   "cell_type": "markdown",
   "id": "dress-junction",
   "metadata": {},
   "source": [
    "```python\n",
    "def fib(n):    # write Fibonacci series up to n\n",
    "    a, b = 0, 1\n",
    "    while a < n:\n",
    "        print(a, end=' ')\n",
    "        a, b = b, a+b\n",
    "    print()\n",
    "\n",
    "def fib2(n):   # return Fibonacci series up to n\n",
    "    result = []\n",
    "    a, b = 0, 1\n",
    "    while a < n:\n",
    "        result.append(a)\n",
    "        a, b = b, a+b\n",
    "    return result\n",
    "```"
   ]
  },
  {
   "cell_type": "markdown",
   "id": "cleared-remark",
   "metadata": {},
   "source": [
    "아래와 같이 우리가 만든 모듈을 가져와 테스트해보자"
   ]
  },
  {
   "cell_type": "code",
   "execution_count": 1,
   "id": "entire-wyoming",
   "metadata": {},
   "outputs": [
    {
     "name": "stdout",
     "output_type": "stream",
     "text": [
      "0 1 1 2 3 5 8 13 21 34 55 89 144 233 377 610 987 \n"
     ]
    }
   ],
   "source": [
    "import fibo\n",
    "\n",
    "fibo.fib(1000)"
   ]
  },
  {
   "cell_type": "code",
   "execution_count": 2,
   "id": "recovered-burns",
   "metadata": {},
   "outputs": [
    {
     "data": {
      "text/plain": [
       "[0, 1, 1, 2, 3, 5, 8, 13, 21, 34, 55, 89]"
      ]
     },
     "execution_count": 2,
     "metadata": {},
     "output_type": "execute_result"
    }
   ],
   "source": [
    "fibo.fib2(100)"
   ]
  },
  {
   "cell_type": "code",
   "execution_count": 3,
   "id": "expensive-titanium",
   "metadata": {},
   "outputs": [
    {
     "name": "stdout",
     "output_type": "stream",
     "text": [
      "0 1 1 2 3 5 8 13 21 34 55 89 144 233 377 \n"
     ]
    }
   ],
   "source": [
    "fib = fibo.fib\n",
    "fib(500)"
   ]
  },
  {
   "cell_type": "markdown",
   "id": "incorporate-strain",
   "metadata": {},
   "source": [
    "사용할 때마다 모듈 이름을 함께 적어 우리에게 필요한 함수를 호출하는게 불편하다.\n",
    "\n",
    "`from 모듈명 import 가져올 함수 및 클래스`와 같이 사용하면 간편하게 사용할 수 있다."
   ]
  },
  {
   "cell_type": "code",
   "execution_count": 4,
   "id": "earned-rescue",
   "metadata": {},
   "outputs": [
    {
     "name": "stdout",
     "output_type": "stream",
     "text": [
      "0 1 1 2 3 5 8 13 21 34 55 89 144 233 377 \n"
     ]
    }
   ],
   "source": [
    "from fibo import fib, fib2\n",
    "fib(500)"
   ]
  },
  {
   "cell_type": "markdown",
   "id": "partial-onion",
   "metadata": {},
   "source": [
    "와일드 카드(*)를 사용하면 모듈안에 있는 모든 함수 및 클래스들을 가져온다."
   ]
  },
  {
   "cell_type": "code",
   "execution_count": 5,
   "id": "coordinate-transparency",
   "metadata": {},
   "outputs": [
    {
     "name": "stdout",
     "output_type": "stream",
     "text": [
      "0 1 1 2 3 5 8 13 21 34 55 89 144 233 377 \n"
     ]
    }
   ],
   "source": [
    "from fibo import *\n",
    "fib(500)"
   ]
  },
  {
   "cell_type": "markdown",
   "id": "adolescent-booth",
   "metadata": {},
   "source": [
    "`as`를 사용하면 원래 정의되어 있는 이름이 아닌 우리가 원하는 이름으로 사용할 수 있다."
   ]
  },
  {
   "cell_type": "code",
   "execution_count": 6,
   "id": "found-trance",
   "metadata": {},
   "outputs": [
    {
     "name": "stdout",
     "output_type": "stream",
     "text": [
      "0 1 1 2 3 5 8 13 21 34 55 89 144 233 377 \n"
     ]
    }
   ],
   "source": [
    "import fibo as fb\n",
    "fb.fib(500)"
   ]
  },
  {
   "cell_type": "code",
   "execution_count": 7,
   "id": "sought-immunology",
   "metadata": {},
   "outputs": [
    {
     "data": {
      "text/plain": [
       "'fibo'"
      ]
     },
     "execution_count": 7,
     "metadata": {},
     "output_type": "execute_result"
    }
   ],
   "source": [
    "fb.__name__"
   ]
  },
  {
   "cell_type": "code",
   "execution_count": 8,
   "id": "demographic-swedish",
   "metadata": {},
   "outputs": [
    {
     "name": "stdout",
     "output_type": "stream",
     "text": [
      "0 1 1 2 3 5 8 13 21 34 55 89 144 233 377 \n"
     ]
    }
   ],
   "source": [
    "from fibo import fib as fibonacci\n",
    "fibonacci(400)"
   ]
  },
  {
   "cell_type": "markdown",
   "id": "transparent-population",
   "metadata": {},
   "source": [
    "파이썬은 어떻게 import를 할까? 예를 들어, spam 이라는 이름의 모듈이 임포트될 때, 인터프리터는 먼저 그 이름의 내장 모듈을 찾는다(`built-in`). 발견되지 않으면, 변수 `sys.path` 로 주어지는 디렉터리들에서 spam.py 라는 이름의 파일을 찾는다. `sys.path`는 이 위치들로 초기화된다.\n",
    "\n",
    " - 입력 스크립트를 포함하는 디렉터리 (또는 파일이 지정되지 않았을 때는 현재 디렉터리).\n",
    " - PYTHONPATH (디렉터리 이름들의 목록, 셸 변수 PATH 와 같은 문법).\n",
    " - 설치 의존적인 기본값\n",
    "\n",
    "정리하자면 파이썬은 가장먼저 `sys.modules`을 확인한다. 여기엔 이미 import된 것들이 모여있다.\n",
    "\n",
    "`sys.modules` 덕분에 파이썬은 또 다시 모듈을 찾지 않아도 된다.\n",
    "\n",
    "그 다음으로 `sys.path`를 확인한다.\n",
    "\n",
    "이 모든 과정을 거쳐도 못찾게 되면 에러를 리턴한다.\n",
    "\n",
    "아래 코드를 실행하면 우리가 import한 `fibo`가 있음을 볼 수 있다.\n",
    "\n",
    "`sys` 모듈은 파이썬에서 제공하는 내장 모듈이며 시스템 관련 모듈이다."
   ]
  },
  {
   "cell_type": "markdown",
   "id": "structured-guitar",
   "metadata": {},
   "source": [
    " - `sys.modules`"
   ]
  },
  {
   "cell_type": "code",
   "execution_count": 9,
   "id": "nutritional-grammar",
   "metadata": {},
   "outputs": [
    {
     "data": {
      "text/plain": [
       "{'sys': <module 'sys' (built-in)>,\n",
       " 'builtins': <module 'builtins' (built-in)>,\n",
       " '_frozen_importlib': <module 'importlib._bootstrap' (frozen)>,\n",
       " '_imp': <module '_imp' (built-in)>,\n",
       " '_thread': <module '_thread' (built-in)>,\n",
       " '_warnings': <module '_warnings' (built-in)>,\n",
       " '_weakref': <module '_weakref' (built-in)>,\n",
       " '_frozen_importlib_external': <module 'importlib._bootstrap_external' (frozen)>,\n",
       " 'nt': <module 'nt' (built-in)>,\n",
       " '_io': <module 'io' (built-in)>,\n",
       " 'marshal': <module 'marshal' (built-in)>,\n",
       " 'winreg': <module 'winreg' (built-in)>,\n",
       " 'time': <module 'time' (built-in)>,\n",
       " 'zipimport': <module 'zipimport' (frozen)>,\n",
       " '_codecs': <module '_codecs' (built-in)>,\n",
       " 'codecs': <module 'codecs' from 'c:\\\\users\\\\rhie\\\\appdata\\\\local\\\\programs\\\\python\\\\python39\\\\lib\\\\codecs.py'>,\n",
       " 'encodings.aliases': <module 'encodings.aliases' from 'c:\\\\users\\\\rhie\\\\appdata\\\\local\\\\programs\\\\python\\\\python39\\\\lib\\\\encodings\\\\aliases.py'>,\n",
       " 'encodings': <module 'encodings' from 'c:\\\\users\\\\rhie\\\\appdata\\\\local\\\\programs\\\\python\\\\python39\\\\lib\\\\encodings\\\\__init__.py'>,\n",
       " 'encodings.utf_8': <module 'encodings.utf_8' from 'c:\\\\users\\\\rhie\\\\appdata\\\\local\\\\programs\\\\python\\\\python39\\\\lib\\\\encodings\\\\utf_8.py'>,\n",
       " '_codecs_kr': <module '_codecs_kr' (built-in)>,\n",
       " '_multibytecodec': <module '_multibytecodec' (built-in)>,\n",
       " 'encodings.cp949': <module 'encodings.cp949' from 'c:\\\\users\\\\rhie\\\\appdata\\\\local\\\\programs\\\\python\\\\python39\\\\lib\\\\encodings\\\\cp949.py'>,\n",
       " '_signal': <module '_signal' (built-in)>,\n",
       " 'encodings.latin_1': <module 'encodings.latin_1' from 'c:\\\\users\\\\rhie\\\\appdata\\\\local\\\\programs\\\\python\\\\python39\\\\lib\\\\encodings\\\\latin_1.py'>,\n",
       " '_abc': <module '_abc' (built-in)>,\n",
       " 'abc': <module 'abc' from 'c:\\\\users\\\\rhie\\\\appdata\\\\local\\\\programs\\\\python\\\\python39\\\\lib\\\\abc.py'>,\n",
       " 'io': <module 'io' from 'c:\\\\users\\\\rhie\\\\appdata\\\\local\\\\programs\\\\python\\\\python39\\\\lib\\\\io.py'>,\n",
       " '__main__': <module '__main__'>,\n",
       " '_stat': <module '_stat' (built-in)>,\n",
       " 'stat': <module 'stat' from 'c:\\\\users\\\\rhie\\\\appdata\\\\local\\\\programs\\\\python\\\\python39\\\\lib\\\\stat.py'>,\n",
       " '_collections_abc': <module '_collections_abc' from 'c:\\\\users\\\\rhie\\\\appdata\\\\local\\\\programs\\\\python\\\\python39\\\\lib\\\\_collections_abc.py'>,\n",
       " 'genericpath': <module 'genericpath' from 'c:\\\\users\\\\rhie\\\\appdata\\\\local\\\\programs\\\\python\\\\python39\\\\lib\\\\genericpath.py'>,\n",
       " 'ntpath': <module 'ntpath' from 'c:\\\\users\\\\rhie\\\\appdata\\\\local\\\\programs\\\\python\\\\python39\\\\lib\\\\ntpath.py'>,\n",
       " 'os.path': <module 'ntpath' from 'c:\\\\users\\\\rhie\\\\appdata\\\\local\\\\programs\\\\python\\\\python39\\\\lib\\\\ntpath.py'>,\n",
       " 'os': <module 'os' from 'c:\\\\users\\\\rhie\\\\appdata\\\\local\\\\programs\\\\python\\\\python39\\\\lib\\\\os.py'>,\n",
       " '_sitebuiltins': <module '_sitebuiltins' from 'c:\\\\users\\\\rhie\\\\appdata\\\\local\\\\programs\\\\python\\\\python39\\\\lib\\\\_sitebuiltins.py'>,\n",
       " '_locale': <module '_locale' (built-in)>,\n",
       " '_bootlocale': <module '_bootlocale' from 'c:\\\\users\\\\rhie\\\\appdata\\\\local\\\\programs\\\\python\\\\python39\\\\lib\\\\_bootlocale.py'>,\n",
       " 'pywin32_bootstrap': <module 'pywin32_bootstrap' from 'c:\\\\users\\\\rhie\\\\appdata\\\\local\\\\programs\\\\python\\\\python39\\\\lib\\\\site-packages\\\\win32\\\\lib\\\\pywin32_bootstrap.py'>,\n",
       " 'site': <module 'site' from 'c:\\\\users\\\\rhie\\\\appdata\\\\local\\\\programs\\\\python\\\\python39\\\\lib\\\\site.py'>,\n",
       " 'importlib._bootstrap': <module 'importlib._bootstrap' (frozen)>,\n",
       " 'importlib._bootstrap_external': <module 'importlib._bootstrap_external' (frozen)>,\n",
       " 'types': <module 'types' from 'c:\\\\users\\\\rhie\\\\appdata\\\\local\\\\programs\\\\python\\\\python39\\\\lib\\\\types.py'>,\n",
       " 'warnings': <module 'warnings' from 'c:\\\\users\\\\rhie\\\\appdata\\\\local\\\\programs\\\\python\\\\python39\\\\lib\\\\warnings.py'>,\n",
       " 'importlib': <module 'importlib' from 'c:\\\\users\\\\rhie\\\\appdata\\\\local\\\\programs\\\\python\\\\python39\\\\lib\\\\importlib\\\\__init__.py'>,\n",
       " 'importlib.machinery': <module 'importlib.machinery' from 'c:\\\\users\\\\rhie\\\\appdata\\\\local\\\\programs\\\\python\\\\python39\\\\lib\\\\importlib\\\\machinery.py'>,\n",
       " '_heapq': <module '_heapq' (built-in)>,\n",
       " 'heapq': <module 'heapq' from 'c:\\\\users\\\\rhie\\\\appdata\\\\local\\\\programs\\\\python\\\\python39\\\\lib\\\\heapq.py'>,\n",
       " 'itertools': <module 'itertools' (built-in)>,\n",
       " 'keyword': <module 'keyword' from 'c:\\\\users\\\\rhie\\\\appdata\\\\local\\\\programs\\\\python\\\\python39\\\\lib\\\\keyword.py'>,\n",
       " '_operator': <module '_operator' (built-in)>,\n",
       " 'operator': <module 'operator' from 'c:\\\\users\\\\rhie\\\\appdata\\\\local\\\\programs\\\\python\\\\python39\\\\lib\\\\operator.py'>,\n",
       " 'reprlib': <module 'reprlib' from 'c:\\\\users\\\\rhie\\\\appdata\\\\local\\\\programs\\\\python\\\\python39\\\\lib\\\\reprlib.py'>,\n",
       " '_collections': <module '_collections' (built-in)>,\n",
       " 'collections': <module 'collections' from 'c:\\\\users\\\\rhie\\\\appdata\\\\local\\\\programs\\\\python\\\\python39\\\\lib\\\\collections\\\\__init__.py'>,\n",
       " 'collections.abc': <module 'collections.abc' from 'c:\\\\users\\\\rhie\\\\appdata\\\\local\\\\programs\\\\python\\\\python39\\\\lib\\\\collections\\\\abc.py'>,\n",
       " '_functools': <module '_functools' (built-in)>,\n",
       " 'functools': <module 'functools' from 'c:\\\\users\\\\rhie\\\\appdata\\\\local\\\\programs\\\\python\\\\python39\\\\lib\\\\functools.py'>,\n",
       " 'contextlib': <module 'contextlib' from 'c:\\\\users\\\\rhie\\\\appdata\\\\local\\\\programs\\\\python\\\\python39\\\\lib\\\\contextlib.py'>,\n",
       " 'enum': <module 'enum' from 'c:\\\\users\\\\rhie\\\\appdata\\\\local\\\\programs\\\\python\\\\python39\\\\lib\\\\enum.py'>,\n",
       " '_sre': <module '_sre' (built-in)>,\n",
       " 'sre_constants': <module 'sre_constants' from 'c:\\\\users\\\\rhie\\\\appdata\\\\local\\\\programs\\\\python\\\\python39\\\\lib\\\\sre_constants.py'>,\n",
       " 'sre_parse': <module 'sre_parse' from 'c:\\\\users\\\\rhie\\\\appdata\\\\local\\\\programs\\\\python\\\\python39\\\\lib\\\\sre_parse.py'>,\n",
       " 'sre_compile': <module 'sre_compile' from 'c:\\\\users\\\\rhie\\\\appdata\\\\local\\\\programs\\\\python\\\\python39\\\\lib\\\\sre_compile.py'>,\n",
       " 'copyreg': <module 'copyreg' from 'c:\\\\users\\\\rhie\\\\appdata\\\\local\\\\programs\\\\python\\\\python39\\\\lib\\\\copyreg.py'>,\n",
       " 're': <module 're' from 'c:\\\\users\\\\rhie\\\\appdata\\\\local\\\\programs\\\\python\\\\python39\\\\lib\\\\re.py'>,\n",
       " 'typing.io': typing.io,\n",
       " 'typing.re': typing.re,\n",
       " 'typing': <module 'typing' from 'c:\\\\users\\\\rhie\\\\appdata\\\\local\\\\programs\\\\python\\\\python39\\\\lib\\\\typing.py'>,\n",
       " 'importlib.abc': <module 'importlib.abc' from 'c:\\\\users\\\\rhie\\\\appdata\\\\local\\\\programs\\\\python\\\\python39\\\\lib\\\\importlib\\\\abc.py'>,\n",
       " 'importlib.util': <module 'importlib.util' from 'c:\\\\users\\\\rhie\\\\appdata\\\\local\\\\programs\\\\python\\\\python39\\\\lib\\\\importlib\\\\util.py'>,\n",
       " '_weakrefset': <module '_weakrefset' from 'c:\\\\users\\\\rhie\\\\appdata\\\\local\\\\programs\\\\python\\\\python39\\\\lib\\\\_weakrefset.py'>,\n",
       " 'weakref': <module 'weakref' from 'c:\\\\users\\\\rhie\\\\appdata\\\\local\\\\programs\\\\python\\\\python39\\\\lib\\\\weakref.py'>,\n",
       " 'pkgutil': <module 'pkgutil' from 'c:\\\\users\\\\rhie\\\\appdata\\\\local\\\\programs\\\\python\\\\python39\\\\lib\\\\pkgutil.py'>,\n",
       " 'runpy': <module 'runpy' from 'c:\\\\users\\\\rhie\\\\appdata\\\\local\\\\programs\\\\python\\\\python39\\\\lib\\\\runpy.py'>,\n",
       " 'ipykernel._version': <module 'ipykernel._version' from 'c:\\\\users\\\\rhie\\\\appdata\\\\local\\\\programs\\\\python\\\\python39\\\\lib\\\\site-packages\\\\ipykernel\\\\_version.py'>,\n",
       " '_json': <module '_json' (built-in)>,\n",
       " 'json.scanner': <module 'json.scanner' from 'c:\\\\users\\\\rhie\\\\appdata\\\\local\\\\programs\\\\python\\\\python39\\\\lib\\\\json\\\\scanner.py'>,\n",
       " 'json.decoder': <module 'json.decoder' from 'c:\\\\users\\\\rhie\\\\appdata\\\\local\\\\programs\\\\python\\\\python39\\\\lib\\\\json\\\\decoder.py'>,\n",
       " 'json.encoder': <module 'json.encoder' from 'c:\\\\users\\\\rhie\\\\appdata\\\\local\\\\programs\\\\python\\\\python39\\\\lib\\\\json\\\\encoder.py'>,\n",
       " 'json': <module 'json' from 'c:\\\\users\\\\rhie\\\\appdata\\\\local\\\\programs\\\\python\\\\python39\\\\lib\\\\json\\\\__init__.py'>,\n",
       " 'errno': <module 'errno' (built-in)>,\n",
       " 'signal': <module 'signal' from 'c:\\\\users\\\\rhie\\\\appdata\\\\local\\\\programs\\\\python\\\\python39\\\\lib\\\\signal.py'>,\n",
       " 'threading': <module 'threading' from 'c:\\\\users\\\\rhie\\\\appdata\\\\local\\\\programs\\\\python\\\\python39\\\\lib\\\\threading.py'>,\n",
       " 'msvcrt': <module 'msvcrt' (built-in)>,\n",
       " '_winapi': <module '_winapi' (built-in)>,\n",
       " 'subprocess': <module 'subprocess' from 'c:\\\\users\\\\rhie\\\\appdata\\\\local\\\\programs\\\\python\\\\python39\\\\lib\\\\subprocess.py'>,\n",
       " 'IPython.core': <module 'IPython.core' from 'c:\\\\users\\\\rhie\\\\appdata\\\\local\\\\programs\\\\python\\\\python39\\\\lib\\\\site-packages\\\\IPython\\\\core\\\\__init__.py'>,\n",
       " 'IPython.core.getipython': <module 'IPython.core.getipython' from 'c:\\\\users\\\\rhie\\\\appdata\\\\local\\\\programs\\\\python\\\\python39\\\\lib\\\\site-packages\\\\IPython\\\\core\\\\getipython.py'>,\n",
       " 'IPython.core.release': <module 'IPython.core.release' from 'c:\\\\users\\\\rhie\\\\appdata\\\\local\\\\programs\\\\python\\\\python39\\\\lib\\\\site-packages\\\\IPython\\\\core\\\\release.py'>,\n",
       " 'atexit': <module 'atexit' (built-in)>,\n",
       " 'copy': <module 'copy' from 'c:\\\\users\\\\rhie\\\\appdata\\\\local\\\\programs\\\\python\\\\python39\\\\lib\\\\copy.py'>,\n",
       " 'posixpath': <module 'posixpath' from 'c:\\\\users\\\\rhie\\\\appdata\\\\local\\\\programs\\\\python\\\\python39\\\\lib\\\\posixpath.py'>,\n",
       " 'fnmatch': <module 'fnmatch' from 'c:\\\\users\\\\rhie\\\\appdata\\\\local\\\\programs\\\\python\\\\python39\\\\lib\\\\fnmatch.py'>,\n",
       " 'glob': <module 'glob' from 'c:\\\\users\\\\rhie\\\\appdata\\\\local\\\\programs\\\\python\\\\python39\\\\lib\\\\glob.py'>,\n",
       " 'token': <module 'token' from 'c:\\\\users\\\\rhie\\\\appdata\\\\local\\\\programs\\\\python\\\\python39\\\\lib\\\\token.py'>,\n",
       " 'tokenize': <module 'tokenize' from 'c:\\\\users\\\\rhie\\\\appdata\\\\local\\\\programs\\\\python\\\\python39\\\\lib\\\\tokenize.py'>,\n",
       " 'linecache': <module 'linecache' from 'c:\\\\users\\\\rhie\\\\appdata\\\\local\\\\programs\\\\python\\\\python39\\\\lib\\\\linecache.py'>,\n",
       " 'traceback': <module 'traceback' from 'c:\\\\users\\\\rhie\\\\appdata\\\\local\\\\programs\\\\python\\\\python39\\\\lib\\\\traceback.py'>,\n",
       " '_string': <module '_string' (built-in)>,\n",
       " 'string': <module 'string' from 'c:\\\\users\\\\rhie\\\\appdata\\\\local\\\\programs\\\\python\\\\python39\\\\lib\\\\string.py'>,\n",
       " 'logging': <module 'logging' from 'c:\\\\users\\\\rhie\\\\appdata\\\\local\\\\programs\\\\python\\\\python39\\\\lib\\\\logging\\\\__init__.py'>,\n",
       " 'zlib': <module 'zlib' (built-in)>,\n",
       " '_compression': <module '_compression' from 'c:\\\\users\\\\rhie\\\\appdata\\\\local\\\\programs\\\\python\\\\python39\\\\lib\\\\_compression.py'>,\n",
       " '_bz2': <module '_bz2' from 'c:\\\\users\\\\rhie\\\\appdata\\\\local\\\\programs\\\\python\\\\python39\\\\DLLs\\\\_bz2.pyd'>,\n",
       " 'bz2': <module 'bz2' from 'c:\\\\users\\\\rhie\\\\appdata\\\\local\\\\programs\\\\python\\\\python39\\\\lib\\\\bz2.py'>,\n",
       " '_lzma': <module '_lzma' from 'c:\\\\users\\\\rhie\\\\appdata\\\\local\\\\programs\\\\python\\\\python39\\\\DLLs\\\\_lzma.pyd'>,\n",
       " 'lzma': <module 'lzma' from 'c:\\\\users\\\\rhie\\\\appdata\\\\local\\\\programs\\\\python\\\\python39\\\\lib\\\\lzma.py'>,\n",
       " 'shutil': <module 'shutil' from 'c:\\\\users\\\\rhie\\\\appdata\\\\local\\\\programs\\\\python\\\\python39\\\\lib\\\\shutil.py'>,\n",
       " '_ast': <module '_ast' (built-in)>,\n",
       " 'ast': <module 'ast' from 'c:\\\\users\\\\rhie\\\\appdata\\\\local\\\\programs\\\\python\\\\python39\\\\lib\\\\ast.py'>,\n",
       " '_opcode': <module '_opcode' (built-in)>,\n",
       " 'opcode': <module 'opcode' from 'c:\\\\users\\\\rhie\\\\appdata\\\\local\\\\programs\\\\python\\\\python39\\\\lib\\\\opcode.py'>,\n",
       " 'dis': <module 'dis' from 'c:\\\\users\\\\rhie\\\\appdata\\\\local\\\\programs\\\\python\\\\python39\\\\lib\\\\dis.py'>,\n",
       " 'inspect': <module 'inspect' from 'c:\\\\users\\\\rhie\\\\appdata\\\\local\\\\programs\\\\python\\\\python39\\\\lib\\\\inspect.py'>,\n",
       " 'traitlets.utils': <module 'traitlets.utils' from 'c:\\\\users\\\\rhie\\\\appdata\\\\local\\\\programs\\\\python\\\\python39\\\\lib\\\\site-packages\\\\traitlets\\\\utils\\\\__init__.py'>,\n",
       " 'traitlets.utils.getargspec': <module 'traitlets.utils.getargspec' from 'c:\\\\users\\\\rhie\\\\appdata\\\\local\\\\programs\\\\python\\\\python39\\\\lib\\\\site-packages\\\\traitlets\\\\utils\\\\getargspec.py'>,\n",
       " 'traitlets.utils.importstring': <module 'traitlets.utils.importstring' from 'c:\\\\users\\\\rhie\\\\appdata\\\\local\\\\programs\\\\python\\\\python39\\\\lib\\\\site-packages\\\\traitlets\\\\utils\\\\importstring.py'>,\n",
       " 'traitlets.utils.sentinel': <module 'traitlets.utils.sentinel' from 'c:\\\\users\\\\rhie\\\\appdata\\\\local\\\\programs\\\\python\\\\python39\\\\lib\\\\site-packages\\\\traitlets\\\\utils\\\\sentinel.py'>,\n",
       " 'traitlets.utils.bunch': <module 'traitlets.utils.bunch' from 'c:\\\\users\\\\rhie\\\\appdata\\\\local\\\\programs\\\\python\\\\python39\\\\lib\\\\site-packages\\\\traitlets\\\\utils\\\\bunch.py'>,\n",
       " 'traitlets.utils.descriptions': <module 'traitlets.utils.descriptions' from 'c:\\\\users\\\\rhie\\\\appdata\\\\local\\\\programs\\\\python\\\\python39\\\\lib\\\\site-packages\\\\traitlets\\\\utils\\\\descriptions.py'>,\n",
       " 'traitlets.traitlets': <module 'traitlets.traitlets' from 'c:\\\\users\\\\rhie\\\\appdata\\\\local\\\\programs\\\\python\\\\python39\\\\lib\\\\site-packages\\\\traitlets\\\\traitlets.py'>,\n",
       " 'traitlets.utils.decorators': <module 'traitlets.utils.decorators' from 'c:\\\\users\\\\rhie\\\\appdata\\\\local\\\\programs\\\\python\\\\python39\\\\lib\\\\site-packages\\\\traitlets\\\\utils\\\\decorators.py'>,\n",
       " 'traitlets._version': <module 'traitlets._version' from 'c:\\\\users\\\\rhie\\\\appdata\\\\local\\\\programs\\\\python\\\\python39\\\\lib\\\\site-packages\\\\traitlets\\\\_version.py'>,\n",
       " 'traitlets': <module 'traitlets' from 'c:\\\\users\\\\rhie\\\\appdata\\\\local\\\\programs\\\\python\\\\python39\\\\lib\\\\site-packages\\\\traitlets\\\\__init__.py'>,\n",
       " 'pprint': <module 'pprint' from 'c:\\\\users\\\\rhie\\\\appdata\\\\local\\\\programs\\\\python\\\\python39\\\\lib\\\\pprint.py'>,\n",
       " 'gettext': <module 'gettext' from 'c:\\\\users\\\\rhie\\\\appdata\\\\local\\\\programs\\\\python\\\\python39\\\\lib\\\\gettext.py'>,\n",
       " 'argparse': <module 'argparse' from 'c:\\\\users\\\\rhie\\\\appdata\\\\local\\\\programs\\\\python\\\\python39\\\\lib\\\\argparse.py'>,\n",
       " 'ipython_genutils._version': <module 'ipython_genutils._version' from 'c:\\\\users\\\\rhie\\\\appdata\\\\local\\\\programs\\\\python\\\\python39\\\\lib\\\\site-packages\\\\ipython_genutils\\\\_version.py'>,\n",
       " 'ipython_genutils': <module 'ipython_genutils' from 'c:\\\\users\\\\rhie\\\\appdata\\\\local\\\\programs\\\\python\\\\python39\\\\lib\\\\site-packages\\\\ipython_genutils\\\\__init__.py'>,\n",
       " 'math': <module 'math' (built-in)>,\n",
       " '_bisect': <module '_bisect' (built-in)>,\n",
       " 'bisect': <module 'bisect' from 'c:\\\\users\\\\rhie\\\\appdata\\\\local\\\\programs\\\\python\\\\python39\\\\lib\\\\bisect.py'>,\n",
       " '_random': <module '_random' (built-in)>,\n",
       " '_sha512': <module '_sha512' (built-in)>,\n",
       " 'random': <module 'random' from 'c:\\\\users\\\\rhie\\\\appdata\\\\local\\\\programs\\\\python\\\\python39\\\\lib\\\\random.py'>,\n",
       " 'locale': <module 'locale' from 'c:\\\\users\\\\rhie\\\\appdata\\\\local\\\\programs\\\\python\\\\python39\\\\lib\\\\locale.py'>,\n",
       " 'ipython_genutils.encoding': <module 'ipython_genutils.encoding' from 'c:\\\\users\\\\rhie\\\\appdata\\\\local\\\\programs\\\\python\\\\python39\\\\lib\\\\site-packages\\\\ipython_genutils\\\\encoding.py'>,\n",
       " 'platform': <module 'platform' from 'c:\\\\users\\\\rhie\\\\appdata\\\\local\\\\programs\\\\python\\\\python39\\\\lib\\\\platform.py'>,\n",
       " 'ipython_genutils.py3compat': <module 'ipython_genutils.py3compat' from 'c:\\\\users\\\\rhie\\\\appdata\\\\local\\\\programs\\\\python\\\\python39\\\\lib\\\\site-packages\\\\ipython_genutils\\\\py3compat.py'>,\n",
       " 'ipython_genutils.path': <module 'ipython_genutils.path' from 'c:\\\\users\\\\rhie\\\\appdata\\\\local\\\\programs\\\\python\\\\python39\\\\lib\\\\site-packages\\\\ipython_genutils\\\\path.py'>,\n",
       " 'traitlets.config.loader': <module 'traitlets.config.loader' from 'c:\\\\users\\\\rhie\\\\appdata\\\\local\\\\programs\\\\python\\\\python39\\\\lib\\\\site-packages\\\\traitlets\\\\config\\\\loader.py'>,\n",
       " 'textwrap': <module 'textwrap' from 'c:\\\\users\\\\rhie\\\\appdata\\\\local\\\\programs\\\\python\\\\python39\\\\lib\\\\textwrap.py'>,\n",
       " 'ipython_genutils.text': <module 'ipython_genutils.text' from 'c:\\\\users\\\\rhie\\\\appdata\\\\local\\\\programs\\\\python\\\\python39\\\\lib\\\\site-packages\\\\ipython_genutils\\\\text.py'>,\n",
       " 'traitlets.config.configurable': <module 'traitlets.config.configurable' from 'c:\\\\users\\\\rhie\\\\appdata\\\\local\\\\programs\\\\python\\\\python39\\\\lib\\\\site-packages\\\\traitlets\\\\config\\\\configurable.py'>,\n",
       " 'traitlets.config.application': <module 'traitlets.config.application' from 'c:\\\\users\\\\rhie\\\\appdata\\\\local\\\\programs\\\\python\\\\python39\\\\lib\\\\site-packages\\\\traitlets\\\\config\\\\application.py'>,\n",
       " 'traitlets.config': <module 'traitlets.config' from 'c:\\\\users\\\\rhie\\\\appdata\\\\local\\\\programs\\\\python\\\\python39\\\\lib\\\\site-packages\\\\traitlets\\\\config\\\\__init__.py'>,\n",
       " 'sysconfig': <module 'sysconfig' from 'c:\\\\users\\\\rhie\\\\appdata\\\\local\\\\programs\\\\python\\\\python39\\\\lib\\\\sysconfig.py'>,\n",
       " 'urllib': <module 'urllib' from 'c:\\\\users\\\\rhie\\\\appdata\\\\local\\\\programs\\\\python\\\\python39\\\\lib\\\\urllib\\\\__init__.py'>,\n",
       " 'urllib.parse': <module 'urllib.parse' from 'c:\\\\users\\\\rhie\\\\appdata\\\\local\\\\programs\\\\python\\\\python39\\\\lib\\\\urllib\\\\parse.py'>,\n",
       " 'pydoc': <module 'pydoc' from 'c:\\\\users\\\\rhie\\\\appdata\\\\local\\\\programs\\\\python\\\\python39\\\\lib\\\\pydoc.py'>,\n",
       " 'bdb': <module 'bdb' from 'c:\\\\users\\\\rhie\\\\appdata\\\\local\\\\programs\\\\python\\\\python39\\\\lib\\\\bdb.py'>,\n",
       " 'IPython.utils': <module 'IPython.utils' from 'c:\\\\users\\\\rhie\\\\appdata\\\\local\\\\programs\\\\python\\\\python39\\\\lib\\\\site-packages\\\\IPython\\\\utils\\\\__init__.py'>,\n",
       " 'IPython.utils.ipstruct': <module 'IPython.utils.ipstruct' from 'c:\\\\users\\\\rhie\\\\appdata\\\\local\\\\programs\\\\python\\\\python39\\\\lib\\\\site-packages\\\\IPython\\\\utils\\\\ipstruct.py'>,\n",
       " 'IPython.utils.coloransi': <module 'IPython.utils.coloransi' from 'c:\\\\users\\\\rhie\\\\appdata\\\\local\\\\programs\\\\python\\\\python39\\\\lib\\\\site-packages\\\\IPython\\\\utils\\\\coloransi.py'>,\n",
       " 'pygments': <module 'pygments' from 'c:\\\\users\\\\rhie\\\\appdata\\\\local\\\\programs\\\\python\\\\python39\\\\lib\\\\site-packages\\\\pygments\\\\__init__.py'>,\n",
       " 'IPython.utils.colorable': <module 'IPython.utils.colorable' from 'c:\\\\users\\\\rhie\\\\appdata\\\\local\\\\programs\\\\python\\\\python39\\\\lib\\\\site-packages\\\\IPython\\\\utils\\\\colorable.py'>,\n",
       " 'IPython.utils.PyColorize': <module 'IPython.utils.PyColorize' from 'c:\\\\users\\\\rhie\\\\appdata\\\\local\\\\programs\\\\python\\\\python39\\\\lib\\\\site-packages\\\\IPython\\\\utils\\\\PyColorize.py'>,\n",
       " 'IPython.utils.encoding': <module 'IPython.utils.encoding' from 'c:\\\\users\\\\rhie\\\\appdata\\\\local\\\\programs\\\\python\\\\python39\\\\lib\\\\site-packages\\\\IPython\\\\utils\\\\encoding.py'>,\n",
       " 'IPython.utils.py3compat': <module 'IPython.utils.py3compat' from 'c:\\\\users\\\\rhie\\\\appdata\\\\local\\\\programs\\\\python\\\\python39\\\\lib\\\\site-packages\\\\IPython\\\\utils\\\\py3compat.py'>,\n",
       " 'IPython.core.excolors': <module 'IPython.core.excolors' from 'c:\\\\users\\\\rhie\\\\appdata\\\\local\\\\programs\\\\python\\\\python39\\\\lib\\\\site-packages\\\\IPython\\\\core\\\\excolors.py'>,\n",
       " 'IPython.testing': <module 'IPython.testing' from 'c:\\\\users\\\\rhie\\\\appdata\\\\local\\\\programs\\\\python\\\\python39\\\\lib\\\\site-packages\\\\IPython\\\\testing\\\\__init__.py'>,\n",
       " 'IPython.testing.skipdoctest': <module 'IPython.testing.skipdoctest' from 'c:\\\\users\\\\rhie\\\\appdata\\\\local\\\\programs\\\\python\\\\python39\\\\lib\\\\site-packages\\\\IPython\\\\testing\\\\skipdoctest.py'>,\n",
       " 'cmd': <module 'cmd' from 'c:\\\\users\\\\rhie\\\\appdata\\\\local\\\\programs\\\\python\\\\python39\\\\lib\\\\cmd.py'>,\n",
       " '__future__': <module '__future__' from 'c:\\\\users\\\\rhie\\\\appdata\\\\local\\\\programs\\\\python\\\\python39\\\\lib\\\\__future__.py'>,\n",
       " 'codeop': <module 'codeop' from 'c:\\\\users\\\\rhie\\\\appdata\\\\local\\\\programs\\\\python\\\\python39\\\\lib\\\\codeop.py'>,\n",
       " 'code': <module 'code' from 'c:\\\\users\\\\rhie\\\\appdata\\\\local\\\\programs\\\\python\\\\python39\\\\lib\\\\code.py'>,\n",
       " 'pdb': <module 'pdb' from 'c:\\\\users\\\\rhie\\\\appdata\\\\local\\\\programs\\\\python\\\\python39\\\\lib\\\\pdb.py'>,\n",
       " 'IPython.core.debugger': <module 'IPython.core.debugger' from 'c:\\\\users\\\\rhie\\\\appdata\\\\local\\\\programs\\\\python\\\\python39\\\\lib\\\\site-packages\\\\IPython\\\\core\\\\debugger.py'>,\n",
       " 'IPython.core.display_trap': <module 'IPython.core.display_trap' from 'c:\\\\users\\\\rhie\\\\appdata\\\\local\\\\programs\\\\python\\\\python39\\\\lib\\\\site-packages\\\\IPython\\\\core\\\\display_trap.py'>,\n",
       " '_ctypes': <module '_ctypes' from 'c:\\\\users\\\\rhie\\\\appdata\\\\local\\\\programs\\\\python\\\\python39\\\\DLLs\\\\_ctypes.pyd'>,\n",
       " '_struct': <module '_struct' (built-in)>,\n",
       " 'struct': <module 'struct' from 'c:\\\\users\\\\rhie\\\\appdata\\\\local\\\\programs\\\\python\\\\python39\\\\lib\\\\struct.py'>,\n",
       " 'ctypes._endian': <module 'ctypes._endian' from 'c:\\\\users\\\\rhie\\\\appdata\\\\local\\\\programs\\\\python\\\\python39\\\\lib\\\\ctypes\\\\_endian.py'>,\n",
       " 'ctypes': <module 'ctypes' from 'c:\\\\users\\\\rhie\\\\appdata\\\\local\\\\programs\\\\python\\\\python39\\\\lib\\\\ctypes\\\\__init__.py'>,\n",
       " 'ctypes.wintypes': <module 'ctypes.wintypes' from 'c:\\\\users\\\\rhie\\\\appdata\\\\local\\\\programs\\\\python\\\\python39\\\\lib\\\\ctypes\\\\wintypes.py'>,\n",
       " 'shlex': <module 'shlex' from 'c:\\\\users\\\\rhie\\\\appdata\\\\local\\\\programs\\\\python\\\\python39\\\\lib\\\\shlex.py'>,\n",
       " 'IPython.utils._process_common': <module 'IPython.utils._process_common' from 'c:\\\\users\\\\rhie\\\\appdata\\\\local\\\\programs\\\\python\\\\python39\\\\lib\\\\site-packages\\\\IPython\\\\utils\\\\_process_common.py'>,\n",
       " 'IPython.utils._process_win32': <module 'IPython.utils._process_win32' from 'c:\\\\users\\\\rhie\\\\appdata\\\\local\\\\programs\\\\python\\\\python39\\\\lib\\\\site-packages\\\\IPython\\\\utils\\\\_process_win32.py'>,\n",
       " 'IPython.utils.process': <module 'IPython.utils.process' from 'c:\\\\users\\\\rhie\\\\appdata\\\\local\\\\programs\\\\python\\\\python39\\\\lib\\\\site-packages\\\\IPython\\\\utils\\\\process.py'>,\n",
       " 'IPython.utils.decorators': <module 'IPython.utils.decorators' from 'c:\\\\users\\\\rhie\\\\appdata\\\\local\\\\programs\\\\python\\\\python39\\\\lib\\\\site-packages\\\\IPython\\\\utils\\\\decorators.py'>,\n",
       " 'IPython.utils.path': <module 'IPython.utils.path' from 'c:\\\\users\\\\rhie\\\\appdata\\\\local\\\\programs\\\\python\\\\python39\\\\lib\\\\site-packages\\\\IPython\\\\utils\\\\path.py'>,\n",
       " 'IPython.utils.data': <module 'IPython.utils.data' from 'c:\\\\users\\\\rhie\\\\appdata\\\\local\\\\programs\\\\python\\\\python39\\\\lib\\\\site-packages\\\\IPython\\\\utils\\\\data.py'>,\n",
       " 'IPython.utils.terminal': <module 'IPython.utils.terminal' from 'c:\\\\users\\\\rhie\\\\appdata\\\\local\\\\programs\\\\python\\\\python39\\\\lib\\\\site-packages\\\\IPython\\\\utils\\\\terminal.py'>,\n",
       " 'IPython.core.ultratb': <module 'IPython.core.ultratb' from 'c:\\\\users\\\\rhie\\\\appdata\\\\local\\\\programs\\\\python\\\\python39\\\\lib\\\\site-packages\\\\IPython\\\\core\\\\ultratb.py'>,\n",
       " 'IPython.utils._sysinfo': <module 'IPython.utils._sysinfo' from 'c:\\\\users\\\\rhie\\\\appdata\\\\local\\\\programs\\\\python\\\\python39\\\\lib\\\\site-packages\\\\IPython\\\\utils\\\\_sysinfo.py'>,\n",
       " 'IPython.utils.sysinfo': <module 'IPython.utils.sysinfo' from 'c:\\\\users\\\\rhie\\\\appdata\\\\local\\\\programs\\\\python\\\\python39\\\\lib\\\\site-packages\\\\IPython\\\\utils\\\\sysinfo.py'>,\n",
       " 'IPython.core.crashhandler': <module 'IPython.core.crashhandler' from 'c:\\\\users\\\\rhie\\\\appdata\\\\local\\\\programs\\\\python\\\\python39\\\\lib\\\\site-packages\\\\IPython\\\\core\\\\crashhandler.py'>,\n",
       " 'tempfile': <module 'tempfile' from 'c:\\\\users\\\\rhie\\\\appdata\\\\local\\\\programs\\\\python\\\\python39\\\\lib\\\\tempfile.py'>,\n",
       " 'IPython.utils.importstring': <module 'IPython.utils.importstring' from 'c:\\\\users\\\\rhie\\\\appdata\\\\local\\\\programs\\\\python\\\\python39\\\\lib\\\\site-packages\\\\IPython\\\\utils\\\\importstring.py'>,\n",
       " 'IPython.paths': <module 'IPython.paths' from 'c:\\\\users\\\\rhie\\\\appdata\\\\local\\\\programs\\\\python\\\\python39\\\\lib\\\\site-packages\\\\IPython\\\\paths.py'>,\n",
       " 'IPython.core.profiledir': <module 'IPython.core.profiledir' from 'c:\\\\users\\\\rhie\\\\appdata\\\\local\\\\programs\\\\python\\\\python39\\\\lib\\\\site-packages\\\\IPython\\\\core\\\\profiledir.py'>,\n",
       " 'IPython.core.application': <module 'IPython.core.application' from 'c:\\\\users\\\\rhie\\\\appdata\\\\local\\\\programs\\\\python\\\\python39\\\\lib\\\\site-packages\\\\IPython\\\\core\\\\application.py'>,\n",
       " 'IPython.terminal': <module 'IPython.terminal' from 'c:\\\\users\\\\rhie\\\\appdata\\\\local\\\\programs\\\\python\\\\python39\\\\lib\\\\site-packages\\\\IPython\\\\terminal\\\\__init__.py'>,\n",
       " '_hashlib': <module '_hashlib' from 'c:\\\\users\\\\rhie\\\\appdata\\\\local\\\\programs\\\\python\\\\python39\\\\DLLs\\\\_hashlib.pyd'>,\n",
       " '_blake2': <module '_blake2' (built-in)>,\n",
       " 'hashlib': <module 'hashlib' from 'c:\\\\users\\\\rhie\\\\appdata\\\\local\\\\programs\\\\python\\\\python39\\\\lib\\\\hashlib.py'>,\n",
       " 'IPython.core.compilerop': <module 'IPython.core.compilerop' from 'c:\\\\users\\\\rhie\\\\appdata\\\\local\\\\programs\\\\python\\\\python39\\\\lib\\\\site-packages\\\\IPython\\\\core\\\\compilerop.py'>,\n",
       " 'IPython.core.error': <module 'IPython.core.error' from 'c:\\\\users\\\\rhie\\\\appdata\\\\local\\\\programs\\\\python\\\\python39\\\\lib\\\\site-packages\\\\IPython\\\\core\\\\error.py'>,\n",
       " 'pathlib': <module 'pathlib' from 'c:\\\\users\\\\rhie\\\\appdata\\\\local\\\\programs\\\\python\\\\python39\\\\lib\\\\pathlib.py'>,\n",
       " 'IPython.utils.text': <module 'IPython.utils.text' from 'c:\\\\users\\\\rhie\\\\appdata\\\\local\\\\programs\\\\python\\\\python39\\\\lib\\\\site-packages\\\\IPython\\\\utils\\\\text.py'>,\n",
       " 'IPython.core.magic_arguments': <module 'IPython.core.magic_arguments' from 'c:\\\\users\\\\rhie\\\\appdata\\\\local\\\\programs\\\\python\\\\python39\\\\lib\\\\site-packages\\\\IPython\\\\core\\\\magic_arguments.py'>,\n",
       " 'getopt': <module 'getopt' from 'c:\\\\users\\\\rhie\\\\appdata\\\\local\\\\programs\\\\python\\\\python39\\\\lib\\\\getopt.py'>,\n",
       " 'binascii': <module 'binascii' (built-in)>,\n",
       " 'mimetypes': <module 'mimetypes' from 'c:\\\\users\\\\rhie\\\\appdata\\\\local\\\\programs\\\\python\\\\python39\\\\lib\\\\mimetypes.py'>,\n",
       " 'IPython.core.display': <module 'IPython.core.display' from 'c:\\\\users\\\\rhie\\\\appdata\\\\local\\\\programs\\\\python\\\\python39\\\\lib\\\\site-packages\\\\IPython\\\\core\\\\display.py'>,\n",
       " 'IPython.core.page': <module 'IPython.core.page' from 'c:\\\\users\\\\rhie\\\\appdata\\\\local\\\\programs\\\\python\\\\python39\\\\lib\\\\site-packages\\\\IPython\\\\core\\\\page.py'>,\n",
       " 'getpass': <module 'getpass' from 'c:\\\\users\\\\rhie\\\\appdata\\\\local\\\\programs\\\\python\\\\python39\\\\lib\\\\getpass.py'>,\n",
       " 'IPython.lib.security': <module 'IPython.lib.security' from 'c:\\\\users\\\\rhie\\\\appdata\\\\local\\\\programs\\\\python\\\\python39\\\\lib\\\\site-packages\\\\IPython\\\\lib\\\\security.py'>,\n",
       " 'IPython.lib': <module 'IPython.lib' from 'c:\\\\users\\\\rhie\\\\appdata\\\\local\\\\programs\\\\python\\\\python39\\\\lib\\\\site-packages\\\\IPython\\\\lib\\\\__init__.py'>,\n",
       " '_datetime': <module '_datetime' (built-in)>,\n",
       " 'datetime': <module 'datetime' from 'c:\\\\users\\\\rhie\\\\appdata\\\\local\\\\programs\\\\python\\\\python39\\\\lib\\\\datetime.py'>,\n",
       " 'IPython.lib.pretty': <module 'IPython.lib.pretty' from 'c:\\\\users\\\\rhie\\\\appdata\\\\local\\\\programs\\\\python\\\\python39\\\\lib\\\\site-packages\\\\IPython\\\\lib\\\\pretty.py'>,\n",
       " 'IPython.utils.openpy': <module 'IPython.utils.openpy' from 'c:\\\\users\\\\rhie\\\\appdata\\\\local\\\\programs\\\\python\\\\python39\\\\lib\\\\site-packages\\\\IPython\\\\utils\\\\openpy.py'>,\n",
       " 'IPython.utils.dir2': <module 'IPython.utils.dir2' from 'c:\\\\users\\\\rhie\\\\appdata\\\\local\\\\programs\\\\python\\\\python39\\\\lib\\\\site-packages\\\\IPython\\\\utils\\\\dir2.py'>,\n",
       " 'IPython.utils.wildcard': <module 'IPython.utils.wildcard' from 'c:\\\\users\\\\rhie\\\\appdata\\\\local\\\\programs\\\\python\\\\python39\\\\lib\\\\site-packages\\\\IPython\\\\utils\\\\wildcard.py'>,\n",
       " 'pygments.lexers._mapping': <module 'pygments.lexers._mapping' from 'c:\\\\users\\\\rhie\\\\appdata\\\\local\\\\programs\\\\python\\\\python39\\\\lib\\\\site-packages\\\\pygments\\\\lexers\\\\_mapping.py'>,\n",
       " 'pygments.modeline': <module 'pygments.modeline' from 'c:\\\\users\\\\rhie\\\\appdata\\\\local\\\\programs\\\\python\\\\python39\\\\lib\\\\site-packages\\\\pygments\\\\modeline.py'>,\n",
       " 'pygments.plugin': <module 'pygments.plugin' from 'c:\\\\users\\\\rhie\\\\appdata\\\\local\\\\programs\\\\python\\\\python39\\\\lib\\\\site-packages\\\\pygments\\\\plugin.py'>,\n",
       " 'pygments.util': <module 'pygments.util' from 'c:\\\\users\\\\rhie\\\\appdata\\\\local\\\\programs\\\\python\\\\python39\\\\lib\\\\site-packages\\\\pygments\\\\util.py'>,\n",
       " 'pygments.lexers': <module 'pygments.lexers' from 'c:\\\\users\\\\rhie\\\\appdata\\\\local\\\\programs\\\\python\\\\python39\\\\lib\\\\site-packages\\\\pygments\\\\lexers\\\\__init__.py'>,\n",
       " 'pygments.filter': <module 'pygments.filter' from 'c:\\\\users\\\\rhie\\\\appdata\\\\local\\\\programs\\\\python\\\\python39\\\\lib\\\\site-packages\\\\pygments\\\\filter.py'>,\n",
       " 'pygments.token': <module 'pygments.token' from 'c:\\\\users\\\\rhie\\\\appdata\\\\local\\\\programs\\\\python\\\\python39\\\\lib\\\\site-packages\\\\pygments\\\\token.py'>,\n",
       " 'pygments.filters': <module 'pygments.filters' from 'c:\\\\users\\\\rhie\\\\appdata\\\\local\\\\programs\\\\python\\\\python39\\\\lib\\\\site-packages\\\\pygments\\\\filters\\\\__init__.py'>,\n",
       " 'pygments.regexopt': <module 'pygments.regexopt' from 'c:\\\\users\\\\rhie\\\\appdata\\\\local\\\\programs\\\\python\\\\python39\\\\lib\\\\site-packages\\\\pygments\\\\regexopt.py'>,\n",
       " 'pygments.lexer': <module 'pygments.lexer' from 'c:\\\\users\\\\rhie\\\\appdata\\\\local\\\\programs\\\\python\\\\python39\\\\lib\\\\site-packages\\\\pygments\\\\lexer.py'>,\n",
       " 'pygments.unistring': <module 'pygments.unistring' from 'c:\\\\users\\\\rhie\\\\appdata\\\\local\\\\programs\\\\python\\\\python39\\\\lib\\\\site-packages\\\\pygments\\\\unistring.py'>,\n",
       " 'pygments.lexers.python': <module 'pygments.lexers.python' from 'c:\\\\users\\\\rhie\\\\appdata\\\\local\\\\programs\\\\python\\\\python39\\\\lib\\\\site-packages\\\\pygments\\\\lexers\\\\python.py'>,\n",
       " 'pygments.formatters._mapping': <module 'pygments.formatters._mapping' from 'c:\\\\users\\\\rhie\\\\appdata\\\\local\\\\programs\\\\python\\\\python39\\\\lib\\\\site-packages\\\\pygments\\\\formatters\\\\_mapping.py'>,\n",
       " 'pygments.formatters': <module 'pygments.formatters' from 'c:\\\\users\\\\rhie\\\\appdata\\\\local\\\\programs\\\\python\\\\python39\\\\lib\\\\site-packages\\\\pygments\\\\formatters\\\\__init__.py'>,\n",
       " 'pygments.styles': <module 'pygments.styles' from 'c:\\\\users\\\\rhie\\\\appdata\\\\local\\\\programs\\\\python\\\\python39\\\\lib\\\\site-packages\\\\pygments\\\\styles\\\\__init__.py'>,\n",
       " 'pygments.formatter': <module 'pygments.formatter' from 'c:\\\\users\\\\rhie\\\\appdata\\\\local\\\\programs\\\\python\\\\python39\\\\lib\\\\site-packages\\\\pygments\\\\formatter.py'>,\n",
       " 'pygments.formatters.html': <module 'pygments.formatters.html' from 'c:\\\\users\\\\rhie\\\\appdata\\\\local\\\\programs\\\\python\\\\python39\\\\lib\\\\site-packages\\\\pygments\\\\formatters\\\\html.py'>,\n",
       " 'IPython.core.oinspect': <module 'IPython.core.oinspect' from 'c:\\\\users\\\\rhie\\\\appdata\\\\local\\\\programs\\\\python\\\\python39\\\\lib\\\\site-packages\\\\IPython\\\\core\\\\oinspect.py'>,\n",
       " 'IPython.core.inputtransformer2': <module 'IPython.core.inputtransformer2' from 'c:\\\\users\\\\rhie\\\\appdata\\\\local\\\\programs\\\\python\\\\python39\\\\lib\\\\site-packages\\\\IPython\\\\core\\\\inputtransformer2.py'>,\n",
       " 'decorator': <module 'decorator' from 'c:\\\\users\\\\rhie\\\\appdata\\\\local\\\\programs\\\\python\\\\python39\\\\lib\\\\site-packages\\\\decorator.py'>,\n",
       " 'IPython.core.magic': <module 'IPython.core.magic' from 'c:\\\\users\\\\rhie\\\\appdata\\\\local\\\\programs\\\\python\\\\python39\\\\lib\\\\site-packages\\\\IPython\\\\core\\\\magic.py'>,\n",
       " '_compat_pickle': <module '_compat_pickle' from 'c:\\\\users\\\\rhie\\\\appdata\\\\local\\\\programs\\\\python\\\\python39\\\\lib\\\\_compat_pickle.py'>,\n",
       " '_pickle': <module '_pickle' (built-in)>,\n",
       " 'pickle': <module 'pickle' from 'c:\\\\users\\\\rhie\\\\appdata\\\\local\\\\programs\\\\python\\\\python39\\\\lib\\\\pickle.py'>,\n",
       " 'pickleshare': <module 'pickleshare' from 'c:\\\\users\\\\rhie\\\\appdata\\\\local\\\\programs\\\\python\\\\python39\\\\lib\\\\site-packages\\\\pickleshare.py'>,\n",
       " 'IPython.core.autocall': <module 'IPython.core.autocall' from 'c:\\\\users\\\\rhie\\\\appdata\\\\local\\\\programs\\\\python\\\\python39\\\\lib\\\\site-packages\\\\IPython\\\\core\\\\autocall.py'>,\n",
       " 'IPython.core.macro': <module 'IPython.core.macro' from 'c:\\\\users\\\\rhie\\\\appdata\\\\local\\\\programs\\\\python\\\\python39\\\\lib\\\\site-packages\\\\IPython\\\\core\\\\macro.py'>,\n",
       " 'IPython.core.splitinput': <module 'IPython.core.splitinput' from 'c:\\\\users\\\\rhie\\\\appdata\\\\local\\\\programs\\\\python\\\\python39\\\\lib\\\\site-packages\\\\IPython\\\\core\\\\splitinput.py'>,\n",
       " 'IPython.core.prefilter': <module 'IPython.core.prefilter' from 'c:\\\\users\\\\rhie\\\\appdata\\\\local\\\\programs\\\\python\\\\python39\\\\lib\\\\site-packages\\\\IPython\\\\core\\\\prefilter.py'>,\n",
       " 'IPython.core.alias': <module 'IPython.core.alias' from 'c:\\\\users\\\\rhie\\\\appdata\\\\local\\\\programs\\\\python\\\\python39\\\\lib\\\\site-packages\\\\IPython\\\\core\\\\alias.py'>,\n",
       " 'IPython.core.builtin_trap': <module 'IPython.core.builtin_trap' from 'c:\\\\users\\\\rhie\\\\appdata\\\\local\\\\programs\\\\python\\\\python39\\\\lib\\\\site-packages\\\\IPython\\\\core\\\\builtin_trap.py'>,\n",
       " 'backcall.backcall': <module 'backcall.backcall' from 'c:\\\\users\\\\rhie\\\\appdata\\\\local\\\\programs\\\\python\\\\python39\\\\lib\\\\site-packages\\\\backcall\\\\backcall.py'>,\n",
       " 'backcall': <module 'backcall' from 'c:\\\\users\\\\rhie\\\\appdata\\\\local\\\\programs\\\\python\\\\python39\\\\lib\\\\site-packages\\\\backcall\\\\__init__.py'>,\n",
       " 'IPython.core.events': <module 'IPython.core.events' from 'c:\\\\users\\\\rhie\\\\appdata\\\\local\\\\programs\\\\python\\\\python39\\\\lib\\\\site-packages\\\\IPython\\\\core\\\\events.py'>,\n",
       " 'IPython.core.displayhook': <module 'IPython.core.displayhook' from 'c:\\\\users\\\\rhie\\\\appdata\\\\local\\\\programs\\\\python\\\\python39\\\\lib\\\\site-packages\\\\IPython\\\\core\\\\displayhook.py'>,\n",
       " 'IPython.core.displaypub': <module 'IPython.core.displaypub' from 'c:\\\\users\\\\rhie\\\\appdata\\\\local\\\\programs\\\\python\\\\python39\\\\lib\\\\site-packages\\\\IPython\\\\core\\\\displaypub.py'>,\n",
       " 'IPython.core.extensions': <module 'IPython.core.extensions' from 'c:\\\\users\\\\rhie\\\\appdata\\\\local\\\\programs\\\\python\\\\python39\\\\lib\\\\site-packages\\\\IPython\\\\core\\\\extensions.py'>,\n",
       " 'IPython.utils.sentinel': <module 'IPython.utils.sentinel' from 'c:\\\\users\\\\rhie\\\\appdata\\\\local\\\\programs\\\\python\\\\python39\\\\lib\\\\site-packages\\\\IPython\\\\utils\\\\sentinel.py'>,\n",
       " 'IPython.core.formatters': <module 'IPython.core.formatters' from 'c:\\\\users\\\\rhie\\\\appdata\\\\local\\\\programs\\\\python\\\\python39\\\\lib\\\\site-packages\\\\IPython\\\\core\\\\formatters.py'>,\n",
       " '_sqlite3': <module '_sqlite3' from 'c:\\\\users\\\\rhie\\\\appdata\\\\local\\\\programs\\\\python\\\\python39\\\\DLLs\\\\_sqlite3.pyd'>,\n",
       " 'sqlite3.dbapi2': <module 'sqlite3.dbapi2' from 'c:\\\\users\\\\rhie\\\\appdata\\\\local\\\\programs\\\\python\\\\python39\\\\lib\\\\sqlite3\\\\dbapi2.py'>,\n",
       " 'sqlite3': <module 'sqlite3' from 'c:\\\\users\\\\rhie\\\\appdata\\\\local\\\\programs\\\\python\\\\python39\\\\lib\\\\sqlite3\\\\__init__.py'>,\n",
       " 'IPython.core.history': <module 'IPython.core.history' from 'c:\\\\users\\\\rhie\\\\appdata\\\\local\\\\programs\\\\python\\\\python39\\\\lib\\\\site-packages\\\\IPython\\\\core\\\\history.py'>,\n",
       " 'IPython.core.logger': <module 'IPython.core.logger' from 'c:\\\\users\\\\rhie\\\\appdata\\\\local\\\\programs\\\\python\\\\python39\\\\lib\\\\site-packages\\\\IPython\\\\core\\\\logger.py'>,\n",
       " 'IPython.core.payload': <module 'IPython.core.payload' from 'c:\\\\users\\\\rhie\\\\appdata\\\\local\\\\programs\\\\python\\\\python39\\\\lib\\\\site-packages\\\\IPython\\\\core\\\\payload.py'>,\n",
       " 'IPython.core.usage': <module 'IPython.core.usage' from 'c:\\\\users\\\\rhie\\\\appdata\\\\local\\\\programs\\\\python\\\\python39\\\\lib\\\\site-packages\\\\IPython\\\\core\\\\usage.py'>,\n",
       " 'html.entities': <module 'html.entities' from 'c:\\\\users\\\\rhie\\\\appdata\\\\local\\\\programs\\\\python\\\\python39\\\\lib\\\\html\\\\entities.py'>,\n",
       " 'html': <module 'html' from 'c:\\\\users\\\\rhie\\\\appdata\\\\local\\\\programs\\\\python\\\\python39\\\\lib\\\\html\\\\__init__.py'>,\n",
       " 'IPython.lib.display': <module 'IPython.lib.display' from 'c:\\\\users\\\\rhie\\\\appdata\\\\local\\\\programs\\\\python\\\\python39\\\\lib\\\\site-packages\\\\IPython\\\\lib\\\\display.py'>,\n",
       " 'IPython.display': <module 'IPython.display' from 'c:\\\\users\\\\rhie\\\\appdata\\\\local\\\\programs\\\\python\\\\python39\\\\lib\\\\site-packages\\\\IPython\\\\display.py'>,\n",
       " 'IPython.utils.capture': <module 'IPython.utils.capture' from 'c:\\\\users\\\\rhie\\\\appdata\\\\local\\\\programs\\\\python\\\\python39\\\\lib\\\\site-packages\\\\IPython\\\\utils\\\\capture.py'>,\n",
       " 'IPython.utils.io': <module 'IPython.utils.io' from 'c:\\\\users\\\\rhie\\\\appdata\\\\local\\\\programs\\\\python\\\\python39\\\\lib\\\\site-packages\\\\IPython\\\\utils\\\\io.py'>,\n",
       " 'IPython.core.hooks': <module 'IPython.core.hooks' from 'c:\\\\users\\\\rhie\\\\appdata\\\\local\\\\programs\\\\python\\\\python39\\\\lib\\\\site-packages\\\\IPython\\\\core\\\\hooks.py'>,\n",
       " 'IPython.utils.strdispatch': <module 'IPython.utils.strdispatch' from 'c:\\\\users\\\\rhie\\\\appdata\\\\local\\\\programs\\\\python\\\\python39\\\\lib\\\\site-packages\\\\IPython\\\\utils\\\\strdispatch.py'>,\n",
       " 'IPython.utils.syspathcontext': <module 'IPython.utils.syspathcontext' from 'c:\\\\users\\\\rhie\\\\appdata\\\\local\\\\programs\\\\python\\\\python39\\\\lib\\\\site-packages\\\\IPython\\\\utils\\\\syspathcontext.py'>,\n",
       " 'IPython.utils.tempdir': <module 'IPython.utils.tempdir' from 'c:\\\\users\\\\rhie\\\\appdata\\\\local\\\\programs\\\\python\\\\python39\\\\lib\\\\site-packages\\\\IPython\\\\utils\\\\tempdir.py'>,\n",
       " 'IPython.utils.contexts': <module 'IPython.utils.contexts' from 'c:\\\\users\\\\rhie\\\\appdata\\\\local\\\\programs\\\\python\\\\python39\\\\lib\\\\site-packages\\\\IPython\\\\utils\\\\contexts.py'>,\n",
       " 'IPython.core.async_helpers': <module 'IPython.core.async_helpers' from 'c:\\\\users\\\\rhie\\\\appdata\\\\local\\\\programs\\\\python\\\\python39\\\\lib\\\\site-packages\\\\IPython\\\\core\\\\async_helpers.py'>,\n",
       " 'IPython.core.interactiveshell': <module 'IPython.core.interactiveshell' from 'c:\\\\users\\\\rhie\\\\appdata\\\\local\\\\programs\\\\python\\\\python39\\\\lib\\\\site-packages\\\\IPython\\\\core\\\\interactiveshell.py'>,\n",
       " 'concurrent': <module 'concurrent' from 'c:\\\\users\\\\rhie\\\\appdata\\\\local\\\\programs\\\\python\\\\python39\\\\lib\\\\concurrent\\\\__init__.py'>,\n",
       " 'concurrent.futures._base': <module 'concurrent.futures._base' from 'c:\\\\users\\\\rhie\\\\appdata\\\\local\\\\programs\\\\python\\\\python39\\\\lib\\\\concurrent\\\\futures\\\\_base.py'>,\n",
       " 'concurrent.futures': <module 'concurrent.futures' from 'c:\\\\users\\\\rhie\\\\appdata\\\\local\\\\programs\\\\python\\\\python39\\\\lib\\\\concurrent\\\\futures\\\\__init__.py'>,\n",
       " '_socket': <module '_socket' from 'c:\\\\users\\\\rhie\\\\appdata\\\\local\\\\programs\\\\python\\\\python39\\\\DLLs\\\\_socket.pyd'>,\n",
       " 'select': <module 'select' from 'c:\\\\users\\\\rhie\\\\appdata\\\\local\\\\programs\\\\python\\\\python39\\\\DLLs\\\\select.pyd'>,\n",
       " 'selectors': <module 'selectors' from 'c:\\\\users\\\\rhie\\\\appdata\\\\local\\\\programs\\\\python\\\\python39\\\\lib\\\\selectors.py'>,\n",
       " 'socket': <module 'socket' from 'c:\\\\users\\\\rhie\\\\appdata\\\\local\\\\programs\\\\python\\\\python39\\\\lib\\\\socket.py'>,\n",
       " '_ssl': <module '_ssl' from 'c:\\\\users\\\\rhie\\\\appdata\\\\local\\\\programs\\\\python\\\\python39\\\\DLLs\\\\_ssl.pyd'>,\n",
       " 'base64': <module 'base64' from 'c:\\\\users\\\\rhie\\\\appdata\\\\local\\\\programs\\\\python\\\\python39\\\\lib\\\\base64.py'>,\n",
       " 'ssl': <module 'ssl' from 'c:\\\\users\\\\rhie\\\\appdata\\\\local\\\\programs\\\\python\\\\python39\\\\lib\\\\ssl.py'>,\n",
       " 'asyncio.constants': <module 'asyncio.constants' from 'c:\\\\users\\\\rhie\\\\appdata\\\\local\\\\programs\\\\python\\\\python39\\\\lib\\\\asyncio\\\\constants.py'>,\n",
       " 'asyncio.format_helpers': <module 'asyncio.format_helpers' from 'c:\\\\users\\\\rhie\\\\appdata\\\\local\\\\programs\\\\python\\\\python39\\\\lib\\\\asyncio\\\\format_helpers.py'>,\n",
       " 'asyncio.base_futures': <module 'asyncio.base_futures' from 'c:\\\\users\\\\rhie\\\\appdata\\\\local\\\\programs\\\\python\\\\python39\\\\lib\\\\asyncio\\\\base_futures.py'>,\n",
       " 'asyncio.log': <module 'asyncio.log' from 'c:\\\\users\\\\rhie\\\\appdata\\\\local\\\\programs\\\\python\\\\python39\\\\lib\\\\asyncio\\\\log.py'>,\n",
       " 'asyncio.coroutines': <module 'asyncio.coroutines' from 'c:\\\\users\\\\rhie\\\\appdata\\\\local\\\\programs\\\\python\\\\python39\\\\lib\\\\asyncio\\\\coroutines.py'>,\n",
       " '_contextvars': <module '_contextvars' (built-in)>,\n",
       " 'contextvars': <module 'contextvars' from 'c:\\\\users\\\\rhie\\\\appdata\\\\local\\\\programs\\\\python\\\\python39\\\\lib\\\\contextvars.py'>,\n",
       " 'asyncio.exceptions': <module 'asyncio.exceptions' from 'c:\\\\users\\\\rhie\\\\appdata\\\\local\\\\programs\\\\python\\\\python39\\\\lib\\\\asyncio\\\\exceptions.py'>,\n",
       " 'asyncio.base_tasks': <module 'asyncio.base_tasks' from 'c:\\\\users\\\\rhie\\\\appdata\\\\local\\\\programs\\\\python\\\\python39\\\\lib\\\\asyncio\\\\base_tasks.py'>,\n",
       " '_asyncio': <module '_asyncio' from 'c:\\\\users\\\\rhie\\\\appdata\\\\local\\\\programs\\\\python\\\\python39\\\\DLLs\\\\_asyncio.pyd'>,\n",
       " 'asyncio.events': <module 'asyncio.events' from 'c:\\\\users\\\\rhie\\\\appdata\\\\local\\\\programs\\\\python\\\\python39\\\\lib\\\\asyncio\\\\events.py'>,\n",
       " 'asyncio.futures': <module 'asyncio.futures' from 'c:\\\\users\\\\rhie\\\\appdata\\\\local\\\\programs\\\\python\\\\python39\\\\lib\\\\asyncio\\\\futures.py'>,\n",
       " 'asyncio.protocols': <module 'asyncio.protocols' from 'c:\\\\users\\\\rhie\\\\appdata\\\\local\\\\programs\\\\python\\\\python39\\\\lib\\\\asyncio\\\\protocols.py'>,\n",
       " 'asyncio.transports': <module 'asyncio.transports' from 'c:\\\\users\\\\rhie\\\\appdata\\\\local\\\\programs\\\\python\\\\python39\\\\lib\\\\asyncio\\\\transports.py'>,\n",
       " 'asyncio.sslproto': <module 'asyncio.sslproto' from 'c:\\\\users\\\\rhie\\\\appdata\\\\local\\\\programs\\\\python\\\\python39\\\\lib\\\\asyncio\\\\sslproto.py'>,\n",
       " 'asyncio.locks': <module 'asyncio.locks' from 'c:\\\\users\\\\rhie\\\\appdata\\\\local\\\\programs\\\\python\\\\python39\\\\lib\\\\asyncio\\\\locks.py'>,\n",
       " 'asyncio.tasks': <module 'asyncio.tasks' from 'c:\\\\users\\\\rhie\\\\appdata\\\\local\\\\programs\\\\python\\\\python39\\\\lib\\\\asyncio\\\\tasks.py'>,\n",
       " 'asyncio.staggered': <module 'asyncio.staggered' from 'c:\\\\users\\\\rhie\\\\appdata\\\\local\\\\programs\\\\python\\\\python39\\\\lib\\\\asyncio\\\\staggered.py'>,\n",
       " 'asyncio.trsock': <module 'asyncio.trsock' from 'c:\\\\users\\\\rhie\\\\appdata\\\\local\\\\programs\\\\python\\\\python39\\\\lib\\\\asyncio\\\\trsock.py'>,\n",
       " 'asyncio.base_events': <module 'asyncio.base_events' from 'c:\\\\users\\\\rhie\\\\appdata\\\\local\\\\programs\\\\python\\\\python39\\\\lib\\\\asyncio\\\\base_events.py'>,\n",
       " 'asyncio.runners': <module 'asyncio.runners' from 'c:\\\\users\\\\rhie\\\\appdata\\\\local\\\\programs\\\\python\\\\python39\\\\lib\\\\asyncio\\\\runners.py'>,\n",
       " 'asyncio.queues': <module 'asyncio.queues' from 'c:\\\\users\\\\rhie\\\\appdata\\\\local\\\\programs\\\\python\\\\python39\\\\lib\\\\asyncio\\\\queues.py'>,\n",
       " 'asyncio.streams': <module 'asyncio.streams' from 'c:\\\\users\\\\rhie\\\\appdata\\\\local\\\\programs\\\\python\\\\python39\\\\lib\\\\asyncio\\\\streams.py'>,\n",
       " 'asyncio.subprocess': <module 'asyncio.subprocess' from 'c:\\\\users\\\\rhie\\\\appdata\\\\local\\\\programs\\\\python\\\\python39\\\\lib\\\\asyncio\\\\subprocess.py'>,\n",
       " 'asyncio.threads': <module 'asyncio.threads' from 'c:\\\\users\\\\rhie\\\\appdata\\\\local\\\\programs\\\\python\\\\python39\\\\lib\\\\asyncio\\\\threads.py'>,\n",
       " '_overlapped': <module '_overlapped' from 'c:\\\\users\\\\rhie\\\\appdata\\\\local\\\\programs\\\\python\\\\python39\\\\DLLs\\\\_overlapped.pyd'>,\n",
       " 'asyncio.base_subprocess': <module 'asyncio.base_subprocess' from 'c:\\\\users\\\\rhie\\\\appdata\\\\local\\\\programs\\\\python\\\\python39\\\\lib\\\\asyncio\\\\base_subprocess.py'>,\n",
       " 'asyncio.proactor_events': <module 'asyncio.proactor_events' from 'c:\\\\users\\\\rhie\\\\appdata\\\\local\\\\programs\\\\python\\\\python39\\\\lib\\\\asyncio\\\\proactor_events.py'>,\n",
       " 'asyncio.selector_events': <module 'asyncio.selector_events' from 'c:\\\\users\\\\rhie\\\\appdata\\\\local\\\\programs\\\\python\\\\python39\\\\lib\\\\asyncio\\\\selector_events.py'>,\n",
       " 'asyncio.windows_utils': <module 'asyncio.windows_utils' from 'c:\\\\users\\\\rhie\\\\appdata\\\\local\\\\programs\\\\python\\\\python39\\\\lib\\\\asyncio\\\\windows_utils.py'>,\n",
       " 'asyncio.windows_events': <module 'asyncio.windows_events' from 'c:\\\\users\\\\rhie\\\\appdata\\\\local\\\\programs\\\\python\\\\python39\\\\lib\\\\asyncio\\\\windows_events.py'>,\n",
       " 'asyncio': <module 'asyncio' from 'c:\\\\users\\\\rhie\\\\appdata\\\\local\\\\programs\\\\python\\\\python39\\\\lib\\\\asyncio\\\\__init__.py'>,\n",
       " 'prompt_toolkit.application.current': <module 'prompt_toolkit.application.current' from 'c:\\\\users\\\\rhie\\\\appdata\\\\local\\\\programs\\\\python\\\\python39\\\\lib\\\\site-packages\\\\prompt_toolkit\\\\application\\\\current.py'>,\n",
       " 'prompt_toolkit.eventloop.utils': <module 'prompt_toolkit.eventloop.utils' from 'c:\\\\users\\\\rhie\\\\appdata\\\\local\\\\programs\\\\python\\\\python39\\\\lib\\\\site-packages\\\\prompt_toolkit\\\\eventloop\\\\utils.py'>,\n",
       " 'prompt_toolkit.eventloop.async_generator': <module 'prompt_toolkit.eventloop.async_generator' from 'c:\\\\users\\\\rhie\\\\appdata\\\\local\\\\programs\\\\python\\\\python39\\\\lib\\\\site-packages\\\\prompt_toolkit\\\\eventloop\\\\async_generator.py'>,\n",
       " 'wcwidth.table_wide': <module 'wcwidth.table_wide' from 'c:\\\\users\\\\rhie\\\\appdata\\\\local\\\\programs\\\\python\\\\python39\\\\lib\\\\site-packages\\\\wcwidth\\\\table_wide.py'>,\n",
       " 'wcwidth.table_zero': <module 'wcwidth.table_zero' from 'c:\\\\users\\\\rhie\\\\appdata\\\\local\\\\programs\\\\python\\\\python39\\\\lib\\\\site-packages\\\\wcwidth\\\\table_zero.py'>,\n",
       " 'wcwidth.unicode_versions': <module 'wcwidth.unicode_versions' from 'c:\\\\users\\\\rhie\\\\appdata\\\\local\\\\programs\\\\python\\\\python39\\\\lib\\\\site-packages\\\\wcwidth\\\\unicode_versions.py'>,\n",
       " 'wcwidth.wcwidth': <module 'wcwidth.wcwidth' from 'c:\\\\users\\\\rhie\\\\appdata\\\\local\\\\programs\\\\python\\\\python39\\\\lib\\\\site-packages\\\\wcwidth\\\\wcwidth.py'>,\n",
       " 'wcwidth': <module 'wcwidth' from 'c:\\\\users\\\\rhie\\\\appdata\\\\local\\\\programs\\\\python\\\\python39\\\\lib\\\\site-packages\\\\wcwidth\\\\__init__.py'>,\n",
       " 'prompt_toolkit.utils': <module 'prompt_toolkit.utils' from 'c:\\\\users\\\\rhie\\\\appdata\\\\local\\\\programs\\\\python\\\\python39\\\\lib\\\\site-packages\\\\prompt_toolkit\\\\utils.py'>,\n",
       " 'prompt_toolkit.eventloop.inputhook': <module 'prompt_toolkit.eventloop.inputhook' from 'c:\\\\users\\\\rhie\\\\appdata\\\\local\\\\programs\\\\python\\\\python39\\\\lib\\\\site-packages\\\\prompt_toolkit\\\\eventloop\\\\inputhook.py'>,\n",
       " 'prompt_toolkit.eventloop': <module 'prompt_toolkit.eventloop' from 'c:\\\\users\\\\rhie\\\\appdata\\\\local\\\\programs\\\\python\\\\python39\\\\lib\\\\site-packages\\\\prompt_toolkit\\\\eventloop\\\\__init__.py'>,\n",
       " 'prompt_toolkit.application.run_in_terminal': <module 'prompt_toolkit.application.run_in_terminal' from 'c:\\\\users\\\\rhie\\\\appdata\\\\local\\\\programs\\\\python\\\\python39\\\\lib\\\\site-packages\\\\prompt_toolkit\\\\application\\\\run_in_terminal.py'>,\n",
       " 'prompt_toolkit.selection': <module 'prompt_toolkit.selection' from 'c:\\\\users\\\\rhie\\\\appdata\\\\local\\\\programs\\\\python\\\\python39\\\\lib\\\\site-packages\\\\prompt_toolkit\\\\selection.py'>,\n",
       " 'prompt_toolkit.clipboard.base': <module 'prompt_toolkit.clipboard.base' from 'c:\\\\users\\\\rhie\\\\appdata\\\\local\\\\programs\\\\python\\\\python39\\\\lib\\\\site-packages\\\\prompt_toolkit\\\\clipboard\\\\base.py'>,\n",
       " 'prompt_toolkit.clipboard.in_memory': <module 'prompt_toolkit.clipboard.in_memory' from 'c:\\\\users\\\\rhie\\\\appdata\\\\local\\\\programs\\\\python\\\\python39\\\\lib\\\\site-packages\\\\prompt_toolkit\\\\clipboard\\\\in_memory.py'>,\n",
       " 'prompt_toolkit.clipboard': <module 'prompt_toolkit.clipboard' from 'c:\\\\users\\\\rhie\\\\appdata\\\\local\\\\programs\\\\python\\\\python39\\\\lib\\\\site-packages\\\\prompt_toolkit\\\\clipboard\\\\__init__.py'>,\n",
       " 'prompt_toolkit.cache': <module 'prompt_toolkit.cache' from 'c:\\\\users\\\\rhie\\\\appdata\\\\local\\\\programs\\\\python\\\\python39\\\\lib\\\\site-packages\\\\prompt_toolkit\\\\cache.py'>,\n",
       " 'prompt_toolkit.enums': <module 'prompt_toolkit.enums' from 'c:\\\\users\\\\rhie\\\\appdata\\\\local\\\\programs\\\\python\\\\python39\\\\lib\\\\site-packages\\\\prompt_toolkit\\\\enums.py'>,\n",
       " 'prompt_toolkit.filters.base': <module 'prompt_toolkit.filters.base' from 'c:\\\\users\\\\rhie\\\\appdata\\\\local\\\\programs\\\\python\\\\python39\\\\lib\\\\site-packages\\\\prompt_toolkit\\\\filters\\\\base.py'>,\n",
       " 'prompt_toolkit.filters.app': <module 'prompt_toolkit.filters.app' from 'c:\\\\users\\\\rhie\\\\appdata\\\\local\\\\programs\\\\python\\\\python39\\\\lib\\\\site-packages\\\\prompt_toolkit\\\\filters\\\\app.py'>,\n",
       " 'prompt_toolkit.filters.cli': <module 'prompt_toolkit.filters.cli' from 'c:\\\\users\\\\rhie\\\\appdata\\\\local\\\\programs\\\\python\\\\python39\\\\lib\\\\site-packages\\\\prompt_toolkit\\\\filters\\\\cli.py'>,\n",
       " 'prompt_toolkit.filters.utils': <module 'prompt_toolkit.filters.utils' from 'c:\\\\users\\\\rhie\\\\appdata\\\\local\\\\programs\\\\python\\\\python39\\\\lib\\\\site-packages\\\\prompt_toolkit\\\\filters\\\\utils.py'>,\n",
       " 'prompt_toolkit.filters': <module 'prompt_toolkit.filters' from 'c:\\\\users\\\\rhie\\\\appdata\\\\local\\\\programs\\\\python\\\\python39\\\\lib\\\\site-packages\\\\prompt_toolkit\\\\filters\\\\__init__.py'>,\n",
       " 'prompt_toolkit.document': <module 'prompt_toolkit.document' from 'c:\\\\users\\\\rhie\\\\appdata\\\\local\\\\programs\\\\python\\\\python39\\\\lib\\\\site-packages\\\\prompt_toolkit\\\\document.py'>,\n",
       " 'prompt_toolkit.auto_suggest': <module 'prompt_toolkit.auto_suggest' from 'c:\\\\users\\\\rhie\\\\appdata\\\\local\\\\programs\\\\python\\\\python39\\\\lib\\\\site-packages\\\\prompt_toolkit\\\\auto_suggest.py'>,\n",
       " 'prompt_toolkit.data_structures': <module 'prompt_toolkit.data_structures' from 'c:\\\\users\\\\rhie\\\\appdata\\\\local\\\\programs\\\\python\\\\python39\\\\lib\\\\site-packages\\\\prompt_toolkit\\\\data_structures.py'>,\n",
       " 'prompt_toolkit.styles.base': <module 'prompt_toolkit.styles.base' from 'c:\\\\users\\\\rhie\\\\appdata\\\\local\\\\programs\\\\python\\\\python39\\\\lib\\\\site-packages\\\\prompt_toolkit\\\\styles\\\\base.py'>,\n",
       " 'prompt_toolkit.styles.named_colors': <module 'prompt_toolkit.styles.named_colors' from 'c:\\\\users\\\\rhie\\\\appdata\\\\local\\\\programs\\\\python\\\\python39\\\\lib\\\\site-packages\\\\prompt_toolkit\\\\styles\\\\named_colors.py'>,\n",
       " 'prompt_toolkit.styles.style': <module 'prompt_toolkit.styles.style' from 'c:\\\\users\\\\rhie\\\\appdata\\\\local\\\\programs\\\\python\\\\python39\\\\lib\\\\site-packages\\\\prompt_toolkit\\\\styles\\\\style.py'>,\n",
       " 'prompt_toolkit.styles.defaults': <module 'prompt_toolkit.styles.defaults' from 'c:\\\\users\\\\rhie\\\\appdata\\\\local\\\\programs\\\\python\\\\python39\\\\lib\\\\site-packages\\\\prompt_toolkit\\\\styles\\\\defaults.py'>,\n",
       " 'prompt_toolkit.styles.pygments': <module 'prompt_toolkit.styles.pygments' from 'c:\\\\users\\\\rhie\\\\appdata\\\\local\\\\programs\\\\python\\\\python39\\\\lib\\\\site-packages\\\\prompt_toolkit\\\\styles\\\\pygments.py'>,\n",
       " 'colorsys': <module 'colorsys' from 'c:\\\\users\\\\rhie\\\\appdata\\\\local\\\\programs\\\\python\\\\python39\\\\lib\\\\colorsys.py'>,\n",
       " 'prompt_toolkit.styles.style_transformation': <module 'prompt_toolkit.styles.style_transformation' from 'c:\\\\users\\\\rhie\\\\appdata\\\\local\\\\programs\\\\python\\\\python39\\\\lib\\\\site-packages\\\\prompt_toolkit\\\\styles\\\\style_transformation.py'>,\n",
       " 'prompt_toolkit.styles': <module 'prompt_toolkit.styles' from 'c:\\\\users\\\\rhie\\\\appdata\\\\local\\\\programs\\\\python\\\\python39\\\\lib\\\\site-packages\\\\prompt_toolkit\\\\styles\\\\__init__.py'>,\n",
       " 'prompt_toolkit.output.color_depth': <module 'prompt_toolkit.output.color_depth' from 'c:\\\\users\\\\rhie\\\\appdata\\\\local\\\\programs\\\\python\\\\python39\\\\lib\\\\site-packages\\\\prompt_toolkit\\\\output\\\\color_depth.py'>,\n",
       " 'prompt_toolkit.output.base': <module 'prompt_toolkit.output.base' from 'c:\\\\users\\\\rhie\\\\appdata\\\\local\\\\programs\\\\python\\\\python39\\\\lib\\\\site-packages\\\\prompt_toolkit\\\\output\\\\base.py'>,\n",
       " 'prompt_toolkit.output.defaults': <module 'prompt_toolkit.output.defaults' from 'c:\\\\users\\\\rhie\\\\appdata\\\\local\\\\programs\\\\python\\\\python39\\\\lib\\\\site-packages\\\\prompt_toolkit\\\\output\\\\defaults.py'>,\n",
       " 'prompt_toolkit.output': <module 'prompt_toolkit.output' from 'c:\\\\users\\\\rhie\\\\appdata\\\\local\\\\programs\\\\python\\\\python39\\\\lib\\\\site-packages\\\\prompt_toolkit\\\\output\\\\__init__.py'>,\n",
       " 'array': <module 'array' (built-in)>,\n",
       " 'prompt_toolkit.output.vt100': <module 'prompt_toolkit.output.vt100' from 'c:\\\\users\\\\rhie\\\\appdata\\\\local\\\\programs\\\\python\\\\python39\\\\lib\\\\site-packages\\\\prompt_toolkit\\\\output\\\\vt100.py'>,\n",
       " 'prompt_toolkit.mouse_events': <module 'prompt_toolkit.mouse_events' from 'c:\\\\users\\\\rhie\\\\appdata\\\\local\\\\programs\\\\python\\\\python39\\\\lib\\\\site-packages\\\\prompt_toolkit\\\\mouse_events.py'>,\n",
       " 'prompt_toolkit.formatted_text.base': <module 'prompt_toolkit.formatted_text.base' from 'c:\\\\users\\\\rhie\\\\appdata\\\\local\\\\programs\\\\python\\\\python39\\\\lib\\\\site-packages\\\\prompt_toolkit\\\\formatted_text\\\\base.py'>,\n",
       " 'prompt_toolkit.formatted_text.ansi': <module 'prompt_toolkit.formatted_text.ansi' from 'c:\\\\users\\\\rhie\\\\appdata\\\\local\\\\programs\\\\python\\\\python39\\\\lib\\\\site-packages\\\\prompt_toolkit\\\\formatted_text\\\\ansi.py'>,\n",
       " 'xml': <module 'xml' from 'c:\\\\users\\\\rhie\\\\appdata\\\\local\\\\programs\\\\python\\\\python39\\\\lib\\\\xml\\\\__init__.py'>,\n",
       " 'xml.dom.domreg': <module 'xml.dom.domreg' from 'c:\\\\users\\\\rhie\\\\appdata\\\\local\\\\programs\\\\python\\\\python39\\\\lib\\\\xml\\\\dom\\\\domreg.py'>,\n",
       " 'xml.dom': <module 'xml.dom' from 'c:\\\\users\\\\rhie\\\\appdata\\\\local\\\\programs\\\\python\\\\python39\\\\lib\\\\xml\\\\dom\\\\__init__.py'>,\n",
       " 'xml.dom.minicompat': <module 'xml.dom.minicompat' from 'c:\\\\users\\\\rhie\\\\appdata\\\\local\\\\programs\\\\python\\\\python39\\\\lib\\\\xml\\\\dom\\\\minicompat.py'>,\n",
       " 'xml.dom.NodeFilter': <module 'xml.dom.NodeFilter' from 'c:\\\\users\\\\rhie\\\\appdata\\\\local\\\\programs\\\\python\\\\python39\\\\lib\\\\xml\\\\dom\\\\NodeFilter.py'>,\n",
       " 'xml.dom.xmlbuilder': <module 'xml.dom.xmlbuilder' from 'c:\\\\users\\\\rhie\\\\appdata\\\\local\\\\programs\\\\python\\\\python39\\\\lib\\\\xml\\\\dom\\\\xmlbuilder.py'>,\n",
       " 'xml.dom.minidom': <module 'xml.dom.minidom' from 'c:\\\\users\\\\rhie\\\\appdata\\\\local\\\\programs\\\\python\\\\python39\\\\lib\\\\xml\\\\dom\\\\minidom.py'>,\n",
       " 'prompt_toolkit.formatted_text.html': <module 'prompt_toolkit.formatted_text.html' from 'c:\\\\users\\\\rhie\\\\appdata\\\\local\\\\programs\\\\python\\\\python39\\\\lib\\\\site-packages\\\\prompt_toolkit\\\\formatted_text\\\\html.py'>,\n",
       " 'prompt_toolkit.formatted_text.pygments': <module 'prompt_toolkit.formatted_text.pygments' from 'c:\\\\users\\\\rhie\\\\appdata\\\\local\\\\programs\\\\python\\\\python39\\\\lib\\\\site-packages\\\\prompt_toolkit\\\\formatted_text\\\\pygments.py'>,\n",
       " 'prompt_toolkit.formatted_text.utils': <module 'prompt_toolkit.formatted_text.utils' from 'c:\\\\users\\\\rhie\\\\appdata\\\\local\\\\programs\\\\python\\\\python39\\\\lib\\\\site-packages\\\\prompt_toolkit\\\\formatted_text\\\\utils.py'>,\n",
       " 'prompt_toolkit.formatted_text': <module 'prompt_toolkit.formatted_text' from 'c:\\\\users\\\\rhie\\\\appdata\\\\local\\\\programs\\\\python\\\\python39\\\\lib\\\\site-packages\\\\prompt_toolkit\\\\formatted_text\\\\__init__.py'>,\n",
       " 'prompt_toolkit.completion.base': <module 'prompt_toolkit.completion.base' from 'c:\\\\users\\\\rhie\\\\appdata\\\\local\\\\programs\\\\python\\\\python39\\\\lib\\\\site-packages\\\\prompt_toolkit\\\\completion\\\\base.py'>,\n",
       " 'prompt_toolkit.completion.deduplicate': <module 'prompt_toolkit.completion.deduplicate' from 'c:\\\\users\\\\rhie\\\\appdata\\\\local\\\\programs\\\\python\\\\python39\\\\lib\\\\site-packages\\\\prompt_toolkit\\\\completion\\\\deduplicate.py'>,\n",
       " 'prompt_toolkit.completion.filesystem': <module 'prompt_toolkit.completion.filesystem' from 'c:\\\\users\\\\rhie\\\\appdata\\\\local\\\\programs\\\\python\\\\python39\\\\lib\\\\site-packages\\\\prompt_toolkit\\\\completion\\\\filesystem.py'>,\n",
       " 'prompt_toolkit.completion.word_completer': <module 'prompt_toolkit.completion.word_completer' from 'c:\\\\users\\\\rhie\\\\appdata\\\\local\\\\programs\\\\python\\\\python39\\\\lib\\\\site-packages\\\\prompt_toolkit\\\\completion\\\\word_completer.py'>,\n",
       " 'prompt_toolkit.completion.fuzzy_completer': <module 'prompt_toolkit.completion.fuzzy_completer' from 'c:\\\\users\\\\rhie\\\\appdata\\\\local\\\\programs\\\\python\\\\python39\\\\lib\\\\site-packages\\\\prompt_toolkit\\\\completion\\\\fuzzy_completer.py'>,\n",
       " 'prompt_toolkit.completion.nested': <module 'prompt_toolkit.completion.nested' from 'c:\\\\users\\\\rhie\\\\appdata\\\\local\\\\programs\\\\python\\\\python39\\\\lib\\\\site-packages\\\\prompt_toolkit\\\\completion\\\\nested.py'>,\n",
       " 'prompt_toolkit.completion': <module 'prompt_toolkit.completion' from 'c:\\\\users\\\\rhie\\\\appdata\\\\local\\\\programs\\\\python\\\\python39\\\\lib\\\\site-packages\\\\prompt_toolkit\\\\completion\\\\__init__.py'>,\n",
       " 'prompt_toolkit.history': <module 'prompt_toolkit.history' from 'c:\\\\users\\\\rhie\\\\appdata\\\\local\\\\programs\\\\python\\\\python39\\\\lib\\\\site-packages\\\\prompt_toolkit\\\\history.py'>,\n",
       " 'prompt_toolkit.keys': <module 'prompt_toolkit.keys' from 'c:\\\\users\\\\rhie\\\\appdata\\\\local\\\\programs\\\\python\\\\python39\\\\lib\\\\site-packages\\\\prompt_toolkit\\\\keys.py'>,\n",
       " 'prompt_toolkit.key_binding.key_bindings': <module 'prompt_toolkit.key_binding.key_bindings' from 'c:\\\\users\\\\rhie\\\\appdata\\\\local\\\\programs\\\\python\\\\python39\\\\lib\\\\site-packages\\\\prompt_toolkit\\\\key_binding\\\\key_bindings.py'>,\n",
       " 'prompt_toolkit.key_binding.key_processor': <module 'prompt_toolkit.key_binding.key_processor' from 'c:\\\\users\\\\rhie\\\\appdata\\\\local\\\\programs\\\\python\\\\python39\\\\lib\\\\site-packages\\\\prompt_toolkit\\\\key_binding\\\\key_processor.py'>,\n",
       " 'prompt_toolkit.key_binding': <module 'prompt_toolkit.key_binding' from 'c:\\\\users\\\\rhie\\\\appdata\\\\local\\\\programs\\\\python\\\\python39\\\\lib\\\\site-packages\\\\prompt_toolkit\\\\key_binding\\\\__init__.py'>,\n",
       " 'prompt_toolkit.key_binding.vi_state': <module 'prompt_toolkit.key_binding.vi_state' from 'c:\\\\users\\\\rhie\\\\appdata\\\\local\\\\programs\\\\python\\\\python39\\\\lib\\\\site-packages\\\\prompt_toolkit\\\\key_binding\\\\vi_state.py'>,\n",
       " 'prompt_toolkit.search': <module 'prompt_toolkit.search' from 'c:\\\\users\\\\rhie\\\\appdata\\\\local\\\\programs\\\\python\\\\python39\\\\lib\\\\site-packages\\\\prompt_toolkit\\\\search.py'>,\n",
       " 'prompt_toolkit.validation': <module 'prompt_toolkit.validation' from 'c:\\\\users\\\\rhie\\\\appdata\\\\local\\\\programs\\\\python\\\\python39\\\\lib\\\\site-packages\\\\prompt_toolkit\\\\validation.py'>,\n",
       " 'prompt_toolkit.buffer': <module 'prompt_toolkit.buffer' from 'c:\\\\users\\\\rhie\\\\appdata\\\\local\\\\programs\\\\python\\\\python39\\\\lib\\\\site-packages\\\\prompt_toolkit\\\\buffer.py'>,\n",
       " 'prompt_toolkit.input.base': <module 'prompt_toolkit.input.base' from 'c:\\\\users\\\\rhie\\\\appdata\\\\local\\\\programs\\\\python\\\\python39\\\\lib\\\\site-packages\\\\prompt_toolkit\\\\input\\\\base.py'>,\n",
       " 'prompt_toolkit.input.defaults': <module 'prompt_toolkit.input.defaults' from 'c:\\\\users\\\\rhie\\\\appdata\\\\local\\\\programs\\\\python\\\\python39\\\\lib\\\\site-packages\\\\prompt_toolkit\\\\input\\\\defaults.py'>,\n",
       " 'prompt_toolkit.input': <module 'prompt_toolkit.input' from 'c:\\\\users\\\\rhie\\\\appdata\\\\local\\\\programs\\\\python\\\\python39\\\\lib\\\\site-packages\\\\prompt_toolkit\\\\input\\\\__init__.py'>,\n",
       " 'prompt_toolkit.input.typeahead': <module 'prompt_toolkit.input.typeahead' from 'c:\\\\users\\\\rhie\\\\appdata\\\\local\\\\programs\\\\python\\\\python39\\\\lib\\\\site-packages\\\\prompt_toolkit\\\\input\\\\typeahead.py'>,\n",
       " 'prompt_toolkit.key_binding.bindings': <module 'prompt_toolkit.key_binding.bindings' from 'c:\\\\users\\\\rhie\\\\appdata\\\\local\\\\programs\\\\python\\\\python39\\\\lib\\\\site-packages\\\\prompt_toolkit\\\\key_binding\\\\bindings\\\\__init__.py'>,\n",
       " 'prompt_toolkit.key_binding.bindings.scroll': <module 'prompt_toolkit.key_binding.bindings.scroll' from 'c:\\\\users\\\\rhie\\\\appdata\\\\local\\\\programs\\\\python\\\\python39\\\\lib\\\\site-packages\\\\prompt_toolkit\\\\key_binding\\\\bindings\\\\scroll.py'>,\n",
       " 'prompt_toolkit.key_binding.bindings.page_navigation': <module 'prompt_toolkit.key_binding.bindings.page_navigation' from 'c:\\\\users\\\\rhie\\\\appdata\\\\local\\\\programs\\\\python\\\\python39\\\\lib\\\\site-packages\\\\prompt_toolkit\\\\key_binding\\\\bindings\\\\page_navigation.py'>,\n",
       " 'prompt_toolkit.lexers.base': <module 'prompt_toolkit.lexers.base' from 'c:\\\\users\\\\rhie\\\\appdata\\\\local\\\\programs\\\\python\\\\python39\\\\lib\\\\site-packages\\\\prompt_toolkit\\\\lexers\\\\base.py'>,\n",
       " 'prompt_toolkit.lexers.pygments': <module 'prompt_toolkit.lexers.pygments' from 'c:\\\\users\\\\rhie\\\\appdata\\\\local\\\\programs\\\\python\\\\python39\\\\lib\\\\site-packages\\\\prompt_toolkit\\\\lexers\\\\pygments.py'>,\n",
       " 'prompt_toolkit.lexers': <module 'prompt_toolkit.lexers' from 'c:\\\\users\\\\rhie\\\\appdata\\\\local\\\\programs\\\\python\\\\python39\\\\lib\\\\site-packages\\\\prompt_toolkit\\\\lexers\\\\__init__.py'>,\n",
       " 'prompt_toolkit.layout.utils': <module 'prompt_toolkit.layout.utils' from 'c:\\\\users\\\\rhie\\\\appdata\\\\local\\\\programs\\\\python\\\\python39\\\\lib\\\\site-packages\\\\prompt_toolkit\\\\layout\\\\utils.py'>,\n",
       " 'prompt_toolkit.layout.processors': <module 'prompt_toolkit.layout.processors' from 'c:\\\\users\\\\rhie\\\\appdata\\\\local\\\\programs\\\\python\\\\python39\\\\lib\\\\site-packages\\\\prompt_toolkit\\\\layout\\\\processors.py'>,\n",
       " 'prompt_toolkit.layout.controls': <module 'prompt_toolkit.layout.controls' from 'c:\\\\users\\\\rhie\\\\appdata\\\\local\\\\programs\\\\python\\\\python39\\\\lib\\\\site-packages\\\\prompt_toolkit\\\\layout\\\\controls.py'>,\n",
       " 'prompt_toolkit.layout.dimension': <module 'prompt_toolkit.layout.dimension' from 'c:\\\\users\\\\rhie\\\\appdata\\\\local\\\\programs\\\\python\\\\python39\\\\lib\\\\site-packages\\\\prompt_toolkit\\\\layout\\\\dimension.py'>,\n",
       " 'prompt_toolkit.layout.margins': <module 'prompt_toolkit.layout.margins' from 'c:\\\\users\\\\rhie\\\\appdata\\\\local\\\\programs\\\\python\\\\python39\\\\lib\\\\site-packages\\\\prompt_toolkit\\\\layout\\\\margins.py'>,\n",
       " 'prompt_toolkit.layout.mouse_handlers': <module 'prompt_toolkit.layout.mouse_handlers' from 'c:\\\\users\\\\rhie\\\\appdata\\\\local\\\\programs\\\\python\\\\python39\\\\lib\\\\site-packages\\\\prompt_toolkit\\\\layout\\\\mouse_handlers.py'>,\n",
       " 'prompt_toolkit.layout.screen': <module 'prompt_toolkit.layout.screen' from 'c:\\\\users\\\\rhie\\\\appdata\\\\local\\\\programs\\\\python\\\\python39\\\\lib\\\\site-packages\\\\prompt_toolkit\\\\layout\\\\screen.py'>,\n",
       " 'prompt_toolkit.layout.containers': <module 'prompt_toolkit.layout.containers' from 'c:\\\\users\\\\rhie\\\\appdata\\\\local\\\\programs\\\\python\\\\python39\\\\lib\\\\site-packages\\\\prompt_toolkit\\\\layout\\\\containers.py'>,\n",
       " 'prompt_toolkit.layout.layout': <module 'prompt_toolkit.layout.layout' from 'c:\\\\users\\\\rhie\\\\appdata\\\\local\\\\programs\\\\python\\\\python39\\\\lib\\\\site-packages\\\\prompt_toolkit\\\\layout\\\\layout.py'>,\n",
       " 'prompt_toolkit.layout.menus': <module 'prompt_toolkit.layout.menus' from 'c:\\\\users\\\\rhie\\\\appdata\\\\local\\\\programs\\\\python\\\\python39\\\\lib\\\\site-packages\\\\prompt_toolkit\\\\layout\\\\menus.py'>,\n",
       " 'prompt_toolkit.layout.scrollable_pane': <module 'prompt_toolkit.layout.scrollable_pane' from 'c:\\\\users\\\\rhie\\\\appdata\\\\local\\\\programs\\\\python\\\\python39\\\\lib\\\\site-packages\\\\prompt_toolkit\\\\layout\\\\scrollable_pane.py'>,\n",
       " 'prompt_toolkit.layout': <module 'prompt_toolkit.layout' from 'c:\\\\users\\\\rhie\\\\appdata\\\\local\\\\programs\\\\python\\\\python39\\\\lib\\\\site-packages\\\\prompt_toolkit\\\\layout\\\\__init__.py'>,\n",
       " 'prompt_toolkit.key_binding.bindings.completion': <module 'prompt_toolkit.key_binding.bindings.completion' from 'c:\\\\users\\\\rhie\\\\appdata\\\\local\\\\programs\\\\python\\\\python39\\\\lib\\\\site-packages\\\\prompt_toolkit\\\\key_binding\\\\bindings\\\\completion.py'>,\n",
       " 'prompt_toolkit.key_binding.bindings.named_commands': <module 'prompt_toolkit.key_binding.bindings.named_commands' from 'c:\\\\users\\\\rhie\\\\appdata\\\\local\\\\programs\\\\python\\\\python39\\\\lib\\\\site-packages\\\\prompt_toolkit\\\\key_binding\\\\bindings\\\\named_commands.py'>,\n",
       " 'prompt_toolkit.key_binding.bindings.basic': <module 'prompt_toolkit.key_binding.bindings.basic' from 'c:\\\\users\\\\rhie\\\\appdata\\\\local\\\\programs\\\\python\\\\python39\\\\lib\\\\site-packages\\\\prompt_toolkit\\\\key_binding\\\\bindings\\\\basic.py'>,\n",
       " 'prompt_toolkit.key_binding.bindings.cpr': <module 'prompt_toolkit.key_binding.bindings.cpr' from 'c:\\\\users\\\\rhie\\\\appdata\\\\local\\\\programs\\\\python\\\\python39\\\\lib\\\\site-packages\\\\prompt_toolkit\\\\key_binding\\\\bindings\\\\cpr.py'>,\n",
       " 'prompt_toolkit.key_binding.bindings.emacs': <module 'prompt_toolkit.key_binding.bindings.emacs' from 'c:\\\\users\\\\rhie\\\\appdata\\\\local\\\\programs\\\\python\\\\python39\\\\lib\\\\site-packages\\\\prompt_toolkit\\\\key_binding\\\\bindings\\\\emacs.py'>,\n",
       " 'prompt_toolkit.key_binding.bindings.mouse': <module 'prompt_toolkit.key_binding.bindings.mouse' from 'c:\\\\users\\\\rhie\\\\appdata\\\\local\\\\programs\\\\python\\\\python39\\\\lib\\\\site-packages\\\\prompt_toolkit\\\\key_binding\\\\bindings\\\\mouse.py'>,\n",
       " 'prompt_toolkit.input.ansi_escape_sequences': <module 'prompt_toolkit.input.ansi_escape_sequences' from 'c:\\\\users\\\\rhie\\\\appdata\\\\local\\\\programs\\\\python\\\\python39\\\\lib\\\\site-packages\\\\prompt_toolkit\\\\input\\\\ansi_escape_sequences.py'>,\n",
       " 'prompt_toolkit.input.vt100_parser': <module 'prompt_toolkit.input.vt100_parser' from 'c:\\\\users\\\\rhie\\\\appdata\\\\local\\\\programs\\\\python\\\\python39\\\\lib\\\\site-packages\\\\prompt_toolkit\\\\input\\\\vt100_parser.py'>,\n",
       " 'prompt_toolkit.key_binding.digraphs': <module 'prompt_toolkit.key_binding.digraphs' from 'c:\\\\users\\\\rhie\\\\appdata\\\\local\\\\programs\\\\python\\\\python39\\\\lib\\\\site-packages\\\\prompt_toolkit\\\\key_binding\\\\digraphs.py'>,\n",
       " 'prompt_toolkit.key_binding.bindings.vi': <module 'prompt_toolkit.key_binding.bindings.vi' from 'c:\\\\users\\\\rhie\\\\appdata\\\\local\\\\programs\\\\python\\\\python39\\\\lib\\\\site-packages\\\\prompt_toolkit\\\\key_binding\\\\bindings\\\\vi.py'>,\n",
       " 'prompt_toolkit.key_binding.defaults': <module 'prompt_toolkit.key_binding.defaults' from 'c:\\\\users\\\\rhie\\\\appdata\\\\local\\\\programs\\\\python\\\\python39\\\\lib\\\\site-packages\\\\prompt_toolkit\\\\key_binding\\\\defaults.py'>,\n",
       " 'prompt_toolkit.key_binding.emacs_state': <module 'prompt_toolkit.key_binding.emacs_state' from 'c:\\\\users\\\\rhie\\\\appdata\\\\local\\\\programs\\\\python\\\\python39\\\\lib\\\\site-packages\\\\prompt_toolkit\\\\key_binding\\\\emacs_state.py'>,\n",
       " 'prompt_toolkit.layout.dummy': <module 'prompt_toolkit.layout.dummy' from 'c:\\\\users\\\\rhie\\\\appdata\\\\local\\\\programs\\\\python\\\\python39\\\\lib\\\\site-packages\\\\prompt_toolkit\\\\layout\\\\dummy.py'>,\n",
       " 'prompt_toolkit.renderer': <module 'prompt_toolkit.renderer' from 'c:\\\\users\\\\rhie\\\\appdata\\\\local\\\\programs\\\\python\\\\python39\\\\lib\\\\site-packages\\\\prompt_toolkit\\\\renderer.py'>,\n",
       " 'prompt_toolkit.application.application': <module 'prompt_toolkit.application.application' from 'c:\\\\users\\\\rhie\\\\appdata\\\\local\\\\programs\\\\python\\\\python39\\\\lib\\\\site-packages\\\\prompt_toolkit\\\\application\\\\application.py'>,\n",
       " 'prompt_toolkit.application.dummy': <module 'prompt_toolkit.application.dummy' from 'c:\\\\users\\\\rhie\\\\appdata\\\\local\\\\programs\\\\python\\\\python39\\\\lib\\\\site-packages\\\\prompt_toolkit\\\\application\\\\dummy.py'>,\n",
       " 'prompt_toolkit.application': <module 'prompt_toolkit.application' from 'c:\\\\users\\\\rhie\\\\appdata\\\\local\\\\programs\\\\python\\\\python39\\\\lib\\\\site-packages\\\\prompt_toolkit\\\\application\\\\__init__.py'>,\n",
       " 'prompt_toolkit.key_binding.bindings.focus': <module 'prompt_toolkit.key_binding.bindings.focus' from 'c:\\\\users\\\\rhie\\\\appdata\\\\local\\\\programs\\\\python\\\\python39\\\\lib\\\\site-packages\\\\prompt_toolkit\\\\key_binding\\\\bindings\\\\focus.py'>,\n",
       " 'prompt_toolkit.widgets.toolbars': <module 'prompt_toolkit.widgets.toolbars' from 'c:\\\\users\\\\rhie\\\\appdata\\\\local\\\\programs\\\\python\\\\python39\\\\lib\\\\site-packages\\\\prompt_toolkit\\\\widgets\\\\toolbars.py'>,\n",
       " 'prompt_toolkit.widgets.base': <module 'prompt_toolkit.widgets.base' from 'c:\\\\users\\\\rhie\\\\appdata\\\\local\\\\programs\\\\python\\\\python39\\\\lib\\\\site-packages\\\\prompt_toolkit\\\\widgets\\\\base.py'>,\n",
       " 'prompt_toolkit.widgets.dialogs': <module 'prompt_toolkit.widgets.dialogs' from 'c:\\\\users\\\\rhie\\\\appdata\\\\local\\\\programs\\\\python\\\\python39\\\\lib\\\\site-packages\\\\prompt_toolkit\\\\widgets\\\\dialogs.py'>,\n",
       " 'prompt_toolkit.widgets.menus': <module 'prompt_toolkit.widgets.menus' from 'c:\\\\users\\\\rhie\\\\appdata\\\\local\\\\programs\\\\python\\\\python39\\\\lib\\\\site-packages\\\\prompt_toolkit\\\\widgets\\\\menus.py'>,\n",
       " 'prompt_toolkit.widgets': <module 'prompt_toolkit.widgets' from 'c:\\\\users\\\\rhie\\\\appdata\\\\local\\\\programs\\\\python\\\\python39\\\\lib\\\\site-packages\\\\prompt_toolkit\\\\widgets\\\\__init__.py'>,\n",
       " 'prompt_toolkit.shortcuts.dialogs': <module 'prompt_toolkit.shortcuts.dialogs' from 'c:\\\\users\\\\rhie\\\\appdata\\\\local\\\\programs\\\\python\\\\python39\\\\lib\\\\site-packages\\\\prompt_toolkit\\\\shortcuts\\\\dialogs.py'>,\n",
       " 'prompt_toolkit.shortcuts.progress_bar.formatters': <module 'prompt_toolkit.shortcuts.progress_bar.formatters' from 'c:\\\\users\\\\rhie\\\\appdata\\\\local\\\\programs\\\\python\\\\python39\\\\lib\\\\site-packages\\\\prompt_toolkit\\\\shortcuts\\\\progress_bar\\\\formatters.py'>,\n",
       " 'prompt_toolkit.shortcuts.progress_bar.base': <module 'prompt_toolkit.shortcuts.progress_bar.base' from 'c:\\\\users\\\\rhie\\\\appdata\\\\local\\\\programs\\\\python\\\\python39\\\\lib\\\\site-packages\\\\prompt_toolkit\\\\shortcuts\\\\progress_bar\\\\base.py'>,\n",
       " 'prompt_toolkit.shortcuts.progress_bar': <module 'prompt_toolkit.shortcuts.progress_bar' from 'c:\\\\users\\\\rhie\\\\appdata\\\\local\\\\programs\\\\python\\\\python39\\\\lib\\\\site-packages\\\\prompt_toolkit\\\\shortcuts\\\\progress_bar\\\\__init__.py'>,\n",
       " 'prompt_toolkit.key_binding.bindings.auto_suggest': <module 'prompt_toolkit.key_binding.bindings.auto_suggest' from 'c:\\\\users\\\\rhie\\\\appdata\\\\local\\\\programs\\\\python\\\\python39\\\\lib\\\\site-packages\\\\prompt_toolkit\\\\key_binding\\\\bindings\\\\auto_suggest.py'>,\n",
       " 'prompt_toolkit.key_binding.bindings.open_in_editor': <module 'prompt_toolkit.key_binding.bindings.open_in_editor' from 'c:\\\\users\\\\rhie\\\\appdata\\\\local\\\\programs\\\\python\\\\python39\\\\lib\\\\site-packages\\\\prompt_toolkit\\\\key_binding\\\\bindings\\\\open_in_editor.py'>,\n",
       " 'prompt_toolkit.shortcuts.prompt': <module 'prompt_toolkit.shortcuts.prompt' from 'c:\\\\users\\\\rhie\\\\appdata\\\\local\\\\programs\\\\python\\\\python39\\\\lib\\\\site-packages\\\\prompt_toolkit\\\\shortcuts\\\\prompt.py'>,\n",
       " 'prompt_toolkit.shortcuts.utils': <module 'prompt_toolkit.shortcuts.utils' from 'c:\\\\users\\\\rhie\\\\appdata\\\\local\\\\programs\\\\python\\\\python39\\\\lib\\\\site-packages\\\\prompt_toolkit\\\\shortcuts\\\\utils.py'>,\n",
       " 'prompt_toolkit.shortcuts': <module 'prompt_toolkit.shortcuts' from 'c:\\\\users\\\\rhie\\\\appdata\\\\local\\\\programs\\\\python\\\\python39\\\\lib\\\\site-packages\\\\prompt_toolkit\\\\shortcuts\\\\__init__.py'>,\n",
       " 'prompt_toolkit': <module 'prompt_toolkit' from 'c:\\\\users\\\\rhie\\\\appdata\\\\local\\\\programs\\\\python\\\\python39\\\\lib\\\\site-packages\\\\prompt_toolkit\\\\__init__.py'>,\n",
       " '_queue': <module '_queue' from 'c:\\\\users\\\\rhie\\\\appdata\\\\local\\\\programs\\\\python\\\\python39\\\\DLLs\\\\_queue.pyd'>,\n",
       " 'queue': <module 'queue' from 'c:\\\\users\\\\rhie\\\\appdata\\\\local\\\\programs\\\\python\\\\python39\\\\lib\\\\queue.py'>,\n",
       " 'prompt_toolkit.patch_stdout': <module 'prompt_toolkit.patch_stdout' from 'c:\\\\users\\\\rhie\\\\appdata\\\\local\\\\programs\\\\python\\\\python39\\\\lib\\\\site-packages\\\\prompt_toolkit\\\\patch_stdout.py'>,\n",
       " 'pygments.style': <module 'pygments.style' from 'c:\\\\users\\\\rhie\\\\appdata\\\\local\\\\programs\\\\python\\\\python39\\\\lib\\\\site-packages\\\\pygments\\\\style.py'>,\n",
       " 'unicodedata': <module 'unicodedata' from 'c:\\\\users\\\\rhie\\\\appdata\\\\local\\\\programs\\\\python\\\\python39\\\\DLLs\\\\unicodedata.pyd'>,\n",
       " 'IPython.core.latex_symbols': <module 'IPython.core.latex_symbols' from 'c:\\\\users\\\\rhie\\\\appdata\\\\local\\\\programs\\\\python\\\\python39\\\\lib\\\\site-packages\\\\IPython\\\\core\\\\latex_symbols.py'>,\n",
       " 'IPython.utils.generics': <module 'IPython.utils.generics' from 'c:\\\\users\\\\rhie\\\\appdata\\\\local\\\\programs\\\\python\\\\python39\\\\lib\\\\site-packages\\\\IPython\\\\utils\\\\generics.py'>,\n",
       " 'parso.utils': <module 'parso.utils' from 'c:\\\\users\\\\rhie\\\\appdata\\\\local\\\\programs\\\\python\\\\python39\\\\lib\\\\site-packages\\\\parso\\\\utils.py'>,\n",
       " 'parso.tree': <module 'parso.tree' from 'c:\\\\users\\\\rhie\\\\appdata\\\\local\\\\programs\\\\python\\\\python39\\\\lib\\\\site-packages\\\\parso\\\\tree.py'>,\n",
       " 'parso.python': <module 'parso.python' from 'c:\\\\users\\\\rhie\\\\appdata\\\\local\\\\programs\\\\python\\\\python39\\\\lib\\\\site-packages\\\\parso\\\\python\\\\__init__.py'>,\n",
       " 'parso.python.token': <module 'parso.python.token' from 'c:\\\\users\\\\rhie\\\\appdata\\\\local\\\\programs\\\\python\\\\python39\\\\lib\\\\site-packages\\\\parso\\\\python\\\\token.py'>,\n",
       " 'parso.python.tokenize': <module 'parso.python.tokenize' from 'c:\\\\users\\\\rhie\\\\appdata\\\\local\\\\programs\\\\python\\\\python39\\\\lib\\\\site-packages\\\\parso\\\\python\\\\tokenize.py'>,\n",
       " 'parso.pgen2.grammar_parser': <module 'parso.pgen2.grammar_parser' from 'c:\\\\users\\\\rhie\\\\appdata\\\\local\\\\programs\\\\python\\\\python39\\\\lib\\\\site-packages\\\\parso\\\\pgen2\\\\grammar_parser.py'>,\n",
       " 'parso.pgen2.generator': <module 'parso.pgen2.generator' from 'c:\\\\users\\\\rhie\\\\appdata\\\\local\\\\programs\\\\python\\\\python39\\\\lib\\\\site-packages\\\\parso\\\\pgen2\\\\generator.py'>,\n",
       " 'parso.pgen2': <module 'parso.pgen2' from 'c:\\\\users\\\\rhie\\\\appdata\\\\local\\\\programs\\\\python\\\\python39\\\\lib\\\\site-packages\\\\parso\\\\pgen2\\\\__init__.py'>,\n",
       " 'parso.parser': <module 'parso.parser' from 'c:\\\\users\\\\rhie\\\\appdata\\\\local\\\\programs\\\\python\\\\python39\\\\lib\\\\site-packages\\\\parso\\\\parser.py'>,\n",
       " 'parso._compatibility': <module 'parso._compatibility' from 'c:\\\\users\\\\rhie\\\\appdata\\\\local\\\\programs\\\\python\\\\python39\\\\lib\\\\site-packages\\\\parso\\\\_compatibility.py'>,\n",
       " 'difflib': <module 'difflib' from 'c:\\\\users\\\\rhie\\\\appdata\\\\local\\\\programs\\\\python\\\\python39\\\\lib\\\\difflib.py'>,\n",
       " 'parso.python.prefix': <module 'parso.python.prefix' from 'c:\\\\users\\\\rhie\\\\appdata\\\\local\\\\programs\\\\python\\\\python39\\\\lib\\\\site-packages\\\\parso\\\\python\\\\prefix.py'>,\n",
       " 'parso.python.tree': <module 'parso.python.tree' from 'c:\\\\users\\\\rhie\\\\appdata\\\\local\\\\programs\\\\python\\\\python39\\\\lib\\\\site-packages\\\\parso\\\\python\\\\tree.py'>,\n",
       " 'parso.python.parser': <module 'parso.python.parser' from 'c:\\\\users\\\\rhie\\\\appdata\\\\local\\\\programs\\\\python\\\\python39\\\\lib\\\\site-packages\\\\parso\\\\python\\\\parser.py'>,\n",
       " 'parso.python.diff': <module 'parso.python.diff' from 'c:\\\\users\\\\rhie\\\\appdata\\\\local\\\\programs\\\\python\\\\python39\\\\lib\\\\site-packages\\\\parso\\\\python\\\\diff.py'>,\n",
       " 'gc': <module 'gc' (built-in)>,\n",
       " 'parso.cache': <module 'parso.cache' from 'c:\\\\users\\\\rhie\\\\appdata\\\\local\\\\programs\\\\python\\\\python39\\\\lib\\\\site-packages\\\\parso\\\\cache.py'>,\n",
       " 'parso.normalizer': <module 'parso.normalizer' from 'c:\\\\users\\\\rhie\\\\appdata\\\\local\\\\programs\\\\python\\\\python39\\\\lib\\\\site-packages\\\\parso\\\\normalizer.py'>,\n",
       " 'parso.python.errors': <module 'parso.python.errors' from 'c:\\\\users\\\\rhie\\\\appdata\\\\local\\\\programs\\\\python\\\\python39\\\\lib\\\\site-packages\\\\parso\\\\python\\\\errors.py'>,\n",
       " 'parso.python.pep8': <module 'parso.python.pep8' from 'c:\\\\users\\\\rhie\\\\appdata\\\\local\\\\programs\\\\python\\\\python39\\\\lib\\\\site-packages\\\\parso\\\\python\\\\pep8.py'>,\n",
       " 'parso.file_io': <module 'parso.file_io' from 'c:\\\\users\\\\rhie\\\\appdata\\\\local\\\\programs\\\\python\\\\python39\\\\lib\\\\site-packages\\\\parso\\\\file_io.py'>,\n",
       " 'parso.grammar': <module 'parso.grammar' from 'c:\\\\users\\\\rhie\\\\appdata\\\\local\\\\programs\\\\python\\\\python39\\\\lib\\\\site-packages\\\\parso\\\\grammar.py'>,\n",
       " 'parso': <module 'parso' from 'c:\\\\users\\\\rhie\\\\appdata\\\\local\\\\programs\\\\python\\\\python39\\\\lib\\\\site-packages\\\\parso\\\\__init__.py'>,\n",
       " 'jedi._compatibility': <module 'jedi._compatibility' from 'c:\\\\users\\\\rhie\\\\appdata\\\\local\\\\programs\\\\python\\\\python39\\\\lib\\\\site-packages\\\\jedi\\\\_compatibility.py'>,\n",
       " 'jedi.parser_utils': <module 'jedi.parser_utils' from 'c:\\\\users\\\\rhie\\\\appdata\\\\local\\\\programs\\\\python\\\\python39\\\\lib\\\\site-packages\\\\jedi\\\\parser_utils.py'>,\n",
       " 'jedi.debug': <module 'jedi.debug' from 'c:\\\\users\\\\rhie\\\\appdata\\\\local\\\\programs\\\\python\\\\python39\\\\lib\\\\site-packages\\\\jedi\\\\debug.py'>,\n",
       " 'jedi.settings': <module 'jedi.settings' from 'c:\\\\users\\\\rhie\\\\appdata\\\\local\\\\programs\\\\python\\\\python39\\\\lib\\\\site-packages\\\\jedi\\\\settings.py'>,\n",
       " 'jedi.cache': <module 'jedi.cache' from 'c:\\\\users\\\\rhie\\\\appdata\\\\local\\\\programs\\\\python\\\\python39\\\\lib\\\\site-packages\\\\jedi\\\\cache.py'>,\n",
       " 'jedi.file_io': <module 'jedi.file_io' from 'c:\\\\users\\\\rhie\\\\appdata\\\\local\\\\programs\\\\python\\\\python39\\\\lib\\\\site-packages\\\\jedi\\\\file_io.py'>,\n",
       " 'jedi.inference.cache': <module 'jedi.inference.cache' from 'c:\\\\users\\\\rhie\\\\appdata\\\\local\\\\programs\\\\python\\\\python39\\\\lib\\\\site-packages\\\\jedi\\\\inference\\\\cache.py'>,\n",
       " 'jedi.inference.helpers': <module 'jedi.inference.helpers' from 'c:\\\\users\\\\rhie\\\\appdata\\\\local\\\\programs\\\\python\\\\python39\\\\lib\\\\site-packages\\\\jedi\\\\inference\\\\helpers.py'>,\n",
       " 'jedi.inference.utils': <module 'jedi.inference.utils' from 'c:\\\\users\\\\rhie\\\\appdata\\\\local\\\\programs\\\\python\\\\python39\\\\lib\\\\site-packages\\\\jedi\\\\inference\\\\utils.py'>,\n",
       " 'jedi.inference.base_value': <module 'jedi.inference.base_value' from 'c:\\\\users\\\\rhie\\\\appdata\\\\local\\\\programs\\\\python\\\\python39\\\\lib\\\\site-packages\\\\jedi\\\\inference\\\\base_value.py'>,\n",
       " 'jedi.inference.sys_path': <module 'jedi.inference.sys_path' from 'c:\\\\users\\\\rhie\\\\appdata\\\\local\\\\programs\\\\python\\\\python39\\\\lib\\\\site-packages\\\\jedi\\\\inference\\\\sys_path.py'>,\n",
       " 'jedi.inference.recursion': <module 'jedi.inference.recursion' from 'c:\\\\users\\\\rhie\\\\appdata\\\\local\\\\programs\\\\python\\\\python39\\\\lib\\\\site-packages\\\\jedi\\\\inference\\\\recursion.py'>,\n",
       " 'jedi.inference.flow_analysis': <module 'jedi.inference.flow_analysis' from 'c:\\\\users\\\\rhie\\\\appdata\\\\local\\\\programs\\\\python\\\\python39\\\\lib\\\\site-packages\\\\jedi\\\\inference\\\\flow_analysis.py'>,\n",
       " 'jedi.common': <module 'jedi.common' from 'c:\\\\users\\\\rhie\\\\appdata\\\\local\\\\programs\\\\python\\\\python39\\\\lib\\\\site-packages\\\\jedi\\\\common.py'>,\n",
       " 'jedi.inference.lazy_value': <module 'jedi.inference.lazy_value' from 'c:\\\\users\\\\rhie\\\\appdata\\\\local\\\\programs\\\\python\\\\python39\\\\lib\\\\site-packages\\\\jedi\\\\inference\\\\lazy_value.py'>,\n",
       " 'jedi.inference.docstrings': <module 'jedi.inference.docstrings' from 'c:\\\\users\\\\rhie\\\\appdata\\\\local\\\\programs\\\\python\\\\python39\\\\lib\\\\site-packages\\\\jedi\\\\inference\\\\docstrings.py'>,\n",
       " 'jedi.plugins': <module 'jedi.plugins' from 'c:\\\\users\\\\rhie\\\\appdata\\\\local\\\\programs\\\\python\\\\python39\\\\lib\\\\site-packages\\\\jedi\\\\plugins\\\\__init__.py'>,\n",
       " 'jedi.inference.names': <module 'jedi.inference.names' from 'c:\\\\users\\\\rhie\\\\appdata\\\\local\\\\programs\\\\python\\\\python39\\\\lib\\\\site-packages\\\\jedi\\\\inference\\\\names.py'>,\n",
       " 'jedi.inference.filters': <module 'jedi.inference.filters' from 'c:\\\\users\\\\rhie\\\\appdata\\\\local\\\\programs\\\\python\\\\python39\\\\lib\\\\site-packages\\\\jedi\\\\inference\\\\filters.py'>,\n",
       " 'jedi.inference.compiled.getattr_static': <module 'jedi.inference.compiled.getattr_static' from 'c:\\\\users\\\\rhie\\\\appdata\\\\local\\\\programs\\\\python\\\\python39\\\\lib\\\\site-packages\\\\jedi\\\\inference\\\\compiled\\\\getattr_static.py'>,\n",
       " 'jedi.inference.compiled.access': <module 'jedi.inference.compiled.access' from 'c:\\\\users\\\\rhie\\\\appdata\\\\local\\\\programs\\\\python\\\\python39\\\\lib\\\\site-packages\\\\jedi\\\\inference\\\\compiled\\\\access.py'>,\n",
       " 'jedi.inference.signature': <module 'jedi.inference.signature' from 'c:\\\\users\\\\rhie\\\\appdata\\\\local\\\\programs\\\\python\\\\python39\\\\lib\\\\site-packages\\\\jedi\\\\inference\\\\signature.py'>,\n",
       " 'jedi.inference.context': <module 'jedi.inference.context' from 'c:\\\\users\\\\rhie\\\\appdata\\\\local\\\\programs\\\\python\\\\python39\\\\lib\\\\site-packages\\\\jedi\\\\inference\\\\context.py'>,\n",
       " 'jedi.inference.compiled.value': <module 'jedi.inference.compiled.value' from 'c:\\\\users\\\\rhie\\\\appdata\\\\local\\\\programs\\\\python\\\\python39\\\\lib\\\\site-packages\\\\jedi\\\\inference\\\\compiled\\\\value.py'>,\n",
       " 'jedi.inference.compiled': <module 'jedi.inference.compiled' from 'c:\\\\users\\\\rhie\\\\appdata\\\\local\\\\programs\\\\python\\\\python39\\\\lib\\\\site-packages\\\\jedi\\\\inference\\\\compiled\\\\__init__.py'>,\n",
       " 'jedi.inference.analysis': <module 'jedi.inference.analysis' from 'c:\\\\users\\\\rhie\\\\appdata\\\\local\\\\programs\\\\python\\\\python39\\\\lib\\\\site-packages\\\\jedi\\\\inference\\\\analysis.py'>,\n",
       " 'jedi.inference.gradual': <module 'jedi.inference.gradual' from 'c:\\\\users\\\\rhie\\\\appdata\\\\local\\\\programs\\\\python\\\\python39\\\\lib\\\\site-packages\\\\jedi\\\\inference\\\\gradual\\\\__init__.py'>,\n",
       " 'jedi.inference.value.module': <module 'jedi.inference.value.module' from 'c:\\\\users\\\\rhie\\\\appdata\\\\local\\\\programs\\\\python\\\\python39\\\\lib\\\\site-packages\\\\jedi\\\\inference\\\\value\\\\module.py'>,\n",
       " 'jedi.inference.value.dynamic_arrays': <module 'jedi.inference.value.dynamic_arrays' from 'c:\\\\users\\\\rhie\\\\appdata\\\\local\\\\programs\\\\python\\\\python39\\\\lib\\\\site-packages\\\\jedi\\\\inference\\\\value\\\\dynamic_arrays.py'>,\n",
       " 'jedi.inference.value.iterable': <module 'jedi.inference.value.iterable' from 'c:\\\\users\\\\rhie\\\\appdata\\\\local\\\\programs\\\\python\\\\python39\\\\lib\\\\site-packages\\\\jedi\\\\inference\\\\value\\\\iterable.py'>,\n",
       " 'jedi.inference.arguments': <module 'jedi.inference.arguments' from 'c:\\\\users\\\\rhie\\\\appdata\\\\local\\\\programs\\\\python\\\\python39\\\\lib\\\\site-packages\\\\jedi\\\\inference\\\\arguments.py'>,\n",
       " 'jedi.inference.parser_cache': <module 'jedi.inference.parser_cache' from 'c:\\\\users\\\\rhie\\\\appdata\\\\local\\\\programs\\\\python\\\\python39\\\\lib\\\\site-packages\\\\jedi\\\\inference\\\\parser_cache.py'>,\n",
       " 'jedi.inference.gradual.generics': <module 'jedi.inference.gradual.generics' from 'c:\\\\users\\\\rhie\\\\appdata\\\\local\\\\programs\\\\python\\\\python39\\\\lib\\\\site-packages\\\\jedi\\\\inference\\\\gradual\\\\generics.py'>,\n",
       " 'jedi.inference.value.function': <module 'jedi.inference.value.function' from 'c:\\\\users\\\\rhie\\\\appdata\\\\local\\\\programs\\\\python\\\\python39\\\\lib\\\\site-packages\\\\jedi\\\\inference\\\\value\\\\function.py'>,\n",
       " 'jedi.inference.value.klass': <module 'jedi.inference.value.klass' from 'c:\\\\users\\\\rhie\\\\appdata\\\\local\\\\programs\\\\python\\\\python39\\\\lib\\\\site-packages\\\\jedi\\\\inference\\\\value\\\\klass.py'>,\n",
       " 'jedi.inference.value.instance': <module 'jedi.inference.value.instance' from 'c:\\\\users\\\\rhie\\\\appdata\\\\local\\\\programs\\\\python\\\\python39\\\\lib\\\\site-packages\\\\jedi\\\\inference\\\\value\\\\instance.py'>,\n",
       " 'jedi.inference.value': <module 'jedi.inference.value' from 'c:\\\\users\\\\rhie\\\\appdata\\\\local\\\\programs\\\\python\\\\python39\\\\lib\\\\site-packages\\\\jedi\\\\inference\\\\value\\\\__init__.py'>,\n",
       " 'jedi.inference.gradual.base': <module 'jedi.inference.gradual.base' from 'c:\\\\users\\\\rhie\\\\appdata\\\\local\\\\programs\\\\python\\\\python39\\\\lib\\\\site-packages\\\\jedi\\\\inference\\\\gradual\\\\base.py'>,\n",
       " 'jedi.inference.gradual.type_var': <module 'jedi.inference.gradual.type_var' from 'c:\\\\users\\\\rhie\\\\appdata\\\\local\\\\programs\\\\python\\\\python39\\\\lib\\\\site-packages\\\\jedi\\\\inference\\\\gradual\\\\type_var.py'>,\n",
       " 'jedi.inference.gradual.typing': <module 'jedi.inference.gradual.typing' from 'c:\\\\users\\\\rhie\\\\appdata\\\\local\\\\programs\\\\python\\\\python39\\\\lib\\\\site-packages\\\\jedi\\\\inference\\\\gradual\\\\typing.py'>,\n",
       " 'jedi.inference.gradual.stub_value': <module 'jedi.inference.gradual.stub_value' from 'c:\\\\users\\\\rhie\\\\appdata\\\\local\\\\programs\\\\python\\\\python39\\\\lib\\\\site-packages\\\\jedi\\\\inference\\\\gradual\\\\stub_value.py'>,\n",
       " 'jedi.inference.gradual.typeshed': <module 'jedi.inference.gradual.typeshed' from 'c:\\\\users\\\\rhie\\\\appdata\\\\local\\\\programs\\\\python\\\\python39\\\\lib\\\\site-packages\\\\jedi\\\\inference\\\\gradual\\\\typeshed.py'>,\n",
       " 'jedi.inference.compiled.subprocess.functions': <module 'jedi.inference.compiled.subprocess.functions' from 'c:\\\\users\\\\rhie\\\\appdata\\\\local\\\\programs\\\\python\\\\python39\\\\lib\\\\site-packages\\\\jedi\\\\inference\\\\compiled\\\\subprocess\\\\functions.py'>,\n",
       " 'jedi.api.exceptions': <module 'jedi.api.exceptions' from 'c:\\\\users\\\\rhie\\\\appdata\\\\local\\\\programs\\\\python\\\\python39\\\\lib\\\\site-packages\\\\jedi\\\\api\\\\exceptions.py'>,\n",
       " 'jedi.inference.compiled.subprocess': <module 'jedi.inference.compiled.subprocess' from 'c:\\\\users\\\\rhie\\\\appdata\\\\local\\\\programs\\\\python\\\\python39\\\\lib\\\\site-packages\\\\jedi\\\\inference\\\\compiled\\\\subprocess\\\\__init__.py'>,\n",
       " 'jedi.inference.imports': <module 'jedi.inference.imports' from 'c:\\\\users\\\\rhie\\\\appdata\\\\local\\\\programs\\\\python\\\\python39\\\\lib\\\\site-packages\\\\jedi\\\\inference\\\\imports.py'>,\n",
       " 'jedi.inference.param': <module 'jedi.inference.param' from 'c:\\\\users\\\\rhie\\\\appdata\\\\local\\\\programs\\\\python\\\\python39\\\\lib\\\\site-packages\\\\jedi\\\\inference\\\\param.py'>,\n",
       " 'jedi.inference.gradual.annotation': <module 'jedi.inference.gradual.annotation' from 'c:\\\\users\\\\rhie\\\\appdata\\\\local\\\\programs\\\\python\\\\python39\\\\lib\\\\site-packages\\\\jedi\\\\inference\\\\gradual\\\\annotation.py'>,\n",
       " 'jedi.inference.value.decorator': <module 'jedi.inference.value.decorator' from 'c:\\\\users\\\\rhie\\\\appdata\\\\local\\\\programs\\\\python\\\\python39\\\\lib\\\\site-packages\\\\jedi\\\\inference\\\\value\\\\decorator.py'>,\n",
       " 'jedi.inference.syntax_tree': <module 'jedi.inference.syntax_tree' from 'c:\\\\users\\\\rhie\\\\appdata\\\\local\\\\programs\\\\python\\\\python39\\\\lib\\\\site-packages\\\\jedi\\\\inference\\\\syntax_tree.py'>,\n",
       " 'jedi.inference': <module 'jedi.inference' from 'c:\\\\users\\\\rhie\\\\appdata\\\\local\\\\programs\\\\python\\\\python39\\\\lib\\\\site-packages\\\\jedi\\\\inference\\\\__init__.py'>,\n",
       " 'jedi.inference.gradual.conversion': <module 'jedi.inference.gradual.conversion' from 'c:\\\\users\\\\rhie\\\\appdata\\\\local\\\\programs\\\\python\\\\python39\\\\lib\\\\site-packages\\\\jedi\\\\inference\\\\gradual\\\\conversion.py'>,\n",
       " 'jedi.inference.compiled.mixed': <module 'jedi.inference.compiled.mixed' from 'c:\\\\users\\\\rhie\\\\appdata\\\\local\\\\programs\\\\python\\\\python39\\\\lib\\\\site-packages\\\\jedi\\\\inference\\\\compiled\\\\mixed.py'>,\n",
       " 'pydoc_data': <module 'pydoc_data' from 'c:\\\\users\\\\rhie\\\\appdata\\\\local\\\\programs\\\\python\\\\python39\\\\lib\\\\pydoc_data\\\\__init__.py'>,\n",
       " 'pydoc_data.topics': <module 'pydoc_data.topics' from 'c:\\\\users\\\\rhie\\\\appdata\\\\local\\\\programs\\\\python\\\\python39\\\\lib\\\\pydoc_data\\\\topics.py'>,\n",
       " 'jedi.api.keywords': <module 'jedi.api.keywords' from 'c:\\\\users\\\\rhie\\\\appdata\\\\local\\\\programs\\\\python\\\\python39\\\\lib\\\\site-packages\\\\jedi\\\\api\\\\keywords.py'>,\n",
       " 'jedi.api.completion_cache': <module 'jedi.api.completion_cache' from 'c:\\\\users\\\\rhie\\\\appdata\\\\local\\\\programs\\\\python\\\\python39\\\\lib\\\\site-packages\\\\jedi\\\\api\\\\completion_cache.py'>,\n",
       " 'jedi.api.helpers': <module 'jedi.api.helpers' from 'c:\\\\users\\\\rhie\\\\appdata\\\\local\\\\programs\\\\python\\\\python39\\\\lib\\\\site-packages\\\\jedi\\\\api\\\\helpers.py'>,\n",
       " 'jedi.api.classes': <module 'jedi.api.classes' from 'c:\\\\users\\\\rhie\\\\appdata\\\\local\\\\programs\\\\python\\\\python39\\\\lib\\\\site-packages\\\\jedi\\\\api\\\\classes.py'>,\n",
       " 'jedi.api.interpreter': <module 'jedi.api.interpreter' from 'c:\\\\users\\\\rhie\\\\appdata\\\\local\\\\programs\\\\python\\\\python39\\\\lib\\\\site-packages\\\\jedi\\\\api\\\\interpreter.py'>,\n",
       " 'jedi.api.strings': <module 'jedi.api.strings' from 'c:\\\\users\\\\rhie\\\\appdata\\\\local\\\\programs\\\\python\\\\python39\\\\lib\\\\site-packages\\\\jedi\\\\api\\\\strings.py'>,\n",
       " 'jedi.api.file_name': <module 'jedi.api.file_name' from 'c:\\\\users\\\\rhie\\\\appdata\\\\local\\\\programs\\\\python\\\\python39\\\\lib\\\\site-packages\\\\jedi\\\\api\\\\file_name.py'>,\n",
       " 'jedi.api.completion': <module 'jedi.api.completion' from 'c:\\\\users\\\\rhie\\\\appdata\\\\local\\\\programs\\\\python\\\\python39\\\\lib\\\\site-packages\\\\jedi\\\\api\\\\completion.py'>,\n",
       " 'filecmp': <module 'filecmp' from 'c:\\\\users\\\\rhie\\\\appdata\\\\local\\\\programs\\\\python\\\\python39\\\\lib\\\\filecmp.py'>,\n",
       " 'jedi.api.environment': <module 'jedi.api.environment' from 'c:\\\\users\\\\rhie\\\\appdata\\\\local\\\\programs\\\\python\\\\python39\\\\lib\\\\site-packages\\\\jedi\\\\api\\\\environment.py'>,\n",
       " 'jedi.inference.references': <module 'jedi.inference.references' from 'c:\\\\users\\\\rhie\\\\appdata\\\\local\\\\programs\\\\python\\\\python39\\\\lib\\\\site-packages\\\\jedi\\\\inference\\\\references.py'>,\n",
       " 'jedi.api.project': <module 'jedi.api.project' from 'c:\\\\users\\\\rhie\\\\appdata\\\\local\\\\programs\\\\python\\\\python39\\\\lib\\\\site-packages\\\\jedi\\\\api\\\\project.py'>,\n",
       " 'jedi.api.errors': <module 'jedi.api.errors' from 'c:\\\\users\\\\rhie\\\\appdata\\\\local\\\\programs\\\\python\\\\python39\\\\lib\\\\site-packages\\\\jedi\\\\api\\\\errors.py'>,\n",
       " 'jedi.api.refactoring': <module 'jedi.api.refactoring' from 'c:\\\\users\\\\rhie\\\\appdata\\\\local\\\\programs\\\\python\\\\python39\\\\lib\\\\site-packages\\\\jedi\\\\api\\\\refactoring\\\\__init__.py'>,\n",
       " 'jedi.api.refactoring.extract': <module 'jedi.api.refactoring.extract' from 'c:\\\\users\\\\rhie\\\\appdata\\\\local\\\\programs\\\\python\\\\python39\\\\lib\\\\site-packages\\\\jedi\\\\api\\\\refactoring\\\\extract.py'>,\n",
       " 'jedi.inference.gradual.utils': <module 'jedi.inference.gradual.utils' from 'c:\\\\users\\\\rhie\\\\appdata\\\\local\\\\programs\\\\python\\\\python39\\\\lib\\\\site-packages\\\\jedi\\\\inference\\\\gradual\\\\utils.py'>,\n",
       " 'jedi.api': <module 'jedi.api' from 'c:\\\\users\\\\rhie\\\\appdata\\\\local\\\\programs\\\\python\\\\python39\\\\lib\\\\site-packages\\\\jedi\\\\api\\\\__init__.py'>,\n",
       " 'jedi.plugins.stdlib': <module 'jedi.plugins.stdlib' from 'c:\\\\users\\\\rhie\\\\appdata\\\\local\\\\programs\\\\python\\\\python39\\\\lib\\\\site-packages\\\\jedi\\\\plugins\\\\stdlib.py'>,\n",
       " 'jedi.plugins.flask': <module 'jedi.plugins.flask' from 'c:\\\\users\\\\rhie\\\\appdata\\\\local\\\\programs\\\\python\\\\python39\\\\lib\\\\site-packages\\\\jedi\\\\plugins\\\\flask.py'>,\n",
       " 'jedi.plugins.pytest': <module 'jedi.plugins.pytest' from 'c:\\\\users\\\\rhie\\\\appdata\\\\local\\\\programs\\\\python\\\\python39\\\\lib\\\\site-packages\\\\jedi\\\\plugins\\\\pytest.py'>,\n",
       " 'jedi.plugins.django': <module 'jedi.plugins.django' from 'c:\\\\users\\\\rhie\\\\appdata\\\\local\\\\programs\\\\python\\\\python39\\\\lib\\\\site-packages\\\\jedi\\\\plugins\\\\django.py'>,\n",
       " 'jedi.plugins.registry': <module 'jedi.plugins.registry' from 'c:\\\\users\\\\rhie\\\\appdata\\\\local\\\\programs\\\\python\\\\python39\\\\lib\\\\site-packages\\\\jedi\\\\plugins\\\\registry.py'>,\n",
       " 'jedi': <module 'jedi' from 'c:\\\\users\\\\rhie\\\\appdata\\\\local\\\\programs\\\\python\\\\python39\\\\lib\\\\site-packages\\\\jedi\\\\__init__.py'>,\n",
       " 'IPython.core.completer': <module 'IPython.core.completer' from 'c:\\\\users\\\\rhie\\\\appdata\\\\local\\\\programs\\\\python\\\\python39\\\\lib\\\\site-packages\\\\IPython\\\\core\\\\completer.py'>,\n",
       " 'IPython.terminal.ptutils': <module 'IPython.terminal.ptutils' from 'c:\\\\users\\\\rhie\\\\appdata\\\\local\\\\programs\\\\python\\\\python39\\\\lib\\\\site-packages\\\\IPython\\\\terminal\\\\ptutils.py'>,\n",
       " 'IPython.lib.clipboard': <module 'IPython.lib.clipboard' from 'c:\\\\users\\\\rhie\\\\appdata\\\\local\\\\programs\\\\python\\\\python39\\\\lib\\\\site-packages\\\\IPython\\\\lib\\\\clipboard.py'>,\n",
       " 'IPython.terminal.shortcuts': <module 'IPython.terminal.shortcuts' from 'c:\\\\users\\\\rhie\\\\appdata\\\\local\\\\programs\\\\python\\\\python39\\\\lib\\\\site-packages\\\\IPython\\\\terminal\\\\shortcuts.py'>,\n",
       " 'IPython.terminal.debugger': <module 'IPython.terminal.debugger' from 'c:\\\\users\\\\rhie\\\\appdata\\\\local\\\\programs\\\\python\\\\python39\\\\lib\\\\site-packages\\\\IPython\\\\terminal\\\\debugger.py'>,\n",
       " 'IPython.terminal.magics': <module 'IPython.terminal.magics' from 'c:\\\\users\\\\rhie\\\\appdata\\\\local\\\\programs\\\\python\\\\python39\\\\lib\\\\site-packages\\\\IPython\\\\terminal\\\\magics.py'>,\n",
       " 'IPython.terminal.pt_inputhooks': <module 'IPython.terminal.pt_inputhooks' from 'c:\\\\users\\\\rhie\\\\appdata\\\\local\\\\programs\\\\python\\\\python39\\\\lib\\\\site-packages\\\\IPython\\\\terminal\\\\pt_inputhooks\\\\__init__.py'>,\n",
       " 'IPython.terminal.prompts': <module 'IPython.terminal.prompts' from 'c:\\\\users\\\\rhie\\\\appdata\\\\local\\\\programs\\\\python\\\\python39\\\\lib\\\\site-packages\\\\IPython\\\\terminal\\\\prompts.py'>,\n",
       " 'IPython.terminal.interactiveshell': <module 'IPython.terminal.interactiveshell' from 'c:\\\\users\\\\rhie\\\\appdata\\\\local\\\\programs\\\\python\\\\python39\\\\lib\\\\site-packages\\\\IPython\\\\terminal\\\\interactiveshell.py'>,\n",
       " 'IPython.core.magics.auto': <module 'IPython.core.magics.auto' from 'c:\\\\users\\\\rhie\\\\appdata\\\\local\\\\programs\\\\python\\\\python39\\\\lib\\\\site-packages\\\\IPython\\\\core\\\\magics\\\\auto.py'>,\n",
       " 'IPython.core.magics.basic': <module 'IPython.core.magics.basic' from 'c:\\\\users\\\\rhie\\\\appdata\\\\local\\\\programs\\\\python\\\\python39\\\\lib\\\\site-packages\\\\IPython\\\\core\\\\magics\\\\basic.py'>,\n",
       " 'email': <module 'email' from 'c:\\\\users\\\\rhie\\\\appdata\\\\local\\\\programs\\\\python\\\\python39\\\\lib\\\\email\\\\__init__.py'>,\n",
       " 'http': <module 'http' from 'c:\\\\users\\\\rhie\\\\appdata\\\\local\\\\programs\\\\python\\\\python39\\\\lib\\\\http\\\\__init__.py'>,\n",
       " 'email.errors': <module 'email.errors' from 'c:\\\\users\\\\rhie\\\\appdata\\\\local\\\\programs\\\\python\\\\python39\\\\lib\\\\email\\\\errors.py'>,\n",
       " 'email.quoprimime': <module 'email.quoprimime' from 'c:\\\\users\\\\rhie\\\\appdata\\\\local\\\\programs\\\\python\\\\python39\\\\lib\\\\email\\\\quoprimime.py'>,\n",
       " 'email.base64mime': <module 'email.base64mime' from 'c:\\\\users\\\\rhie\\\\appdata\\\\local\\\\programs\\\\python\\\\python39\\\\lib\\\\email\\\\base64mime.py'>,\n",
       " 'quopri': <module 'quopri' from 'c:\\\\users\\\\rhie\\\\appdata\\\\local\\\\programs\\\\python\\\\python39\\\\lib\\\\quopri.py'>,\n",
       " 'email.encoders': <module 'email.encoders' from 'c:\\\\users\\\\rhie\\\\appdata\\\\local\\\\programs\\\\python\\\\python39\\\\lib\\\\email\\\\encoders.py'>,\n",
       " 'email.charset': <module 'email.charset' from 'c:\\\\users\\\\rhie\\\\appdata\\\\local\\\\programs\\\\python\\\\python39\\\\lib\\\\email\\\\charset.py'>,\n",
       " 'email.header': <module 'email.header' from 'c:\\\\users\\\\rhie\\\\appdata\\\\local\\\\programs\\\\python\\\\python39\\\\lib\\\\email\\\\header.py'>,\n",
       " 'calendar': <module 'calendar' from 'c:\\\\users\\\\rhie\\\\appdata\\\\local\\\\programs\\\\python\\\\python39\\\\lib\\\\calendar.py'>,\n",
       " 'email._parseaddr': <module 'email._parseaddr' from 'c:\\\\users\\\\rhie\\\\appdata\\\\local\\\\programs\\\\python\\\\python39\\\\lib\\\\email\\\\_parseaddr.py'>,\n",
       " 'email.utils': <module 'email.utils' from 'c:\\\\users\\\\rhie\\\\appdata\\\\local\\\\programs\\\\python\\\\python39\\\\lib\\\\email\\\\utils.py'>,\n",
       " 'email._policybase': <module 'email._policybase' from 'c:\\\\users\\\\rhie\\\\appdata\\\\local\\\\programs\\\\python\\\\python39\\\\lib\\\\email\\\\_policybase.py'>,\n",
       " 'email.feedparser': <module 'email.feedparser' from 'c:\\\\users\\\\rhie\\\\appdata\\\\local\\\\programs\\\\python\\\\python39\\\\lib\\\\email\\\\feedparser.py'>,\n",
       " 'email.parser': <module 'email.parser' from 'c:\\\\users\\\\rhie\\\\appdata\\\\local\\\\programs\\\\python\\\\python39\\\\lib\\\\email\\\\parser.py'>,\n",
       " 'uu': <module 'uu' from 'c:\\\\users\\\\rhie\\\\appdata\\\\local\\\\programs\\\\python\\\\python39\\\\lib\\\\uu.py'>,\n",
       " 'email._encoded_words': <module 'email._encoded_words' from 'c:\\\\users\\\\rhie\\\\appdata\\\\local\\\\programs\\\\python\\\\python39\\\\lib\\\\email\\\\_encoded_words.py'>,\n",
       " 'email.iterators': <module 'email.iterators' from 'c:\\\\users\\\\rhie\\\\appdata\\\\local\\\\programs\\\\python\\\\python39\\\\lib\\\\email\\\\iterators.py'>,\n",
       " 'email.message': <module 'email.message' from 'c:\\\\users\\\\rhie\\\\appdata\\\\local\\\\programs\\\\python\\\\python39\\\\lib\\\\email\\\\message.py'>,\n",
       " 'http.client': <module 'http.client' from 'c:\\\\users\\\\rhie\\\\appdata\\\\local\\\\programs\\\\python\\\\python39\\\\lib\\\\http\\\\client.py'>,\n",
       " 'urllib.response': <module 'urllib.response' from 'c:\\\\users\\\\rhie\\\\appdata\\\\local\\\\programs\\\\python\\\\python39\\\\lib\\\\urllib\\\\response.py'>,\n",
       " 'urllib.error': <module 'urllib.error' from 'c:\\\\users\\\\rhie\\\\appdata\\\\local\\\\programs\\\\python\\\\python39\\\\lib\\\\urllib\\\\error.py'>,\n",
       " 'nturl2path': <module 'nturl2path' from 'c:\\\\users\\\\rhie\\\\appdata\\\\local\\\\programs\\\\python\\\\python39\\\\lib\\\\nturl2path.py'>,\n",
       " 'urllib.request': <module 'urllib.request' from 'c:\\\\users\\\\rhie\\\\appdata\\\\local\\\\programs\\\\python\\\\python39\\\\lib\\\\urllib\\\\request.py'>,\n",
       " 'IPython.core.magics.code': <module 'IPython.core.magics.code' from 'c:\\\\users\\\\rhie\\\\appdata\\\\local\\\\programs\\\\python\\\\python39\\\\lib\\\\site-packages\\\\IPython\\\\core\\\\magics\\\\code.py'>,\n",
       " 'IPython.core.magics.config': <module 'IPython.core.magics.config' from 'c:\\\\users\\\\rhie\\\\appdata\\\\local\\\\programs\\\\python\\\\python39\\\\lib\\\\site-packages\\\\IPython\\\\core\\\\magics\\\\config.py'>,\n",
       " 'IPython.core.magics.display': <module 'IPython.core.magics.display' from 'c:\\\\users\\\\rhie\\\\appdata\\\\local\\\\programs\\\\python\\\\python39\\\\lib\\\\site-packages\\\\IPython\\\\core\\\\magics\\\\display.py'>,\n",
       " 'timeit': <module 'timeit' from 'c:\\\\users\\\\rhie\\\\appdata\\\\local\\\\programs\\\\python\\\\python39\\\\lib\\\\timeit.py'>,\n",
       " '_lsprof': <module '_lsprof' (built-in)>,\n",
       " 'profile': <module 'profile' from 'c:\\\\users\\\\rhie\\\\appdata\\\\local\\\\programs\\\\python\\\\python39\\\\lib\\\\profile.py'>,\n",
       " 'cProfile': <module 'cProfile' from 'c:\\\\users\\\\rhie\\\\appdata\\\\local\\\\programs\\\\python\\\\python39\\\\lib\\\\cProfile.py'>,\n",
       " 'dataclasses': <module 'dataclasses' from 'c:\\\\users\\\\rhie\\\\appdata\\\\local\\\\programs\\\\python\\\\python39\\\\lib\\\\dataclasses.py'>,\n",
       " 'pstats': <module 'pstats' from 'c:\\\\users\\\\rhie\\\\appdata\\\\local\\\\programs\\\\python\\\\python39\\\\lib\\\\pstats.py'>,\n",
       " 'IPython.utils.module_paths': <module 'IPython.utils.module_paths' from 'c:\\\\users\\\\rhie\\\\appdata\\\\local\\\\programs\\\\python\\\\python39\\\\lib\\\\site-packages\\\\IPython\\\\utils\\\\module_paths.py'>,\n",
       " 'IPython.utils.timing': <module 'IPython.utils.timing' from 'c:\\\\users\\\\rhie\\\\appdata\\\\local\\\\programs\\\\python\\\\python39\\\\lib\\\\site-packages\\\\IPython\\\\utils\\\\timing.py'>,\n",
       " 'IPython.core.magics.execution': <module 'IPython.core.magics.execution' from 'c:\\\\users\\\\rhie\\\\appdata\\\\local\\\\programs\\\\python\\\\python39\\\\lib\\\\site-packages\\\\IPython\\\\core\\\\magics\\\\execution.py'>,\n",
       " 'IPython.core.magics.extension': <module 'IPython.core.magics.extension' from 'c:\\\\users\\\\rhie\\\\appdata\\\\local\\\\programs\\\\python\\\\python39\\\\lib\\\\site-packages\\\\IPython\\\\core\\\\magics\\\\extension.py'>,\n",
       " 'IPython.core.magics.history': <module 'IPython.core.magics.history' from 'c:\\\\users\\\\rhie\\\\appdata\\\\local\\\\programs\\\\python\\\\python39\\\\lib\\\\site-packages\\\\IPython\\\\core\\\\magics\\\\history.py'>,\n",
       " 'IPython.core.magics.logging': <module 'IPython.core.magics.logging' from 'c:\\\\users\\\\rhie\\\\appdata\\\\local\\\\programs\\\\python\\\\python39\\\\lib\\\\site-packages\\\\IPython\\\\core\\\\magics\\\\logging.py'>,\n",
       " 'IPython.core.magics.namespace': <module 'IPython.core.magics.namespace' from 'c:\\\\users\\\\rhie\\\\appdata\\\\local\\\\programs\\\\python\\\\python39\\\\lib\\\\site-packages\\\\IPython\\\\core\\\\magics\\\\namespace.py'>,\n",
       " 'IPython.core.magics.osm': <module 'IPython.core.magics.osm' from 'c:\\\\users\\\\rhie\\\\appdata\\\\local\\\\programs\\\\python\\\\python39\\\\lib\\\\site-packages\\\\IPython\\\\core\\\\magics\\\\osm.py'>,\n",
       " 'IPython.core.magics.packaging': <module 'IPython.core.magics.packaging' from 'c:\\\\users\\\\rhie\\\\appdata\\\\local\\\\programs\\\\python\\\\python39\\\\lib\\\\site-packages\\\\IPython\\\\core\\\\magics\\\\packaging.py'>,\n",
       " 'IPython.core.pylabtools': <module 'IPython.core.pylabtools' from 'c:\\\\users\\\\rhie\\\\appdata\\\\local\\\\programs\\\\python\\\\python39\\\\lib\\\\site-packages\\\\IPython\\\\core\\\\pylabtools.py'>,\n",
       " 'IPython.core.magics.pylab': <module 'IPython.core.magics.pylab' from 'c:\\\\users\\\\rhie\\\\appdata\\\\local\\\\programs\\\\python\\\\python39\\\\lib\\\\site-packages\\\\IPython\\\\core\\\\magics\\\\pylab.py'>,\n",
       " 'IPython.lib.backgroundjobs': <module 'IPython.lib.backgroundjobs' from 'c:\\\\users\\\\rhie\\\\appdata\\\\local\\\\programs\\\\python\\\\python39\\\\lib\\\\site-packages\\\\IPython\\\\lib\\\\backgroundjobs.py'>,\n",
       " 'IPython.core.magics.script': <module 'IPython.core.magics.script' from 'c:\\\\users\\\\rhie\\\\appdata\\\\local\\\\programs\\\\python\\\\python39\\\\lib\\\\site-packages\\\\IPython\\\\core\\\\magics\\\\script.py'>,\n",
       " 'IPython.core.magics': <module 'IPython.core.magics' from 'c:\\\\users\\\\rhie\\\\appdata\\\\local\\\\programs\\\\python\\\\python39\\\\lib\\\\site-packages\\\\IPython\\\\core\\\\magics\\\\__init__.py'>,\n",
       " 'IPython.core.shellapp': <module 'IPython.core.shellapp' from 'c:\\\\users\\\\rhie\\\\appdata\\\\local\\\\programs\\\\python\\\\python39\\\\lib\\\\site-packages\\\\IPython\\\\core\\\\shellapp.py'>,\n",
       " 'IPython.extensions': <module 'IPython.extensions' from 'c:\\\\users\\\\rhie\\\\appdata\\\\local\\\\programs\\\\python\\\\python39\\\\lib\\\\site-packages\\\\IPython\\\\extensions\\\\__init__.py'>,\n",
       " 'IPython.extensions.storemagic': <module 'IPython.extensions.storemagic' from 'c:\\\\users\\\\rhie\\\\appdata\\\\local\\\\programs\\\\python\\\\python39\\\\lib\\\\site-packages\\\\IPython\\\\extensions\\\\storemagic.py'>,\n",
       " 'IPython.terminal.ipapp': <module 'IPython.terminal.ipapp' from 'c:\\\\users\\\\rhie\\\\appdata\\\\local\\\\programs\\\\python\\\\python39\\\\lib\\\\site-packages\\\\IPython\\\\terminal\\\\ipapp.py'>,\n",
       " 'IPython.terminal.embed': <module 'IPython.terminal.embed' from 'c:\\\\users\\\\rhie\\\\appdata\\\\local\\\\programs\\\\python\\\\python39\\\\lib\\\\site-packages\\\\IPython\\\\terminal\\\\embed.py'>,\n",
       " 'IPython.utils.frame': <module 'IPython.utils.frame' from 'c:\\\\users\\\\rhie\\\\appdata\\\\local\\\\programs\\\\python\\\\python39\\\\lib\\\\site-packages\\\\IPython\\\\utils\\\\frame.py'>,\n",
       " 'IPython': <module 'IPython' from 'c:\\\\users\\\\rhie\\\\appdata\\\\local\\\\programs\\\\python\\\\python39\\\\lib\\\\site-packages\\\\IPython\\\\__init__.py'>,\n",
       " 'jupyter_client._version': <module 'jupyter_client._version' from 'c:\\\\users\\\\rhie\\\\appdata\\\\local\\\\programs\\\\python\\\\python39\\\\lib\\\\site-packages\\\\jupyter_client\\\\_version.py'>,\n",
       " 'zmq.backend.select': <module 'zmq.backend.select' from 'c:\\\\users\\\\rhie\\\\appdata\\\\local\\\\programs\\\\python\\\\python39\\\\lib\\\\site-packages\\\\zmq\\\\backend\\\\select.py'>,\n",
       " 'cython_runtime': <module 'cython_runtime'>,\n",
       " 'zmq.backend.cython.constants': <module 'zmq.backend.cython.constants' from 'c:\\\\users\\\\rhie\\\\appdata\\\\local\\\\programs\\\\python\\\\python39\\\\lib\\\\site-packages\\\\zmq\\\\backend\\\\cython\\\\constants.cp39-win_amd64.pyd'>,\n",
       " '_cython_0_29_21': <module '_cython_0_29_21'>,\n",
       " 'zmq.backend.cython.error': <module 'zmq.backend.cython.error' from 'c:\\\\users\\\\rhie\\\\appdata\\\\local\\\\programs\\\\python\\\\python39\\\\lib\\\\site-packages\\\\zmq\\\\backend\\\\cython\\\\error.cp39-win_amd64.pyd'>,\n",
       " 'zmq.error': <module 'zmq.error' from 'c:\\\\users\\\\rhie\\\\appdata\\\\local\\\\programs\\\\python\\\\python39\\\\lib\\\\site-packages\\\\zmq\\\\error.py'>,\n",
       " 'zmq.backend.cython.message': <module 'zmq.backend.cython.message' from 'c:\\\\users\\\\rhie\\\\appdata\\\\local\\\\programs\\\\python\\\\python39\\\\lib\\\\site-packages\\\\zmq\\\\backend\\\\cython\\\\message.cp39-win_amd64.pyd'>,\n",
       " 'zmq.backend.cython.context': <module 'zmq.backend.cython.context' from 'c:\\\\users\\\\rhie\\\\appdata\\\\local\\\\programs\\\\python\\\\python39\\\\lib\\\\site-packages\\\\zmq\\\\backend\\\\cython\\\\context.cp39-win_amd64.pyd'>,\n",
       " 'zmq.backend.cython.socket': <module 'zmq.backend.cython.socket' from 'c:\\\\users\\\\rhie\\\\appdata\\\\local\\\\programs\\\\python\\\\python39\\\\lib\\\\site-packages\\\\zmq\\\\backend\\\\cython\\\\socket.cp39-win_amd64.pyd'>,\n",
       " 'zmq.backend.cython.utils': <module 'zmq.backend.cython.utils' from 'c:\\\\users\\\\rhie\\\\appdata\\\\local\\\\programs\\\\python\\\\python39\\\\lib\\\\site-packages\\\\zmq\\\\backend\\\\cython\\\\utils.cp39-win_amd64.pyd'>,\n",
       " 'zmq.backend.cython._poll': <module 'zmq.backend.cython._poll' from 'c:\\\\users\\\\rhie\\\\appdata\\\\local\\\\programs\\\\python\\\\python39\\\\lib\\\\site-packages\\\\zmq\\\\backend\\\\cython\\\\_poll.cp39-win_amd64.pyd'>,\n",
       " 'zmq.backend.cython._version': <module 'zmq.backend.cython._version' from 'c:\\\\users\\\\rhie\\\\appdata\\\\local\\\\programs\\\\python\\\\python39\\\\lib\\\\site-packages\\\\zmq\\\\backend\\\\cython\\\\_version.cp39-win_amd64.pyd'>,\n",
       " 'zmq.backend.cython._device': <module 'zmq.backend.cython._device' from 'c:\\\\users\\\\rhie\\\\appdata\\\\local\\\\programs\\\\python\\\\python39\\\\lib\\\\site-packages\\\\zmq\\\\backend\\\\cython\\\\_device.cp39-win_amd64.pyd'>,\n",
       " 'zmq.backend.cython._proxy_steerable': <module 'zmq.backend.cython._proxy_steerable' from 'c:\\\\users\\\\rhie\\\\appdata\\\\local\\\\programs\\\\python\\\\python39\\\\lib\\\\site-packages\\\\zmq\\\\backend\\\\cython\\\\_proxy_steerable.cp39-win_amd64.pyd'>,\n",
       " 'zmq.backend.cython': <module 'zmq.backend.cython' from 'c:\\\\users\\\\rhie\\\\appdata\\\\local\\\\programs\\\\python\\\\python39\\\\lib\\\\site-packages\\\\zmq\\\\backend\\\\cython\\\\__init__.py'>,\n",
       " 'zmq.backend': <module 'zmq.backend' from 'c:\\\\users\\\\rhie\\\\appdata\\\\local\\\\programs\\\\python\\\\python39\\\\lib\\\\site-packages\\\\zmq\\\\backend\\\\__init__.py'>,\n",
       " 'zmq.utils': <module 'zmq.utils' from 'c:\\\\users\\\\rhie\\\\appdata\\\\local\\\\programs\\\\python\\\\python39\\\\lib\\\\site-packages\\\\zmq\\\\utils\\\\__init__.py'>,\n",
       " 'zmq.utils.constant_names': <module 'zmq.utils.constant_names' from 'c:\\\\users\\\\rhie\\\\appdata\\\\local\\\\programs\\\\python\\\\python39\\\\lib\\\\site-packages\\\\zmq\\\\utils\\\\constant_names.py'>,\n",
       " 'zmq.sugar.constants': <module 'zmq.sugar.constants' from 'c:\\\\users\\\\rhie\\\\appdata\\\\local\\\\programs\\\\python\\\\python39\\\\lib\\\\site-packages\\\\zmq\\\\sugar\\\\constants.py'>,\n",
       " 'zmq.sugar.attrsettr': <module 'zmq.sugar.attrsettr' from 'c:\\\\users\\\\rhie\\\\appdata\\\\local\\\\programs\\\\python\\\\python39\\\\lib\\\\site-packages\\\\zmq\\\\sugar\\\\attrsettr.py'>,\n",
       " 'zmq.sugar.poll': <module 'zmq.sugar.poll' from 'c:\\\\users\\\\rhie\\\\appdata\\\\local\\\\programs\\\\python\\\\python39\\\\lib\\\\site-packages\\\\zmq\\\\sugar\\\\poll.py'>,\n",
       " 'zmq.utils.strtypes': <module 'zmq.utils.strtypes' from 'c:\\\\users\\\\rhie\\\\appdata\\\\local\\\\programs\\\\python\\\\python39\\\\lib\\\\site-packages\\\\zmq\\\\utils\\\\strtypes.py'>,\n",
       " 'zmq.utils.jsonapi': <module 'zmq.utils.jsonapi' from 'c:\\\\users\\\\rhie\\\\appdata\\\\local\\\\programs\\\\python\\\\python39\\\\lib\\\\site-packages\\\\zmq\\\\utils\\\\jsonapi.py'>,\n",
       " 'zmq.sugar.socket': <module 'zmq.sugar.socket' from 'c:\\\\users\\\\rhie\\\\appdata\\\\local\\\\programs\\\\python\\\\python39\\\\lib\\\\site-packages\\\\zmq\\\\sugar\\\\socket.py'>,\n",
       " 'zmq.sugar.context': <module 'zmq.sugar.context' from 'c:\\\\users\\\\rhie\\\\appdata\\\\local\\\\programs\\\\python\\\\python39\\\\lib\\\\site-packages\\\\zmq\\\\sugar\\\\context.py'>,\n",
       " 'zmq.sugar.frame': <module 'zmq.sugar.frame' from 'c:\\\\users\\\\rhie\\\\appdata\\\\local\\\\programs\\\\python\\\\python39\\\\lib\\\\site-packages\\\\zmq\\\\sugar\\\\frame.py'>,\n",
       " 'zmq.sugar.tracker': <module 'zmq.sugar.tracker' from 'c:\\\\users\\\\rhie\\\\appdata\\\\local\\\\programs\\\\python\\\\python39\\\\lib\\\\site-packages\\\\zmq\\\\sugar\\\\tracker.py'>,\n",
       " 'zmq.sugar.version': <module 'zmq.sugar.version' from 'c:\\\\users\\\\rhie\\\\appdata\\\\local\\\\programs\\\\python\\\\python39\\\\lib\\\\site-packages\\\\zmq\\\\sugar\\\\version.py'>,\n",
       " 'zmq.sugar.stopwatch': <module 'zmq.sugar.stopwatch' from 'c:\\\\users\\\\rhie\\\\appdata\\\\local\\\\programs\\\\python\\\\python39\\\\lib\\\\site-packages\\\\zmq\\\\sugar\\\\stopwatch.py'>,\n",
       " 'zmq.sugar': <module 'zmq.sugar' from 'c:\\\\users\\\\rhie\\\\appdata\\\\local\\\\programs\\\\python\\\\python39\\\\lib\\\\site-packages\\\\zmq\\\\sugar\\\\__init__.py'>,\n",
       " 'zmq': <module 'zmq' from 'c:\\\\users\\\\rhie\\\\appdata\\\\local\\\\programs\\\\python\\\\python39\\\\lib\\\\site-packages\\\\zmq\\\\__init__.py'>,\n",
       " 'jupyter_client.localinterfaces': <module 'jupyter_client.localinterfaces' from 'c:\\\\users\\\\rhie\\\\appdata\\\\local\\\\programs\\\\python\\\\python39\\\\lib\\\\site-packages\\\\jupyter_client\\\\localinterfaces.py'>,\n",
       " 'jupyter_core.version': <module 'jupyter_core.version' from 'c:\\\\users\\\\rhie\\\\appdata\\\\local\\\\programs\\\\python\\\\python39\\\\lib\\\\site-packages\\\\jupyter_core\\\\version.py'>,\n",
       " 'jupyter_core': <module 'jupyter_core' from 'c:\\\\users\\\\rhie\\\\appdata\\\\local\\\\programs\\\\python\\\\python39\\\\lib\\\\site-packages\\\\jupyter_core\\\\__init__.py'>,\n",
       " 'jupyter_core.paths': <module 'jupyter_core.paths' from 'c:\\\\users\\\\rhie\\\\appdata\\\\local\\\\programs\\\\python\\\\python39\\\\lib\\\\site-packages\\\\jupyter_core\\\\paths.py'>,\n",
       " 'jupyter_client.connect': <module 'jupyter_client.connect' from 'c:\\\\users\\\\rhie\\\\appdata\\\\local\\\\programs\\\\python\\\\python39\\\\lib\\\\site-packages\\\\jupyter_client\\\\connect.py'>,\n",
       " 'traitlets.log': <module 'traitlets.log' from 'c:\\\\users\\\\rhie\\\\appdata\\\\local\\\\programs\\\\python\\\\python39\\\\lib\\\\site-packages\\\\traitlets\\\\log.py'>,\n",
       " 'jupyter_client.launcher': <module 'jupyter_client.launcher' from 'c:\\\\users\\\\rhie\\\\appdata\\\\local\\\\programs\\\\python\\\\python39\\\\lib\\\\site-packages\\\\jupyter_client\\\\launcher.py'>,\n",
       " 'jupyter_client.channelsabc': <module 'jupyter_client.channelsabc' from 'c:\\\\users\\\\rhie\\\\appdata\\\\local\\\\programs\\\\python\\\\python39\\\\lib\\\\site-packages\\\\jupyter_client\\\\channelsabc.py'>,\n",
       " 'jupyter_client.channels': <module 'jupyter_client.channels' from 'c:\\\\users\\\\rhie\\\\appdata\\\\local\\\\programs\\\\python\\\\python39\\\\lib\\\\site-packages\\\\jupyter_client\\\\channels.py'>,\n",
       " 'jupyter_client.clientabc': <module 'jupyter_client.clientabc' from 'c:\\\\users\\\\rhie\\\\appdata\\\\local\\\\programs\\\\python\\\\python39\\\\lib\\\\site-packages\\\\jupyter_client\\\\clientabc.py'>,\n",
       " 'jupyter_client.client': <module 'jupyter_client.client' from 'c:\\\\users\\\\rhie\\\\appdata\\\\local\\\\programs\\\\python\\\\python39\\\\lib\\\\site-packages\\\\jupyter_client\\\\client.py'>,\n",
       " 'ipython_genutils.importstring': <module 'ipython_genutils.importstring' from 'c:\\\\users\\\\rhie\\\\appdata\\\\local\\\\programs\\\\python\\\\python39\\\\lib\\\\site-packages\\\\ipython_genutils\\\\importstring.py'>,\n",
       " 'jupyter_client.kernelspec': <module 'jupyter_client.kernelspec' from 'c:\\\\users\\\\rhie\\\\appdata\\\\local\\\\programs\\\\python\\\\python39\\\\lib\\\\site-packages\\\\jupyter_client\\\\kernelspec.py'>,\n",
       " 'jupyter_client.managerabc': <module 'jupyter_client.managerabc' from 'c:\\\\users\\\\rhie\\\\appdata\\\\local\\\\programs\\\\python\\\\python39\\\\lib\\\\site-packages\\\\jupyter_client\\\\managerabc.py'>,\n",
       " 'jupyter_client.manager': <module 'jupyter_client.manager' from 'c:\\\\users\\\\rhie\\\\appdata\\\\local\\\\programs\\\\python\\\\python39\\\\lib\\\\site-packages\\\\jupyter_client\\\\manager.py'>,\n",
       " 'jupyter_client.blocking.channels': <module 'jupyter_client.blocking.channels' from 'c:\\\\users\\\\rhie\\\\appdata\\\\local\\\\programs\\\\python\\\\python39\\\\lib\\\\site-packages\\\\jupyter_client\\\\blocking\\\\channels.py'>,\n",
       " 'jupyter_client.blocking.client': <module 'jupyter_client.blocking.client' from 'c:\\\\users\\\\rhie\\\\appdata\\\\local\\\\programs\\\\python\\\\python39\\\\lib\\\\site-packages\\\\jupyter_client\\\\blocking\\\\client.py'>,\n",
       " 'jupyter_client.blocking': <module 'jupyter_client.blocking' from 'c:\\\\users\\\\rhie\\\\appdata\\\\local\\\\programs\\\\python\\\\python39\\\\lib\\\\site-packages\\\\jupyter_client\\\\blocking\\\\__init__.py'>,\n",
       " 'zmq._future': <module 'zmq._future' from 'c:\\\\users\\\\rhie\\\\appdata\\\\local\\\\programs\\\\python\\\\python39\\\\lib\\\\site-packages\\\\zmq\\\\_future.py'>,\n",
       " 'zmq.asyncio': <module 'zmq.asyncio' from 'c:\\\\users\\\\rhie\\\\appdata\\\\local\\\\programs\\\\python\\\\python39\\\\lib\\\\site-packages\\\\zmq\\\\asyncio.py'>,\n",
       " 'jupyter_client.asynchronous.channels': <module 'jupyter_client.asynchronous.channels' from 'c:\\\\users\\\\rhie\\\\appdata\\\\local\\\\programs\\\\python\\\\python39\\\\lib\\\\site-packages\\\\jupyter_client\\\\asynchronous\\\\channels.py'>,\n",
       " 'jupyter_client.asynchronous.client': <module 'jupyter_client.asynchronous.client' from 'c:\\\\users\\\\rhie\\\\appdata\\\\local\\\\programs\\\\python\\\\python39\\\\lib\\\\site-packages\\\\jupyter_client\\\\asynchronous\\\\client.py'>,\n",
       " 'jupyter_client.asynchronous': <module 'jupyter_client.asynchronous' from 'c:\\\\users\\\\rhie\\\\appdata\\\\local\\\\programs\\\\python\\\\python39\\\\lib\\\\site-packages\\\\jupyter_client\\\\asynchronous\\\\__init__.py'>,\n",
       " '_uuid': <module '_uuid' from 'c:\\\\users\\\\rhie\\\\appdata\\\\local\\\\programs\\\\python\\\\python39\\\\DLLs\\\\_uuid.pyd'>,\n",
       " 'uuid': <module 'uuid' from 'c:\\\\users\\\\rhie\\\\appdata\\\\local\\\\programs\\\\python\\\\python39\\\\lib\\\\uuid.py'>,\n",
       " 'jupyter_client.multikernelmanager': <module 'jupyter_client.multikernelmanager' from 'c:\\\\users\\\\rhie\\\\appdata\\\\local\\\\programs\\\\python\\\\python39\\\\lib\\\\site-packages\\\\jupyter_client\\\\multikernelmanager.py'>,\n",
       " 'jupyter_client': <module 'jupyter_client' from 'c:\\\\users\\\\rhie\\\\appdata\\\\local\\\\programs\\\\python\\\\python39\\\\lib\\\\site-packages\\\\jupyter_client\\\\__init__.py'>,\n",
       " 'ipykernel.connect': <module 'ipykernel.connect' from 'c:\\\\users\\\\rhie\\\\appdata\\\\local\\\\programs\\\\python\\\\python39\\\\lib\\\\site-packages\\\\ipykernel\\\\connect.py'>,\n",
       " 'ipykernel': <module 'ipykernel' from 'c:\\\\users\\\\rhie\\\\appdata\\\\local\\\\programs\\\\python\\\\python39\\\\lib\\\\site-packages\\\\ipykernel\\\\__init__.py'>,\n",
       " 'tornado': <module 'tornado' from 'c:\\\\users\\\\rhie\\\\appdata\\\\local\\\\programs\\\\python\\\\python39\\\\lib\\\\site-packages\\\\tornado\\\\__init__.py'>,\n",
       " 'numbers': <module 'numbers' from 'c:\\\\users\\\\rhie\\\\appdata\\\\local\\\\programs\\\\python\\\\python39\\\\lib\\\\numbers.py'>,\n",
       " 'logging.handlers': <module 'logging.handlers' from 'c:\\\\users\\\\rhie\\\\appdata\\\\local\\\\programs\\\\python\\\\python39\\\\lib\\\\logging\\\\handlers.py'>,\n",
       " 'tornado.speedups': <module 'tornado.speedups' from 'c:\\\\users\\\\rhie\\\\appdata\\\\local\\\\programs\\\\python\\\\python39\\\\lib\\\\site-packages\\\\tornado\\\\speedups.cp39-win_amd64.pyd'>,\n",
       " 'tornado.util': <module 'tornado.util' from 'c:\\\\users\\\\rhie\\\\appdata\\\\local\\\\programs\\\\python\\\\python39\\\\lib\\\\site-packages\\\\tornado\\\\util.py'>,\n",
       " 'tornado.escape': <module 'tornado.escape' from 'c:\\\\users\\\\rhie\\\\appdata\\\\local\\\\programs\\\\python\\\\python39\\\\lib\\\\site-packages\\\\tornado\\\\escape.py'>,\n",
       " 'colorama.ansi': <module 'colorama.ansi' from 'c:\\\\users\\\\rhie\\\\appdata\\\\local\\\\programs\\\\python\\\\python39\\\\lib\\\\site-packages\\\\colorama\\\\ansi.py'>,\n",
       " 'colorama.win32': <module 'colorama.win32' from 'c:\\\\users\\\\rhie\\\\appdata\\\\local\\\\programs\\\\python\\\\python39\\\\lib\\\\site-packages\\\\colorama\\\\win32.py'>,\n",
       " 'colorama.winterm': <module 'colorama.winterm' from 'c:\\\\users\\\\rhie\\\\appdata\\\\local\\\\programs\\\\python\\\\python39\\\\lib\\\\site-packages\\\\colorama\\\\winterm.py'>,\n",
       " 'colorama.ansitowin32': <module 'colorama.ansitowin32' from 'c:\\\\users\\\\rhie\\\\appdata\\\\local\\\\programs\\\\python\\\\python39\\\\lib\\\\site-packages\\\\colorama\\\\ansitowin32.py'>,\n",
       " 'colorama.initialise': <module 'colorama.initialise' from 'c:\\\\users\\\\rhie\\\\appdata\\\\local\\\\programs\\\\python\\\\python39\\\\lib\\\\site-packages\\\\colorama\\\\initialise.py'>,\n",
       " 'colorama': <module 'colorama' from 'c:\\\\users\\\\rhie\\\\appdata\\\\local\\\\programs\\\\python\\\\python39\\\\lib\\\\site-packages\\\\colorama\\\\__init__.py'>,\n",
       " 'tornado.log': <module 'tornado.log' from 'c:\\\\users\\\\rhie\\\\appdata\\\\local\\\\programs\\\\python\\\\python39\\\\lib\\\\site-packages\\\\tornado\\\\log.py'>,\n",
       " 'tornado.concurrent': <module 'tornado.concurrent' from 'c:\\\\users\\\\rhie\\\\appdata\\\\local\\\\programs\\\\python\\\\python39\\\\lib\\\\site-packages\\\\tornado\\\\concurrent.py'>,\n",
       " 'tornado.ioloop': <module 'tornado.ioloop' from 'c:\\\\users\\\\rhie\\\\appdata\\\\local\\\\programs\\\\python\\\\python39\\\\lib\\\\site-packages\\\\tornado\\\\ioloop.py'>,\n",
       " 'tornado.platform': <module 'tornado.platform' from 'c:\\\\users\\\\rhie\\\\appdata\\\\local\\\\programs\\\\python\\\\python39\\\\lib\\\\site-packages\\\\tornado\\\\platform\\\\__init__.py'>,\n",
       " 'tornado.gen': <module 'tornado.gen' from 'c:\\\\users\\\\rhie\\\\appdata\\\\local\\\\programs\\\\python\\\\python39\\\\lib\\\\site-packages\\\\tornado\\\\gen.py'>,\n",
       " 'tornado.platform.asyncio': <module 'tornado.platform.asyncio' from 'c:\\\\users\\\\rhie\\\\appdata\\\\local\\\\programs\\\\python\\\\python39\\\\lib\\\\site-packages\\\\tornado\\\\platform\\\\asyncio.py'>,\n",
       " 'zmq.eventloop.ioloop': <module 'zmq.eventloop.ioloop' from 'c:\\\\users\\\\rhie\\\\appdata\\\\local\\\\programs\\\\python\\\\python39\\\\lib\\\\site-packages\\\\zmq\\\\eventloop\\\\ioloop.py'>,\n",
       " 'zmq.eventloop': <module 'zmq.eventloop' from 'c:\\\\users\\\\rhie\\\\appdata\\\\local\\\\programs\\\\python\\\\python39\\\\lib\\\\site-packages\\\\zmq\\\\eventloop\\\\__init__.py'>,\n",
       " 'zmq.eventloop.zmqstream': <module 'zmq.eventloop.zmqstream' from 'c:\\\\users\\\\rhie\\\\appdata\\\\local\\\\programs\\\\python\\\\python39\\\\lib\\\\site-packages\\\\zmq\\\\eventloop\\\\zmqstream.py'>,\n",
       " 'imp': <module 'imp' from 'c:\\\\users\\\\rhie\\\\appdata\\\\local\\\\programs\\\\python\\\\python39\\\\lib\\\\imp.py'>,\n",
       " 'hmac': <module 'hmac' from 'c:\\\\users\\\\rhie\\\\appdata\\\\local\\\\programs\\\\python\\\\python39\\\\lib\\\\hmac.py'>,\n",
       " 'dateutil._version': <module 'dateutil._version' from 'c:\\\\users\\\\rhie\\\\appdata\\\\local\\\\programs\\\\python\\\\python39\\\\lib\\\\site-packages\\\\dateutil\\\\_version.py'>,\n",
       " 'dateutil': <module 'dateutil' from 'c:\\\\users\\\\rhie\\\\appdata\\\\local\\\\programs\\\\python\\\\python39\\\\lib\\\\site-packages\\\\dateutil\\\\__init__.py'>,\n",
       " 'six': <module 'six' from 'c:\\\\users\\\\rhie\\\\appdata\\\\local\\\\programs\\\\python\\\\python39\\\\lib\\\\site-packages\\\\six.py'>,\n",
       " '_decimal': <module '_decimal' from 'c:\\\\users\\\\rhie\\\\appdata\\\\local\\\\programs\\\\python\\\\python39\\\\DLLs\\\\_decimal.pyd'>,\n",
       " 'decimal': <module 'decimal' from 'c:\\\\users\\\\rhie\\\\appdata\\\\local\\\\programs\\\\python\\\\python39\\\\lib\\\\decimal.py'>,\n",
       " 'dateutil._common': <module 'dateutil._common' from 'c:\\\\users\\\\rhie\\\\appdata\\\\local\\\\programs\\\\python\\\\python39\\\\lib\\\\site-packages\\\\dateutil\\\\_common.py'>,\n",
       " 'dateutil.relativedelta': <module 'dateutil.relativedelta' from 'c:\\\\users\\\\rhie\\\\appdata\\\\local\\\\programs\\\\python\\\\python39\\\\lib\\\\site-packages\\\\dateutil\\\\relativedelta.py'>,\n",
       " 'six.moves': <module 'six.moves' (<six._SixMetaPathImporter object at 0x0000028A34D98310>)>,\n",
       " 'dateutil.tz._common': <module 'dateutil.tz._common' from 'c:\\\\users\\\\rhie\\\\appdata\\\\local\\\\programs\\\\python\\\\python39\\\\lib\\\\site-packages\\\\dateutil\\\\tz\\\\_common.py'>,\n",
       " 'dateutil.tz._factories': <module 'dateutil.tz._factories' from 'c:\\\\users\\\\rhie\\\\appdata\\\\local\\\\programs\\\\python\\\\python39\\\\lib\\\\site-packages\\\\dateutil\\\\tz\\\\_factories.py'>,\n",
       " 'dateutil.tz.win': <module 'dateutil.tz.win' from 'c:\\\\users\\\\rhie\\\\appdata\\\\local\\\\programs\\\\python\\\\python39\\\\lib\\\\site-packages\\\\dateutil\\\\tz\\\\win.py'>,\n",
       " 'dateutil.tz.tz': <module 'dateutil.tz.tz' from 'c:\\\\users\\\\rhie\\\\appdata\\\\local\\\\programs\\\\python\\\\python39\\\\lib\\\\site-packages\\\\dateutil\\\\tz\\\\tz.py'>,\n",
       " 'dateutil.tz': <module 'dateutil.tz' from 'c:\\\\users\\\\rhie\\\\appdata\\\\local\\\\programs\\\\python\\\\python39\\\\lib\\\\site-packages\\\\dateutil\\\\tz\\\\__init__.py'>,\n",
       " 'dateutil.parser._parser': <module 'dateutil.parser._parser' from 'c:\\\\users\\\\rhie\\\\appdata\\\\local\\\\programs\\\\python\\\\python39\\\\lib\\\\site-packages\\\\dateutil\\\\parser\\\\_parser.py'>,\n",
       " 'dateutil.parser.isoparser': <module 'dateutil.parser.isoparser' from 'c:\\\\users\\\\rhie\\\\appdata\\\\local\\\\programs\\\\python\\\\python39\\\\lib\\\\site-packages\\\\dateutil\\\\parser\\\\isoparser.py'>,\n",
       " 'dateutil.parser': <module 'dateutil.parser' from 'c:\\\\users\\\\rhie\\\\appdata\\\\local\\\\programs\\\\python\\\\python39\\\\lib\\\\site-packages\\\\dateutil\\\\parser\\\\__init__.py'>,\n",
       " '_strptime': <module '_strptime' from 'c:\\\\users\\\\rhie\\\\appdata\\\\local\\\\programs\\\\python\\\\python39\\\\lib\\\\_strptime.py'>,\n",
       " 'jupyter_client.jsonutil': <module 'jupyter_client.jsonutil' from 'c:\\\\users\\\\rhie\\\\appdata\\\\local\\\\programs\\\\python\\\\python39\\\\lib\\\\site-packages\\\\jupyter_client\\\\jsonutil.py'>,\n",
       " 'jupyter_client.adapter': <module 'jupyter_client.adapter' from 'c:\\\\users\\\\rhie\\\\appdata\\\\local\\\\programs\\\\python\\\\python39\\\\lib\\\\site-packages\\\\jupyter_client\\\\adapter.py'>,\n",
       " 'jupyter_client.session': <module 'jupyter_client.session' from 'c:\\\\users\\\\rhie\\\\appdata\\\\local\\\\programs\\\\python\\\\python39\\\\lib\\\\site-packages\\\\jupyter_client\\\\session.py'>,\n",
       " 'ipykernel.iostream': <module 'ipykernel.iostream' from 'c:\\\\users\\\\rhie\\\\appdata\\\\local\\\\programs\\\\python\\\\python39\\\\lib\\\\site-packages\\\\ipykernel\\\\iostream.py'>,\n",
       " 'ipykernel.heartbeat': <module 'ipykernel.heartbeat' from 'c:\\\\users\\\\rhie\\\\appdata\\\\local\\\\programs\\\\python\\\\python39\\\\lib\\\\site-packages\\\\ipykernel\\\\heartbeat.py'>,\n",
       " 'IPython.utils.tokenutil': <module 'IPython.utils.tokenutil' from 'c:\\\\users\\\\rhie\\\\appdata\\\\local\\\\programs\\\\python\\\\python39\\\\lib\\\\site-packages\\\\IPython\\\\utils\\\\tokenutil.py'>,\n",
       " 'tornado.locks': <module 'tornado.locks' from 'c:\\\\users\\\\rhie\\\\appdata\\\\local\\\\programs\\\\python\\\\python39\\\\lib\\\\site-packages\\\\tornado\\\\locks.py'>,\n",
       " 'tornado.queues': <module 'tornado.queues' from 'c:\\\\users\\\\rhie\\\\appdata\\\\local\\\\programs\\\\python\\\\python39\\\\lib\\\\site-packages\\\\tornado\\\\queues.py'>,\n",
       " 'ipykernel.jsonutil': <module 'ipykernel.jsonutil' from 'c:\\\\users\\\\rhie\\\\appdata\\\\local\\\\programs\\\\python\\\\python39\\\\lib\\\\site-packages\\\\ipykernel\\\\jsonutil.py'>,\n",
       " 'ipykernel.kernelbase': <module 'ipykernel.kernelbase' from 'c:\\\\users\\\\rhie\\\\appdata\\\\local\\\\programs\\\\python\\\\python39\\\\lib\\\\site-packages\\\\ipykernel\\\\kernelbase.py'>,\n",
       " 'ipykernel.comm.comm': <module 'ipykernel.comm.comm' from 'c:\\\\users\\\\rhie\\\\appdata\\\\local\\\\programs\\\\python\\\\python39\\\\lib\\\\site-packages\\\\ipykernel\\\\comm\\\\comm.py'>,\n",
       " 'ipykernel.comm.manager': <module 'ipykernel.comm.manager' from 'c:\\\\users\\\\rhie\\\\appdata\\\\local\\\\programs\\\\python\\\\python39\\\\lib\\\\site-packages\\\\ipykernel\\\\comm\\\\manager.py'>,\n",
       " 'ipykernel.comm': <module 'ipykernel.comm' from 'c:\\\\users\\\\rhie\\\\appdata\\\\local\\\\programs\\\\python\\\\python39\\\\lib\\\\site-packages\\\\ipykernel\\\\comm\\\\__init__.py'>,\n",
       " 'IPython.core.payloadpage': <module 'IPython.core.payloadpage' from 'c:\\\\users\\\\rhie\\\\appdata\\\\local\\\\programs\\\\python\\\\python39\\\\lib\\\\site-packages\\\\IPython\\\\core\\\\payloadpage.py'>,\n",
       " 'ipykernel.displayhook': <module 'ipykernel.displayhook' from 'c:\\\\users\\\\rhie\\\\appdata\\\\local\\\\programs\\\\python\\\\python39\\\\lib\\\\site-packages\\\\ipykernel\\\\displayhook.py'>,\n",
       " 'ipykernel.codeutil': <module 'ipykernel.codeutil' from 'c:\\\\users\\\\rhie\\\\appdata\\\\local\\\\programs\\\\python\\\\python39\\\\lib\\\\site-packages\\\\ipykernel\\\\codeutil.py'>,\n",
       " 'ipykernel.pickleutil': <module 'ipykernel.pickleutil' from 'c:\\\\users\\\\rhie\\\\appdata\\\\local\\\\programs\\\\python\\\\python39\\\\lib\\\\site-packages\\\\ipykernel\\\\pickleutil.py'>,\n",
       " 'ipykernel.serialize': <module 'ipykernel.serialize' from 'c:\\\\users\\\\rhie\\\\appdata\\\\local\\\\programs\\\\python\\\\python39\\\\lib\\\\site-packages\\\\ipykernel\\\\serialize.py'>,\n",
       " 'ipykernel.datapub': <module 'ipykernel.datapub' from 'c:\\\\users\\\\rhie\\\\appdata\\\\local\\\\programs\\\\python\\\\python39\\\\lib\\\\site-packages\\\\ipykernel\\\\datapub.py'>,\n",
       " 'ipykernel.zmqshell': <module 'ipykernel.zmqshell' from 'c:\\\\users\\\\rhie\\\\appdata\\\\local\\\\programs\\\\python\\\\python39\\\\lib\\\\site-packages\\\\ipykernel\\\\zmqshell.py'>,\n",
       " 'distutils': <module 'distutils' from 'c:\\\\users\\\\rhie\\\\appdata\\\\local\\\\programs\\\\python\\\\python39\\\\lib\\\\distutils\\\\__init__.py'>,\n",
       " 'distutils.version': <module 'distutils.version' from 'c:\\\\users\\\\rhie\\\\appdata\\\\local\\\\programs\\\\python\\\\python39\\\\lib\\\\distutils\\\\version.py'>,\n",
       " 'ipykernel.eventloops': <module 'ipykernel.eventloops' from 'c:\\\\users\\\\rhie\\\\appdata\\\\local\\\\programs\\\\python\\\\python39\\\\lib\\\\site-packages\\\\ipykernel\\\\eventloops.py'>,\n",
       " 'ipykernel.ipkernel': <module 'ipykernel.ipkernel' from 'c:\\\\users\\\\rhie\\\\appdata\\\\local\\\\programs\\\\python\\\\python39\\\\lib\\\\site-packages\\\\ipykernel\\\\ipkernel.py'>,\n",
       " 'ipykernel.parentpoller': <module 'ipykernel.parentpoller' from 'c:\\\\users\\\\rhie\\\\appdata\\\\local\\\\programs\\\\python\\\\python39\\\\lib\\\\site-packages\\\\ipykernel\\\\parentpoller.py'>,\n",
       " 'ipykernel.kernelapp': <module 'ipykernel.kernelapp' from 'c:\\\\users\\\\rhie\\\\appdata\\\\local\\\\programs\\\\python\\\\python39\\\\lib\\\\site-packages\\\\ipykernel\\\\kernelapp.py'>,\n",
       " 'win32api': <module 'win32api' from 'c:\\\\users\\\\rhie\\\\appdata\\\\local\\\\programs\\\\python\\\\python39\\\\lib\\\\site-packages\\\\win32\\\\win32api.pyd'>,\n",
       " 'win32security': <module 'win32security' from 'c:\\\\users\\\\rhie\\\\appdata\\\\local\\\\programs\\\\python\\\\python39\\\\lib\\\\site-packages\\\\win32\\\\win32security.pyd'>,\n",
       " 'ntsecuritycon': <module 'ntsecuritycon' from 'c:\\\\users\\\\rhie\\\\appdata\\\\local\\\\programs\\\\python\\\\python39\\\\lib\\\\site-packages\\\\win32\\\\lib\\\\ntsecuritycon.py'>,\n",
       " 'faulthandler': <module 'faulthandler' (built-in)>,\n",
       " 'IPython.core.completerlib': <module 'IPython.core.completerlib' from 'c:\\\\users\\\\rhie\\\\appdata\\\\local\\\\programs\\\\python\\\\python39\\\\lib\\\\site-packages\\\\IPython\\\\core\\\\completerlib.py'>,\n",
       " 'storemagic': <module 'storemagic' from 'c:\\\\users\\\\rhie\\\\appdata\\\\local\\\\programs\\\\python\\\\python39\\\\lib\\\\site-packages\\\\IPython\\\\extensions\\\\storemagic.py'>,\n",
       " 'fibo': <module 'fibo' from 'C:\\\\Users\\\\Rhie\\\\Desktop\\\\CACHE\\\\py\\\\playground.python\\\\[03]Advanced\\\\fibo.py'>}"
      ]
     },
     "execution_count": 9,
     "metadata": {},
     "output_type": "execute_result"
    }
   ],
   "source": [
    "import sys\n",
    "sys.modules"
   ]
  },
  {
   "cell_type": "markdown",
   "id": "published-wagner",
   "metadata": {},
   "source": [
    " - `sys.path`"
   ]
  },
  {
   "cell_type": "code",
   "execution_count": 10,
   "id": "beginning-recall",
   "metadata": {},
   "outputs": [
    {
     "data": {
      "text/plain": [
       "['C:\\\\Users\\\\Rhie\\\\Desktop\\\\CACHE\\\\py\\\\playground.python\\\\[03]Advanced',\n",
       " 'c:\\\\users\\\\rhie\\\\appdata\\\\local\\\\programs\\\\python\\\\python39\\\\python39.zip',\n",
       " 'c:\\\\users\\\\rhie\\\\appdata\\\\local\\\\programs\\\\python\\\\python39\\\\DLLs',\n",
       " 'c:\\\\users\\\\rhie\\\\appdata\\\\local\\\\programs\\\\python\\\\python39\\\\lib',\n",
       " 'c:\\\\users\\\\rhie\\\\appdata\\\\local\\\\programs\\\\python\\\\python39',\n",
       " '',\n",
       " 'C:\\\\Users\\\\Rhie\\\\AppData\\\\Roaming\\\\Python\\\\Python39\\\\site-packages',\n",
       " 'c:\\\\users\\\\rhie\\\\appdata\\\\local\\\\programs\\\\python\\\\python39\\\\lib\\\\site-packages',\n",
       " 'c:\\\\users\\\\rhie\\\\appdata\\\\local\\\\programs\\\\python\\\\python39\\\\lib\\\\site-packages\\\\win32',\n",
       " 'c:\\\\users\\\\rhie\\\\appdata\\\\local\\\\programs\\\\python\\\\python39\\\\lib\\\\site-packages\\\\win32\\\\lib',\n",
       " 'c:\\\\users\\\\rhie\\\\appdata\\\\local\\\\programs\\\\python\\\\python39\\\\lib\\\\site-packages\\\\Pythonwin',\n",
       " 'c:\\\\users\\\\rhie\\\\appdata\\\\local\\\\programs\\\\python\\\\python39\\\\lib\\\\site-packages\\\\IPython\\\\extensions',\n",
       " 'C:\\\\Users\\\\Rhie\\\\.ipython']"
      ]
     },
     "execution_count": 10,
     "metadata": {},
     "output_type": "execute_result"
    }
   ],
   "source": [
    "import sys\n",
    "sys.path"
   ]
  },
  {
   "cell_type": "code",
   "execution_count": 11,
   "id": "simplified-spokesman",
   "metadata": {},
   "outputs": [
    {
     "data": {
      "text/plain": [
       "['__builtins__',\n",
       " '__cached__',\n",
       " '__doc__',\n",
       " '__file__',\n",
       " '__loader__',\n",
       " '__name__',\n",
       " '__package__',\n",
       " '__spec__',\n",
       " 'fib',\n",
       " 'fib2']"
      ]
     },
     "execution_count": 11,
     "metadata": {},
     "output_type": "execute_result"
    }
   ],
   "source": [
    "import fibo\n",
    "dir(fibo) #인자가 없으면, dir() 는 현재 정의한 이름들을 나열한다."
   ]
  },
  {
   "cell_type": "markdown",
   "id": "turkish-burlington",
   "metadata": {},
   "source": [
    "`dir()` 함수는 내장 함수와 변수들의 이름을 나열하지 않는다. 내장 함수의 목록을 알고 싶다면 표준 모듈 builtins에 정의되어있으니 이 부분을 확인하면 된다."
   ]
  },
  {
   "cell_type": "code",
   "execution_count": 12,
   "id": "competent-lloyd",
   "metadata": {},
   "outputs": [
    {
     "data": {
      "text/plain": [
       "['ArithmeticError',\n",
       " 'AssertionError',\n",
       " 'AttributeError',\n",
       " 'BaseException',\n",
       " 'BlockingIOError',\n",
       " 'BrokenPipeError',\n",
       " 'BufferError',\n",
       " 'BytesWarning',\n",
       " 'ChildProcessError',\n",
       " 'ConnectionAbortedError',\n",
       " 'ConnectionError',\n",
       " 'ConnectionRefusedError',\n",
       " 'ConnectionResetError',\n",
       " 'DeprecationWarning',\n",
       " 'EOFError',\n",
       " 'Ellipsis',\n",
       " 'EnvironmentError',\n",
       " 'Exception',\n",
       " 'False',\n",
       " 'FileExistsError',\n",
       " 'FileNotFoundError',\n",
       " 'FloatingPointError',\n",
       " 'FutureWarning',\n",
       " 'GeneratorExit',\n",
       " 'IOError',\n",
       " 'ImportError',\n",
       " 'ImportWarning',\n",
       " 'IndentationError',\n",
       " 'IndexError',\n",
       " 'InterruptedError',\n",
       " 'IsADirectoryError',\n",
       " 'KeyError',\n",
       " 'KeyboardInterrupt',\n",
       " 'LookupError',\n",
       " 'MemoryError',\n",
       " 'ModuleNotFoundError',\n",
       " 'NameError',\n",
       " 'None',\n",
       " 'NotADirectoryError',\n",
       " 'NotImplemented',\n",
       " 'NotImplementedError',\n",
       " 'OSError',\n",
       " 'OverflowError',\n",
       " 'PendingDeprecationWarning',\n",
       " 'PermissionError',\n",
       " 'ProcessLookupError',\n",
       " 'RecursionError',\n",
       " 'ReferenceError',\n",
       " 'ResourceWarning',\n",
       " 'RuntimeError',\n",
       " 'RuntimeWarning',\n",
       " 'StopAsyncIteration',\n",
       " 'StopIteration',\n",
       " 'SyntaxError',\n",
       " 'SyntaxWarning',\n",
       " 'SystemError',\n",
       " 'SystemExit',\n",
       " 'TabError',\n",
       " 'TimeoutError',\n",
       " 'True',\n",
       " 'TypeError',\n",
       " 'UnboundLocalError',\n",
       " 'UnicodeDecodeError',\n",
       " 'UnicodeEncodeError',\n",
       " 'UnicodeError',\n",
       " 'UnicodeTranslateError',\n",
       " 'UnicodeWarning',\n",
       " 'UserWarning',\n",
       " 'ValueError',\n",
       " 'Warning',\n",
       " 'WindowsError',\n",
       " 'ZeroDivisionError',\n",
       " '__IPYTHON__',\n",
       " '__build_class__',\n",
       " '__debug__',\n",
       " '__doc__',\n",
       " '__import__',\n",
       " '__loader__',\n",
       " '__name__',\n",
       " '__package__',\n",
       " '__spec__',\n",
       " 'abs',\n",
       " 'all',\n",
       " 'any',\n",
       " 'ascii',\n",
       " 'bin',\n",
       " 'bool',\n",
       " 'breakpoint',\n",
       " 'bytearray',\n",
       " 'bytes',\n",
       " 'callable',\n",
       " 'chr',\n",
       " 'classmethod',\n",
       " 'compile',\n",
       " 'complex',\n",
       " 'copyright',\n",
       " 'credits',\n",
       " 'delattr',\n",
       " 'dict',\n",
       " 'dir',\n",
       " 'display',\n",
       " 'divmod',\n",
       " 'enumerate',\n",
       " 'eval',\n",
       " 'exec',\n",
       " 'filter',\n",
       " 'float',\n",
       " 'format',\n",
       " 'frozenset',\n",
       " 'get_ipython',\n",
       " 'getattr',\n",
       " 'globals',\n",
       " 'hasattr',\n",
       " 'hash',\n",
       " 'help',\n",
       " 'hex',\n",
       " 'id',\n",
       " 'input',\n",
       " 'int',\n",
       " 'isinstance',\n",
       " 'issubclass',\n",
       " 'iter',\n",
       " 'len',\n",
       " 'license',\n",
       " 'list',\n",
       " 'locals',\n",
       " 'map',\n",
       " 'max',\n",
       " 'memoryview',\n",
       " 'min',\n",
       " 'next',\n",
       " 'object',\n",
       " 'oct',\n",
       " 'open',\n",
       " 'ord',\n",
       " 'pow',\n",
       " 'print',\n",
       " 'property',\n",
       " 'range',\n",
       " 'repr',\n",
       " 'reversed',\n",
       " 'round',\n",
       " 'set',\n",
       " 'setattr',\n",
       " 'slice',\n",
       " 'sorted',\n",
       " 'staticmethod',\n",
       " 'str',\n",
       " 'sum',\n",
       " 'super',\n",
       " 'tuple',\n",
       " 'type',\n",
       " 'vars',\n",
       " 'zip']"
      ]
     },
     "execution_count": 12,
     "metadata": {},
     "output_type": "execute_result"
    }
   ],
   "source": [
    "import builtins\n",
    "dir(builtins)"
   ]
  },
  {
   "cell_type": "markdown",
   "id": "dirty-aspect",
   "metadata": {},
   "source": [
    "## - 패키지"
   ]
  },
  {
   "cell_type": "markdown",
   "id": "matched-vienna",
   "metadata": {},
   "source": [
    "먼저 현재 디렉토리 위치에서 다음과 같은 구조로 디렉토리 및 파이썬 파일들을 구성해보자.\n",
    "\n",
    "```\n",
    "[mypac]\n",
    "  - __init__.py\n",
    "  - [util_before_all]\n",
    "     - __init__.py\n",
    "     - calc.py\n",
    "     - mydeco.py\n",
    "     - stream.py\n",
    "     - tip-canSetAll.py\n",
    "     - tip-initMakeDirToPac\n",
    "```"
   ]
  },
  {
   "cell_type": "markdown",
   "id": "material-crest",
   "metadata": {},
   "source": [
    "`__init__.py`는 해당 디렉토리가 패키지 구성 중 하나임을 알려준다. 만일 본 파일이 없다면 패키지로 인식되지 않는다.\n",
    "\n",
    "물론 파이썬 3.3 버전부터는 본 파일이 없어도 패키지로 인식하지만(`PEP 420`) 본 파일을 생성하는 것이 안전하다."
   ]
  },
  {
   "cell_type": "markdown",
   "id": "intimate-webcam",
   "metadata": {},
   "source": [
    "이제 아래와 같이 각 파이썬 코드에 코드를 채워보자"
   ]
  },
  {
   "cell_type": "markdown",
   "id": "equipped-traveler",
   "metadata": {},
   "source": [
    "- calc.py\n",
    " \n",
    "```python\n",
    "from functools import reduce\n",
    "```\n",
    "```python\n",
    "def add(*nums):\n",
    "    return sum(nums)\n",
    "    \n",
    "def mul(*nums):\n",
    "    reduce(lambda x, y: x * y, nums)\n",
    "    \n",
    "def fib(n):\n",
    "    result = []\n",
    "    a, b = 0, 1\n",
    "    while a < n:\n",
    "        result.append(a)\n",
    "        a, b = b, a+b\n",
    "    return result\n",
    "```"
   ]
  },
  {
   "cell_type": "markdown",
   "id": "regular-juice",
   "metadata": {},
   "source": [
    "- mydeco.py\n",
    "\n",
    "```python\n",
    "class Deco:\n",
    "    def __init__(self, func):\n",
    "        self.func = func\n",
    "        print(\"DECO!!!\")\n",
    "        \n",
    "    def __call__(self, a, b):\n",
    "        print(f'매개변수 정보 {a}, {b}')\n",
    "        return self.func(a,b)\n",
    "\n",
    "class Paradeco:\n",
    "    def __init__(self, nums):\n",
    "        self.nums = nums\n",
    "        \n",
    "    def __call__(self, func):\n",
    "        def wrapper(*, do):\n",
    "            doWhat = None\n",
    "            param = dict(do = do)\n",
    "            if do == \"add\":\n",
    "                doWhat = lambda x : sum(x)\n",
    "            elif do == \"max\":\n",
    "                doWhat = lambda x : max(x)\n",
    "            func(**param)\n",
    "            return doWhat(self.nums) if doWhat != None else \"Invalid\"\n",
    "        return wrapper\n",
    "```"
   ]
  },
  {
   "cell_type": "markdown",
   "id": "instrumental-mississippi",
   "metadata": {},
   "source": [
    " - stream.py\n",
    "\n",
    "```python\n",
    "from functools import reduce\n",
    "from collections import deque\n",
    "\n",
    "class HigherOrder:\n",
    "    def __init__(self, *args):\n",
    "        self.args = args\n",
    "        self.isVerboseMode = False\n",
    "\n",
    "    def verbose(self, isVerboseMode):\n",
    "        self.isVerboseMode = isVerboseMode\n",
    "    \n",
    "    def changeValues(self, *args):\n",
    "        self.args = args\n",
    "\n",
    "    def functionsChain(self, *, mapping = None, filtering = None, reducing = None):\n",
    "        self.isVerboseMode if print(\"Parsing Target : \", self.args) else None\n",
    "        queue = deque([mapping, filtering, reducing])\n",
    "        self.isVerboseMode if print(\"Parsing Steps : \", queue) else None\n",
    "        source = list(self.args)\n",
    "        x = queue.popleft()\n",
    "        self.isVerboseMode if print(\"Mapping Steps : \", x) else None\n",
    "        if x != None:\n",
    "            source = list(map(x,source))\n",
    "            self.isVerboseMode if print(\"Mapping After: \", source) else None\n",
    "        x = queue.popleft()\n",
    "        self.isVerboseMode if print(\"Filtering Steps : \", x) else None\n",
    "        if x != None:\n",
    "            source = filter(x, source)\n",
    "            self.isVerboseMode if print(\"Filtering After: \", source) else None\n",
    "        x = queue.popleft()         \n",
    "        self.isVerboseMode if print(\"Reducing Steps : \", x) else None\n",
    "        if x != None:\n",
    "            source = reduce(x, source)\n",
    "            self.isVerboseMode if print(\"Reducing After: \", source) else None\n",
    "                \n",
    "        self.isVerboseMode if print(\"Result : \", source) else None\n",
    "        \n",
    "        return source\n",
    "```"
   ]
  },
  {
   "cell_type": "markdown",
   "id": "joined-serbia",
   "metadata": {},
   "source": [
    " - tip-canSetAll.py\n",
    " \n",
    "```python\n",
    "print(\"tip-canSetAll : __init__.py에 __all__이라는 변수 설정을 통해 와일드카드를 사용하여 import할 경우 어떤 모듈만 import한 건지 정할 수 있습니다~^^\")\n",
    "```\n",
    " \n",
    " - tip-initMakeDirToPac.py\n",
    "\n",
    "```python\n",
    "print(\"tip-initMakeDirToPac : __init__.py는 디렉토리를 패키지로 만들어줍니다~^^\")\n",
    "```"
   ]
  },
  {
   "cell_type": "markdown",
   "id": "virgin-activity",
   "metadata": {},
   "source": [
    "`from package import item` 를 사용할 때, item은 패키지의 서브 모듈 (또는 서브 패키지)일 수도 있고 함수, 클래스, 변수 등 패키지에 정의된 다른 이름들일 수도 있음에 유의하세요. import 문은 먼저 item이 패키지에 정의되어 있는지 검사하고, 그렇지 않으면 모듈이라고 가정하고 로드를 시도합니다. 찾지 못한다면, ImportError 예외를 일으킵니다.\n",
    "\n",
    "이에 반하여, `import item.subitem.subsubitem` 와 같은 문법을 사용할 때, 마지막 것을 제외한 각 항목은 반드시 패키지여야 합니다; 마지막 항목은 모듈이나 패키지가 될 수 있지만, 앞의 항목에서 정의된 클래스, 함수, 변수 등이 될 수는 없습니다."
   ]
  },
  {
   "cell_type": "code",
   "execution_count": 13,
   "id": "restricted-benefit",
   "metadata": {
    "tags": []
   },
   "outputs": [],
   "source": [
    "import mypac.util_before_all.calc"
   ]
  },
  {
   "cell_type": "markdown",
   "id": "civilian-waterproof",
   "metadata": {},
   "source": [
    "잘 가져와졌는지 확인한다."
   ]
  },
  {
   "cell_type": "code",
   "execution_count": 14,
   "id": "western-brunei",
   "metadata": {},
   "outputs": [
    {
     "data": {
      "text/plain": [
       "['__builtins__',\n",
       " '__cached__',\n",
       " '__doc__',\n",
       " '__file__',\n",
       " '__loader__',\n",
       " '__name__',\n",
       " '__package__',\n",
       " '__spec__',\n",
       " 'add',\n",
       " 'fib',\n",
       " 'mul',\n",
       " 'reduce']"
      ]
     },
     "execution_count": 14,
     "metadata": {},
     "output_type": "execute_result"
    }
   ],
   "source": [
    "dir(mypac.util_before_all.calc)"
   ]
  },
  {
   "cell_type": "code",
   "execution_count": 15,
   "id": "personal-device",
   "metadata": {},
   "outputs": [
    {
     "data": {
      "text/plain": [
       "300"
      ]
     },
     "execution_count": 15,
     "metadata": {},
     "output_type": "execute_result"
    }
   ],
   "source": [
    "mypac.util_before_all.calc.add(100, 200)"
   ]
  },
  {
   "cell_type": "markdown",
   "id": "substantial-campaign",
   "metadata": {},
   "source": [
    "그러나 다음과 같이 패키지 이름없이 모듈만 가져오면 에러가 걸린다."
   ]
  },
  {
   "cell_type": "code",
   "execution_count": 16,
   "id": "traditional-reasoning",
   "metadata": {},
   "outputs": [
    {
     "ename": "NameError",
     "evalue": "name 'calc' is not defined",
     "output_type": "error",
     "traceback": [
      "\u001b[1;31m---------------------------------------------------------------------------\u001b[0m",
      "\u001b[1;31mNameError\u001b[0m                                 Traceback (most recent call last)",
      "\u001b[1;32m<ipython-input-16-c797bf2880db>\u001b[0m in \u001b[0;36m<module>\u001b[1;34m\u001b[0m\n\u001b[1;32m----> 1\u001b[1;33m \u001b[0mcalc\u001b[0m\u001b[1;33m.\u001b[0m\u001b[0madd\u001b[0m\u001b[1;33m(\u001b[0m\u001b[1;36m100\u001b[0m\u001b[1;33m,\u001b[0m \u001b[1;36m200\u001b[0m\u001b[1;33m)\u001b[0m\u001b[1;33m\u001b[0m\u001b[1;33m\u001b[0m\u001b[0m\n\u001b[0m",
      "\u001b[1;31mNameError\u001b[0m: name 'calc' is not defined"
     ]
    }
   ],
   "source": [
    "calc.add(100, 200)"
   ]
  },
  {
   "cell_type": "markdown",
   "id": "racial-franklin",
   "metadata": {},
   "source": [
    "그래서 와일드 카드를 사용하여 util_before_all 패키지 안에 들어있는 모듈들을 전부다 가져올려고 한다."
   ]
  },
  {
   "cell_type": "code",
   "execution_count": 17,
   "id": "proved-anime",
   "metadata": {},
   "outputs": [],
   "source": [
    "del mypac.util_before_all.calc # 원래 가져왔던 모듈 메모리에서 삭제"
   ]
  },
  {
   "cell_type": "code",
   "execution_count": 18,
   "id": "moderate-voice",
   "metadata": {},
   "outputs": [],
   "source": [
    "from mypac.util_before_all import *"
   ]
  },
  {
   "cell_type": "code",
   "execution_count": 19,
   "id": "dental-finnish",
   "metadata": {},
   "outputs": [
    {
     "ename": "NameError",
     "evalue": "name 'calc' is not defined",
     "output_type": "error",
     "traceback": [
      "\u001b[1;31m---------------------------------------------------------------------------\u001b[0m",
      "\u001b[1;31mNameError\u001b[0m                                 Traceback (most recent call last)",
      "\u001b[1;32m<ipython-input-19-4f1943809827>\u001b[0m in \u001b[0;36m<module>\u001b[1;34m\u001b[0m\n\u001b[1;32m----> 1\u001b[1;33m \u001b[0mcalc\u001b[0m\u001b[1;33m.\u001b[0m\u001b[0madd\u001b[0m\u001b[1;33m(\u001b[0m\u001b[1;36m100\u001b[0m\u001b[1;33m,\u001b[0m\u001b[1;36m200\u001b[0m\u001b[1;33m)\u001b[0m\u001b[1;33m\u001b[0m\u001b[1;33m\u001b[0m\u001b[0m\n\u001b[0m",
      "\u001b[1;31mNameError\u001b[0m: name 'calc' is not defined"
     ]
    }
   ],
   "source": [
    "calc.add(100,200)"
   ]
  },
  {
   "cell_type": "code",
   "execution_count": 20,
   "id": "chief-ottawa",
   "metadata": {},
   "outputs": [
    {
     "ename": "AttributeError",
     "evalue": "module 'mypac.util_before_all' has no attribute 'mydeco'",
     "output_type": "error",
     "traceback": [
      "\u001b[1;31m---------------------------------------------------------------------------\u001b[0m",
      "\u001b[1;31mAttributeError\u001b[0m                            Traceback (most recent call last)",
      "\u001b[1;32m<ipython-input-20-2f0962246560>\u001b[0m in \u001b[0;36m<module>\u001b[1;34m\u001b[0m\n\u001b[1;32m----> 1\u001b[1;33m \u001b[1;33m@\u001b[0m\u001b[0mmypac\u001b[0m\u001b[1;33m.\u001b[0m\u001b[0mutil_before_all\u001b[0m\u001b[1;33m.\u001b[0m\u001b[0mmydeco\u001b[0m\u001b[1;33m\u001b[0m\u001b[1;33m\u001b[0m\u001b[0m\n\u001b[0m\u001b[0;32m      2\u001b[0m \u001b[1;32mdef\u001b[0m \u001b[0madd\u001b[0m\u001b[1;33m(\u001b[0m\u001b[0ma\u001b[0m\u001b[1;33m,\u001b[0m \u001b[0mb\u001b[0m\u001b[1;33m)\u001b[0m\u001b[1;33m:\u001b[0m\u001b[1;33m\u001b[0m\u001b[1;33m\u001b[0m\u001b[0m\n\u001b[0;32m      3\u001b[0m     \u001b[1;32mreturn\u001b[0m \u001b[0ma\u001b[0m \u001b[1;33m+\u001b[0m \u001b[0mb\u001b[0m\u001b[1;33m\u001b[0m\u001b[1;33m\u001b[0m\u001b[0m\n\u001b[0;32m      4\u001b[0m \u001b[1;33m\u001b[0m\u001b[0m\n\u001b[0;32m      5\u001b[0m \u001b[0mprint\u001b[0m\u001b[1;33m(\u001b[0m\u001b[1;34m\"======\"\u001b[0m\u001b[1;33m)\u001b[0m\u001b[1;33m\u001b[0m\u001b[1;33m\u001b[0m\u001b[0m\n",
      "\u001b[1;31mAttributeError\u001b[0m: module 'mypac.util_before_all' has no attribute 'mydeco'"
     ]
    }
   ],
   "source": [
    "@mypac.util_before_all.mydeco\n",
    "def add(a, b):\n",
    "    return a + b\n",
    "\n",
    "print(\"======\")\n",
    "add(10, 20)"
   ]
  },
  {
   "cell_type": "code",
   "execution_count": 21,
   "id": "guided-sending",
   "metadata": {},
   "outputs": [
    {
     "name": "stdout",
     "output_type": "stream",
     "text": [
      "False\n",
      "False\n",
      "False\n",
      "False\n",
      "False\n"
     ]
    }
   ],
   "source": [
    "print('calc' in dir())\n",
    "print('mydeco' in dir())\n",
    "print('stream' in dir())\n",
    "print('tip-canSetAll' in dir())\n",
    "print('tip-initMakeDirToPac' in dir())"
   ]
  },
  {
   "cell_type": "markdown",
   "id": "central-malaysia",
   "metadata": {},
   "source": [
    "위와 같이 와일드카드를 통해 모든 모듈을 가져오려면 `__init__.py`에 모듈 공개를 설정해줘야 한다."
   ]
  },
  {
   "cell_type": "markdown",
   "id": "copyrighted-personal",
   "metadata": {},
   "source": [
    "현재 디렉토리 위치에서 이전에 만들었던 util_before_all 디렉토리를 복사해 util이라는 이름으로 붙여넣자\n",
    "\n",
    "```\n",
    "[mypac]\n",
    "  - __init__.py\n",
    "  - [util]\n",
    "     - __init__.py\n",
    "     - calc.py\n",
    "     - mydeco.py\n",
    "     - stream.py\n",
    "     - tip-canSetAll.py\n",
    "     - tip-initMakeDirToPac\n",
    "  - [util_before_all]\n",
    "     - __init__.py\n",
    "     - calc.py\n",
    "     - mydeco.py\n",
    "     - stream.py\n",
    "     - tip-canSetAll.py\n",
    "     - tip-initMakeDirToPac\n",
    "```"
   ]
  },
  {
   "cell_type": "markdown",
   "id": "persistent-digest",
   "metadata": {},
   "source": [
    "이제 util에 들어가 `__init__.py`안에 다음과 같이 적어주자"
   ]
  },
  {
   "cell_type": "markdown",
   "id": "greater-enhancement",
   "metadata": {},
   "source": [
    "```python\n",
    "__all__ = [\"calc\",\"mydeco\",\"stream\"]\n",
    "```"
   ]
  },
  {
   "cell_type": "markdown",
   "id": "alien-integration",
   "metadata": {},
   "source": [
    "이제 모듈들을 가져와보자"
   ]
  },
  {
   "cell_type": "code",
   "execution_count": 22,
   "id": "coated-professor",
   "metadata": {},
   "outputs": [],
   "source": [
    "from mypac.util import *"
   ]
  },
  {
   "cell_type": "code",
   "execution_count": 23,
   "id": "married-correction",
   "metadata": {},
   "outputs": [
    {
     "name": "stdout",
     "output_type": "stream",
     "text": [
      "True\n",
      "True\n",
      "True\n",
      "False\n",
      "False\n"
     ]
    }
   ],
   "source": [
    "print('calc' in dir())\n",
    "print('mydeco' in dir())\n",
    "print('stream' in dir())\n",
    "print('tip-canSetAll' in dir())\n",
    "print('tip-initMakeDirToPac' in dir())"
   ]
  },
  {
   "cell_type": "code",
   "execution_count": 24,
   "id": "declared-utilization",
   "metadata": {},
   "outputs": [
    {
     "data": {
      "text/plain": [
       "['__all__',\n",
       " '__builtins__',\n",
       " '__cached__',\n",
       " '__doc__',\n",
       " '__file__',\n",
       " '__loader__',\n",
       " '__name__',\n",
       " '__package__',\n",
       " '__path__',\n",
       " '__spec__',\n",
       " 'calc',\n",
       " 'mydeco',\n",
       " 'stream']"
      ]
     },
     "execution_count": 24,
     "metadata": {},
     "output_type": "execute_result"
    }
   ],
   "source": [
    "dir(mypac.util)"
   ]
  },
  {
   "cell_type": "code",
   "execution_count": 25,
   "id": "bridal-italic",
   "metadata": {},
   "outputs": [
    {
     "data": {
      "text/plain": [
       "600"
      ]
     },
     "execution_count": 25,
     "metadata": {},
     "output_type": "execute_result"
    }
   ],
   "source": [
    "calc.add(100,200,300)"
   ]
  },
  {
   "cell_type": "code",
   "execution_count": 26,
   "id": "positive-avatar",
   "metadata": {},
   "outputs": [
    {
     "name": "stdout",
     "output_type": "stream",
     "text": [
      "DECO!!!\n",
      "======\n",
      "매개변수 정보 10, 20\n"
     ]
    },
    {
     "data": {
      "text/plain": [
       "30"
      ]
     },
     "execution_count": 26,
     "metadata": {},
     "output_type": "execute_result"
    }
   ],
   "source": [
    "@mydeco.Deco\n",
    "def add(a, b):\n",
    "    return a + b\n",
    "\n",
    "print(\"======\")\n",
    "add(10, 20)"
   ]
  },
  {
   "cell_type": "code",
   "execution_count": 27,
   "id": "light-battle",
   "metadata": {
    "tags": []
   },
   "outputs": [
    {
     "name": "stdout",
     "output_type": "stream",
     "text": [
      "Parsing Target :  (1, 2, 3, 4, 5, 6, 7, 8, 9, 10)\n",
      "Parsing Steps :  deque([<function <lambda> at 0x0000028A35067670>, <function <lambda> at 0x0000028A35067700>, <function <lambda> at 0x0000028A35067790>])\n",
      "Mapping Steps :  <function <lambda> at 0x0000028A35067670>\n",
      "Mapping After:  [10, 20, 30, 40, 50, 60, 70, 80, 90, 100]\n",
      "Filtering Steps :  <function <lambda> at 0x0000028A35067700>\n",
      "Filtering After:  <filter object at 0x0000028A34F54E50>\n",
      "Reducing Steps :  <function <lambda> at 0x0000028A35067790>\n",
      "Reducing After:  550\n",
      "Result :  550\n"
     ]
    },
    {
     "data": {
      "text/plain": [
       "550"
      ]
     },
     "execution_count": 27,
     "metadata": {},
     "output_type": "execute_result"
    }
   ],
   "source": [
    "mystream = stream.HigherOrder(1, 2, 3, 4, 5, 6, 7, 8, 9, 10)\n",
    "mystream.verbose(True)\n",
    "mystream.functionsChain(\n",
    "    mapping = lambda x : x * 10,\n",
    "   filtering = lambda x : x % 2 == 0,\n",
    "   reducing = lambda x, y : x + y\n",
    ")"
   ]
  },
  {
   "cell_type": "markdown",
   "id": "unable-burlington",
   "metadata": {},
   "source": [
    "모두 성공적으로 가져와졌고 사용되어졌다."
   ]
  },
  {
   "cell_type": "markdown",
   "id": "floating-nelson",
   "metadata": {},
   "source": [
    "## - 스크립트 실행"
   ]
  },
  {
   "cell_type": "markdown",
   "id": "solved-reliance",
   "metadata": {},
   "source": [
    "터미널을 통해 파이썬 프로그램을 실행하려면 아래와 같이 실행한다.\n",
    "\n",
    "```python\n",
    "python fibo.py <arguments>\n",
    "```\n",
    "\n",
    " - example\n",
    " \n",
    "```python\n",
    "$> python fibo.py 50\n",
    "0 1 1 2 3 5 8 13 21 34\n",
    "```\n",
    "\n",
    "이 때의 모듈의 코드들은 import할 때처럼 실행되고, 내장 변수인 `__name__` 은 `__main__`으로 설정된다."
   ]
  },
  {
   "cell_type": "markdown",
   "id": "stone-quilt",
   "metadata": {},
   "source": [
    "그래서 파이썬을 스크립트 실행 파일로써 사용하고자 한다면 다음 코드를 추가하면 된다.\n",
    "\n",
    "```python\n",
    "if __name__ == \"__main__\":\n",
    "    import sys\n",
    "    fib(int(sys.argv[1]))\n",
    "```\n",
    "\n",
    "기존에 만들었던 fibo.py에 다음과 같이 추가하고 터미널을 통해 테스트해보자"
   ]
  },
  {
   "cell_type": "markdown",
   "id": "english-editing",
   "metadata": {},
   "source": [
    " - `fibo.py`\n",
    " \n",
    "```python\n",
    "def fib(n):    # write Fibonacci series up to n\n",
    "    a, b = 0, 1\n",
    "    while a < n:\n",
    "        print(a, end=' ')\n",
    "        a, b = b, a+b\n",
    "    print()\n",
    "    \n",
    "    \n",
    "```\n",
    "```python\n",
    "def fib2(n):   # return Fibonacci series up to n\n",
    "    result = []\n",
    "    a, b = 0, 1\n",
    "    while a < n:\n",
    "        result.append(a)\n",
    "        a, b = b, a+b\n",
    "    return result\n",
    "\n",
    "\n",
    "```\n",
    "```python\n",
    "if __name__ == \"__main__\":\n",
    "    import sys\n",
    "    fib(int(sys.argv[1]))\n",
    "```"
   ]
  },
  {
   "cell_type": "markdown",
   "id": "played-vault",
   "metadata": {},
   "source": [
    "## - 파이썬 컴파일"
   ]
  },
  {
   "cell_type": "markdown",
   "id": "thirty-light",
   "metadata": {},
   "source": [
    "모듈 로딩을 빠르게 하려고, 파이썬은 __pycache__ 디렉터리에 각 모듈의 컴파일된 버전을 module.version.pyc 형식의 이름으로 캐싱한다. 이 중 version은 컴파일된 파일의 형식을 지정한다. 일반적으로 파이썬의 버전 번호를 포함한다. 예를 들어, CPython 배포 3.3 에서 spam.py 의 컴파일된 버전은 __pycache__/spam.cpython-33.pyc 로 캐싱되는 것이다. 이 명명법은 서로 다른 파이썬 배포와 버전의 컴파일된 모듈들이 공존할 수 있도록 하는 효과가 있다.\n",
    "\n",
    "!!! .py 파일에서 읽을 때보다 .pyc 파일에서 읽을 때 프로그램이 더 빨리 실행되지는 않는다. .pyc 파일에서 더 빨라지는 것은 로드되는 속도뿐이다. !!!"
   ]
  },
  {
   "cell_type": "markdown",
   "id": "atomic-province",
   "metadata": {},
   "source": [
    "<br>\n",
    "<br>\n",
    "<br>\n",
    "<br>\n",
    "<br>\n",
    "<br>\n",
    "<hr>\n",
    "<br>\n",
    "<br>\n",
    "<br>\n",
    "<br>\n",
    "<br>\n",
    "<br>"
   ]
  }
 ],
 "metadata": {
  "kernelspec": {
   "display_name": "Python 3",
   "language": "python",
   "name": "python3"
  },
  "language_info": {
   "codemirror_mode": {
    "name": "ipython",
    "version": 3
   },
   "file_extension": ".py",
   "mimetype": "text/x-python",
   "name": "python",
   "nbconvert_exporter": "python",
   "pygments_lexer": "ipython3",
   "version": "3.9.2"
  }
 },
 "nbformat": 4,
 "nbformat_minor": 5
}
