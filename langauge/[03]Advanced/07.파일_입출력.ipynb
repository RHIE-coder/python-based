{
 "cells": [
  {
   "cell_type": "markdown",
   "id": "boolean-calgary",
   "metadata": {},
   "source": [
    "# 07. 파일 입출력"
   ]
  },
  {
   "cell_type": "markdown",
   "id": "cognitive-weekend",
   "metadata": {},
   "source": [
    "## - 파일 읽기"
   ]
  },
  {
   "cell_type": "markdown",
   "id": "wrapped-professional",
   "metadata": {},
   "source": [
    "현재 위치에 `read_sample.txt`라는 파일을 만들어 다음과 같은 내용을 추가한다.\n",
    "\n",
    "```txt\n",
    "첫 번째 인자는 파일 이름을 담은 문자열입니다. \n",
    "두 번째 인자는 파일이 사용될 방식을 설명하는 몇 개의 문자들을 담은 또 하나의 문자열입니다.\n",
    "mode 는 파일을 읽기만 하면 'r', 쓰기만 하면 'w' (같은 이름의 이미 존재하는 파일은 삭제됩니다) 가 되고, 'a' 는 파일을 덧붙이기 위해 엽니다\n",
    "파일에 기록되는 모든 데이터는 자동으로 끝에 붙습니다. \n",
    "'r+' 는 파일을 읽고 쓰기 위해 엽니다. \n",
    "mode 인자는 선택적인데, 생략하면 'r' 이 가정됩니다.\n",
    "\n",
    "보통, 파일은 텍스트 모드 (text mode) 로 열리는데, \n",
    "이 뜻은, 파일에 문자열을 읽고 쓰고, 파일에는 특정한 인코딩으로 저장된다는 것입니다. \n",
    "인코딩이 지정되지 않으면 기본값은 플랫폼 의존적입니다. \n",
    "mode 에 덧붙여진 'b' 는 파일을 바이너리 모드 (binary mode) 로 엽니다: 이제 데이터는 바이트열 객체의 형태로 읽고 쓰입니다. \n",
    "텍스트를 포함하지 않는 모든 파일에는 이 모드를 사용해야 합니다.\n",
    "\n",
    "텍스트 모드에서, 읽을 때의 기본 동작은 플랫폼 의존적인 줄 종료 (유닉스에서 \\n, 윈도우에서 \\r\\n) 를 단지 \\n 로 변경하는 것입니다. \n",
    "텍스트 모드로 쓸 때, 기본 동작은 \\n 를 다시 플랫폼 의존적인 줄 종료로 변환하는 것입니다.\n",
    "이 파일 데이터에 대한 무대 뒤의 수정은 텍스트 파일의 경우는 문제가 안 되지만, JPEG 이나 EXE 파일과 같은 바이너리 데이터를 망치게 됩니다. \n",
    "그런 파일을 읽고 쓸 때 바이너리 모드를 사용하도록 주의하세요.\n",
    "\n",
    "파일 객체를 다룰 때 with 키워드를 사용하는 것은 좋은 습관입니다. \n",
    "혜택은 도중 예외가 발생하더라도 스위트가 종료될 때 파일이 올바르게 닫힌다는 것입니다. \n",
    "with 를 사용하는 것은 동등한 try-finally 블록을 쓰는 것에 비교해 훨씬 짧기도 합니다.\n",
    "```"
   ]
  },
  {
   "cell_type": "code",
   "execution_count": 1,
   "id": "liable-income",
   "metadata": {},
   "outputs": [],
   "source": [
    "readsrc = \"read_sample.txt\""
   ]
  },
  {
   "cell_type": "markdown",
   "id": "afraid-harvest",
   "metadata": {},
   "source": [
    "이제 파일을 읽어보자"
   ]
  },
  {
   "cell_type": "code",
   "execution_count": 2,
   "id": "insured-peripheral",
   "metadata": {},
   "outputs": [
    {
     "ename": "UnicodeDecodeError",
     "evalue": "'cp949' codec can't decode byte 0xab in position 2: illegal multibyte sequence",
     "output_type": "error",
     "traceback": [
      "\u001b[1;31m---------------------------------------------------------------------------\u001b[0m",
      "\u001b[1;31mUnicodeDecodeError\u001b[0m                        Traceback (most recent call last)",
      "\u001b[1;32m<ipython-input-2-45323e3e2c64>\u001b[0m in \u001b[0;36m<module>\u001b[1;34m\u001b[0m\n\u001b[0;32m      1\u001b[0m \u001b[0mf\u001b[0m \u001b[1;33m=\u001b[0m \u001b[0mopen\u001b[0m\u001b[1;33m(\u001b[0m\u001b[0mreadsrc\u001b[0m\u001b[1;33m,\u001b[0m\u001b[1;34m'r'\u001b[0m\u001b[1;33m)\u001b[0m\u001b[1;33m\u001b[0m\u001b[1;33m\u001b[0m\u001b[0m\n\u001b[1;32m----> 2\u001b[1;33m \u001b[0mprint\u001b[0m\u001b[1;33m(\u001b[0m\u001b[0mf\u001b[0m\u001b[1;33m.\u001b[0m\u001b[0mreadline\u001b[0m\u001b[1;33m(\u001b[0m\u001b[1;33m)\u001b[0m\u001b[1;33m)\u001b[0m\u001b[1;33m\u001b[0m\u001b[1;33m\u001b[0m\u001b[0m\n\u001b[0m\u001b[0;32m      3\u001b[0m \u001b[0mf\u001b[0m\u001b[1;33m.\u001b[0m\u001b[0mclose\u001b[0m\u001b[1;33m(\u001b[0m\u001b[1;33m)\u001b[0m\u001b[1;33m\u001b[0m\u001b[1;33m\u001b[0m\u001b[0m\n",
      "\u001b[1;31mUnicodeDecodeError\u001b[0m: 'cp949' codec can't decode byte 0xab in position 2: illegal multibyte sequence"
     ]
    }
   ],
   "source": [
    "f = open(readsrc,'r')\n",
    "print(f.readline())\n",
    "f.close()"
   ]
  },
  {
   "cell_type": "markdown",
   "id": "applied-cyprus",
   "metadata": {},
   "source": [
    "인코딩 에러가 났다.\n",
    "\n",
    "인코딩을 설정해서 가져오면 된다"
   ]
  },
  {
   "cell_type": "code",
   "execution_count": 3,
   "id": "insured-blond",
   "metadata": {},
   "outputs": [
    {
     "name": "stdout",
     "output_type": "stream",
     "text": [
      "첫 번째 인자는 파일 이름을 담은 문자열입니다. \n",
      "\n"
     ]
    }
   ],
   "source": [
    "f = open(readsrc,'r', encoding='UTF8')\n",
    "print(f.readline())\n",
    "f.close()"
   ]
  },
  {
   "cell_type": "code",
   "execution_count": 4,
   "id": "separate-holiday",
   "metadata": {},
   "outputs": [
    {
     "name": "stdout",
     "output_type": "stream",
     "text": [
      "첫 번째 인자는 파일 이름을 담은 문자열입니다. \n",
      "\n",
      "두 번째 인자는 파일이 사용될 방식을 설명하는 몇 개의 문자들을 담은 또 하나의 문자열입니다.\n",
      "\n"
     ]
    }
   ],
   "source": [
    "f = open(readsrc,'r', encoding='UTF8')\n",
    "print(f.readline())\n",
    "print(f.readline())\n",
    "f.close()"
   ]
  },
  {
   "cell_type": "markdown",
   "id": "assigned-jurisdiction",
   "metadata": {},
   "source": [
    "위 결과와 같이 `readline()`함수를 호출할 때마다 한 줄씩 읽어온다"
   ]
  },
  {
   "cell_type": "markdown",
   "id": "frozen-mistress",
   "metadata": {},
   "source": [
    "여러줄을 읽고 싶으면 `readlines()`함수를 호출하면 된다.\n",
    "\n",
    "`readlines()`는 리스트 형태로 반환해준다."
   ]
  },
  {
   "cell_type": "code",
   "execution_count": 5,
   "id": "failing-diana",
   "metadata": {},
   "outputs": [
    {
     "name": "stdout",
     "output_type": "stream",
     "text": [
      "['첫 번째 인자는 파일 이름을 담은 문자열입니다. \\n', '두 번째 인자는 파일이 사용될 방식을 설명하는 몇 개의 문자들을 담은 또 하나의 문자열입니다.\\n', \"mode 는 파일을 읽기만 하면 'r', 쓰기만 하면 'w' (같은 이름의 이미 존재하는 파일은 삭제됩니다) 가 되고, 'a' 는 파일을 덧붙이기 위해 엽니다\\n\", '파일에 기록되는 모든 데이터는 자동으로 끝에 붙습니다. \\n', \"'r+' 는 파일을 읽고 쓰기 위해 엽니다. \\n\", \"mode 인자는 선택적인데, 생략하면 'r' 이 가정됩니다.\\n\", '\\n', '보통, 파일은 텍스트 모드 (text mode) 로 열리는데, \\n', '이 뜻은, 파일에 문자열을 읽고 쓰고, 파일에는 특정한 인코딩으로 저장된다는 것입니다. \\n', '인코딩이 지정되지 않으면 기본값은 플랫폼 의존적입니다. \\n', \"mode 에 덧붙여진 'b' 는 파일을 바이너리 모드 (binary mode) 로 엽니다: 이제 데이터는 바이트열 객체의 형태로 읽고 쓰입니다. \\n\", '텍스트를 포함하지 않는 모든 파일에는 이 모드를 사용해야 합니다.\\n', '\\n', '텍스트 모드에서, 읽을 때의 기본 동작은 플랫폼 의존적인 줄 종료 (유닉스에서 \\\\n, 윈도우에서 \\\\r\\\\n) 를 단지 \\\\n 로 변경하는 것입니다. \\n', '텍스트 모드로 쓸 때, 기본 동작은 \\\\n 를 다시 플랫폼 의존적인 줄 종료로 변환하는 것입니다.\\n', '이 파일 데이터에 대한 무대 뒤의 수정은 텍스트 파일의 경우는 문제가 안 되지만, JPEG 이나 EXE 파일과 같은 바이너리 데이터를 망치게 됩니다. \\n', '그런 파일을 읽고 쓸 때 바이너리 모드를 사용하도록 주의하세요.\\n', '\\n', '파일 객체를 다룰 때 with 키워드를 사용하는 것은 좋은 습관입니다. \\n', '혜택은 도중 예외가 발생하더라도 스위트가 종료될 때 파일이 올바르게 닫힌다는 것입니다. \\n', 'with 를 사용하는 것은 동등한 try-finally 블록을 쓰는 것에 비교해 훨씬 짧기도 합니다.']\n"
     ]
    }
   ],
   "source": [
    "f = open(readsrc,'r', encoding='UTF8')\n",
    "print(f.readlines())\n",
    "f.close()"
   ]
  },
  {
   "cell_type": "markdown",
   "id": "quarterly-centre",
   "metadata": {},
   "source": [
    "`read()`를 통해서도 여러줄을 읽을 수 있다. `readlines()`와의 차이점은 `read()`는 문자열을 반환한다."
   ]
  },
  {
   "cell_type": "code",
   "execution_count": 6,
   "id": "proud-television",
   "metadata": {},
   "outputs": [
    {
     "name": "stdout",
     "output_type": "stream",
     "text": [
      "<class 'str'>\n",
      "첫 번째 인자는 파일 이름을 담은 문자열입니다. \n",
      "두 번째 인자는 파일이 사용될 방식을 설명하는 몇 개의 문자들을 담은 또 하나의 문자열입니다.\n",
      "mode 는 파일을 읽기만 하면 'r', 쓰기만 하면 'w' (같은 이름의 이미 존재하는 파일은 삭제됩니다) 가 되고, 'a' 는 파일을 덧붙이기 위해 엽니다\n",
      "파일에 기록되는 모든 데이터는 자동으로 끝에 붙습니다. \n",
      "'r+' 는 파일을 읽고 쓰기 위해 엽니다. \n",
      "mode 인자는 선택적인데, 생략하면 'r' 이 가정됩니다.\n",
      "\n",
      "보통, 파일은 텍스트 모드 (text mode) 로 열리는데, \n",
      "이 뜻은, 파일에 문자열을 읽고 쓰고, 파일에는 특정한 인코딩으로 저장된다는 것입니다. \n",
      "인코딩이 지정되지 않으면 기본값은 플랫폼 의존적입니다. \n",
      "mode 에 덧붙여진 'b' 는 파일을 바이너리 모드 (binary mode) 로 엽니다: 이제 데이터는 바이트열 객체의 형태로 읽고 쓰입니다. \n",
      "텍스트를 포함하지 않는 모든 파일에는 이 모드를 사용해야 합니다.\n",
      "\n",
      "텍스트 모드에서, 읽을 때의 기본 동작은 플랫폼 의존적인 줄 종료 (유닉스에서 \\n, 윈도우에서 \\r\\n) 를 단지 \\n 로 변경하는 것입니다. \n",
      "텍스트 모드로 쓸 때, 기본 동작은 \\n 를 다시 플랫폼 의존적인 줄 종료로 변환하는 것입니다.\n",
      "이 파일 데이터에 대한 무대 뒤의 수정은 텍스트 파일의 경우는 문제가 안 되지만, JPEG 이나 EXE 파일과 같은 바이너리 데이터를 망치게 됩니다. \n",
      "그런 파일을 읽고 쓸 때 바이너리 모드를 사용하도록 주의하세요.\n",
      "\n",
      "파일 객체를 다룰 때 with 키워드를 사용하는 것은 좋은 습관입니다. \n",
      "혜택은 도중 예외가 발생하더라도 스위트가 종료될 때 파일이 올바르게 닫힌다는 것입니다. \n",
      "with 를 사용하는 것은 동등한 try-finally 블록을 쓰는 것에 비교해 훨씬 짧기도 합니다.\n"
     ]
    }
   ],
   "source": [
    "f = open(readsrc,'r', encoding='UTF8')\n",
    "result = f.read()\n",
    "print(type(result))\n",
    "print(result)\n",
    "f.close()"
   ]
  },
  {
   "cell_type": "markdown",
   "id": "piano-confidentiality",
   "metadata": {},
   "source": [
    "## - 파일 쓰기"
   ]
  },
  {
   "cell_type": "code",
   "execution_count": 7,
   "id": "exciting-contents",
   "metadata": {},
   "outputs": [],
   "source": [
    "writesrc = \"write_sample.txt\""
   ]
  },
  {
   "cell_type": "code",
   "execution_count": 8,
   "id": "lucky-pendant",
   "metadata": {},
   "outputs": [],
   "source": [
    "f = open(writesrc, 'w')\n",
    "f.write(\"Hello World!\")\n",
    "f.write(\"Hello World!\")\n",
    "f.write(\"Hello World!\")\n",
    "f.close()"
   ]
  },
  {
   "cell_type": "markdown",
   "id": "floppy-struggle",
   "metadata": {},
   "source": [
    "`\"Hello World!\"`을 3번 write했지만 개행은 일어나지 않았다.\n",
    "\n",
    "왜냐 하면 개행도 엄연히 말해서 문자이기 때문이다."
   ]
  },
  {
   "cell_type": "markdown",
   "id": "accomplished-reading",
   "metadata": {},
   "source": [
    "```txt\n",
    "Hello World!Hello World!Hello World!\n",
    "```"
   ]
  },
  {
   "cell_type": "markdown",
   "id": "democratic-desktop",
   "metadata": {},
   "source": [
    "리스트로 파일에 적을 문자들을 적어 `writelines()` 함수를 통해 한번에 적을 수도 있다."
   ]
  },
  {
   "cell_type": "code",
   "execution_count": 9,
   "id": "reverse-turtle",
   "metadata": {},
   "outputs": [],
   "source": [
    "datas = list()\n",
    "datas.append(\"Hello World!\\n\")\n",
    "datas.append(\"Hello World!!\\n\")\n",
    "datas.append(\"Hello World!!!\\n\")\n",
    "f = open(writesrc, 'w')\n",
    "f.writelines(datas)\n",
    "f.close()"
   ]
  },
  {
   "cell_type": "markdown",
   "id": "front-third",
   "metadata": {},
   "source": [
    "```txt\n",
    "Hello World!\n",
    "Hello World!!\n",
    "Hello World!!!\n",
    "```"
   ]
  },
  {
   "cell_type": "markdown",
   "id": "liable-airport",
   "metadata": {},
   "source": [
    "`a` 옵션을 통해 덮어쓰기를 피하고 `write()`를 통해 문자열들을 추가해보았다."
   ]
  },
  {
   "cell_type": "code",
   "execution_count": 10,
   "id": "speaking-center",
   "metadata": {},
   "outputs": [],
   "source": [
    "f = open(writesrc, 'a')\n",
    "f.write(\"Hello @\\n\")\n",
    "f.write(\"Hello @@\\n\")\n",
    "f.write(\"Hello @@@\\n\")\n",
    "f.close()"
   ]
  },
  {
   "cell_type": "markdown",
   "id": "mineral-chambers",
   "metadata": {},
   "source": [
    "```txt\n",
    "Hello World!\n",
    "Hello World!!\n",
    "Hello World!!!\n",
    "Hello @\n",
    "Hello @@\n",
    "Hello @@@\n",
    "```"
   ]
  },
  {
   "cell_type": "markdown",
   "id": "innovative-shuttle",
   "metadata": {},
   "source": [
    "## - with ~ as"
   ]
  },
  {
   "cell_type": "markdown",
   "id": "precise-officer",
   "metadata": {},
   "source": [
    "`with ~ as`절을 사용하면 자동으로 파일 객체를 닫아줘서 안전하다."
   ]
  },
  {
   "cell_type": "code",
   "execution_count": 11,
   "id": "considerable-flush",
   "metadata": {},
   "outputs": [
    {
     "name": "stdout",
     "output_type": "stream",
     "text": [
      "첫 번째 인자는 파일 이름을 담은 문자열입니다. \n",
      "두 번째 인자는 파일이 사용될 방식을 설명하는 몇 개의 문자들을 담은 또 하나의 문자열입니다.\n",
      "mode 는 파일을 읽기만 하면 'r', 쓰기만 하면 'w' (같은 이름의 이미 존재하는 파일은 삭제됩니다) 가 되고, 'a' 는 파일을 덧붙이기 위해 엽니다\n",
      "파일에 기록되는 모든 데이터는 자동으로 끝에 붙습니다. \n",
      "'r+' 는 파일을 읽고 쓰기 위해 엽니다. \n",
      "mode 인자는 선택적인데, 생략하면 'r' 이 가정됩니다.\n",
      "\n",
      "보통, 파일은 텍스트 모드 (text mode) 로 열리는데, \n",
      "이 뜻은, 파일에 문자열을 읽고 쓰고, 파일에는 특정한 인코딩으로 저장된다는 것입니다. \n",
      "인코딩이 지정되지 않으면 기본값은 플랫폼 의존적입니다. \n",
      "mode 에 덧붙여진 'b' 는 파일을 바이너리 모드 (binary mode) 로 엽니다: 이제 데이터는 바이트열 객체의 형태로 읽고 쓰입니다. \n",
      "텍스트를 포함하지 않는 모든 파일에는 이 모드를 사용해야 합니다.\n",
      "\n",
      "텍스트 모드에서, 읽을 때의 기본 동작은 플랫폼 의존적인 줄 종료 (유닉스에서 \\n, 윈도우에서 \\r\\n) 를 단지 \\n 로 변경하는 것입니다. \n",
      "텍스트 모드로 쓸 때, 기본 동작은 \\n 를 다시 플랫폼 의존적인 줄 종료로 변환하는 것입니다.\n",
      "이 파일 데이터에 대한 무대 뒤의 수정은 텍스트 파일의 경우는 문제가 안 되지만, JPEG 이나 EXE 파일과 같은 바이너리 데이터를 망치게 됩니다. \n",
      "그런 파일을 읽고 쓸 때 바이너리 모드를 사용하도록 주의하세요.\n",
      "\n",
      "파일 객체를 다룰 때 with 키워드를 사용하는 것은 좋은 습관입니다. \n",
      "혜택은 도중 예외가 발생하더라도 스위트가 종료될 때 파일이 올바르게 닫힌다는 것입니다. \n",
      "with 를 사용하는 것은 동등한 try-finally 블록을 쓰는 것에 비교해 훨씬 짧기도 합니다.\n"
     ]
    }
   ],
   "source": [
    "with open(readsrc, 'r', encoding=\"UTF8\") as f:\n",
    "    d = f.read()\n",
    "    print(d)"
   ]
  },
  {
   "cell_type": "markdown",
   "id": "interested-confirmation",
   "metadata": {},
   "source": [
    "`__enter__`와 `__exit__`을 사용하면 `with ~ as`에 적용되는 커스텀 클래스를 만들 수 있다."
   ]
  },
  {
   "cell_type": "code",
   "execution_count": 12,
   "id": "sexual-oriental",
   "metadata": {},
   "outputs": [
    {
     "name": "stdout",
     "output_type": "stream",
     "text": [
      "__init__ invoked\n",
      "\n",
      "\n",
      "\n",
      "\n",
      "첫 번째 인자는 파일 이름을 담은 문자열입니다. \n",
      "두 번째 인자는 파일이 사용될 방식을 설명하는 몇 개의 문자들을 담은 또 하나의 문자열입니다.\n",
      "mode 는 파일을 읽기만 하면 'r', 쓰기만 하면 'w' (같은 이름의 이미 존재하는 파일은 삭제됩니다) 가 되고, 'a' 는 파일을 덧붙이기 위해 엽니다\n",
      "파일에 기록되는 모든 데이터는 자동으로 끝에 붙습니다. \n",
      "'r+' 는 파일을 읽고 쓰기 위해 엽니다. \n",
      "mode 인자는 선택적인데, 생략하면 'r' 이 가정됩니다.\n",
      "\n",
      "보통, 파일은 텍스트 모드 (text mode) 로 열리는데, \n",
      "이 뜻은, 파일에 문자열을 읽고 쓰고, 파일에는 특정한 인코딩으로 저장된다는 것입니다. \n",
      "인코딩이 지정되지 않으면 기본값은 플랫폼 의존적입니다. \n",
      "mode 에 덧붙여진 'b' 는 파일을 바이너리 모드 (binary mode) 로 엽니다: 이제 데이터는 바이트열 객체의 형태로 읽고 쓰입니다. \n",
      "텍스트를 포함하지 않는 모든 파일에는 이 모드를 사용해야 합니다.\n",
      "\n",
      "텍스트 모드에서, 읽을 때의 기본 동작은 플랫폼 의존적인 줄 종료 (유닉스에서 \\n, 윈도우에서 \\r\\n) 를 단지 \\n 로 변경하는 것입니다. \n",
      "텍스트 모드로 쓸 때, 기본 동작은 \\n 를 다시 플랫폼 의존적인 줄 종료로 변환하는 것입니다.\n",
      "이 파일 데이터에 대한 무대 뒤의 수정은 텍스트 파일의 경우는 문제가 안 되지만, JPEG 이나 EXE 파일과 같은 바이너리 데이터를 망치게 됩니다. \n",
      "그런 파일을 읽고 쓸 때 바이너리 모드를 사용하도록 주의하세요.\n",
      "\n",
      "파일 객체를 다룰 때 with 키워드를 사용하는 것은 좋은 습관입니다. \n",
      "혜택은 도중 예외가 발생하더라도 스위트가 종료될 때 파일이 올바르게 닫힌다는 것입니다. \n",
      "with 를 사용하는 것은 동등한 try-finally 블록을 쓰는 것에 비교해 훨씬 짧기도 합니다.\n",
      "\n",
      "\n",
      "\n",
      "\n",
      "AutoReader is good\n"
     ]
    }
   ],
   "source": [
    "class AutoUTF8Reader:\n",
    "    \n",
    "    def __init__(self, readsrc):\n",
    "        print(\"__init__ invoked\\n\\n\\n\\n\")\n",
    "        self.readsrc = readsrc\n",
    "    \n",
    "    def __enter__(self):\n",
    "        self.f = open(self.readsrc, 'r', encoding=\"UTF8\")\n",
    "        print(self.f.read())\n",
    "        return \"\\n\\n\\n\\nAutoReader is good\"\n",
    "    \n",
    "    def __exit__(self, exc_type, exc_value, traceback):\n",
    "        self.f.close()\n",
    "        \n",
    "with AutoUTF8Reader(readsrc) as result:\n",
    "    print(result)"
   ]
  },
  {
   "cell_type": "markdown",
   "id": "equipped-greenhouse",
   "metadata": {},
   "source": [
    "## - JSON 다루기"
   ]
  },
  {
   "cell_type": "markdown",
   "id": "hydraulic-orientation",
   "metadata": {},
   "source": [
    "json 파일은 프로그램을 개발하면서 많이 사용하게 되는 데이터 모델 파일이다.\n",
    "\n",
    "아래 함수들을 사용하면 된다.\n",
    "\n",
    "### * PYTHON TO JSON `Serialize`\n",
    "- `json.dump()` \n",
    "\n",
    "- `json.dumps()`"
   ]
  },
  {
   "cell_type": "markdown",
   "id": "lovely-range",
   "metadata": {},
   "source": [
    "`json.dumps()`을 호출하면 먼저 메모리에 데이터 전체 복사본을 생성한 다음 디스크에 생성한다.\n",
    "\n",
    "속도는 빠르지만 데이터가 너무 많을 경우 문제가 있을 것이다.\n",
    "\n",
    "`json.dump()`는 새 메모리를 사용하지는 않지만 속도는 느리다"
   ]
  },
  {
   "cell_type": "markdown",
   "id": "dying-period",
   "metadata": {},
   "source": [
    "### * json.dump()"
   ]
  },
  {
   "cell_type": "code",
   "execution_count": 13,
   "id": "boxed-builder",
   "metadata": {},
   "outputs": [],
   "source": [
    "import json\n",
    "\n",
    "data1 = dict(\n",
    "    name = \"Jackson\",\n",
    "    age = 15\n",
    ")\n",
    "data2 = dict(\n",
    "    name = \"Eddie\",\n",
    "    age = 28\n",
    ")\n",
    "data3 = dict(\n",
    "    name = \"kha\",\n",
    "    age = 27\n",
    ")\n",
    "\n",
    "data_list = [data1, data2, data3]"
   ]
  },
  {
   "cell_type": "code",
   "execution_count": 14,
   "id": "disciplinary-steel",
   "metadata": {},
   "outputs": [],
   "source": [
    "# dump(object, fp : write()를 지원하는 파일 객체)\n",
    "fp = open(\"json_module_test.json\", 'w', encoding='UTF8')\n",
    "json.dump(data_list, fp)\n",
    "fp.close()"
   ]
  },
  {
   "cell_type": "markdown",
   "id": "directed-sitting",
   "metadata": {},
   "source": [
    " - `json_module_test.json`\n",
    "\n",
    "```json\n",
    "[{\"name\": \"Jackson\", \"age\": 15}, {\"name\": \"Eddie\", \"age\": 28}, {\"name\": \"kha\", \"age\": 27}]\n",
    "```"
   ]
  },
  {
   "cell_type": "markdown",
   "id": "signed-princeton",
   "metadata": {},
   "source": [
    "예쁘게 파일에 적고 싶으면 아래와 같이 사용하면 된다"
   ]
  },
  {
   "cell_type": "code",
   "execution_count": 15,
   "id": "married-fifty",
   "metadata": {
    "tags": []
   },
   "outputs": [],
   "source": [
    "fp = open(\"json_module_test.json\", 'w', encoding='UTF8')\n",
    "json.dump(data_list, fp, sort_keys=True, indent=4) \n",
    "fp.close()"
   ]
  },
  {
   "cell_type": "markdown",
   "id": "clinical-victim",
   "metadata": {},
   "source": [
    "```json\n",
    "[\n",
    "    {\n",
    "        \"age\": 15,\n",
    "        \"name\": \"Jackson\"\n",
    "    },\n",
    "    {\n",
    "        \"age\": 28,\n",
    "        \"name\": \"Eddie\"\n",
    "    },\n",
    "    {\n",
    "        \"age\": 27,\n",
    "        \"name\": \"kha\"\n",
    "    }\n",
    "]\n",
    "```"
   ]
  },
  {
   "cell_type": "markdown",
   "id": "modular-information",
   "metadata": {},
   "source": [
    "### * json.dumps()"
   ]
  },
  {
   "cell_type": "code",
   "execution_count": 16,
   "id": "standing-biodiversity",
   "metadata": {},
   "outputs": [],
   "source": [
    "dumps_result = json.dumps(data_list)"
   ]
  },
  {
   "cell_type": "code",
   "execution_count": 17,
   "id": "beginning-sympathy",
   "metadata": {},
   "outputs": [
    {
     "data": {
      "text/plain": [
       "'[{\"name\": \"Jackson\", \"age\": 15}, {\"name\": \"Eddie\", \"age\": 28}, {\"name\": \"kha\", \"age\": 27}]'"
      ]
     },
     "execution_count": 17,
     "metadata": {},
     "output_type": "execute_result"
    }
   ],
   "source": [
    "dumps_result"
   ]
  },
  {
   "cell_type": "code",
   "execution_count": 18,
   "id": "behavioral-examination",
   "metadata": {},
   "outputs": [],
   "source": [
    "with open(\"json_module_test.json\", 'w', encoding='UTF8') as f:\n",
    "    f.write(dumps_result)"
   ]
  },
  {
   "cell_type": "markdown",
   "id": "appointed-purple",
   "metadata": {},
   "source": [
    " - `json_module_test.json`\n",
    "\n",
    "```json\n",
    "[{\"name\": \"Jackson\", \"age\": 15}, {\"name\": \"Eddie\", \"age\": 28}, {\"name\": \"kha\", \"age\": 27}]\n",
    "```"
   ]
  },
  {
   "cell_type": "markdown",
   "id": "republican-disclaimer",
   "metadata": {},
   "source": [
    "`dump()`를 사용했던 것처럼 pretty하게 파일에 입력하고 싶으면 아래와 같이 하면 된다."
   ]
  },
  {
   "cell_type": "code",
   "execution_count": 19,
   "id": "resident-norwegian",
   "metadata": {},
   "outputs": [],
   "source": [
    "dumps_result = json.dumps(data_list, sort_keys=True, indent=4)"
   ]
  },
  {
   "cell_type": "code",
   "execution_count": 20,
   "id": "inclusive-anatomy",
   "metadata": {},
   "outputs": [
    {
     "data": {
      "text/plain": [
       "'[\\n    {\\n        \"age\": 15,\\n        \"name\": \"Jackson\"\\n    },\\n    {\\n        \"age\": 28,\\n        \"name\": \"Eddie\"\\n    },\\n    {\\n        \"age\": 27,\\n        \"name\": \"kha\"\\n    }\\n]'"
      ]
     },
     "execution_count": 20,
     "metadata": {},
     "output_type": "execute_result"
    }
   ],
   "source": [
    "dumps_result"
   ]
  },
  {
   "cell_type": "code",
   "execution_count": 21,
   "id": "driven-vault",
   "metadata": {},
   "outputs": [],
   "source": [
    "with open(\"json_module_test.json\", 'w', encoding='UTF8') as f:\n",
    "    f.write(dumps_result)"
   ]
  },
  {
   "cell_type": "markdown",
   "id": "deluxe-article",
   "metadata": {},
   "source": [
    "```json\n",
    "[\n",
    "    {\n",
    "        \"age\": 15,\n",
    "        \"name\": \"Jackson\"\n",
    "    },\n",
    "    {\n",
    "        \"age\": 28,\n",
    "        \"name\": \"Eddie\"\n",
    "    },\n",
    "    {\n",
    "        \"age\": 27,\n",
    "        \"name\": \"kha\"\n",
    "    }\n",
    "]\n",
    "```"
   ]
  },
  {
   "cell_type": "markdown",
   "id": "fossil-anger",
   "metadata": {},
   "source": [
    "### * JSON TO PYTHON `Deserialize`\n",
    "\n",
    "- `json.load()` : JSON File ==> Python Dictionary\n",
    "\n",
    "- `json.loads()` : JSON String ==> Python Dictionary\n",
    "\n",
    "이 둘의 차이점은 옆에 있는 부연 설명과 같다.\n",
    "\n",
    "`.json` 파일을 읽어와 Python의 자료구조인 `dict` 객체로 만들때는 `load()` 함수를 사용하면 되고\n",
    "\n",
    "JSON 형식으로 되어 있는 문자열을 `dict` 객체로 만들고자 할 때는 `loads()` 함수를 사용하면 된다."
   ]
  },
  {
   "cell_type": "markdown",
   "id": "silent-nickel",
   "metadata": {},
   "source": [
    "### * json.load()"
   ]
  },
  {
   "cell_type": "code",
   "execution_count": 22,
   "id": "stock-harassment",
   "metadata": {},
   "outputs": [
    {
     "data": {
      "text/plain": [
       "[{'age': 15, 'name': 'Jackson'},\n",
       " {'age': 28, 'name': 'Eddie'},\n",
       " {'age': 27, 'name': 'kha'}]"
      ]
     },
     "execution_count": 22,
     "metadata": {},
     "output_type": "execute_result"
    }
   ],
   "source": [
    "with open(\"json_module_test.json\", 'r', encoding='UTF8') as f:\n",
    "    result_data = json.load(f)\n",
    "\n",
    "result_data"
   ]
  },
  {
   "cell_type": "markdown",
   "id": "supposed-practitioner",
   "metadata": {},
   "source": [
    "### * json.loads()"
   ]
  },
  {
   "cell_type": "code",
   "execution_count": 23,
   "id": "compact-russian",
   "metadata": {},
   "outputs": [],
   "source": [
    "json_string = '[{\"name\": \"Jackson\", \"age\": 15}, {\"name\": \"Eddie\", \"age\": 28}, {\"name\": \"kha\", \"age\": 27}]'"
   ]
  },
  {
   "cell_type": "code",
   "execution_count": 24,
   "id": "fewer-casino",
   "metadata": {},
   "outputs": [
    {
     "data": {
      "text/plain": [
       "[{'name': 'Jackson', 'age': 15},\n",
       " {'name': 'Eddie', 'age': 28},\n",
       " {'name': 'kha', 'age': 27}]"
      ]
     },
     "execution_count": 24,
     "metadata": {},
     "output_type": "execute_result"
    }
   ],
   "source": [
    "json.loads(json_string)"
   ]
  },
  {
   "cell_type": "markdown",
   "id": "front-issue",
   "metadata": {},
   "source": [
    "<br>\n",
    "<br>\n",
    "<br>\n",
    "<br>\n",
    "<br>\n",
    "<br>\n",
    "<hr>\n",
    "<br>\n",
    "<br>\n",
    "<br>\n",
    "<br>\n",
    "<br>\n",
    "<br>"
   ]
  }
 ],
 "metadata": {
  "kernelspec": {
   "display_name": "Python 3",
   "language": "python",
   "name": "python3"
  },
  "language_info": {
   "codemirror_mode": {
    "name": "ipython",
    "version": 3
   },
   "file_extension": ".py",
   "mimetype": "text/x-python",
   "name": "python",
   "nbconvert_exporter": "python",
   "pygments_lexer": "ipython3",
   "version": "3.9.2"
  }
 },
 "nbformat": 4,
 "nbformat_minor": 5
}
