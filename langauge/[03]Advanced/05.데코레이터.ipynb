{
 "cells": [
  {
   "cell_type": "markdown",
   "id": "5de39b1a-e2a9-4b06-9d22-5da3f904e473",
   "metadata": {},
   "source": [
    "# 05. 데코레이터"
   ]
  },
  {
   "cell_type": "markdown",
   "id": "05bd8863-724b-47bc-be44-97936b41bc7f",
   "metadata": {},
   "source": [
    "## - decorator(데코레이터)란"
   ]
  },
  {
   "cell_type": "markdown",
   "id": "2beec8e4-dc2c-4562-bcfb-370e0a0ee780",
   "metadata": {},
   "source": [
    "`@`으로 시작하는 것\n",
    "\n",
    "함수를 장식함\n",
    "\n",
    "EXAMPLE : `@staticmethod`, `@classmethod`, `@abstractmethod`\n",
    "\n",
    "함수를 수정하지 않고 기능을 추가할 수 있음. 예를 들어..."
   ]
  },
  {
   "cell_type": "code",
   "execution_count": 1,
   "id": "cee9b85e-e202-4346-b411-5e700437d73e",
   "metadata": {},
   "outputs": [
    {
     "name": "stdout",
     "output_type": "stream",
     "text": [
      "hello\n"
     ]
    }
   ],
   "source": [
    "def hello():\n",
    "    print('hello')\n",
    "\n",
    "hello()"
   ]
  },
  {
   "cell_type": "markdown",
   "id": "e70d0dd5-a699-4263-a275-86b0e73aacae",
   "metadata": {},
   "source": [
    "위 함수 `hello()`의 구현부를 수정하지 않고 기능을 추가할 방법은 없을까?"
   ]
  },
  {
   "cell_type": "code",
   "execution_count": 2,
   "id": "d1ee4690-8e66-470c-94c8-3b86ce708d12",
   "metadata": {},
   "outputs": [
    {
     "name": "stdout",
     "output_type": "stream",
     "text": [
      "decorator\n",
      "hello\n"
     ]
    }
   ],
   "source": [
    "def decorator(func):\n",
    "    def wrapper():\n",
    "        print('decorator')\n",
    "        func()\n",
    "    return wrapper\n",
    "\n",
    "def hello():\n",
    "    print('hello')\n",
    "\n",
    "decorator(hello)()"
   ]
  },
  {
   "cell_type": "markdown",
   "id": "feda5a05-955b-43fa-9d6c-ad07dae2d51d",
   "metadata": {},
   "source": [
    "`decorator()`함수를 따로 만들어 함수를 받아 기능을 추가한 콜백(callback)형태로 구현하였고, 그 구현된 함수를 반환하였다.\n",
    "\n",
    "그러나 이렇게 사용하면 `decorator(hello)()`와 같이 좀 불편하게 호출해야 하고\n",
    "\n",
    "설사 `hello()`함수의 구현부를 건들지 않았더라도 이 함수를 호출한 부분은 수정해야하는 성가신 작업이 추가돼버린다."
   ]
  },
  {
   "cell_type": "code",
   "execution_count": 3,
   "id": "d3c45dbd-81a2-4572-a16b-013af24fcae3",
   "metadata": {},
   "outputs": [
    {
     "name": "stdout",
     "output_type": "stream",
     "text": [
      "decorator\n",
      "hello\n"
     ]
    }
   ],
   "source": [
    "def decorator(func):\n",
    "    def wrapper():\n",
    "        print('decorator')\n",
    "        func()\n",
    "    return wrapper\n",
    "\n",
    "@decorator\n",
    "def hello():\n",
    "    print('hello')\n",
    "\n",
    "hello()"
   ]
  },
  {
   "cell_type": "markdown",
   "id": "5534f448-375d-4900-9967-abca2d4eb36e",
   "metadata": {},
   "source": [
    "파이썬에서 제공하는 `@`+`데코레이터 함수 이름(decorator)`를 사용하면 쉽게 해결할 수 있다."
   ]
  },
  {
   "cell_type": "code",
   "execution_count": 4,
   "id": "e32068ed-e8a3-418e-903e-a8ce7c69376c",
   "metadata": {},
   "outputs": [
    {
     "name": "stdout",
     "output_type": "stream",
     "text": [
      "decorator1\n",
      "decorator2\n",
      "hello\n"
     ]
    }
   ],
   "source": [
    "def decorator1(func):\n",
    "    def wrapper():\n",
    "        print('decorator1')\n",
    "        func()\n",
    "    return wrapper\n",
    " \n",
    "def decorator2(func):\n",
    "    def wrapper():\n",
    "        print('decorator2')\n",
    "        func()\n",
    "    return wrapper\n",
    " \n",
    "# 데코레이터를 여러 개 지정\n",
    "@decorator1\n",
    "@decorator2\n",
    "def hello():\n",
    "    print('hello')\n",
    "    \n",
    "hello()"
   ]
  },
  {
   "cell_type": "markdown",
   "id": "b899a093-cce6-47f0-ad2c-3bab57786c07",
   "metadata": {},
   "source": [
    "데코레이터를 여러 개 지정할 수도 있다.\n",
    "\n",
    "위와 같이, 본래 `decorator1(decorator2(hello))()`와 같이 호출해야 하는 것을 `@`을 통해 쉽게 기능을 추가할 수 있다.\n",
    "\n",
    "아래와 같이 데코레이터에 파라미터도 추가할 수 있다.\n",
    "\n",
    "주의해야할 점은 함수를 그대로 받아 콜백 형태로 기능을 추가하는 기존 함수 외부에 파라미터를 받는 함수를 추가해야한다는 점이다."
   ]
  },
  {
   "cell_type": "code",
   "execution_count": 5,
   "id": "1e79616e-e3f8-41ec-9882-1dea45e45678",
   "metadata": {},
   "outputs": [
    {
     "name": "stdout",
     "output_type": "stream",
     "text": [
      "wrap() 속에 들어왔습니다.\n",
      "[데코레이터 후!]\n",
      "---------------sayHello() 콜 준비중.---------------\n",
      "wrapped_f() 속에 들어왔습니다.\n",
      "데코레이터 arguments: hello world 42\n",
      "콜백 함수 f()에 들어갈 인수(Argument)들 : ('안녕하세요', 'sayHello', 'argument', 'list')\n",
      "sayHello arguments: 안녕하세요 sayHello argument list\n",
      "f(*args) 후.\n",
      "---------------sayHello() 첫번째 콜 후.---------------\n",
      "wrapped_f() 속에 들어왔습니다.\n",
      "데코레이터 arguments: hello world 42\n",
      "콜백 함수 f()에 들어갈 인수(Argument)들 : ('반갑습니다', 'sayHello의', '다른', 'arguments')\n",
      "sayHello arguments: 반갑습니다 sayHello의 다른 arguments\n",
      "f(*args) 후.\n",
      "---------------sayHello() 두번째 콜 후.---------------\n"
     ]
    }
   ],
   "source": [
    "def decoratorFunctionWithArguments(arg1, arg2, arg3):\n",
    "    # [주의]이 사이에 코드를 추가하면 데코레이터로 인식하게 하는 문법에 맞지 않아 에러가 걸립니다.\n",
    "    def wrap(f):           ##### 기존 데코레이터의 형태 start\n",
    "        print(\"wrap() 속에 들어왔습니다.\") # @decoratorFunctionWithArguments 선언 시 호출되어 wrapped_f() 함수를 반환한다.\n",
    "        def wrapped_f(*args): # 이후 sayHello()의 매개변수에 들어올 인수들이 튜플형태로 받아짐\n",
    "            print(\"wrapped_f() 속에 들어왔습니다.\")\n",
    "            print(\"데코레이터 arguments:\", arg1, arg2, arg3)\n",
    "            print(\"콜백 함수 f()에 들어갈 인수(Argument)들 :\", args) # 인자 및 매개변수는 Parameter라고 하고 인수 및 전달인자는 Argument라고 한다.\n",
    "            f(*args)\n",
    "            print(\"f(*args) 후.\")\n",
    "        return wrapped_f   ##### 기존 데코레이터의 형태 end\n",
    "    return wrap\n",
    "\n",
    "@decoratorFunctionWithArguments(\"hello\", \"world\", 42)\n",
    "def sayHello(a1, a2, a3, a4):\n",
    "    print('sayHello arguments:', a1, a2, a3, a4)\n",
    "\n",
    "print(\"[데코레이터 후!]\")\n",
    "\n",
    "print(\"---------------sayHello() 콜 준비중.---------------\")\n",
    "sayHello(\"안녕하세요\", \"sayHello\", \"argument\", \"list\")\n",
    "print(\"---------------sayHello() 첫번째 콜 후.---------------\")\n",
    "sayHello(\"반갑습니다\", \"sayHello의\", \"다른\", \"arguments\")\n",
    "print(\"---------------sayHello() 두번째 콜 후.---------------\")"
   ]
  },
  {
   "cell_type": "markdown",
   "id": "20053d7e-068b-4a74-a502-7aabf5ea428a",
   "metadata": {},
   "source": [
    "## - 매개변수와 반환이 있는 함수를 처리"
   ]
  },
  {
   "cell_type": "code",
   "execution_count": 6,
   "id": "5a605349-d0b0-4269-920c-f55f13904cc2",
   "metadata": {},
   "outputs": [
    {
     "name": "stdout",
     "output_type": "stream",
     "text": [
      "DECO!!!\n",
      "매개변수 정보 10, 20\n"
     ]
    },
    {
     "data": {
      "text/plain": [
       "30"
      ]
     },
     "execution_count": 6,
     "metadata": {},
     "output_type": "execute_result"
    }
   ],
   "source": [
    "def deco(func):\n",
    "    print(\"DECO!!!\")\n",
    "    def wrapper(a, b):\n",
    "        print(f'매개변수 정보 {a}, {b}')\n",
    "        return func(a, b)\n",
    "    return wrapper\n",
    "\n",
    "\n",
    "def add(a, b):\n",
    "    return a + b\n",
    "\n",
    "deco(add)(10, 20)"
   ]
  },
  {
   "cell_type": "code",
   "execution_count": 7,
   "id": "0766996f-a9b4-4db6-9b45-90af5fd32a90",
   "metadata": {},
   "outputs": [
    {
     "name": "stdout",
     "output_type": "stream",
     "text": [
      "DECO!!!\n",
      "매개변수 정보 10, 20\n"
     ]
    },
    {
     "data": {
      "text/plain": [
       "30"
      ]
     },
     "execution_count": 7,
     "metadata": {},
     "output_type": "execute_result"
    }
   ],
   "source": [
    "def deco(func):\n",
    "    print(\"DECO!!!\")\n",
    "    def wrapper(a, b):\n",
    "        print(f'매개변수 정보 {a}, {b}')\n",
    "        return func(a, b)\n",
    "    return wrapper\n",
    "\n",
    "@deco\n",
    "def add(a, b):\n",
    "    return a + b\n",
    "\n",
    "add(10, 20)"
   ]
  },
  {
   "cell_type": "markdown",
   "id": "4886f759-4c20-4e05-89fe-7bd06cd092b0",
   "metadata": {},
   "source": [
    "## - 데코레이터에 매개변수가 있을 때"
   ]
  },
  {
   "cell_type": "markdown",
   "id": "4a9379a0-7222-4438-8202-652e82dd89eb",
   "metadata": {},
   "source": [
    "### * 데코레이터`@`가 없을 때"
   ]
  },
  {
   "cell_type": "code",
   "execution_count": 8,
   "id": "14e7080f-0fb2-4b36-bfc9-9cec0c755a53",
   "metadata": {},
   "outputs": [
    {
     "name": "stdout",
     "output_type": "stream",
     "text": [
      "just do it : add\n",
      "just do it : nothing\n",
      "output1 : 15, output2 : Invaild\n"
     ]
    }
   ],
   "source": [
    "def paradeco(nums):\n",
    "    def deco(func):\n",
    "        def wrapper(*, do):\n",
    "            doWhat = None\n",
    "            param = dict(do = do) # param = {\"do\" : do}\n",
    "            if do == \"add\":\n",
    "                doWhat = lambda x : sum(x)\n",
    "            elif do == \"max\":\n",
    "                doWhat = lambda x : max(x)\n",
    "            else:\n",
    "                pass\n",
    "            func(**param)\n",
    "            return doWhat(nums) if doWhat != None else \"Invaild\"\n",
    "        return wrapper\n",
    "    return deco\n",
    "\n",
    "def result(*, do):\n",
    "    print(\"just do it :\", do)\n",
    "\n",
    "    \n",
    "output1 = paradeco([1,2,3,4,5])(result)(do=\"add\")\n",
    "output2 = paradeco([1,2,3,4,5])(result)(do=\"nothing\")\n",
    "print(f'output1 : {output1}, output2 : {output2}')"
   ]
  },
  {
   "cell_type": "markdown",
   "id": "5af6a4bf-10c2-4b6f-b31e-7cef93637d8f",
   "metadata": {},
   "source": [
    "### * 데코레이터`@`가 있을 때"
   ]
  },
  {
   "cell_type": "code",
   "execution_count": 9,
   "id": "922ed181-e765-4933-91da-98dbb93bcf6f",
   "metadata": {},
   "outputs": [
    {
     "name": "stdout",
     "output_type": "stream",
     "text": [
      "just do it : add\n",
      "just do it : nothing\n",
      "output1 : 15, output2 : Invaild\n"
     ]
    }
   ],
   "source": [
    "def paradeco(nums):\n",
    "    def deco(func):\n",
    "        def wrapper(*, do):\n",
    "            doWhat = None\n",
    "            param = dict(do = do) # param = {\"do\" : do}\n",
    "            if do == \"add\":\n",
    "                doWhat = lambda x : sum(x)\n",
    "            elif do == \"max\":\n",
    "                doWhat = lambda x : max(x)\n",
    "            else:\n",
    "                pass\n",
    "            func(**param)\n",
    "            return doWhat(nums) if doWhat != None else \"Invaild\"\n",
    "        return wrapper\n",
    "    return deco\n",
    "\n",
    "@paradeco([1,2,3,4,5])\n",
    "def result(*, do):\n",
    "    print(\"just do it :\", do)\n",
    "\n",
    "    \n",
    "output1 = result(do=\"add\")\n",
    "output2 = result(do=\"nothing\")\n",
    "print(f'output1 : {output1}, output2 : {output2}')"
   ]
  },
  {
   "cell_type": "markdown",
   "id": "d22bc958-04a6-4acd-9e99-6530aa3475e0",
   "metadata": {},
   "source": [
    "## - 클래스로 데코레이터 만들기"
   ]
  },
  {
   "cell_type": "markdown",
   "id": "f5e6f837-d183-4337-95dc-1faef580c390",
   "metadata": {},
   "source": [
    "함수로 데코레이터를 만들게 되면 콜백지옥과 같은 가독성이 않좋은 코드를 보게된다. 그러므로 클래스로 깔끔하게 만들어보자"
   ]
  },
  {
   "cell_type": "markdown",
   "id": "4c51697a-02c8-4627-b410-7171734d3ca4",
   "metadata": {},
   "source": [
    "#### case A"
   ]
  },
  {
   "cell_type": "code",
   "execution_count": 10,
   "id": "da6221a5-ad46-4413-b1c4-6a03fe6ec905",
   "metadata": {},
   "outputs": [
    {
     "name": "stdout",
     "output_type": "stream",
     "text": [
      "decorator\n",
      "hello\n"
     ]
    }
   ],
   "source": [
    "def decorator(func):\n",
    "    def wrapper():\n",
    "        print('decorator')\n",
    "        func()\n",
    "    return wrapper\n",
    "\n",
    "@decorator\n",
    "def hello():\n",
    "    print('hello')\n",
    "\n",
    "hello()"
   ]
  },
  {
   "cell_type": "code",
   "execution_count": 11,
   "id": "fa472648-1516-40d9-a8be-c5d6438a0aa9",
   "metadata": {},
   "outputs": [
    {
     "name": "stdout",
     "output_type": "stream",
     "text": [
      "decorator\n",
      "hello\n"
     ]
    }
   ],
   "source": [
    "class Decorator:\n",
    "    def __init__(self, func):\n",
    "        self.func = func\n",
    "    \n",
    "    def __call__(self):\n",
    "        print(\"decorator\")\n",
    "        self.func()\n",
    "        \n",
    "@Decorator\n",
    "def hello():\n",
    "    print('hello')\n",
    "\n",
    "hello()"
   ]
  },
  {
   "cell_type": "markdown",
   "id": "a36c51cc-12bb-40b9-a1c8-a718ce050d83",
   "metadata": {},
   "source": [
    "#### case B"
   ]
  },
  {
   "cell_type": "code",
   "execution_count": 12,
   "id": "bfdaaa6d-3b7c-4852-8624-13b90e9a27a8",
   "metadata": {
    "tags": []
   },
   "outputs": [
    {
     "name": "stdout",
     "output_type": "stream",
     "text": [
      "DECO!!!\n",
      "======\n",
      "매개변수 정보 10, 20\n"
     ]
    },
    {
     "data": {
      "text/plain": [
       "30"
      ]
     },
     "execution_count": 12,
     "metadata": {},
     "output_type": "execute_result"
    }
   ],
   "source": [
    "def deco(func):\n",
    "    print(\"DECO!!!\")\n",
    "    def wrapper(a, b):\n",
    "        print(f'매개변수 정보 {a}, {b}')\n",
    "        return func(a, b)\n",
    "    return wrapper\n",
    "\n",
    "@deco\n",
    "def add(a, b):\n",
    "    return a + b\n",
    "print(\"======\")\n",
    "add(10, 20)"
   ]
  },
  {
   "cell_type": "code",
   "execution_count": 13,
   "id": "46c3821a-563f-4c9b-94cf-3e80c549bd4f",
   "metadata": {},
   "outputs": [
    {
     "name": "stdout",
     "output_type": "stream",
     "text": [
      "DECO!!!\n",
      "======\n",
      "매개변수 정보 10, 20\n"
     ]
    },
    {
     "data": {
      "text/plain": [
       "30"
      ]
     },
     "execution_count": 13,
     "metadata": {},
     "output_type": "execute_result"
    }
   ],
   "source": [
    "class Deco:\n",
    "    def __init__(self, func):\n",
    "        self.func = func\n",
    "        print(\"DECO!!!\")\n",
    "        \n",
    "    def __call__(self, a, b):\n",
    "        print(f'매개변수 정보 {a}, {b}')\n",
    "        return self.func(a,b)\n",
    "    \n",
    "    \n",
    "\n",
    "@Deco\n",
    "def add(a, b):\n",
    "    return a + b\n",
    "\n",
    "print(\"======\")\n",
    "add(10, 20)"
   ]
  },
  {
   "cell_type": "code",
   "execution_count": 14,
   "id": "859db54b-b60f-4dda-adf4-54e0d5e4a1da",
   "metadata": {},
   "outputs": [
    {
     "name": "stdout",
     "output_type": "stream",
     "text": [
      "DECO!!!\n",
      "======\n",
      "매개변수 정보 10, 20\n"
     ]
    },
    {
     "data": {
      "text/plain": [
       "30"
      ]
     },
     "execution_count": 14,
     "metadata": {},
     "output_type": "execute_result"
    }
   ],
   "source": [
    "class Deco:\n",
    "    def __init__(self, func):\n",
    "        self.func = func\n",
    "        print(\"DECO!!!\")\n",
    "        \n",
    "    def __call__(self, *args, **kwargs):\n",
    "        print(f'매개변수 정보 {args[0]}, {args[1]}')\n",
    "        return self.func(*args)\n",
    "    \n",
    "    \n",
    "\n",
    "@Deco\n",
    "def add(a, b):\n",
    "    return a + b\n",
    "\n",
    "print(\"======\")\n",
    "add(10, 20)"
   ]
  },
  {
   "cell_type": "markdown",
   "id": "8174a753-18ec-4007-abec-85a7445a9866",
   "metadata": {},
   "source": [
    "#### case C"
   ]
  },
  {
   "cell_type": "code",
   "execution_count": 15,
   "id": "13f64ac0-e8ea-412d-b598-2179a6601667",
   "metadata": {},
   "outputs": [
    {
     "name": "stdout",
     "output_type": "stream",
     "text": [
      "just do it : add\n",
      "just do it : nothing\n",
      "output1 : 15, output2 : Invaild\n"
     ]
    }
   ],
   "source": [
    "def paradeco(nums):\n",
    "    def deco(func):\n",
    "        def wrapper(*, do):\n",
    "            doWhat = None\n",
    "            param = dict(do = do) # param = {\"do\" : do}\n",
    "            if do == \"add\":\n",
    "                doWhat = lambda x : sum(x)\n",
    "            elif do == \"max\":\n",
    "                doWhat = lambda x : max(x)\n",
    "            else:\n",
    "                pass\n",
    "            func(**param)\n",
    "            return doWhat(nums) if doWhat != None else \"Invaild\"\n",
    "        return wrapper\n",
    "    return deco\n",
    "\n",
    "@paradeco([1,2,3,4,5])\n",
    "def result(*, do):\n",
    "    print(\"just do it :\", do)\n",
    "\n",
    "    \n",
    "output1 = result(do=\"add\")\n",
    "output2 = result(do=\"nothing\")\n",
    "print(f'output1 : {output1}, output2 : {output2}')"
   ]
  },
  {
   "cell_type": "code",
   "execution_count": 16,
   "id": "a09551a1-0305-438e-a0a7-6b96e1d001d5",
   "metadata": {},
   "outputs": [
    {
     "name": "stdout",
     "output_type": "stream",
     "text": [
      "just do it : add\n",
      "just do it : nothing\n",
      "output1 : 15, output2 : Invalid\n"
     ]
    }
   ],
   "source": [
    "class Paradeco:\n",
    "    def __init__(self, nums):\n",
    "        self.nums = nums\n",
    "        \n",
    "    def __call__(self, func):\n",
    "        def wrapper(*, do):\n",
    "            doWhat = None\n",
    "            param = dict(do = do)\n",
    "            if do == \"add\":\n",
    "                doWhat = lambda x : sum(x)\n",
    "            elif do == \"max\":\n",
    "                doWhat = lambda x : max(x)\n",
    "            func(**param)\n",
    "            return doWhat(self.nums) if doWhat != None else \"Invalid\"\n",
    "        return wrapper\n",
    "    \n",
    "    \n",
    "\n",
    "@Paradeco([1,2,3,4,5])\n",
    "def result(*, do):\n",
    "    print(\"just do it :\", do)\n",
    "\n",
    "    \n",
    "output1 = result(do=\"add\")\n",
    "output2 = result(do=\"nothing\")\n",
    "print(f'output1 : {output1}, output2 : {output2}')"
   ]
  },
  {
   "cell_type": "markdown",
   "id": "fb8ca2b9-bcaa-44ae-a0a0-f46b3a25f19b",
   "metadata": {},
   "source": [
    "<br>\n",
    "<br>\n",
    "<br>\n",
    "<br>\n",
    "<br>\n",
    "<br>\n",
    "<hr>\n",
    "<br>\n",
    "<br>\n",
    "<br>\n",
    "<br>\n",
    "<br>\n",
    "<br>"
   ]
  }
 ],
 "metadata": {
  "kernelspec": {
   "display_name": "Python 3 (ipykernel)",
   "language": "python",
   "name": "python3"
  },
  "language_info": {
   "codemirror_mode": {
    "name": "ipython",
    "version": 3
   },
   "file_extension": ".py",
   "mimetype": "text/x-python",
   "name": "python",
   "nbconvert_exporter": "python",
   "pygments_lexer": "ipython3",
   "version": "3.9.6"
  }
 },
 "nbformat": 4,
 "nbformat_minor": 5
}
