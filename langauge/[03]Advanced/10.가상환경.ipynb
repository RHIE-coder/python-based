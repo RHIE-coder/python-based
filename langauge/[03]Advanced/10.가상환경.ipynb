{
 "cells": [
  {
   "cell_type": "markdown",
   "id": "constitutional-blood",
   "metadata": {},
   "source": [
    "# 10. 가상환경"
   ]
  },
  {
   "cell_type": "markdown",
   "id": "urban-arrangement",
   "metadata": {},
   "source": [
    "파이썬을 사용하다 보면 패키지 간의 의존성 문제와 호환성 문제 때문에 버전 관리를 해야하는 문제가 생긴다.\n",
    "\n",
    "어떤 패키지를 설치하였는지 관리가 안되고 버전이 꼬이면서 난감한 상황도 등장하게 될 것이다.\n",
    "\n",
    "파이썬 가상환경은 이와 같은 문제로 등장하였고 패키지 관리를 손쉽게 하고 작업환경이 바뀌더라도 동일한 패키지 버전을 사용할 수 있게 한다."
   ]
  },
  {
   "cell_type": "markdown",
   "id": "chemical-license",
   "metadata": {},
   "source": [
    "## - virtualenv, venv, conda\n",
    "\n",
    " 파이썬에서 가상환경 라이브러리를 기본적으로 제공하지 않았을 때는 3rd-party 라이브러리인 `virtualenv`를 많이 사용하였다. 파이썬 버전 3.3 버전 부터는 이제 기본모듈로 `venv`를 제공해주기 때문에 `venv`를 사용하면 된다. 만일 과학 및 수학 계산과 관련된 패키지들이 기본적으로 포함된 아나콘다(Anaconda) 기반의 파이썬을 사용중이라면 `conda`를 활용하면 된다.\n",
    " \n",
    " 파이썬 버전 매니저 역활과 가상환경 기능까지 하는 `pyenv`도 있는 것으로 확인되었지만 파이썬에서 제공하는 기본 모듈 `venv`를 사용하기로 한다."
   ]
  },
  {
   "cell_type": "markdown",
   "id": "fluid-nylon",
   "metadata": {},
   "source": [
    "## - 가상 환경 생성 및 실행\n",
    "\n",
    "우선 우리가 작업하기로 한 디렉토리에 들어가 다음 명령어를 입력한다.\n",
    "\n",
    "```cmd\n",
    "python -m venv tutorial-env\n",
    "```\n",
    "\n",
    "(OPTIONAL) 가상환경 생성 시 기존에 설치했던 전역 패키지들도 포함하고 싶다면 `--system-site-packages` 옵션을 붙여준다.\n",
    "\n",
    "```cmd\n",
    "python -m venv tutorial-env --system-site-packages\n",
    "```\n",
    "\n",
    "이제 터미널을 통해 만들어진 해당 폴더에 들어있는 스크립트를 실행한다.\n",
    "\n",
    "Window 환경이라면 PowerShell 터미널을 통해 실행하게 되면 가상환경이 활성화가 안되는 것을 볼 수 있는데 PowerShell 자체내에서 악성 스크립트 실행 방지를 위한 실행 정책이 적용되어 있기 때문이다.\n",
    "\n",
    "`[윈도우KEY]` + `R` 단축키를 통해 실행창을 열고 `cmd`를 입력하여 명령 프롬프트를 실행하자\n",
    "\n",
    "```cmd\n",
    "tutorial-env\\Scripts\\activate.bat\n",
    "```\n",
    "\n",
    "![](./asset/venvresult.png)\n",
    "\n",
    "그럼 위와 같이 커맨드 라인 왼쪽에 `(가상환경이름)`이 붙여있을 것이다.\n",
    "\n",
    "아래 명령어를 통해 파이썬 인터프리터 위치를 보고 가상환경 내의 파이썬 인터프리터가 포함되었는지 확인할 수 있다.(`tutorial-env/Scripts`안에 `python.exe`가 존재한다)\n",
    "\n",
    "```cmd\n",
    "where python\n",
    "```"
   ]
  },
  {
   "cell_type": "markdown",
   "id": "indirect-chaos",
   "metadata": {
    "tags": []
   },
   "source": [
    "## - 가상환경 패키지 관리\n",
    "\n",
    "가상환경에 들어간 상태에서 pip 설치를 진행하면 된다.\n",
    "\n",
    "그리고 `tutorial-env/lib/site-packages`에서 설치가 되었는지 확인한다.\n",
    "\n",
    "```cmd\n",
    "pip install pyqt5\n",
    "pip install numpy\n",
    "pip install pandas\n",
    "```\n",
    "\n",
    " - 특정 패키지 설치 확인\n",
    "\n",
    "```cmd\n",
    "pip show pyqt5\n",
    "```\n",
    "\n",
    " - 설치된 패키지 리스트 확인\n",
    " \n",
    "```cmd\n",
    "pip list\n",
    "pip freeze\n",
    "```\n",
    "\n",
    " - (OPTIONAL) 패키지 삭제\n",
    " \n",
    "```cmd\n",
    "pip uninstall [패키지 이름]\n",
    "```\n",
    "\n",
    "이제 설치한 외부 패키지 목록을 관리해보자. 아래 커맨드 라인은 `>` 연산을 통해 pip freeze 명령어를 통해 출력되는 문자들을 `requirements.txt`라는 파일 안에 기록하는 커맨드다. 그리고 이 파일 이름은 일반적인 규칙이다.\n",
    "\n",
    "```\n",
    "pip freeze > requirements.txt\n",
    "```\n",
    " - `requirements.txt`\n",
    " \n",
    "```txt\n",
    "numpy==1.21.2\n",
    "pandas==1.3.3\n",
    "PyQt5==5.15.4\n",
    "PyQt5-Qt5==5.15.2\n",
    "PyQt5-sip==12.9.0\n",
    "python-dateutil==2.8.2\n",
    "pytz==2021.1\n",
    "six==1.16.0\n",
    "```\n",
    "\n",
    "requirements.txt 파일을 통해 패키지를 한번에 설치하거나 제거해보자.\n",
    "\n",
    " - 패키지 제거\n",
    " \n",
    "```\n",
    "pip uninstall -r requirements.txt -y\n",
    "```\n",
    "\n",
    " - 패키지 생성\n",
    " \n",
    "```\n",
    "pip install -r requirements.txt\n",
    "```\n",
    "\n",
    "이제 프로젝트마다의 필요한 패키지들을 관리하기도 편해졌고 패키지 설치 환경 또한 공유 및 유지하는 것 또한 편해졌다. 형상 관리 및 개발 협력 편리를 위해 각자 만든 가상환경 디렉터리를 무시해주자.\n",
    "\n",
    " - `.gitignore 파일 생성`\n",
    " \n",
    "```\n",
    "tutorial-env/\n",
    "```\n",
    "\n",
    " - 가상환경 사용 중지\n",
    "\n",
    "```cmd\n",
    "deactivate\n",
    "```\n",
    "\n",
    " - 가상환경 삭제\n",
    " \n",
    "`venv`를 통해 생성된 가상환경 관련 디렉토리를 삭제하면 된다."
   ]
  },
  {
   "cell_type": "markdown",
   "id": "sensitive-introduction",
   "metadata": {},
   "source": [
    "## - Reference\n",
    " - https://docs.python.org/ko/3/tutorial/venv.html\n",
    " - https://docs.python.org/ko/3/library/venv.html"
   ]
  },
  {
   "cell_type": "markdown",
   "id": "patient-armenia",
   "metadata": {},
   "source": [
    "<br>\n",
    "<br>\n",
    "<br>\n",
    "<br>\n",
    "<br>\n",
    "<br>\n",
    "<hr>\n",
    "<br>\n",
    "<br>\n",
    "<br>\n",
    "<br>\n",
    "<br>\n",
    "<br>"
   ]
  }
 ],
 "metadata": {
  "kernelspec": {
   "display_name": "Python 3 (ipykernel)",
   "language": "python",
   "name": "python3"
  },
  "language_info": {
   "codemirror_mode": {
    "name": "ipython",
    "version": 3
   },
   "file_extension": ".py",
   "mimetype": "text/x-python",
   "name": "python",
   "nbconvert_exporter": "python",
   "pygments_lexer": "ipython3",
   "version": "3.9.7"
  }
 },
 "nbformat": 4,
 "nbformat_minor": 5
}
