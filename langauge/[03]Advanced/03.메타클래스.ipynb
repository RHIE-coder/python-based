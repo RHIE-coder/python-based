{
 "cells": [
  {
   "cell_type": "markdown",
   "id": "201d37bd-fae0-475a-bf4d-41daa453c28f",
   "metadata": {
    "tags": []
   },
   "source": [
    "# 03. 메타 클래스"
   ]
  },
  {
   "cell_type": "markdown",
   "id": "d0c95189-34e6-4027-8dd5-c4279fd88d23",
   "metadata": {},
   "source": [
    "클래스를 만드는 클래스다.\n",
    "\n",
    "프레임워크나 모듈을 설계할 때 동적으로 클래스를 만들 수도 있을 것이다."
   ]
  },
  {
   "cell_type": "markdown",
   "id": "6508075e-0b2e-4181-9a4a-59d212e7caaf",
   "metadata": {
    "tags": []
   },
   "source": [
    "## - type을 사용하여 동적으로 클래스 생성"
   ]
  },
  {
   "cell_type": "markdown",
   "id": "7641a6ee-8380-4370-a73e-09b07e8bc19a",
   "metadata": {},
   "source": [
    "클래스 = `type(\"클래스이름\", Tuple:부모클래스, Dict:속성과 메서드)`\n",
    "\n",
    "```python\n",
    "Calc = type(\"Calculator\", (), {})\n",
    "```"
   ]
  },
  {
   "cell_type": "code",
   "execution_count": 1,
   "id": "67b5d05e-a6aa-4a7b-b13c-3e3b3f694b7c",
   "metadata": {},
   "outputs": [],
   "source": [
    "property_and_method = dict(\n",
    "    name = \"계산기\",\n",
    "    add = lambda self, x, y : x + y,\n",
    "    mul = lambda self, x, y : x * y\n",
    ")\n",
    "\n",
    "Calc = type(\"Calculator\", (), property_and_method)"
   ]
  },
  {
   "cell_type": "markdown",
   "id": "18240bf4-d0f3-4741-9ca3-57aacbf4b485",
   "metadata": {},
   "source": [
    "위 클래스는 아래와 같다.\n",
    "\n",
    "```python\n",
    "class Calculator:\n",
    "    name = \"계산기\"\n",
    "    \n",
    "    def add(self, x, y):\n",
    "        return x + y\n",
    "    \n",
    "    def mul(self, x, y):\n",
    "        return x * y\n",
    "```"
   ]
  },
  {
   "cell_type": "code",
   "execution_count": 2,
   "id": "8b389d05-c8b7-4518-8827-4de7be24a51b",
   "metadata": {},
   "outputs": [
    {
     "data": {
      "text/plain": [
       "__main__.Calculator"
      ]
     },
     "execution_count": 2,
     "metadata": {},
     "output_type": "execute_result"
    }
   ],
   "source": [
    "Calc"
   ]
  },
  {
   "cell_type": "code",
   "execution_count": 3,
   "id": "0e13ddf9-eaf7-4231-a09d-9a9222439bc5",
   "metadata": {},
   "outputs": [
    {
     "name": "stdout",
     "output_type": "stream",
     "text": [
      "Help on class Calculator in module __main__:\n",
      "\n",
      "class Calculator(builtins.object)\n",
      " |  Methods defined here:\n",
      " |  \n",
      " |  add lambda self, x, y\n",
      " |  \n",
      " |  mul lambda self, x, y\n",
      " |  \n",
      " |  ----------------------------------------------------------------------\n",
      " |  Data descriptors defined here:\n",
      " |  \n",
      " |  __dict__\n",
      " |      dictionary for instance variables (if defined)\n",
      " |  \n",
      " |  __weakref__\n",
      " |      list of weak references to the object (if defined)\n",
      " |  \n",
      " |  ----------------------------------------------------------------------\n",
      " |  Data and other attributes defined here:\n",
      " |  \n",
      " |  name = '계산기'\n",
      "\n"
     ]
    }
   ],
   "source": [
    "help(Calc)"
   ]
  },
  {
   "cell_type": "code",
   "execution_count": 4,
   "id": "1b7c90ac-bddc-4de0-82a8-4adcd58ea6ac",
   "metadata": {},
   "outputs": [
    {
     "data": {
      "text/plain": [
       "30"
      ]
     },
     "execution_count": 4,
     "metadata": {},
     "output_type": "execute_result"
    }
   ],
   "source": [
    "Calc().add(10, 20)"
   ]
  },
  {
   "cell_type": "code",
   "execution_count": 5,
   "id": "3898afae-bb66-4c1e-8231-56b7a3b96a23",
   "metadata": {},
   "outputs": [
    {
     "data": {
      "text/plain": [
       "200"
      ]
     },
     "execution_count": 5,
     "metadata": {},
     "output_type": "execute_result"
    }
   ],
   "source": [
    "Calc().mul(10,20)"
   ]
  },
  {
   "cell_type": "markdown",
   "id": "1265d0ea-2dc2-467f-85a4-d28380a9ffb2",
   "metadata": {},
   "source": [
    "아래는 파이썬 빌트인 클래스인 `list`를 상속받아 기존의 `list` 기능 말고도 우리가 원하는 기능을 더 추가해본 코드다"
   ]
  },
  {
   "cell_type": "code",
   "execution_count": 6,
   "id": "7e097d82-e7b1-4755-b080-93182ef491d7",
   "metadata": {},
   "outputs": [
    {
     "name": "stdout",
     "output_type": "stream",
     "text": [
      "[1, 2, 3, 4, 5, 6, 7, 8, 9, 10]\n"
     ]
    },
    {
     "data": {
      "text/plain": [
       "[2, 4, 6, 8, 10]"
      ]
     },
     "execution_count": 6,
     "metadata": {},
     "output_type": "execute_result"
    }
   ],
   "source": [
    "mylist = type(\"MyList\", (list,), {\n",
    "    \"info\" : lambda self : print(self),\n",
    "    \"even\" : lambda self : [num for num in self if num % 2 == 0]\n",
    "})\n",
    "added_list = mylist([1, 2, 3, 4, 5, 6, 7, 8, 9, 10])\n",
    "added_list.info()\n",
    "added_list.even()"
   ]
  },
  {
   "cell_type": "markdown",
   "id": "a380f8aa-aafb-4e73-a068-52be2c6276b9",
   "metadata": {
    "tags": []
   },
   "source": [
    "## -  `__new__`"
   ]
  },
  {
   "cell_type": "markdown",
   "id": "21fdb985-a359-491d-bb51-1651162c9236",
   "metadata": {},
   "source": [
    "지금까지 클래스의 인스턴스를 생성할 때 `__init__`을 통해 생성해봤기 때문에 \n",
    "\n",
    "`__init__` 함수가 인스턴스를 생성하는 함수일 것이라 생각할 수도 있지만,\n",
    "\n",
    "사실은 `__new__` 함수가 인스턴스를 생성하는 함수다.\n",
    "\n",
    "위 함수는 `__init__`보다 먼저 호출되는 함수이며,\n",
    "\n",
    "`__new__`를 이용해서 인스턴스를 먼저 생성한 다음 `__init__`을 통해 인스턴스에 값을 넣는다."
   ]
  },
  {
   "cell_type": "code",
   "execution_count": 7,
   "id": "0ac590fb-4983-40c1-89c7-21915f813106",
   "metadata": {},
   "outputs": [],
   "source": [
    "class Student:\n",
    "    def __new__(cls):\n",
    "        print('__new__가 호출되었습니다')\n",
    "    \n",
    "    def __init__(self):\n",
    "        print('__init__가 호출되었습니다')\n",
    "    \n",
    "    def study(self):\n",
    "        print(\"A student is studying\")"
   ]
  },
  {
   "cell_type": "code",
   "execution_count": 8,
   "id": "ffa0b1f9-1492-4b66-9519-1313bd87c120",
   "metadata": {},
   "outputs": [
    {
     "name": "stdout",
     "output_type": "stream",
     "text": [
      "__new__가 호출되었습니다\n"
     ]
    }
   ],
   "source": [
    "stu = Student()"
   ]
  },
  {
   "cell_type": "markdown",
   "id": "d7f698cd-3a45-4bba-a0f6-6f3dafd9e6e1",
   "metadata": {},
   "source": [
    "위 결과를 보면 알겠지만 `Student` 클래스의 인스턴스가 생성될 때 `__init__`이 아닌 `__new__` 함수만 호출된 것을 볼 수 있다.\n",
    "\n",
    "사실 `__init__`함수가 호출되지 않은 것은 우리가 `__new__` 함수를 오버라이딩해버려서 `__init__`을 통해 인스턴스 값을 못넘겨받았기 때문이다."
   ]
  },
  {
   "cell_type": "code",
   "execution_count": 9,
   "id": "f3a7a268-8415-4b7b-b2db-535c3bc98846",
   "metadata": {},
   "outputs": [],
   "source": [
    "stu"
   ]
  },
  {
   "cell_type": "code",
   "execution_count": 10,
   "id": "23758e63-d600-49c0-bd96-524ce726b505",
   "metadata": {},
   "outputs": [
    {
     "ename": "AttributeError",
     "evalue": "'NoneType' object has no attribute 'study'",
     "output_type": "error",
     "traceback": [
      "\u001b[1;31m---------------------------------------------------------------------------\u001b[0m",
      "\u001b[1;31mAttributeError\u001b[0m                            Traceback (most recent call last)",
      "\u001b[1;32m~\\AppData\\Local\\Temp/ipykernel_20964/2445622565.py\u001b[0m in \u001b[0;36m<module>\u001b[1;34m\u001b[0m\n\u001b[1;32m----> 1\u001b[1;33m \u001b[0mstu\u001b[0m\u001b[1;33m.\u001b[0m\u001b[0mstudy\u001b[0m\u001b[1;33m(\u001b[0m\u001b[1;33m)\u001b[0m\u001b[1;33m\u001b[0m\u001b[1;33m\u001b[0m\u001b[0m\n\u001b[0m",
      "\u001b[1;31mAttributeError\u001b[0m: 'NoneType' object has no attribute 'study'"
     ]
    }
   ],
   "source": [
    "stu.study()"
   ]
  },
  {
   "cell_type": "code",
   "execution_count": 11,
   "id": "d5469732-1e06-4990-b584-5e7a1f02759d",
   "metadata": {},
   "outputs": [
    {
     "data": {
      "text/plain": [
       "NoneType"
      ]
     },
     "execution_count": 11,
     "metadata": {},
     "output_type": "execute_result"
    }
   ],
   "source": [
    "type(stu)"
   ]
  },
  {
   "cell_type": "markdown",
   "id": "33c55976-fddd-4c78-8d19-a5fd51a907a7",
   "metadata": {},
   "source": [
    "위 코드를 보면 알 수 있듯이 현재 `__new__`가 실행되어 인스턴스는 생성되었지만 인스턴스에 대한 정보가 아무것도 없다.\n",
    "\n",
    "즉, 정리하자면 `__new__`는 해당 클래스의 객체(or 인스턴스)를 메모리에 할당을 해주고\n",
    "\n",
    "클래스의 정보를 객체에 작성해주는 녀석은 `__init__`인 것이다.\n",
    "\n",
    "이제 제대로 구현해보자."
   ]
  },
  {
   "cell_type": "code",
   "execution_count": 12,
   "id": "b9e441a6-eaa2-40e3-8d25-64d94ca0ba3e",
   "metadata": {},
   "outputs": [],
   "source": [
    "class Student:\n",
    "    def __new__(cls):\n",
    "        print('__new__가 호출되었습니다')\n",
    "        student = object.__new__(cls) # 최상위 부모 클래스인 object를 통하여 객체 생성\n",
    "        return student # 생성된 객체를 __init__에 넘겨준다.\n",
    "    \n",
    "    def __init__(self):\n",
    "        print('__init__가 호출되었습니다')\n",
    "    \n",
    "    def study(self):\n",
    "        print(\"A student is studying\")"
   ]
  },
  {
   "cell_type": "code",
   "execution_count": 13,
   "id": "63815241-65c2-4c83-98d0-15b2bfd261a3",
   "metadata": {},
   "outputs": [
    {
     "name": "stdout",
     "output_type": "stream",
     "text": [
      "__new__가 호출되었습니다\n",
      "__init__가 호출되었습니다\n"
     ]
    }
   ],
   "source": [
    "stu = Student()"
   ]
  },
  {
   "cell_type": "code",
   "execution_count": 14,
   "id": "bf66bf62-32bf-4e92-8eed-d459d4b78ff5",
   "metadata": {},
   "outputs": [
    {
     "data": {
      "text/plain": [
       "<__main__.Student at 0x1450c4b4b80>"
      ]
     },
     "execution_count": 14,
     "metadata": {},
     "output_type": "execute_result"
    }
   ],
   "source": [
    "stu"
   ]
  },
  {
   "cell_type": "code",
   "execution_count": 15,
   "id": "a22ac32a-35dc-45c0-8de5-36a95e7ef05c",
   "metadata": {},
   "outputs": [
    {
     "name": "stdout",
     "output_type": "stream",
     "text": [
      "A student is studying\n"
     ]
    }
   ],
   "source": [
    "stu.study()"
   ]
  },
  {
   "cell_type": "code",
   "execution_count": 16,
   "id": "14ced9cb-c45b-44a0-aef1-829c8af2493a",
   "metadata": {},
   "outputs": [
    {
     "data": {
      "text/plain": [
       "__main__.Student"
      ]
     },
     "execution_count": 16,
     "metadata": {},
     "output_type": "execute_result"
    }
   ],
   "source": [
    "type(stu)"
   ]
  },
  {
   "cell_type": "markdown",
   "id": "a9afc307-45d4-462a-8b68-6295610ed3a1",
   "metadata": {},
   "source": [
    " - `__new__`에 대한 오버라이딩의 목적은 클래스를 커스텀마이징하거나 클래스 생성 등에 대한 핸들링 등이 있다\n",
    " \n",
    "아래 클래스는 3개의 객체만 생성할 수 있게 제한을 걸어둔 클래스다.\n",
    "\n",
    "아래와 같은 기능이 필요한 때가 있다. \n",
    "\n",
    "서버와 데이터베이스를 연결한 connection 객체를 관리해주는 connection pool이라는 객체가 여러 개 있으면 안될 것이다.\n",
    "\n",
    "그래서 아래와 같은 방법으로 단 1개의 객체만 생성하도록 제한하는 하는 것을 사용한다.\n",
    "\n",
    "이를 프로그래밍 디자인패턴 기법 중 하나인 `싱글톤 패턴(singleton pattern)`이라고 한다."
   ]
  },
  {
   "cell_type": "code",
   "execution_count": 17,
   "id": "8b0b23e1-fbeb-469a-83c1-6f4c5bae9016",
   "metadata": {},
   "outputs": [
    {
     "name": "stdout",
     "output_type": "stream",
     "text": [
      "---------인스턴스 생성 전 클래스 정보 확인---------\n",
      "| 제한된 객체의 수 :  3\n",
      "| 현재 생성된 객체 리스트 :  []\n",
      "--------------------------------------------------\n",
      "---------인스턴스 생성 전 클래스 정보 확인---------\n",
      "| 제한된 객체의 수 :  3\n",
      "| 현재 생성된 객체 리스트 :  [<__main__.LimitedInstances object at 0x000001450C4C6490>]\n",
      "--------------------------------------------------\n",
      "---------인스턴스 생성 전 클래스 정보 확인---------\n",
      "| 제한된 객체의 수 :  3\n",
      "| 현재 생성된 객체 리스트 :  [<__main__.LimitedInstances object at 0x000001450C4C6490>, <__main__.LimitedInstances object at 0x000001450C3F3850>]\n",
      "--------------------------------------------------\n",
      "---------인스턴스 생성 전 클래스 정보 확인---------\n",
      "| 제한된 객체의 수 :  3\n",
      "| 현재 생성된 객체 리스트 :  [<__main__.LimitedInstances object at 0x000001450C4C6490>, <__main__.LimitedInstances object at 0x000001450C3F3850>, <__main__.LimitedInstances object at 0x000001450C409F40>]\n"
     ]
    },
    {
     "ename": "RuntimeError",
     "evalue": "Count not create instance. Limit 3 reached",
     "output_type": "error",
     "traceback": [
      "\u001b[1;31m---------------------------------------------------------------------------\u001b[0m",
      "\u001b[1;31mRuntimeError\u001b[0m                              Traceback (most recent call last)",
      "\u001b[1;32m~\\AppData\\Local\\Temp/ipykernel_20964/4225299039.py\u001b[0m in \u001b[0;36m<module>\u001b[1;34m\u001b[0m\n\u001b[0;32m     20\u001b[0m \u001b[0mLimitedInstances\u001b[0m\u001b[1;33m(\u001b[0m\u001b[1;33m)\u001b[0m\u001b[1;33m\u001b[0m\u001b[1;33m\u001b[0m\u001b[0m\n\u001b[0;32m     21\u001b[0m \u001b[0mLimitedInstances\u001b[0m\u001b[1;33m(\u001b[0m\u001b[1;33m)\u001b[0m\u001b[1;33m\u001b[0m\u001b[1;33m\u001b[0m\u001b[0m\n\u001b[1;32m---> 22\u001b[1;33m \u001b[0mLimitedInstances\u001b[0m\u001b[1;33m(\u001b[0m\u001b[1;33m)\u001b[0m\u001b[1;33m\u001b[0m\u001b[1;33m\u001b[0m\u001b[0m\n\u001b[0m",
      "\u001b[1;32m~\\AppData\\Local\\Temp/ipykernel_20964/4225299039.py\u001b[0m in \u001b[0;36m__new__\u001b[1;34m(cls, *args, **kwargs)\u001b[0m\n\u001b[0;32m      7\u001b[0m         \u001b[0mprint\u001b[0m\u001b[1;33m(\u001b[0m\u001b[1;34m\"| 현재 생성된 객체 리스트 : \"\u001b[0m\u001b[1;33m,\u001b[0m \u001b[0mcls\u001b[0m\u001b[1;33m.\u001b[0m\u001b[0m_instances\u001b[0m\u001b[1;33m)\u001b[0m\u001b[1;33m\u001b[0m\u001b[1;33m\u001b[0m\u001b[0m\n\u001b[0;32m      8\u001b[0m         \u001b[1;32mif\u001b[0m \u001b[1;32mnot\u001b[0m \u001b[0mlen\u001b[0m\u001b[1;33m(\u001b[0m\u001b[0mcls\u001b[0m\u001b[1;33m.\u001b[0m\u001b[0m_instances\u001b[0m\u001b[1;33m)\u001b[0m \u001b[1;33m<\u001b[0m \u001b[0mcls\u001b[0m\u001b[1;33m.\u001b[0m\u001b[0mlimit\u001b[0m\u001b[1;33m:\u001b[0m\u001b[1;33m\u001b[0m\u001b[1;33m\u001b[0m\u001b[0m\n\u001b[1;32m----> 9\u001b[1;33m             \u001b[1;32mraise\u001b[0m \u001b[0mRuntimeError\u001b[0m\u001b[1;33m(\u001b[0m\u001b[1;34m\"Count not create instance. Limit {} reached\"\u001b[0m\u001b[1;33m.\u001b[0m\u001b[0mformat\u001b[0m\u001b[1;33m(\u001b[0m\u001b[0mcls\u001b[0m\u001b[1;33m.\u001b[0m\u001b[0mlimit\u001b[0m\u001b[1;33m)\u001b[0m\u001b[1;33m)\u001b[0m \u001b[1;31m# 강제 에러 발생\u001b[0m\u001b[1;33m\u001b[0m\u001b[1;33m\u001b[0m\u001b[0m\n\u001b[0m\u001b[0;32m     10\u001b[0m         \u001b[0minstance\u001b[0m \u001b[1;33m=\u001b[0m \u001b[0mobject\u001b[0m\u001b[1;33m.\u001b[0m\u001b[0m__new__\u001b[0m\u001b[1;33m(\u001b[0m\u001b[0mcls\u001b[0m\u001b[1;33m,\u001b[0m \u001b[1;33m*\u001b[0m\u001b[0margs\u001b[0m\u001b[1;33m,\u001b[0m \u001b[1;33m**\u001b[0m\u001b[0mkwargs\u001b[0m\u001b[1;33m)\u001b[0m\u001b[1;33m\u001b[0m\u001b[1;33m\u001b[0m\u001b[0m\n\u001b[0;32m     11\u001b[0m         \u001b[0mcls\u001b[0m\u001b[1;33m.\u001b[0m\u001b[0m_instances\u001b[0m\u001b[1;33m.\u001b[0m\u001b[0mappend\u001b[0m\u001b[1;33m(\u001b[0m\u001b[0minstance\u001b[0m\u001b[1;33m)\u001b[0m\u001b[1;33m\u001b[0m\u001b[1;33m\u001b[0m\u001b[0m\n",
      "\u001b[1;31mRuntimeError\u001b[0m: Count not create instance. Limit 3 reached"
     ]
    }
   ],
   "source": [
    "class LimitedInstances():\n",
    "    _instances = []  # Keep track of instance reference\n",
    "    limit = 3\n",
    "    def __new__(cls, *args, **kwargs):\n",
    "        print(\"---------인스턴스 생성 전 클래스 정보 확인---------\")\n",
    "        print(\"| 제한된 객체의 수 : \", cls.limit)\n",
    "        print(\"| 현재 생성된 객체 리스트 : \", cls._instances)\n",
    "        if not len(cls._instances) < cls.limit:\n",
    "            raise RuntimeError(\"Count not create instance. Limit {} reached\".format(cls.limit)) # 강제 에러 발생\n",
    "        instance = object.__new__(cls, *args, **kwargs)\n",
    "        cls._instances.append(instance)\n",
    "        print(\"--------------------------------------------------\")\n",
    "        return instance\n",
    "    \n",
    "    def __del__(self):\n",
    "        # Remove instance from _instances\n",
    "        self._instance.remove(self)\n",
    "\n",
    "a = LimitedInstances()\n",
    "LimitedInstances()\n",
    "LimitedInstances()\n",
    "LimitedInstances()"
   ]
  },
  {
   "cell_type": "code",
   "execution_count": 18,
   "id": "64bf4f17-f9d3-452f-95b8-d1caa4fcd28b",
   "metadata": {},
   "outputs": [
    {
     "data": {
      "text/plain": [
       "3"
      ]
     },
     "execution_count": 18,
     "metadata": {},
     "output_type": "execute_result"
    }
   ],
   "source": [
    "a.limit"
   ]
  },
  {
   "cell_type": "code",
   "execution_count": 19,
   "id": "60542419-39f3-4555-bf48-d18b1a728916",
   "metadata": {},
   "outputs": [
    {
     "data": {
      "text/plain": [
       "[<__main__.LimitedInstances at 0x1450c4c6490>,\n",
       " <__main__.LimitedInstances at 0x1450c3f3850>,\n",
       " <__main__.LimitedInstances at 0x1450c409f40>]"
      ]
     },
     "execution_count": 19,
     "metadata": {},
     "output_type": "execute_result"
    }
   ],
   "source": [
    "a._instances #_instances라고 선언해야됨"
   ]
  },
  {
   "cell_type": "markdown",
   "id": "a9dc8585-3676-4fd9-a5c3-e1aeac312e85",
   "metadata": {},
   "source": [
    "## - `__call__`"
   ]
  },
  {
   "cell_type": "markdown",
   "id": "cd4d6afb-90f2-40ac-aead-f0b4449190e6",
   "metadata": {},
   "source": [
    "`__new__`가 클래스 인스턴스를 생성해 메모리에 할당하고\n",
    "\n",
    "`__init__`이 인스턴스에 값들을 넣고 초기화하한다면\n",
    "\n",
    "`__call__`함수는 인스턴스 자체가 호출될 때 호출되는 함수다.\n",
    "\n",
    "`__new__` ==> `__init__` ==> `__call__`"
   ]
  },
  {
   "cell_type": "code",
   "execution_count": 20,
   "id": "347cceb3-5e5c-4553-9a8e-6d217ab33c27",
   "metadata": {},
   "outputs": [
    {
     "name": "stdout",
     "output_type": "stream",
     "text": [
      "11\n"
     ]
    },
    {
     "data": {
      "text/plain": [
       "['H', 'e', 'l', 'l', 'o', ' ', 'W', 'o', 'r', 'l', 'd']"
      ]
     },
     "execution_count": 20,
     "metadata": {},
     "output_type": "execute_result"
    }
   ],
   "source": [
    "class MyClass:\n",
    "    def __init__(self,msg):\n",
    "        self.__msg = msg\n",
    "        \n",
    "    def __call__(self):\n",
    "        print(len(self.__msg))\n",
    "        return [s for s in self.__msg]\n",
    "    \n",
    "mine = MyClass(\"Hello World\")\n",
    "mine() # 인스턴스 자체를 호출"
   ]
  },
  {
   "cell_type": "markdown",
   "id": "8b9e01c2-2e16-4420-86d1-48c08f0b7925",
   "metadata": {
    "tags": []
   },
   "source": [
    "## - type을 상속받아 클래스를 만드는 클래스인 메타클래스가 구현하는 방식을 정하기"
   ]
  },
  {
   "cell_type": "markdown",
   "id": "f541a64d-4e9c-4956-b6a6-cdbf78348cb0",
   "metadata": {},
   "source": [
    "```python\n",
    "class MetaClassName(type):\n",
    "    def __new__(metacls, name, bases, namespace):\n",
    "        #Statement\n",
    "```"
   ]
  },
  {
   "cell_type": "code",
   "execution_count": 21,
   "id": "75e76528-4870-4bed-a124-53487266c956",
   "metadata": {},
   "outputs": [
    {
     "name": "stdout",
     "output_type": "stream",
     "text": [
      "55\n"
     ]
    }
   ],
   "source": [
    "class MakeCalc(type):\n",
    "    def __new__(matacls, name, bases, namespace):\n",
    "        namespace[\"add\"] = lambda self, *args : sum(args)\n",
    "        return type.__new__(matacls, name, bases, namespace)\n",
    "\n",
    "Calc = MakeCalc(\"Calculator\",(),{})\n",
    "c = Calc()\n",
    "print(c.add(1,2,3,4,5,6,7,8,9,10))"
   ]
  },
  {
   "cell_type": "markdown",
   "id": "7372f5bb-5c67-406b-8842-02544a9de3f9",
   "metadata": {},
   "source": [
    " - 활용 CASE : 싱글톤(Singleton)"
   ]
  },
  {
   "cell_type": "code",
   "execution_count": 22,
   "id": "9d43dd77-ffd5-4ee0-9e7b-080375e59696",
   "metadata": {},
   "outputs": [
    {
     "name": "stdout",
     "output_type": "stream",
     "text": [
      "True\n",
      "Hello : Hello\n",
      "Hello World : Hello World\n"
     ]
    }
   ],
   "source": [
    "class Singleton(type):\n",
    "    __instances = {}\n",
    "    def __call__(cls, *args, **kwargs):\n",
    "        if cls not in cls.__instances:\n",
    "            cls.__instances[cls] = super().__call__(*args, **kwargs)\n",
    "        return cls.__instances[cls]\n",
    "    \n",
    "class Hello(metaclass=Singleton): # 메타클래스로 Singleton을 지정\n",
    "    def __init__(self):\n",
    "        self.desc = \"Hello\"\n",
    "\n",
    "a = Hello()\n",
    "b = Hello()\n",
    "print(a is b) # 주소가 같음. 같은 객체임\n",
    "\n",
    "print(a.desc, \":\" ,b.desc)\n",
    "a.desc = \"Hello World\"\n",
    "print(a.desc, \":\" ,b.desc)"
   ]
  },
  {
   "cell_type": "markdown",
   "id": "cef894a4-4e2e-44ac-9d6c-e31a20424644",
   "metadata": {},
   "source": [
    " - 메타클래스와 new, init, call의 관계를 정리하자면 아래와 같다\n",
    " - `obj` == `MyClass()` == `(MyMetaClass())()`"
   ]
  },
  {
   "cell_type": "code",
   "execution_count": 23,
   "id": "fa704c29-00fe-45f0-88a7-00c965d38ab7",
   "metadata": {},
   "outputs": [
    {
     "name": "stdout",
     "output_type": "stream",
     "text": [
      "MyMetaClass   __new__\n",
      "MyMetaClass   __init__\n",
      "====================\n",
      "MyMetaClass   __call__\n",
      "__new__가 호출되었습니다\n",
      "__init__가 호출되었습니다\n",
      "hello world\n",
      "__call__가 호출되었습니다\n"
     ]
    }
   ],
   "source": [
    "class MyMetaClass(type):\n",
    "    def __new__(cls, *args, **kwargs):\n",
    "        print(\"MyMetaClass   __new__\")\n",
    "        return super().__new__(cls,*args,**kwargs)\n",
    "    \n",
    "    def __init__(cls, *args, **kwargs):\n",
    "        print(\"MyMetaClass   __init__\")\n",
    "        return super().__init__(*args,**kwargs)  \n",
    "    \n",
    "    def __call__(cls, *args, **kwargs):\n",
    "        print(\"MyMetaClass   __call__\")\n",
    "        return super().__call__(*args,**kwargs)\n",
    "    \n",
    "class MyClass(metaclass=MyMetaClass):\n",
    "    def __new__(cls,*args, **kwargs):\n",
    "        print('__new__가 호출되었습니다')\n",
    "        mycls = object.__new__(cls,*args, **kwargs)\n",
    "        return mycls\n",
    "    \n",
    "    def __init__(self):\n",
    "        print('__init__가 호출되었습니다')\n",
    "    \n",
    "    def __call__(self):\n",
    "        print('__call__가 호출되었습니다')\n",
    "        \n",
    "    def hello(self):\n",
    "        print(\"hello world\")\n",
    "        \n",
    "print(\"=\"*20)\n",
    "obj = MyClass()\n",
    "obj.hello()\n",
    "obj()"
   ]
  },
  {
   "cell_type": "markdown",
   "id": "0eca3a3e-c247-4907-b94e-9c97a73207a4",
   "metadata": {},
   "source": [
    "<br>\n",
    "<br>\n",
    "<br>\n",
    "<br>\n",
    "<br>\n",
    "<br>\n",
    "<hr>\n",
    "<br>\n",
    "<br>\n",
    "<br>\n",
    "<br>\n",
    "<br>\n",
    "<br>"
   ]
  }
 ],
 "metadata": {
  "kernelspec": {
   "display_name": "Python 3 (ipykernel)",
   "language": "python",
   "name": "python3"
  },
  "language_info": {
   "codemirror_mode": {
    "name": "ipython",
    "version": 3
   },
   "file_extension": ".py",
   "mimetype": "text/x-python",
   "name": "python",
   "nbconvert_exporter": "python",
   "pygments_lexer": "ipython3",
   "version": "3.9.6"
  }
 },
 "nbformat": 4,
 "nbformat_minor": 5
}
