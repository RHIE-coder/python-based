{
 "cells": [
  {
   "cell_type": "markdown",
   "id": "fifteen-familiar",
   "metadata": {},
   "source": [
    "# 08. 이터레이터와 제너레이터"
   ]
  },
  {
   "cell_type": "markdown",
   "id": "several-money",
   "metadata": {},
   "source": [
    "## - 이터레이터(iterator)"
   ]
  },
  {
   "cell_type": "markdown",
   "id": "strong-adaptation",
   "metadata": {},
   "source": [
    "먼저 이터러블(iterable)라는 단어는 무엇일까? 데이터가 하나의 시퀀스(sequence)를 가지고 있어 반복이 가능한 객체라는 것이다.\n",
    "\n",
    "예를 들어 아래 문자열은 반복이 가능한 이터러블 객체이다"
   ]
  },
  {
   "cell_type": "code",
   "execution_count": 1,
   "id": "coated-continent",
   "metadata": {},
   "outputs": [
    {
     "name": "stdout",
     "output_type": "stream",
     "text": [
      "a\n",
      "b\n",
      "c\n",
      "d\n",
      "e\n"
     ]
    }
   ],
   "source": [
    "strings = 'abcde'\n",
    "\n",
    "for s in strings:\n",
    "    print(s)"
   ]
  },
  {
   "cell_type": "markdown",
   "id": "ordered-equilibrium",
   "metadata": {},
   "source": [
    "반면 숫자(Integer)는 이터러블 객체는 아니다."
   ]
  },
  {
   "cell_type": "code",
   "execution_count": 2,
   "id": "functioning-staff",
   "metadata": {},
   "outputs": [
    {
     "ename": "TypeError",
     "evalue": "'int' object is not iterable",
     "output_type": "error",
     "traceback": [
      "\u001b[1;31m---------------------------------------------------------------------------\u001b[0m",
      "\u001b[1;31mTypeError\u001b[0m                                 Traceback (most recent call last)",
      "\u001b[1;32m<ipython-input-2-5d70e3b59435>\u001b[0m in \u001b[0;36m<module>\u001b[1;34m\u001b[0m\n\u001b[0;32m      1\u001b[0m \u001b[0mnumber\u001b[0m \u001b[1;33m=\u001b[0m \u001b[1;36m12345\u001b[0m\u001b[1;33m\u001b[0m\u001b[1;33m\u001b[0m\u001b[0m\n\u001b[0;32m      2\u001b[0m \u001b[1;33m\u001b[0m\u001b[0m\n\u001b[1;32m----> 3\u001b[1;33m \u001b[1;32mfor\u001b[0m \u001b[0mn\u001b[0m \u001b[1;32min\u001b[0m \u001b[0mnumber\u001b[0m\u001b[1;33m:\u001b[0m\u001b[1;33m\u001b[0m\u001b[1;33m\u001b[0m\u001b[0m\n\u001b[0m\u001b[0;32m      4\u001b[0m     \u001b[0mprint\u001b[0m\u001b[1;33m(\u001b[0m\u001b[0mn\u001b[0m\u001b[1;33m)\u001b[0m \u001b[1;31m# 'int' object is not iterable\u001b[0m\u001b[1;33m\u001b[0m\u001b[1;33m\u001b[0m\u001b[0m\n",
      "\u001b[1;31mTypeError\u001b[0m: 'int' object is not iterable"
     ]
    }
   ],
   "source": [
    "number = 12345\n",
    "\n",
    "for n in number:\n",
    "    print(n) # 'int' object is not iterable"
   ]
  },
  {
   "cell_type": "markdown",
   "id": "manufactured-daisy",
   "metadata": {},
   "source": [
    "이터레이터를 나타내는 내장 함수(built-in)의 `iter(object)` 함수는 매개변수로 이터러블한 객체를 받아 시퀀스를 가능하게 하는 함수이다."
   ]
  },
  {
   "cell_type": "code",
   "execution_count": 3,
   "id": "liked-match",
   "metadata": {},
   "outputs": [],
   "source": [
    "s = 'abc'\n",
    "it = iter(s)"
   ]
  },
  {
   "cell_type": "code",
   "execution_count": 4,
   "id": "increased-preparation",
   "metadata": {},
   "outputs": [
    {
     "data": {
      "text/plain": [
       "<str_iterator at 0x20c77481c70>"
      ]
     },
     "execution_count": 4,
     "metadata": {},
     "output_type": "execute_result"
    }
   ],
   "source": [
    "it # 문자열 객체 'abc'은 담은 이터레이터"
   ]
  },
  {
   "cell_type": "code",
   "execution_count": 5,
   "id": "criminal-threat",
   "metadata": {},
   "outputs": [
    {
     "data": {
      "text/plain": [
       "'a'"
      ]
     },
     "execution_count": 5,
     "metadata": {},
     "output_type": "execute_result"
    }
   ],
   "source": [
    "next(it)"
   ]
  },
  {
   "cell_type": "code",
   "execution_count": 6,
   "id": "occupational-coordinate",
   "metadata": {},
   "outputs": [
    {
     "data": {
      "text/plain": [
       "'b'"
      ]
     },
     "execution_count": 6,
     "metadata": {},
     "output_type": "execute_result"
    }
   ],
   "source": [
    "next(it)"
   ]
  },
  {
   "cell_type": "code",
   "execution_count": 7,
   "id": "protective-cooperation",
   "metadata": {},
   "outputs": [
    {
     "data": {
      "text/plain": [
       "'c'"
      ]
     },
     "execution_count": 7,
     "metadata": {},
     "output_type": "execute_result"
    }
   ],
   "source": [
    "next(it)"
   ]
  },
  {
   "cell_type": "code",
   "execution_count": 8,
   "id": "special-montana",
   "metadata": {},
   "outputs": [
    {
     "ename": "StopIteration",
     "evalue": "",
     "output_type": "error",
     "traceback": [
      "\u001b[1;31m---------------------------------------------------------------------------\u001b[0m",
      "\u001b[1;31mStopIteration\u001b[0m                             Traceback (most recent call last)",
      "\u001b[1;32m<ipython-input-8-bc1ab118995a>\u001b[0m in \u001b[0;36m<module>\u001b[1;34m\u001b[0m\n\u001b[1;32m----> 1\u001b[1;33m \u001b[0mnext\u001b[0m\u001b[1;33m(\u001b[0m\u001b[0mit\u001b[0m\u001b[1;33m)\u001b[0m\u001b[1;33m\u001b[0m\u001b[1;33m\u001b[0m\u001b[0m\n\u001b[0m",
      "\u001b[1;31mStopIteration\u001b[0m: "
     ]
    }
   ],
   "source": [
    "next(it)"
   ]
  },
  {
   "cell_type": "markdown",
   "id": "fluid-vessel",
   "metadata": {},
   "source": [
    "이터러블한 객체의 시퀀스가 끝나면, 즉 모든 객체 요소를 훑고나서 `next()` 함수를 호출하면 `StopIteration` 에러가 걸린다."
   ]
  },
  {
   "cell_type": "markdown",
   "id": "arabic-practice",
   "metadata": {},
   "source": [
    "아래와 같이 다른 방법으로도 가능하다."
   ]
  },
  {
   "cell_type": "code",
   "execution_count": 9,
   "id": "surprised-birthday",
   "metadata": {},
   "outputs": [
    {
     "name": "stdout",
     "output_type": "stream",
     "text": [
      "a\n",
      "b\n",
      "c\n"
     ]
    }
   ],
   "source": [
    "s = 'abc'\n",
    "it = s.__iter__()\n",
    "print(it.__next__())\n",
    "print(it.__next__())\n",
    "print(it.__next__())"
   ]
  },
  {
   "cell_type": "code",
   "execution_count": 10,
   "id": "flush-engine",
   "metadata": {},
   "outputs": [
    {
     "ename": "StopIteration",
     "evalue": "",
     "output_type": "error",
     "traceback": [
      "\u001b[1;31m---------------------------------------------------------------------------\u001b[0m",
      "\u001b[1;31mStopIteration\u001b[0m                             Traceback (most recent call last)",
      "\u001b[1;32m<ipython-input-10-9aa3cf69edef>\u001b[0m in \u001b[0;36m<module>\u001b[1;34m\u001b[0m\n\u001b[1;32m----> 1\u001b[1;33m \u001b[0mprint\u001b[0m\u001b[1;33m(\u001b[0m\u001b[0mit\u001b[0m\u001b[1;33m.\u001b[0m\u001b[0m__next__\u001b[0m\u001b[1;33m(\u001b[0m\u001b[1;33m)\u001b[0m\u001b[1;33m)\u001b[0m\u001b[1;33m\u001b[0m\u001b[1;33m\u001b[0m\u001b[0m\n\u001b[0m",
      "\u001b[1;31mStopIteration\u001b[0m: "
     ]
    }
   ],
   "source": [
    "print(it.__next__())"
   ]
  },
  {
   "cell_type": "markdown",
   "id": "italic-advancement",
   "metadata": {},
   "source": [
    "그리고 이 역시 `next()`를 통해 뽑아낼 요소가 없으면 에러가 걸린다."
   ]
  },
  {
   "cell_type": "markdown",
   "id": "unavailable-settle",
   "metadata": {},
   "source": [
    "### * 커스텀 이터레이터"
   ]
  },
  {
   "cell_type": "code",
   "execution_count": 11,
   "id": "fixed-summary",
   "metadata": {},
   "outputs": [],
   "source": [
    "class Reverse:\n",
    "    \n",
    "    def __init__(self, data):\n",
    "        self.data = data\n",
    "        self.index = len(data)\n",
    "        \n",
    "    def __iter__(self):\n",
    "        return self\n",
    "    \n",
    "    def __next__(self):\n",
    "        if self.index == 0:\n",
    "            raise StopIteration\n",
    "        self.index = self.index - 1\n",
    "        return self.data[self.index]"
   ]
  },
  {
   "cell_type": "code",
   "execution_count": 12,
   "id": "above-target",
   "metadata": {},
   "outputs": [
    {
     "name": "stdout",
     "output_type": "stream",
     "text": [
      "m\n",
      "a\n",
      "p\n",
      "s\n"
     ]
    }
   ],
   "source": [
    "rev = Reverse('spam')\n",
    "for char in rev:\n",
    "    print(char)"
   ]
  },
  {
   "cell_type": "markdown",
   "id": "american-dodge",
   "metadata": {},
   "source": [
    "## - 제너레이터(generator)"
   ]
  },
  {
   "cell_type": "markdown",
   "id": "persistent-politics",
   "metadata": {},
   "source": [
    "제너레이터(Generator)는 이터레이터(Iterator)의 하나의 형태로 볼 수 있다.\n",
    "\n",
    "함수 안에 next를 통해 `yield` 키워드를 만날 때마다 반환하고 다음 `yield`의 값으로 넘어간다."
   ]
  },
  {
   "cell_type": "code",
   "execution_count": 13,
   "id": "sublime-valentine",
   "metadata": {},
   "outputs": [
    {
     "name": "stdout",
     "output_type": "stream",
     "text": [
      "3\n",
      "2\n",
      "1\n"
     ]
    }
   ],
   "source": [
    "def count3():\n",
    "    yield 3\n",
    "    yield 2\n",
    "    yield 1\n",
    "    \n",
    "for i in count3():\n",
    "    print(i)"
   ]
  },
  {
   "cell_type": "markdown",
   "id": "frequent-establishment",
   "metadata": {},
   "source": [
    "물론 아래와 같이 iterator화 해서 사용해도 무방하지만"
   ]
  },
  {
   "cell_type": "code",
   "execution_count": 14,
   "id": "sporting-inclusion",
   "metadata": {},
   "outputs": [],
   "source": [
    "it = iter(count3())"
   ]
  },
  {
   "cell_type": "code",
   "execution_count": 15,
   "id": "stuck-conference",
   "metadata": {},
   "outputs": [
    {
     "data": {
      "text/plain": [
       "3"
      ]
     },
     "execution_count": 15,
     "metadata": {},
     "output_type": "execute_result"
    }
   ],
   "source": [
    "next(it)"
   ]
  },
  {
   "cell_type": "code",
   "execution_count": 16,
   "id": "grave-subsection",
   "metadata": {},
   "outputs": [
    {
     "data": {
      "text/plain": [
       "2"
      ]
     },
     "execution_count": 16,
     "metadata": {},
     "output_type": "execute_result"
    }
   ],
   "source": [
    "next(it)"
   ]
  },
  {
   "cell_type": "code",
   "execution_count": 17,
   "id": "disciplinary-horse",
   "metadata": {},
   "outputs": [
    {
     "data": {
      "text/plain": [
       "1"
      ]
     },
     "execution_count": 17,
     "metadata": {},
     "output_type": "execute_result"
    }
   ],
   "source": [
    "next(it)"
   ]
  },
  {
   "cell_type": "markdown",
   "id": "virtual-saskatchewan",
   "metadata": {},
   "source": [
    "사실 `count3()`라는 제너레이터는 이미 이터레이터의 형태이기에 iterator로 다시 감쌀 필요가 없다.\n",
    "\n",
    "위 코드가 잘 동작한 이유는 아무리 많은 iterator로 감싸도 똑같이 동작하기 때문이다."
   ]
  },
  {
   "cell_type": "code",
   "execution_count": 18,
   "id": "flying-leisure",
   "metadata": {},
   "outputs": [],
   "source": [
    "it = iter(iter(iter(iter(iter(count3())))))"
   ]
  },
  {
   "cell_type": "code",
   "execution_count": 19,
   "id": "major-outside",
   "metadata": {},
   "outputs": [
    {
     "data": {
      "text/plain": [
       "3"
      ]
     },
     "execution_count": 19,
     "metadata": {},
     "output_type": "execute_result"
    }
   ],
   "source": [
    "next(it)"
   ]
  },
  {
   "cell_type": "code",
   "execution_count": 20,
   "id": "commercial-refrigerator",
   "metadata": {},
   "outputs": [
    {
     "data": {
      "text/plain": [
       "2"
      ]
     },
     "execution_count": 20,
     "metadata": {},
     "output_type": "execute_result"
    }
   ],
   "source": [
    "next(it)"
   ]
  },
  {
   "cell_type": "code",
   "execution_count": 21,
   "id": "whole-yorkshire",
   "metadata": {},
   "outputs": [
    {
     "data": {
      "text/plain": [
       "1"
      ]
     },
     "execution_count": 21,
     "metadata": {},
     "output_type": "execute_result"
    }
   ],
   "source": [
    "next(it)"
   ]
  },
  {
   "cell_type": "markdown",
   "id": "tamil-faculty",
   "metadata": {},
   "source": [
    "즉, 제너레이터는 아래와 같이 구현해도 무방하다는 것이다."
   ]
  },
  {
   "cell_type": "code",
   "execution_count": 22,
   "id": "improving-feature",
   "metadata": {},
   "outputs": [
    {
     "name": "stdout",
     "output_type": "stream",
     "text": [
      "3\n",
      "2\n",
      "1\n"
     ]
    }
   ],
   "source": [
    "cnt = count3()\n",
    "print(next(cnt))\n",
    "print(next(cnt))\n",
    "print(next(cnt))"
   ]
  },
  {
   "cell_type": "markdown",
   "id": "blind-running",
   "metadata": {},
   "source": [
    "### * 이터레이터와 제너레이터의 관계\n",
    "\n",
    "`Generator` --> `__iter__()` --> `__next__()` --> `yield`"
   ]
  },
  {
   "cell_type": "code",
   "execution_count": 23,
   "id": "needed-office",
   "metadata": {},
   "outputs": [],
   "source": [
    "def reverse(data):\n",
    "    for index in range(len(data)-1, -1, -1):\n",
    "        yield data[index]"
   ]
  },
  {
   "cell_type": "code",
   "execution_count": 24,
   "id": "roman-bahamas",
   "metadata": {},
   "outputs": [
    {
     "name": "stdout",
     "output_type": "stream",
     "text": [
      "f\n",
      "l\n",
      "o\n",
      "g\n"
     ]
    }
   ],
   "source": [
    "for char in reverse('golf'):\n",
    "    print(char)"
   ]
  },
  {
   "cell_type": "code",
   "execution_count": 25,
   "id": "continuous-greek",
   "metadata": {},
   "outputs": [
    {
     "data": {
      "text/plain": [
       "['f', 'l', 'o', 'g']"
      ]
     },
     "execution_count": 25,
     "metadata": {},
     "output_type": "execute_result"
    }
   ],
   "source": [
    "list(char for char in reverse('golf')) # 제너레이터를 통해 컴프리헨션 방식으로 리스트와 같은 자료구조를 생성할 수도 있다."
   ]
  },
  {
   "cell_type": "markdown",
   "id": "neutral-subscription",
   "metadata": {},
   "source": [
    "<br>\n",
    "<br>\n",
    "<br>\n",
    "<br>\n",
    "<br>\n",
    "<br>\n",
    "<hr>\n",
    "<br>\n",
    "<br>\n",
    "<br>\n",
    "<br>\n",
    "<br>\n",
    "<br>"
   ]
  }
 ],
 "metadata": {
  "kernelspec": {
   "display_name": "Python 3",
   "language": "python",
   "name": "python3"
  },
  "language_info": {
   "codemirror_mode": {
    "name": "ipython",
    "version": 3
   },
   "file_extension": ".py",
   "mimetype": "text/x-python",
   "name": "python",
   "nbconvert_exporter": "python",
   "pygments_lexer": "ipython3",
   "version": "3.9.2"
  }
 },
 "nbformat": 4,
 "nbformat_minor": 5
}
