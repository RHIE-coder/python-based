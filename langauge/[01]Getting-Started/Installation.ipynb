{
 "cells": [
  {
   "cell_type": "markdown",
   "id": "danish-marble",
   "metadata": {},
   "source": [
    "<hr>"
   ]
  },
  {
   "cell_type": "markdown",
   "id": "restricted-isaac",
   "metadata": {},
   "source": [
    "<hr>"
   ]
  },
  {
   "cell_type": "markdown",
   "id": "psychological-munich",
   "metadata": {},
   "source": [
    "<hr>"
   ]
  },
  {
   "cell_type": "markdown",
   "id": "accomplished-calculation",
   "metadata": {},
   "source": [
    "# Install Python"
   ]
  },
  {
   "cell_type": "markdown",
   "id": "tight-uruguay",
   "metadata": {},
   "source": [
    "![](./asset/pyinstall/1.png)\n",
    "\n",
    "![](./asset/pyinstall/2.png)\n",
    "\n",
    "![](./asset/pyinstall/3.png)"
   ]
  },
  {
   "cell_type": "markdown",
   "id": "regulated-distinction",
   "metadata": {},
   "source": [
    "<hr>"
   ]
  },
  {
   "cell_type": "markdown",
   "id": "unavailable-island",
   "metadata": {},
   "source": [
    "<hr>"
   ]
  },
  {
   "cell_type": "markdown",
   "id": "nearby-switch",
   "metadata": {},
   "source": [
    "<hr>"
   ]
  },
  {
   "cell_type": "markdown",
   "id": "affecting-demonstration",
   "metadata": {},
   "source": [
    "# Python Setting"
   ]
  },
  {
   "cell_type": "markdown",
   "id": "palestinian-bahamas",
   "metadata": {},
   "source": [
    "![](./asset/pysetting/0.png)\n",
    "\n",
    "![](./asset/pysetting/1.png)\n",
    "\n",
    "![](./asset/pysetting/2.png)\n",
    "\n",
    "![](./asset/pysetting/3.png)\n",
    "\n",
    "![](./asset/pysetting/4.png)\n",
    "\n",
    "![](./asset/pysetting/5.png)\n",
    "\n",
    "![](./asset/pysetting/6.png)\n",
    "\n",
    "![](./asset/pysetting/7.png)\n",
    "\n",
    "![](./asset/pysetting/8.png)\n",
    "\n",
    "![](./asset/pysetting/9.png)\n",
    "\n",
    "![](./asset/pysetting/10.png)\n",
    "\n",
    "![](./asset/pysetting/11.png)\n",
    "\n",
    "![](./asset/pysetting/12.png)\n",
    "\n",
    "![](./asset/pysetting/13.png)\n",
    "\n",
    "![](./asset/pysetting/14-1.png)\n",
    "\n",
    "![](./asset/pysetting/14-2.png)\n",
    "\n",
    "![](./asset/pysetting/15.png)\n",
    "\n",
    "![](./asset/pysetting/16.png)\n",
    "\n",
    "![](./asset/pysetting/17.png)\n",
    "\n",
    "![](./asset/pysetting/18.png)\n",
    "\n",
    "![](./asset/pysetting/19.png)\n",
    "\n",
    "![](./asset/pysetting/20.png)\n",
    "\n",
    "![](./asset/pysetting/21.png)\n",
    "\n",
    "![](./asset/pysetting/22.png)\n",
    "\n",
    "![](./asset/pysetting/23.png)\n",
    "\n",
    "![](./asset/pysetting/24.png)\n"
   ]
  },
  {
   "cell_type": "markdown",
   "id": "creative-cambridge",
   "metadata": {},
   "source": [
    "<hr>"
   ]
  },
  {
   "cell_type": "markdown",
   "id": "viral-probe",
   "metadata": {},
   "source": [
    "<hr>"
   ]
  },
  {
   "cell_type": "markdown",
   "id": "surprising-grenada",
   "metadata": {},
   "source": [
    "<hr>"
   ]
  },
  {
   "cell_type": "markdown",
   "id": "fifteen-radius",
   "metadata": {},
   "source": [
    "# Install Jupyter Lab"
   ]
  },
  {
   "cell_type": "markdown",
   "id": "innovative-store",
   "metadata": {},
   "source": [
    "![](./asset/jupyterinstall/1.png)\n",
    "\n",
    "![](./asset/jupyterinstall/2.png)\n",
    "\n",
    "![](./asset/jupyterinstall/3.png)\n",
    "\n",
    "![](./asset/jupyterinstall/4.png)\n",
    "\n",
    "![](./asset/jupyterinstall/5.png)\n",
    "\n",
    "![](./asset/jupyterinstall/6.png)\n",
    "\n",
    "![](./asset/jupyterinstall/7.png)\n",
    "\n",
    "![](./asset/jupyterinstall/8.png)\n",
    "\n",
    "![](./asset/jupyterinstall/9.png)"
   ]
  },
  {
   "cell_type": "markdown",
   "id": "twelve-judges",
   "metadata": {},
   "source": [
    "<hr>"
   ]
  },
  {
   "cell_type": "markdown",
   "id": "worth-horizontal",
   "metadata": {},
   "source": [
    "<hr>"
   ]
  },
  {
   "cell_type": "markdown",
   "id": "identical-synthetic",
   "metadata": {},
   "source": [
    "<hr>"
   ]
  },
  {
   "cell_type": "markdown",
   "id": "frozen-poster",
   "metadata": {},
   "source": [
    "# Jupter Lab Shortcut\n",
    "\n",
    "|단축키|설명|\n",
    "|:---:|:---:|\n",
    "|ESC (Ctrl + M)|Command Mode|\n",
    "|ENTER|Edit Mode|\n",
    "|A|prepend cell|\n",
    "|B|append cell|\n",
    "|M|Change cell to markdown|\n",
    "|Y|Change cell to code|\n",
    "|Ctrl + Enter|해당 셀 실행|\n",
    "|Alt + Enter|해당 셀 실행 후 append cell|\n",
    "|C|복사|\n",
    "|X|자르기|\n",
    "|V|아래에 붙여넣기|\n",
    "|D + D|선택 셀 삭제|\n",
    "|Ctrl + Z|Cell 내 되돌리기|\n",
    "|Ctrl + Y|Cell 내 다시실행|\n",
    "|Shift + M|아래 셀 합치기|\n",
    "|Ctrl+ Shift + -|셀 나누기|\n",
    "|Z|되돌리기|\n",
    "|Shift + L|셀 라인 표시|\n",
    "\n"
   ]
  },
  {
   "cell_type": "markdown",
   "id": "indie-candy",
   "metadata": {},
   "source": [
    "<hr>"
   ]
  },
  {
   "cell_type": "markdown",
   "id": "typical-reading",
   "metadata": {},
   "source": [
    "<hr>"
   ]
  },
  {
   "cell_type": "markdown",
   "id": "devoted-harvey",
   "metadata": {},
   "source": [
    "<hr>"
   ]
  }
 ],
 "metadata": {
  "kernelspec": {
   "display_name": "Python 3",
   "language": "python",
   "name": "python3"
  },
  "language_info": {
   "codemirror_mode": {
    "name": "ipython",
    "version": 3
   },
   "file_extension": ".py",
   "mimetype": "text/x-python",
   "name": "python",
   "nbconvert_exporter": "python",
   "pygments_lexer": "ipython3",
   "version": "3.9.2"
  }
 },
 "nbformat": 4,
 "nbformat_minor": 5
}
