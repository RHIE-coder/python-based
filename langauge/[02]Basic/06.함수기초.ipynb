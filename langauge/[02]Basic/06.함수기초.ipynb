{
 "cells": [
  {
   "cell_type": "markdown",
   "source": [
    "# 06. 함수기초"
   ],
   "metadata": {}
  },
  {
   "cell_type": "markdown",
   "source": [
    "## - 함수 선언과 호출"
   ],
   "metadata": {}
  },
  {
   "cell_type": "markdown",
   "source": [
    "함수의 선언과 호출법은 아래와 같다"
   ],
   "metadata": {}
  },
  {
   "cell_type": "code",
   "execution_count": 1,
   "source": [
    "def my_add_func(num1, num2): # num1과 num2는 파라미터(Parameter) 혹은 매개변수라고 한다\r\n",
    "    print(\"더하기 완료!\")\r\n",
    "    return num1 + num2"
   ],
   "outputs": [],
   "metadata": {}
  },
  {
   "cell_type": "code",
   "execution_count": 2,
   "source": [
    "func = my_add_func\r\n",
    "print(func) # 함수를 변수로 받을 수도 있다.\r\n",
    "result = func(10, 20)\r\n",
    "print(result)"
   ],
   "outputs": [
    {
     "output_type": "stream",
     "name": "stdout",
     "text": [
      "<function my_add_func at 0x0000029855BC3EE0>\n",
      "더하기 완료!\n",
      "30\n"
     ]
    }
   ],
   "metadata": {}
  },
  {
   "cell_type": "markdown",
   "source": [
    "## - Lambda"
   ],
   "metadata": {}
  },
  {
   "cell_type": "markdown",
   "source": [
    "`lambda`문을 사용해 간단한 로직의 함수를 간단히 표현하여 가독성을 높일 수도 있다"
   ],
   "metadata": {}
  },
  {
   "cell_type": "code",
   "execution_count": 3,
   "source": [
    "# 기존\n",
    "def my_mul(num1, num2):\n",
    "    return num1 * num2\n",
    "print(my_mul(22,22))"
   ],
   "outputs": [
    {
     "output_type": "stream",
     "name": "stdout",
     "text": [
      "484\n"
     ]
    }
   ],
   "metadata": {}
  },
  {
   "cell_type": "code",
   "execution_count": 4,
   "source": [
    "# 람다(Lambda)\n",
    "func = lambda num1, num2 : num1 * num2\n",
    "print(func(22,22))"
   ],
   "outputs": [
    {
     "output_type": "stream",
     "name": "stdout",
     "text": [
      "484\n"
     ]
    }
   ],
   "metadata": {}
  },
  {
   "cell_type": "code",
   "execution_count": 5,
   "source": [
    "f = lambda x : print(x)\n",
    "f((lambda x : x ** 2)(3))"
   ],
   "outputs": [
    {
     "output_type": "stream",
     "name": "stdout",
     "text": [
      "9\n"
     ]
    }
   ],
   "metadata": {}
  },
  {
   "cell_type": "markdown",
   "source": [
    "<br>\n",
    "<br>\n",
    "<br>\n",
    "<br>\n",
    "<br>\n",
    "<br>\n",
    "<hr>\n",
    "<br>\n",
    "<br>\n",
    "<br>\n",
    "<br>\n",
    "<br>\n",
    "<br>"
   ],
   "metadata": {}
  }
 ],
 "metadata": {
  "kernelspec": {
   "display_name": "Python 3 (ipykernel)",
   "language": "python",
   "name": "python3"
  },
  "language_info": {
   "codemirror_mode": {
    "name": "ipython",
    "version": 3
   },
   "file_extension": ".py",
   "mimetype": "text/x-python",
   "name": "python",
   "nbconvert_exporter": "python",
   "pygments_lexer": "ipython3",
   "version": "3.9.6"
  }
 },
 "nbformat": 4,
 "nbformat_minor": 5
}