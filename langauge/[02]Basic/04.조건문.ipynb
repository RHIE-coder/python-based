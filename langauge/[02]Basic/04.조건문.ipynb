{
 "cells": [
  {
   "cell_type": "markdown",
   "id": "793e55a1-8186-4d35-b74f-276b1feb24e6",
   "metadata": {},
   "source": [
    "# 04. 조건문"
   ]
  },
  {
   "cell_type": "markdown",
   "id": "9021de3c-7ee1-4f93-9158-1a2af17d49d6",
   "metadata": {},
   "source": [
    "## - if ~ else"
   ]
  },
  {
   "cell_type": "markdown",
   "id": "52ee12bf-d631-4a89-8dba-3ace34a2e62f",
   "metadata": {},
   "source": [
    "if문이 true면 if문 아래의 수행문(코드)이 실행되고 false면 else문 아래의 수행문이 실행된다"
   ]
  },
  {
   "cell_type": "code",
   "execution_count": 1,
   "id": "a0f1d835-7dd9-47df-bfad-a4018a8a164c",
   "metadata": {},
   "outputs": [
    {
     "name": "stdin",
     "output_type": "stream",
     "text": [
      "정수 입력 10\n"
     ]
    },
    {
     "name": "stdout",
     "output_type": "stream",
     "text": [
      "짝수\n"
     ]
    }
   ],
   "source": [
    "num = int(input(\"정수 입력\"))\n",
    "if num % 2 == 0:\n",
    "    print(\"짝수\")\n",
    "else:\n",
    "    print(\"홀수\")"
   ]
  },
  {
   "cell_type": "markdown",
   "id": "516bf5a1-e17f-4160-855d-e4fbc4881fa1",
   "metadata": {},
   "source": [
    "if문을 여러 개를 사용할 수 있는데, 이전 if문의 결과가 참이든 거짓이든 간에 상관 없이 true면 무조건 실행이된다.\n",
    "\n",
    "만일 모든 조건문( if )이 false라면 else문이 실행된다."
   ]
  },
  {
   "cell_type": "code",
   "execution_count": 2,
   "id": "c63631a6-22b1-45b5-ae9a-221d91b9c809",
   "metadata": {},
   "outputs": [
    {
     "name": "stdin",
     "output_type": "stream",
     "text": [
      "Input the score :  76\n"
     ]
    },
    {
     "name": "stdout",
     "output_type": "stream",
     "text": [
      "미\n",
      "양\n"
     ]
    }
   ],
   "source": [
    "score = int(input(\"Input the score : \"))\n",
    "if score > 90:\n",
    "    print(\"수\")\n",
    "if score > 80:\n",
    "    print(\"우\")\n",
    "if score > 70:\n",
    "    print(\"미\")\n",
    "if score > 60:\n",
    "    print(\"양\")\n",
    "else:\n",
    "    print(\"가\")"
   ]
  },
  {
   "cell_type": "markdown",
   "id": "c52e1800-1081-4eb0-a5c8-97f7259099e4",
   "metadata": {},
   "source": [
    "and 연산을 통해 나타내려고 해도 아래 if문 중에 하나라도 false가 나오면 else문이 실행되기 때문에 원하는 결과를 얻을 수 없다."
   ]
  },
  {
   "cell_type": "code",
   "execution_count": 3,
   "id": "3a2fa2a2-86c7-4a39-b732-8e9ba34c0184",
   "metadata": {},
   "outputs": [
    {
     "name": "stdin",
     "output_type": "stream",
     "text": [
      "Input the score :  76\n"
     ]
    },
    {
     "name": "stdout",
     "output_type": "stream",
     "text": [
      "미\n",
      "가\n"
     ]
    }
   ],
   "source": [
    "score = int(input(\"Input the score : \"))\n",
    "if score > 90:\n",
    "    print(\"수\")\n",
    "if score > 80 and score <= 90:\n",
    "    print(\"우\")\n",
    "if score > 70 and score <= 80:\n",
    "    print(\"미\")\n",
    "if score > 60 and score <= 70:\n",
    "    print(\"양\")\n",
    "else:\n",
    "    print(\"가\")"
   ]
  },
  {
   "cell_type": "markdown",
   "id": "797e4971-3a04-44c5-aa97-bf5f9fa765bc",
   "metadata": {},
   "source": [
    "## -elif"
   ]
  },
  {
   "cell_type": "markdown",
   "id": "1115055b-ab00-4aeb-8b52-783f7f1a27f8",
   "metadata": {},
   "source": [
    "위와 같은 문제를 방지하기 위해 이전의 조건문이 false가 나올 때만 조건을 확인하는 elif문을 사용하면 된다.\n",
    "\n",
    "만일 이전 조건문( if 혹은 elif )이 true면 실행하지 않고 쭉 넘어가게 된다.\n",
    "\n",
    "만일 모든 조건문( if, elif )이 false라면 else문이 실행된다."
   ]
  },
  {
   "cell_type": "code",
   "execution_count": 4,
   "id": "58f0f314-9ee6-45ba-9b3c-3e9e3244248f",
   "metadata": {},
   "outputs": [
    {
     "name": "stdin",
     "output_type": "stream",
     "text": [
      "Input the score :  76\n"
     ]
    },
    {
     "name": "stdout",
     "output_type": "stream",
     "text": [
      "미\n"
     ]
    }
   ],
   "source": [
    "score = int(input(\"Input the score : \"))\n",
    "if score > 90:\n",
    "    print(\"수\")\n",
    "elif score > 80:\n",
    "    print(\"우\")\n",
    "elif score > 70:\n",
    "    print(\"미\")\n",
    "elif score > 60:\n",
    "    print(\"양\")\n",
    "else:\n",
    "    print(\"가\")"
   ]
  },
  {
   "cell_type": "markdown",
   "id": "69dff21a-24f7-4034-b7ec-3f91424f5cb3",
   "metadata": {},
   "source": [
    "## - 파이썬은 switch~case문이 없다.\n",
    "\n",
    "`switch~case`문은 프로그래밍 언어에서 흔하게 존재하는 또 다른 조건 문법이다.\n",
    "\n",
    "보통 범위가 있는 조건보다는 특정 값인지 아닌지에 따라서 처리하는 조건을 간단히 표현할 때 사용한다.\n",
    "\n",
    "그런데 python은 이 문법을 사용하지 않는다\n",
    "\n",
    "아래 공식사이트 링크를 통해 왜 그런지 확인해보자.\n",
    "\n",
    "[pep-3103](https://www.python.org/dev/peps/pep-3103/)"
   ]
  },
  {
   "cell_type": "markdown",
   "id": "b5940c3e-9fa2-4ac1-941b-a6a0380ac20d",
   "metadata": {},
   "source": [
    "<br>\n",
    "<br>\n",
    "<br>\n",
    "<br>\n",
    "<br>\n",
    "<br>\n",
    "<hr>\n",
    "<br>\n",
    "<br>\n",
    "<br>\n",
    "<br>\n",
    "<br>\n",
    "<br>"
   ]
  }
 ],
 "metadata": {
  "kernelspec": {
   "display_name": "Python 3 (ipykernel)",
   "language": "python",
   "name": "python3"
  },
  "language_info": {
   "codemirror_mode": {
    "name": "ipython",
    "version": 3
   },
   "file_extension": ".py",
   "mimetype": "text/x-python",
   "name": "python",
   "nbconvert_exporter": "python",
   "pygments_lexer": "ipython3",
   "version": "3.9.6"
  }
 },
 "nbformat": 4,
 "nbformat_minor": 5
}
