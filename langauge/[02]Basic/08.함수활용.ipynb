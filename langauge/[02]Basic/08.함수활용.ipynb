{
 "cells": [
  {
   "cell_type": "markdown",
   "id": "93c1b17d-66b4-4d2d-b1b6-68e6da84cbe1",
   "metadata": {},
   "source": [
    "# 08. 함수활용"
   ]
  },
  {
   "cell_type": "markdown",
   "id": "c1c6c67f-d116-4eb6-b724-b6817086f4c4",
   "metadata": {},
   "source": [
    "## - Scope\n",
    " - LEGB(Local, Enclosed function local, Global, Built-in)\n",
    "\n",
    "파이썬은 4개의 스코프(Scope)로 나뉘어서 변수에 접근한다.\n",
    "\n",
    "Built-in은 우리가 여지껏 사용한 `print()`와 같이 파이썬 기본적으로 내장 되어 있는 모듈이다.\n",
    "\n",
    "그리고 L -> E -> G -> B 순서로 접근한다.\n",
    "\n",
    "만일 Local 영역이라면 찾고자 하는 변수가 존재하지 않을 때 E 영역을 찾고 또 없으면 G 영역을 찾고 또 없으면 B 영역을 찾는다.\n",
    "\n",
    "그리고 끝까지 찾았는데도 없다면 undefined (ReferenceError)가 일어날 것이다."
   ]
  },
  {
   "cell_type": "code",
   "execution_count": 1,
   "id": "5a42c79f-6c2a-40d5-9b32-ef03590e74bb",
   "metadata": {},
   "outputs": [
    {
     "name": "stdout",
     "output_type": "stream",
     "text": [
      "빌트인 함수\n",
      "['ArithmeticError', 'AssertionError', 'AttributeError', 'BaseException', 'BlockingIOError', 'BrokenPipeError', 'BufferError', 'BytesWarning', 'ChildProcessError', 'ConnectionAbortedError', 'ConnectionError', 'ConnectionRefusedError', 'ConnectionResetError', 'DeprecationWarning', 'EOFError', 'Ellipsis', 'EnvironmentError', 'Exception', 'False', 'FileExistsError', 'FileNotFoundError', 'FloatingPointError', 'FutureWarning', 'GeneratorExit', 'IOError', 'ImportError', 'ImportWarning', 'IndentationError', 'IndexError', 'InterruptedError', 'IsADirectoryError', 'KeyError', 'KeyboardInterrupt', 'LookupError', 'MemoryError', 'ModuleNotFoundError', 'NameError', 'None', 'NotADirectoryError', 'NotImplemented', 'NotImplementedError', 'OSError', 'OverflowError', 'PendingDeprecationWarning', 'PermissionError', 'ProcessLookupError', 'RecursionError', 'ReferenceError', 'ResourceWarning', 'RuntimeError', 'RuntimeWarning', 'StopAsyncIteration', 'StopIteration', 'SyntaxError', 'SyntaxWarning', 'SystemError', 'SystemExit', 'TabError', 'TimeoutError', 'True', 'TypeError', 'UnboundLocalError', 'UnicodeDecodeError', 'UnicodeEncodeError', 'UnicodeError', 'UnicodeTranslateError', 'UnicodeWarning', 'UserWarning', 'ValueError', 'Warning', 'WindowsError', 'ZeroDivisionError', '__IPYTHON__', '__build_class__', '__debug__', '__doc__', '__import__', '__loader__', '__name__', '__package__', '__spec__', 'abs', 'all', 'any', 'ascii', 'bin', 'bool', 'breakpoint', 'bytearray', 'bytes', 'callable', 'chr', 'classmethod', 'compile', 'complex', 'copyright', 'credits', 'delattr', 'dict', 'dir', 'display', 'divmod', 'enumerate', 'eval', 'exec', 'filter', 'float', 'format', 'frozenset', 'get_ipython', 'getattr', 'globals', 'hasattr', 'hash', 'help', 'hex', 'id', 'input', 'int', 'isinstance', 'issubclass', 'iter', 'len', 'license', 'list', 'locals', 'map', 'max', 'memoryview', 'min', 'next', 'object', 'oct', 'open', 'ord', 'pow', 'print', 'property', 'range', 'repr', 'reversed', 'round', 'set', 'setattr', 'slice', 'sorted', 'staticmethod', 'str', 'sum', 'super', 'tuple', 'type', 'vars', 'zip']\n"
     ]
    }
   ],
   "source": [
    "import builtins\n",
    "builtins.print(\"빌트인 함수\")\n",
    "print(dir(builtins))"
   ]
  },
  {
   "cell_type": "markdown",
   "id": "efe94a37-0e1c-4f3b-9bcc-ad074f704df1",
   "metadata": {},
   "source": [
    "원칙상 Built-in 모듈을 import하여 print(), len(), zip() 등의 함수를 사용해야 하지만 암묵적으로 import 되어있다."
   ]
  },
  {
   "cell_type": "code",
   "execution_count": 2,
   "id": "beff65c0-dd78-4cc8-8d86-0fe6ebf7e851",
   "metadata": {},
   "outputs": [
    {
     "name": "stdout",
     "output_type": "stream",
     "text": [
      "global x\n"
     ]
    }
   ],
   "source": [
    "x = 'global x'\n",
    "print(x)"
   ]
  },
  {
   "cell_type": "markdown",
   "id": "7f157609-a7e7-477a-98f2-c705d99acb3c",
   "metadata": {},
   "source": [
    "위 `x`는 global 스코프이다."
   ]
  },
  {
   "cell_type": "code",
   "execution_count": 3,
   "id": "81e3a5fc-5071-4234-a668-2455ec6e9d2d",
   "metadata": {},
   "outputs": [
    {
     "name": "stdout",
     "output_type": "stream",
     "text": [
      "local y\n",
      "global x\n"
     ]
    }
   ],
   "source": [
    "x = 'global x'\n",
    "\n",
    "def localScope():\n",
    "    y = 'local y'\n",
    "    print(y)\n",
    "\n",
    "localScope()\n",
    "print(x)"
   ]
  },
  {
   "cell_type": "markdown",
   "id": "2d024e73-1e29-4214-8fb2-26f33fe36220",
   "metadata": {},
   "source": [
    "위 `y`는 local 스코프이다."
   ]
  },
  {
   "cell_type": "code",
   "execution_count": 4,
   "id": "f36d3bba-8c31-434c-9cd9-c0a807707319",
   "metadata": {},
   "outputs": [
    {
     "name": "stdout",
     "output_type": "stream",
     "text": [
      "global x\n"
     ]
    }
   ],
   "source": [
    "x = 'global x'\n",
    "\n",
    "def localScope():\n",
    "    print(x)\n",
    "\n",
    "localScope()"
   ]
  },
  {
   "cell_type": "markdown",
   "id": "7391fbd0-b567-4404-b398-8848608a87a5",
   "metadata": {},
   "source": [
    "localScope 함수안의 `x`를 찾으려 할 때 local 스코프에 없으므로 L->E->G->B 순서로 찾는다."
   ]
  },
  {
   "cell_type": "code",
   "execution_count": 5,
   "id": "e0fff2ad-3f70-44f5-8517-ef3a9beb69ad",
   "metadata": {},
   "outputs": [
    {
     "name": "stdout",
     "output_type": "stream",
     "text": [
      "local x 2353629260848\n",
      "global x 2353629331184\n"
     ]
    }
   ],
   "source": [
    "x = 'global x'\n",
    "\n",
    "def localScope():\n",
    "    x = \"local x\"\n",
    "    print(x, id(x))\n",
    "\n",
    "localScope()\n",
    "print(x, id(x))"
   ]
  },
  {
   "cell_type": "markdown",
   "id": "6462a27d-e25a-4002-86a8-adef4c768984",
   "metadata": {},
   "source": [
    "local 스코프에서 global 스코프의 `x`를 바꿀려고 시도하였지만 바뀌지 않는다.\n",
    "\n",
    "global의 x와 local의 x는 주소값이 다른 존재이기 때문이다.\n",
    "\n",
    "즉, 이름은 같지만 사는 차원의 세계가 다른 격이다."
   ]
  },
  {
   "cell_type": "code",
   "execution_count": 6,
   "id": "ccc6c655-675d-4e7c-8caf-27dc2f0d2872",
   "metadata": {},
   "outputs": [
    {
     "name": "stdout",
     "output_type": "stream",
     "text": [
      "I want to change the global variable 2353629424304\n",
      "global x 2353629414640\n"
     ]
    }
   ],
   "source": [
    "x = 'global x'\n",
    "\n",
    "def localScope(x):\n",
    "    print(x, id(x))\n",
    "\n",
    "localScope(\"I want to change the global variable\")\n",
    "print(x, id(x))"
   ]
  },
  {
   "cell_type": "markdown",
   "id": "5d3fb57b-0248-45cc-980b-2b89bddad75f",
   "metadata": {},
   "source": [
    "함수의 매개변수 또한 local 스코프이고 이전 설명과 같은 이유로 이름만 같은 다른 존재이다."
   ]
  },
  {
   "cell_type": "code",
   "execution_count": 7,
   "id": "1257ceab-3d3e-4583-b606-bb0e0e4da716",
   "metadata": {},
   "outputs": [
    {
     "name": "stdout",
     "output_type": "stream",
     "text": [
      "local x 2353629416496\n",
      "local x 2353629416496\n"
     ]
    }
   ],
   "source": [
    "x = 'global x'\n",
    "\n",
    "def localScope():\n",
    "    global x\n",
    "    x = \"local x\"\n",
    "    print(x, id(x))\n",
    "\n",
    "localScope()\n",
    "print(x, id(x))"
   ]
  },
  {
   "cell_type": "markdown",
   "id": "e7e4949a-ee23-4cde-8013-f343f6a83763",
   "metadata": {},
   "source": [
    "만일 함수 안에서 global 스코프의 변수값을 바꾸고 싶다면 `global` 키워드를 사용하면 된다.\n",
    "\n",
    "그러나 개인적으로 권장하지 않는다. 이는 프로그램을 복잡하게 만들고 디버깅을 어렵게 할 것이다."
   ]
  },
  {
   "cell_type": "code",
   "execution_count": 8,
   "id": "56daf61f-3d78-45cc-b904-876199ea82c1",
   "metadata": {},
   "outputs": [
    {
     "name": "stdout",
     "output_type": "stream",
     "text": [
      "inner x\n",
      "outer x\n",
      "global x\n"
     ]
    }
   ],
   "source": [
    "x = 'global x'\n",
    "\n",
    "def outer():\n",
    "    x = 'outer x'\n",
    "    \n",
    "    def inner():\n",
    "        x = 'inner x'\n",
    "        print(x)\n",
    "    \n",
    "    inner()\n",
    "    print(x)\n",
    "    \n",
    "outer()\n",
    "print(x)"
   ]
  },
  {
   "cell_type": "markdown",
   "id": "95ee7934-a7a0-42e8-89a2-3f5da8172ecd",
   "metadata": {},
   "source": [
    "inner 함수 입장에서 outer 함수는 외부함수(Enclosed function local)이다.\n",
    "\n",
    "만일 프로그램이 inner 함수에서 실행이 된다면 inner()은 local 스코프가 되고 outer은 Enclosed function local 스코프가 된다.\n",
    "\n",
    "여기서 찾고자 하는 변수가 없다면 inner()를 감싸는 외부함수 outer()의 스코프를 보게 된다.\n",
    "\n",
    "만일 프로그램이 outer 함수에서 실행이 된다면 outer()가 local 스코프가 될 것이고 \n",
    "\n",
    "여기서 찾고자 하는 변수가 없다면 outer()를 감싸는 외부 함수가 더는 없으니 바로 global 스코프를 찾을 것이다."
   ]
  },
  {
   "cell_type": "code",
   "execution_count": 9,
   "id": "450e658b-0605-4203-a0f3-1a9cc7581e06",
   "metadata": {},
   "outputs": [
    {
     "name": "stdout",
     "output_type": "stream",
     "text": [
      "inner x\n",
      "inner x\n",
      "global x\n"
     ]
    }
   ],
   "source": [
    "x = 'global x'\n",
    "\n",
    "def outer():\n",
    "    x = 'outer x'\n",
    "    \n",
    "    def inner():\n",
    "        nonlocal x\n",
    "        x = 'inner x'\n",
    "        print(x) # inner x\n",
    "    \n",
    "    inner()\n",
    "    print(x) # inner x\n",
    "    \n",
    "outer()\n",
    "print(x) # global x"
   ]
  },
  {
   "cell_type": "markdown",
   "id": "481e51ec-ae32-4063-ad56-3cdab41a2d6f",
   "metadata": {},
   "source": [
    "만일 내부함수(Local 스코프)가 외부함수(Enclosed function local 스코프)의 변수에 접근하고 싶다면 `nonlocal` 키워드를 사용하면 된다.\n",
    "\n",
    "주의해야할 점은 외부함수로 감싸진 내부함수 형태가 아니라면 `nonlocal`은 에러를 일으키게 된다는 점이다."
   ]
  },
  {
   "cell_type": "code",
   "execution_count": 10,
   "id": "fb4991db-9988-4799-b860-5563c8e6275b",
   "metadata": {},
   "outputs": [
    {
     "ename": "SyntaxError",
     "evalue": "no binding for nonlocal 'global_var' found (Temp/ipykernel_17684/3794460605.py, line 5)",
     "output_type": "error",
     "traceback": [
      "\u001b[1;36m  File \u001b[1;32m\"C:\\Users\\quoti\\AppData\\Local\\Temp/ipykernel_17684/3794460605.py\"\u001b[1;36m, line \u001b[1;32m5\u001b[0m\n\u001b[1;33m    nonlocal global_var\u001b[0m\n\u001b[1;37m    ^\u001b[0m\n\u001b[1;31mSyntaxError\u001b[0m\u001b[1;31m:\u001b[0m no binding for nonlocal 'global_var' found\n"
     ]
    }
   ],
   "source": [
    "global_var = \"test var\"\n",
    "\n",
    "def scope_test():\n",
    "    local_var = \"hello var\"\n",
    "    nonlocal global_var\n",
    "    global_var = local_var\n",
    "    \n",
    "scope_test()\n",
    "print(global_var)"
   ]
  },
  {
   "cell_type": "markdown",
   "id": "c41dd529-ee9f-45cf-ace1-3d90624e2431",
   "metadata": {},
   "source": [
    "아래 코드는 스코프에 대한 총정리를 보여주는 코드다."
   ]
  },
  {
   "cell_type": "code",
   "execution_count": 11,
   "id": "1876d51d-5180-46b7-a7ba-bf77cf23ff05",
   "metadata": {},
   "outputs": [
    {
     "name": "stdout",
     "output_type": "stream",
     "text": [
      "After local assignment: test spam\n",
      "After nonlocal assignment: nonlocal spam\n",
      "After global assignment: nonlocal spam\n",
      "In global scope: global spam\n"
     ]
    }
   ],
   "source": [
    "def scope_test():\n",
    "\n",
    "    spam = \"test spam\"\n",
    "    \n",
    "    def do_local():\n",
    "        spam = \"local spam\"\n",
    "\n",
    "    def do_nonlocal():\n",
    "        nonlocal spam\n",
    "        spam = \"nonlocal spam\"\n",
    "\n",
    "    def do_global():\n",
    "        global spam\n",
    "        spam = \"global spam\"\n",
    "\n",
    "    do_local()\n",
    "    print(\"After local assignment:\", spam) # test spam\n",
    "    do_nonlocal()\n",
    "    print(\"After nonlocal assignment:\", spam) # nonlocal spam\n",
    "    do_global()\n",
    "    print(\"After global assignment:\", spam) # nonlocal spam\n",
    "\n",
    "scope_test()\n",
    "print(\"In global scope:\", spam) # global spam"
   ]
  },
  {
   "cell_type": "markdown",
   "id": "ce0f6605-8355-4770-b0db-39ac7c68b2cb",
   "metadata": {},
   "source": [
    "추가로 아래와 같이 함수를 호출할 일은 없겠지만 파이썬의 함수 선언의 특징을 보여주는 코드를 보여주겠다.\n",
    "\n",
    "아래 코드에서 f 함수가 호출되기 전에 `i` 변수값이 6으로 변해 6으로 출력될 것으로 예상되지만 사실은 아니다.\n",
    "\n",
    "`arg=i`에서 `i` 값이 결정되는 요인은 `호출된 위치`가 아니라 `선언된 위치`이기 때문이다."
   ]
  },
  {
   "cell_type": "code",
   "execution_count": 12,
   "id": "774b4dac-12e5-4028-97c1-0e9c7fb967a2",
   "metadata": {},
   "outputs": [
    {
     "name": "stdout",
     "output_type": "stream",
     "text": [
      "5\n"
     ]
    }
   ],
   "source": [
    "i = 5\n",
    "\n",
    "def f(arg=i): # 선언된 위치\n",
    "    print(arg)\n",
    "    \n",
    "i = 6\n",
    "f() # 호출된 위치"
   ]
  },
  {
   "cell_type": "markdown",
   "id": "528dd6fb-0396-4c37-b6b2-f37da186a899",
   "metadata": {
    "tags": []
   },
   "source": [
    "## - 함수의 매개변수"
   ]
  },
  {
   "cell_type": "markdown",
   "id": "120d43a9-1e0e-4594-8efb-2767c6d5b469",
   "metadata": {
    "tags": []
   },
   "source": [
    "### * Default Value"
   ]
  },
  {
   "cell_type": "markdown",
   "id": "766a7ce5-1d38-4937-b189-a2fbdc7429d6",
   "metadata": {},
   "source": [
    "함수 매개변수에 기본값을 정할 수 있다. 만일 아무 값이 들어오지 않으면 기본값으로 결정될 것이다.\n",
    "\n",
    "아래에 있는 `raise` 키워드는 에러를 일부러 일으키겠다는 것이다(우리가 원하는 에러 메시지를 정할 수 있다). \n",
    "\n",
    "`ValueError`와 같은 에러 객체는 파이썬에서 이미 있는 Built-in 객체이다."
   ]
  },
  {
   "cell_type": "code",
   "execution_count": 13,
   "id": "c31fd82c-ba5e-4d81-8186-f71aaf3183f2",
   "metadata": {},
   "outputs": [],
   "source": [
    "def ask_ok(prompt, retries=2, reminder=\"Please try again!\"):\n",
    "    while True:\n",
    "        ok = input(prompt)\n",
    "        if ok in ('y','ye','yes'):\n",
    "            return True\n",
    "        if ok in ('n','no','nop','nope'):\n",
    "            return False\n",
    "        retries = retries - 1\n",
    "        if retries < 0:\n",
    "            raise ValueError('invalid user response')\n",
    "        print(reminder)"
   ]
  },
  {
   "cell_type": "code",
   "execution_count": 14,
   "id": "3d523991-f949-4e42-b476-33c867625593",
   "metadata": {},
   "outputs": [
    {
     "name": "stdout",
     "output_type": "stream",
     "text": [
      "are you sure? \n"
     ]
    },
    {
     "name": "stdout",
     "output_type": "stream",
     "text": [
      "다시 시도해주세요\n"
     ]
    },
    {
     "name": "stdout",
     "output_type": "stream",
     "text": [
      "are you sure? \n"
     ]
    },
    {
     "name": "stdout",
     "output_type": "stream",
     "text": [
      "다시 시도해주세요\n"
     ]
    },
    {
     "name": "stdout",
     "output_type": "stream",
     "text": [
      "are you sure? \n"
     ]
    },
    {
     "ename": "ValueError",
     "evalue": "invalid user response",
     "output_type": "error",
     "traceback": [
      "\u001b[1;31m---------------------------------------------------------------------------\u001b[0m",
      "\u001b[1;31mValueError\u001b[0m                                Traceback (most recent call last)",
      "\u001b[1;32m~\\AppData\\Local\\Temp/ipykernel_17684/2716747390.py\u001b[0m in \u001b[0;36m<module>\u001b[1;34m\u001b[0m\n\u001b[1;32m----> 1\u001b[1;33m \u001b[0mask_ok\u001b[0m\u001b[1;33m(\u001b[0m\u001b[1;34m'are you sure?'\u001b[0m\u001b[1;33m,\u001b[0m \u001b[0mreminder\u001b[0m\u001b[1;33m=\u001b[0m\u001b[1;34m\"다시 시도해주세요\"\u001b[0m\u001b[1;33m)\u001b[0m\u001b[1;33m\u001b[0m\u001b[1;33m\u001b[0m\u001b[0m\n\u001b[0m\u001b[0;32m      2\u001b[0m \u001b[0mprint\u001b[0m\u001b[1;33m(\u001b[0m\u001b[1;34m\"---end---\"\u001b[0m\u001b[1;33m)\u001b[0m \u001b[1;31m# raise로부터 Exception이 발생함으로 no print\u001b[0m\u001b[1;33m\u001b[0m\u001b[1;33m\u001b[0m\u001b[0m\n",
      "\u001b[1;32m~\\AppData\\Local\\Temp/ipykernel_17684/568544911.py\u001b[0m in \u001b[0;36mask_ok\u001b[1;34m(prompt, retries, reminder)\u001b[0m\n\u001b[0;32m      8\u001b[0m         \u001b[0mretries\u001b[0m \u001b[1;33m=\u001b[0m \u001b[0mretries\u001b[0m \u001b[1;33m-\u001b[0m \u001b[1;36m1\u001b[0m\u001b[1;33m\u001b[0m\u001b[1;33m\u001b[0m\u001b[0m\n\u001b[0;32m      9\u001b[0m         \u001b[1;32mif\u001b[0m \u001b[0mretries\u001b[0m \u001b[1;33m<\u001b[0m \u001b[1;36m0\u001b[0m\u001b[1;33m:\u001b[0m\u001b[1;33m\u001b[0m\u001b[1;33m\u001b[0m\u001b[0m\n\u001b[1;32m---> 10\u001b[1;33m             \u001b[1;32mraise\u001b[0m \u001b[0mValueError\u001b[0m\u001b[1;33m(\u001b[0m\u001b[1;34m'invalid user response'\u001b[0m\u001b[1;33m)\u001b[0m\u001b[1;33m\u001b[0m\u001b[1;33m\u001b[0m\u001b[0m\n\u001b[0m\u001b[0;32m     11\u001b[0m         \u001b[0mprint\u001b[0m\u001b[1;33m(\u001b[0m\u001b[0mreminder\u001b[0m\u001b[1;33m)\u001b[0m\u001b[1;33m\u001b[0m\u001b[1;33m\u001b[0m\u001b[0m\n",
      "\u001b[1;31mValueError\u001b[0m: invalid user response"
     ]
    }
   ],
   "source": [
    "ask_ok('are you sure?', reminder=\"다시 시도해주세요\")\n",
    "print(\"---end---\") # raise로부터 Exception이 발생함으로 no print"
   ]
  },
  {
   "cell_type": "markdown",
   "id": "85656482-4c61-4eb7-881a-05ecd0fa8924",
   "metadata": {},
   "source": [
    "### * 기본값 활용시 주의해야할 점"
   ]
  },
  {
   "cell_type": "code",
   "execution_count": 15,
   "id": "7b36cfba-5a54-43e7-bc83-ba757acb15a3",
   "metadata": {},
   "outputs": [
    {
     "name": "stdout",
     "output_type": "stream",
     "text": [
      "2353629160512\n",
      "[1]\n",
      "2353629160512\n",
      "[1, 2]\n",
      "2353629160512\n",
      "[1, 2, 3]\n",
      "2353628566208\n",
      "[]\n",
      "-----\n",
      "2353629160512\n",
      "[1, 2, 3, 4]\n"
     ]
    }
   ],
   "source": [
    "def f(a, L=[]):\n",
    "    L.append(a)\n",
    "    print(id(L))\n",
    "    return L\n",
    "\n",
    "print(f(1))\n",
    "print(f(2))\n",
    "print(f(3))\n",
    "\n",
    "def another(L=[]):\n",
    "    print(id(L))\n",
    "    return L\n",
    "\n",
    "print(another())\n",
    "print(\"-----\")\n",
    "print(f(4))"
   ]
  },
  {
   "cell_type": "markdown",
   "id": "073d0378-7eb4-453a-9505-7373f5ce9b7a",
   "metadata": {},
   "source": [
    "f 함수가 호출될 때마다 `L` 매개변수가 `L=[]`로 초기화되어 각각 `[1]`, `[2]`, `[3]`으로 출력되길 바랬겠지만 아니다.\n",
    "\n",
    "기본 인자는 최초의 호출 시에만 지정된 값으로 초기화 되고 이후의 호출에는 초기화 되지 않는다.\n",
    "\n",
    "매개변수의 `L` 주소값이 같기에 mutable한 자료형의 변수를 기본값으로 잡게 된다면 주의해야 한다."
   ]
  },
  {
   "cell_type": "code",
   "execution_count": 16,
   "id": "871dc161-7c5e-4955-b621-6d9c38cc3aad",
   "metadata": {},
   "outputs": [
    {
     "name": "stdout",
     "output_type": "stream",
     "text": [
      "주소값 : 2353630274256\n",
      "주소값 : 2353629515504\n",
      "주소값 : 2353630274256\n"
     ]
    }
   ],
   "source": [
    "def f(param=\"기본값\"):\n",
    "    print(\"주소값 :\",id(param))\n",
    "    \n",
    "f()\n",
    "f(\"hello world\")\n",
    "f()"
   ]
  },
  {
   "cell_type": "markdown",
   "id": "ae641e85-c309-4d34-a1de-cb150485db59",
   "metadata": {},
   "source": [
    "위의 경우에는 자료형 string의 변수는 immutable 하기에 괜찮다."
   ]
  },
  {
   "cell_type": "markdown",
   "id": "0884e4cd-c9dc-4ef2-bbb4-975ac1c75ca8",
   "metadata": {},
   "source": [
    " - 연속된 호출 간에 mutable한 기본값이 공유되지 않기를 원한다면 아래와 같이"
   ]
  },
  {
   "cell_type": "code",
   "execution_count": 17,
   "id": "2a17b2ae-5fe2-4345-89bc-052ba27a6461",
   "metadata": {},
   "outputs": [
    {
     "name": "stdout",
     "output_type": "stream",
     "text": [
      "[1]\n",
      "[2]\n",
      "[3]\n"
     ]
    }
   ],
   "source": [
    "def f(a, L=None):\n",
    "    if L is None:\n",
    "        L = []\n",
    "    L.append(a)\n",
    "    return L\n",
    "\n",
    "print(f(1))\n",
    "print(f(2))\n",
    "print(f(3))"
   ]
  },
  {
   "cell_type": "markdown",
   "id": "032f0e22-6fdf-424c-891c-b29c026b587e",
   "metadata": {},
   "source": [
    "### * `*arg`와 `**arg`"
   ]
  },
  {
   "cell_type": "markdown",
   "id": "69781eb8-933a-4e56-9020-003c0d34f890",
   "metadata": {},
   "source": [
    " - `*arg`는 매개변수를 제한 없이 여러개를 받을 수 있음 : 튜플\n",
    " - `**arg`는 딕셔너리를 매개변수로 받음\n",
    " - `*arg`는 `**arg` 앞으로 와야 한다"
   ]
  },
  {
   "cell_type": "code",
   "execution_count": 18,
   "id": "677d26b5-21c4-4d1e-9d35-1045ef8bd689",
   "metadata": {},
   "outputs": [],
   "source": [
    "def showArgs(a, *b, **c):\n",
    "    print(a)\n",
    "    print(\"-\"*10)\n",
    "    print(b)\n",
    "    print(\"-\"*10)\n",
    "    print(c)"
   ]
  },
  {
   "cell_type": "code",
   "execution_count": 19,
   "id": "7a153615-554c-4003-8e6f-df7bf24c2219",
   "metadata": {},
   "outputs": [
    {
     "name": "stdout",
     "output_type": "stream",
     "text": [
      "안녕하세요\n",
      "----------\n",
      "(10, 100, 1000)\n",
      "----------\n",
      "{'A': 'mic', 'B': '394'}\n"
     ]
    }
   ],
   "source": [
    "showArgs(\"안녕하세요\" ,10,100,1000, A=\"mic\",B=\"394\")"
   ]
  },
  {
   "cell_type": "code",
   "execution_count": 20,
   "id": "e682f9c7-8411-4850-86d4-273550c8ce58",
   "metadata": {},
   "outputs": [
    {
     "name": "stdout",
     "output_type": "stream",
     "text": [
      "이건 좀 다른 이야기\n",
      "----------\n",
      "((1, 10, 100, 1000), {'key A': 1515, 'key B': 5832})\n",
      "----------\n",
      "{}\n"
     ]
    }
   ],
   "source": [
    "tupVar = (1,10,100,1000)\n",
    "\n",
    "dicVar = {\n",
    "    'key A' : 1515,\n",
    "    'key B' : 5832\n",
    "}\n",
    "\n",
    "showArgs(\"이건 좀 다른 이야기\", tupVar, dicVar)"
   ]
  },
  {
   "cell_type": "markdown",
   "id": "5d7b8149-1335-4a1d-8023-3fcc0714c4be",
   "metadata": {},
   "source": [
    "위의 경우는 tupVar과 dicVar의 요소들이 분해되지 않은 상태로 한번에 집어넣어진 것이다.\n",
    "\n",
    "그러므로 tupVar과 dicVar은 튜플의 요소로 튜플 매개변수에 각각 넣어진다.\n",
    "\n",
    "딕셔너리 매개변수는 key-value 형태이어야 하므로 아무 것도 안받은 것으로 간주된다."
   ]
  },
  {
   "cell_type": "code",
   "execution_count": 21,
   "id": "4bb4c3ae-28cc-47f3-ab4d-106681b8d8a7",
   "metadata": {},
   "outputs": [
    {
     "name": "stdout",
     "output_type": "stream",
     "text": [
      "이렇게 넘겨주면 된다\n",
      "----------\n",
      "(1, 10, 100, 1000)\n",
      "----------\n",
      "{'key A': 1515, 'key B': 5832}\n"
     ]
    }
   ],
   "source": [
    "showArgs(\"이렇게 넘겨주면 된다\", *tupVar, **dicVar)"
   ]
  },
  {
   "cell_type": "markdown",
   "id": "f16c3273-37f3-4941-ba4d-9cfd5e895a5b",
   "metadata": {},
   "source": [
    "튜플 자료구조 변수에는 `*`을, 딕셔너리 자료구조 변수에는 `**`을 붙여주면서 매개변수에 담아주면 각 요소가 분해되어 담아질 것이다."
   ]
  },
  {
   "cell_type": "markdown",
   "id": "958c0bff-8310-439f-8797-31affb2deb7d",
   "metadata": {},
   "source": [
    "### * 특수 매개 변수"
   ]
  },
  {
   "cell_type": "markdown",
   "id": "64b9a2d5-5a14-4d34-ae3c-a7a84793d922",
   "metadata": {},
   "source": [
    " - `/` : 위치 전용 인자\n",
    " - `*` : 키워드 전용 인자"
   ]
  },
  {
   "cell_type": "markdown",
   "id": "9f5c0b25-4090-4161-a948-6002c127f234",
   "metadata": {},
   "source": [
    "매개변수에 `/`를 사용하면 `/` 앞에 있는 매개변수는 키워드가 아닌 위치 매개변수로서만 작동한다.\n",
    "\n",
    "매개변수에 `*`를 사용하면 `*` 뒤에 있는 매개변수는 키워드 매개변수로서만 작동한다.\n",
    "\n",
    "둘 다 사용하게 된다면 `/`이 먼저 나와야하고 그 다음 `*`가 나와야 한다"
   ]
  },
  {
   "cell_type": "code",
   "execution_count": 22,
   "id": "b59cf4ac-4bbf-4f87-ac39-95085741a762",
   "metadata": {},
   "outputs": [],
   "source": [
    "def standard_arg(arg):\n",
    "    print(\"standard arg : \", arg)\n",
    "\n",
    "def pos_only_arg(arg, /):\n",
    "    print(\"pos only arg : \", arg)\n",
    "    \n",
    "def kwd_only_arg(*, arg):\n",
    "    print(\"kwd only arg: \", arg)\n",
    "\n",
    "def combined_example(pos_only, /, standard, *, kwd_only):\n",
    "    print(pos_only, standard, kwd_only)"
   ]
  },
  {
   "cell_type": "code",
   "execution_count": 23,
   "id": "f51baa54-fecd-4fc3-a2b1-13114ea039ad",
   "metadata": {},
   "outputs": [
    {
     "name": "stdout",
     "output_type": "stream",
     "text": [
      "standard arg :  10\n",
      "standard arg :  20\n"
     ]
    }
   ],
   "source": [
    "standard_arg(10)\n",
    "standard_arg(arg=20)"
   ]
  },
  {
   "cell_type": "code",
   "execution_count": 24,
   "id": "2b4f3c3a-9a54-46e1-aa1d-bf0022610aef",
   "metadata": {},
   "outputs": [
    {
     "name": "stdout",
     "output_type": "stream",
     "text": [
      "pos only arg :  30\n"
     ]
    },
    {
     "ename": "TypeError",
     "evalue": "pos_only_arg() got some positional-only arguments passed as keyword arguments: 'arg'",
     "output_type": "error",
     "traceback": [
      "\u001b[1;31m---------------------------------------------------------------------------\u001b[0m",
      "\u001b[1;31mTypeError\u001b[0m                                 Traceback (most recent call last)",
      "\u001b[1;32m~\\AppData\\Local\\Temp/ipykernel_17684/770711969.py\u001b[0m in \u001b[0;36m<module>\u001b[1;34m\u001b[0m\n\u001b[0;32m      1\u001b[0m \u001b[0mpos_only_arg\u001b[0m\u001b[1;33m(\u001b[0m\u001b[1;36m30\u001b[0m\u001b[1;33m)\u001b[0m\u001b[1;33m\u001b[0m\u001b[1;33m\u001b[0m\u001b[0m\n\u001b[1;32m----> 2\u001b[1;33m \u001b[0mpos_only_arg\u001b[0m\u001b[1;33m(\u001b[0m\u001b[0marg\u001b[0m\u001b[1;33m=\u001b[0m\u001b[1;36m40\u001b[0m\u001b[1;33m)\u001b[0m\u001b[1;33m\u001b[0m\u001b[1;33m\u001b[0m\u001b[0m\n\u001b[0m",
      "\u001b[1;31mTypeError\u001b[0m: pos_only_arg() got some positional-only arguments passed as keyword arguments: 'arg'"
     ]
    }
   ],
   "source": [
    "pos_only_arg(30)\n",
    "pos_only_arg(arg=40)"
   ]
  },
  {
   "cell_type": "code",
   "execution_count": 25,
   "id": "c0f939b1-732f-47e3-9995-b3a327b4c292",
   "metadata": {},
   "outputs": [
    {
     "name": "stdout",
     "output_type": "stream",
     "text": [
      "kwd only arg:  50\n"
     ]
    },
    {
     "ename": "TypeError",
     "evalue": "kwd_only_arg() takes 0 positional arguments but 1 was given",
     "output_type": "error",
     "traceback": [
      "\u001b[1;31m---------------------------------------------------------------------------\u001b[0m",
      "\u001b[1;31mTypeError\u001b[0m                                 Traceback (most recent call last)",
      "\u001b[1;32m~\\AppData\\Local\\Temp/ipykernel_17684/2463650580.py\u001b[0m in \u001b[0;36m<module>\u001b[1;34m\u001b[0m\n\u001b[0;32m      1\u001b[0m \u001b[0mkwd_only_arg\u001b[0m\u001b[1;33m(\u001b[0m\u001b[0marg\u001b[0m\u001b[1;33m=\u001b[0m\u001b[1;36m50\u001b[0m\u001b[1;33m)\u001b[0m\u001b[1;33m\u001b[0m\u001b[1;33m\u001b[0m\u001b[0m\n\u001b[1;32m----> 2\u001b[1;33m \u001b[0mkwd_only_arg\u001b[0m\u001b[1;33m(\u001b[0m\u001b[1;36m60\u001b[0m\u001b[1;33m)\u001b[0m\u001b[1;33m\u001b[0m\u001b[1;33m\u001b[0m\u001b[0m\n\u001b[0m",
      "\u001b[1;31mTypeError\u001b[0m: kwd_only_arg() takes 0 positional arguments but 1 was given"
     ]
    }
   ],
   "source": [
    "kwd_only_arg(arg=50)\n",
    "kwd_only_arg(60)"
   ]
  },
  {
   "cell_type": "code",
   "execution_count": 26,
   "id": "9078d7c9-73d8-4ed7-b508-39f169c47f8f",
   "metadata": {
    "tags": []
   },
   "outputs": [
    {
     "name": "stdout",
     "output_type": "stream",
     "text": [
      "1 2 3\n"
     ]
    }
   ],
   "source": [
    "combined_example(1, 2, kwd_only=3)"
   ]
  },
  {
   "cell_type": "markdown",
   "id": "bbe772f6-741e-4c0d-8b08-d7ce9c2b9e23",
   "metadata": {},
   "source": [
    " - 딕셔너리를 통한 특수 매개변수 사용의 필요성"
   ]
  },
  {
   "cell_type": "markdown",
   "id": "d3727eda-2ad8-4ceb-b73a-f9a487f94781",
   "metadata": {},
   "source": [
    "아래와 같은 논리를 가지고 있는 함수를 보자"
   ]
  },
  {
   "cell_type": "code",
   "execution_count": 27,
   "id": "b527b7f9-70d3-4c96-bacc-d97facb327d8",
   "metadata": {},
   "outputs": [
    {
     "name": "stdout",
     "output_type": "stream",
     "text": [
      "True\n",
      "False\n"
     ]
    }
   ],
   "source": [
    "# member={\n",
    "#     'name':'James',\n",
    "#     'age':10,\n",
    "#     'phone':'010-1234-5678'\n",
    "# }\n",
    "member=dict(\n",
    "    name='James',\n",
    "    age=10,\n",
    "    phone='010-1234-5678'\n",
    ")\n",
    "\n",
    "print('name' in member)\n",
    "print('password' in member)"
   ]
  },
  {
   "cell_type": "code",
   "execution_count": 28,
   "id": "2cae92f6-c00b-48ff-86ca-8638f857dc67",
   "metadata": {},
   "outputs": [],
   "source": [
    "def foo(key, **kwds):\n",
    "    return key in kwds"
   ]
  },
  {
   "cell_type": "code",
   "execution_count": 29,
   "id": "3c90a0e4-9d20-4153-b8e8-f4ce97950e03",
   "metadata": {},
   "outputs": [
    {
     "data": {
      "text/plain": [
       "True"
      ]
     },
     "execution_count": 29,
     "metadata": {},
     "output_type": "execute_result"
    }
   ],
   "source": [
    "foo('name', **member)"
   ]
  },
  {
   "cell_type": "markdown",
   "id": "812be2d1-b438-4083-881b-7bde92c78c0a",
   "metadata": {},
   "source": [
    "딕셔너리의 키(name)와 함수의 매개변수(name)이 충돌이 일어날 수도 있다.\n",
    "\n",
    "매개변수에 name이라는 이름이 중복되기 때문이다.\n",
    "\n",
    "```python\n",
    "name='name', name='James'...\n",
    "```"
   ]
  },
  {
   "cell_type": "code",
   "execution_count": 30,
   "id": "1c4c53a8-ac97-4b09-bde7-6a3be2594714",
   "metadata": {},
   "outputs": [],
   "source": [
    "def foo(name, **kwds):\n",
    "    return name in kwds"
   ]
  },
  {
   "cell_type": "code",
   "execution_count": 31,
   "id": "230b29be-d7ee-4907-be9c-6e5a8dcb7ecc",
   "metadata": {},
   "outputs": [
    {
     "ename": "TypeError",
     "evalue": "foo() got multiple values for argument 'name'",
     "output_type": "error",
     "traceback": [
      "\u001b[1;31m---------------------------------------------------------------------------\u001b[0m",
      "\u001b[1;31mTypeError\u001b[0m                                 Traceback (most recent call last)",
      "\u001b[1;32m~\\AppData\\Local\\Temp/ipykernel_17684/468566950.py\u001b[0m in \u001b[0;36m<module>\u001b[1;34m\u001b[0m\n\u001b[1;32m----> 1\u001b[1;33m \u001b[0mfoo\u001b[0m\u001b[1;33m(\u001b[0m\u001b[1;34m'name'\u001b[0m\u001b[1;33m,\u001b[0m \u001b[1;33m**\u001b[0m\u001b[0mmember\u001b[0m\u001b[1;33m)\u001b[0m\u001b[1;33m\u001b[0m\u001b[1;33m\u001b[0m\u001b[0m\n\u001b[0m",
      "\u001b[1;31mTypeError\u001b[0m: foo() got multiple values for argument 'name'"
     ]
    }
   ],
   "source": [
    "foo('name', **member)"
   ]
  },
  {
   "cell_type": "markdown",
   "id": "f181e8a5-d856-48d4-8aab-9a0f2f1cf842",
   "metadata": {},
   "source": [
    "그러므로 딕셔너리의 키이름과의 충돌을 피하기위해 특수 매개 변수를 사용할 필요가 있다."
   ]
  },
  {
   "cell_type": "code",
   "execution_count": 32,
   "id": "d177c7d3-26ba-4bd5-83bc-b9207c37e60b",
   "metadata": {},
   "outputs": [],
   "source": [
    "def foo(name, /, **kwds):\n",
    "    return name in kwds"
   ]
  },
  {
   "cell_type": "code",
   "execution_count": 33,
   "id": "74f4d4b9-d760-437e-8d64-41a79c3878da",
   "metadata": {},
   "outputs": [
    {
     "data": {
      "text/plain": [
       "True"
      ]
     },
     "execution_count": 33,
     "metadata": {},
     "output_type": "execute_result"
    }
   ],
   "source": [
    "foo('name',**member)"
   ]
  },
  {
   "cell_type": "markdown",
   "id": "d89cb998-7d4c-4aed-a8bc-82aaa4c4b5cb",
   "metadata": {},
   "source": [
    " - 특수 매개변수를 이용해 아래와 같이 사용할 수도 있다."
   ]
  },
  {
   "cell_type": "code",
   "execution_count": 34,
   "id": "7e44cc93-bc02-4658-835d-07230cb59d70",
   "metadata": {},
   "outputs": [
    {
     "data": {
      "text/plain": [
       "[3, 4, 5]"
      ]
     },
     "execution_count": 34,
     "metadata": {},
     "output_type": "execute_result"
    }
   ],
   "source": [
    "args = (3, 6)\n",
    "list(range(*args))"
   ]
  },
  {
   "cell_type": "markdown",
   "id": "e5c7e4fe-36f2-463c-8d8e-742cbcac7be7",
   "metadata": {
    "tags": []
   },
   "source": [
    "## - Documentation"
   ]
  },
  {
   "cell_type": "markdown",
   "id": "8c716dff-7aa8-47a5-85c9-0a085b7d2c52",
   "metadata": {},
   "source": [
    "협업을 할 때 모두를 위해 함수에 대한 설명서를 적어두는 것이 좋을 것이다. \n",
    "\n",
    "설사 자신 작성한 함수더라도 긴 시간이 지나면 자신도 어떤 함수였는지 잊어버리게 될 것이다."
   ]
  },
  {
   "cell_type": "code",
   "execution_count": 35,
   "id": "67ed3dfe-b4ac-4c35-a3d2-93d167db76b5",
   "metadata": {},
   "outputs": [
    {
     "name": "stdout",
     "output_type": "stream",
     "text": [
      "    이 my_function 함수는 어떻게 Documentation을 하는지\n",
      "    알리기 위해서 사용되어졌습니다.\n",
      "    \n",
      "    오예~\n",
      "    \n"
     ]
    }
   ],
   "source": [
    "def my_function():\n",
    "    \"\"\"\\\n",
    "    이 my_function 함수는 어떻게 Documentation을 하는지\n",
    "    알리기 위해서 사용되어졌습니다.\n",
    "    \n",
    "    오예~\n",
    "    \"\"\"\n",
    "    pass\n",
    "\n",
    "print(my_function.__doc__)"
   ]
  },
  {
   "cell_type": "markdown",
   "id": "f0e8f761-841f-4f92-ab84-01772471089e",
   "metadata": {},
   "source": [
    "`\"\"\"\\`에 `\\`를 추가한 이유는 개행을 막기 위해서이다. 만일 `\\`가 없게 되면 개행이 된 상태로 출력될 것이다."
   ]
  },
  {
   "cell_type": "code",
   "execution_count": 36,
   "id": "13feb265-bf3a-42b3-a38f-6a418f328790",
   "metadata": {},
   "outputs": [
    {
     "name": "stdout",
     "output_type": "stream",
     "text": [
      "\n",
      "    이 my_function 함수는 어떻게 Documentation을 하는지\n",
      "    알리기 위해서 사용되어졌습니다.\n",
      "    \n",
      "    오예~\n",
      "    \n"
     ]
    }
   ],
   "source": [
    "def my_function():\n",
    "    \"\"\"\n",
    "    이 my_function 함수는 어떻게 Documentation을 하는지\n",
    "    알리기 위해서 사용되어졌습니다.\n",
    "    \n",
    "    오예~\n",
    "    \"\"\"\n",
    "    pass\n",
    "\n",
    "print(my_function.__doc__)"
   ]
  },
  {
   "cell_type": "markdown",
   "id": "2276d540-063f-471b-a630-8564181239b1",
   "metadata": {},
   "source": [
    "## - Annotation\n",
    " - 어노테이션은 메타데이터 정보\n",
    " - `__annotation__`에 dict로 저장됨\n",
    " - 매개변수 뒤 `:`으로 정의됨\n",
    " - Java와 달리 Python에서의 어노테이션은 사용자에게 인자값의 형태와 반환값을 알려주는 것"
   ]
  },
  {
   "cell_type": "markdown",
   "id": "dc6ea4eb-bb2a-4f8a-b471-95dd278d5dd5",
   "metadata": {},
   "source": [
    "파이썬의 변수는 할당 값에 따라 자료형이 바뀌게 된다.\n",
    "\n",
    "즉, 함수의 매개변수에 문자열이 들어올 수도, 리스트가 들어올 수도, 정수가 들어올 수도 있다는 말이다.\n",
    "\n",
    "비록 어노테이션이 특정 자료형 사용을 강제하지 않지만 함수를 사용하는 개발자에게 좋은 힌트가 될 것이다.\n",
    "\n",
    "개인적으로 협업시 함수를 만들 때 `Documentation`과 `Annotation`을 습관적으로 작성하는 것이 좋다고 생각한다."
   ]
  },
  {
   "cell_type": "code",
   "execution_count": 37,
   "id": "971cf706-fc2c-4cd9-a8da-9d93545fd83b",
   "metadata": {},
   "outputs": [
    {
     "data": {
      "text/plain": [
       "{'score': int}"
      ]
     },
     "execution_count": 37,
     "metadata": {},
     "output_type": "execute_result"
    }
   ],
   "source": [
    "score: int = 91\n",
    "__annotations__"
   ]
  },
  {
   "cell_type": "code",
   "execution_count": 38,
   "id": "eb97b91e-7b6f-434c-a2c3-004cb7a463b3",
   "metadata": {},
   "outputs": [
    {
     "name": "stdout",
     "output_type": "stream",
     "text": [
      "Annotations: {'ham': <class 'str'>, 'eggs': <class 'str'>, 'return': <class 'int'>}\n",
      "Arguments: spam eggs\n"
     ]
    },
    {
     "data": {
      "text/plain": [
       "0"
      ]
     },
     "execution_count": 38,
     "metadata": {},
     "output_type": "execute_result"
    }
   ],
   "source": [
    "def f(ham: str, eggs: str = 'eggs') -> int: # 이 함수는 ham과 eggs 매개변수에는 문자열이 들어오고 정수가 반환됩니다.\n",
    "    print(\"Annotations:\", f.__annotations__)\n",
    "    print(\"Arguments:\", ham, eggs)\n",
    "    return 0\n",
    "f('spam')"
   ]
  },
  {
   "cell_type": "markdown",
   "id": "07d0e19c-1f65-4def-bf13-95abe3f290cc",
   "metadata": {},
   "source": [
    "## - `map`, `filter`, `reduce`"
   ]
  },
  {
   "cell_type": "markdown",
   "id": "0986c9af-0e45-4775-87e2-f1029cfaef40",
   "metadata": {},
   "source": [
    "위 함수를 통해 가독성이 좋은 코드를 만들 수 있다.\n",
    "\n",
    "아래 코드를 보자"
   ]
  },
  {
   "cell_type": "code",
   "execution_count": 39,
   "id": "51b91d95-d103-44eb-a0f2-6e627eff7db8",
   "metadata": {},
   "outputs": [
    {
     "name": "stdout",
     "output_type": "stream",
     "text": [
      "[11, 12, 13, 14, 15, 16, 17, 18, 19, 20]\n",
      "[12, 14, 16, 18, 20]\n",
      "80\n"
     ]
    }
   ],
   "source": [
    "# datas 요소에 10을 더하고 그 결과가 짝수인 요소들만 골라 모두 더하여라\n",
    "datas = [1, 2, 3, 4, 5, 6, 7, 8, 9, 10]\n",
    "\n",
    "# 모든 요소에 10을 더하고\n",
    "def plusten(L: list) -> None:\n",
    "    for i in range(len(L)):\n",
    "        L[i] += 10\n",
    "\n",
    "# 그 결과가 짝수인 요소들만 모두 골라\n",
    "def selectEven(L: list) -> list:\n",
    "    newL = []\n",
    "    for i in range(len(L)):\n",
    "        if L[i] % 2 == 0:\n",
    "            newL.append(L[i])\n",
    "    return newL\n",
    "        \n",
    "# 모두 더하여라\n",
    "def addAll(L: list) -> int:\n",
    "    result = 0\n",
    "    for element in L:\n",
    "        result += element\n",
    "    return result\n",
    "\n",
    "plusten(datas)\n",
    "print(datas)\n",
    "filtered_datas = selectEven(datas)\n",
    "print(filtered_datas)\n",
    "result = addAll(filtered_datas)\n",
    "print(result)"
   ]
  },
  {
   "cell_type": "markdown",
   "id": "6c493f80-fea7-4979-8748-1a5e5ee3fda0",
   "metadata": {},
   "source": [
    "코드가 생각보다 긴 것을 볼 수 있다. \n",
    "\n",
    "각 과정을 1줄씩 표현하면 가독성이 좋지 않을까?"
   ]
  },
  {
   "cell_type": "markdown",
   "id": "760c6d8b-93f4-4b03-b6e0-f952a72fc4b5",
   "metadata": {
    "jp-MarkdownHeadingCollapsed": true,
    "tags": []
   },
   "source": [
    "### * map\n",
    "\n",
    "map 함수는 모든 요소에 대해 주어진 함수를 실행한다.\n",
    "\n",
    "\n",
    "\n",
    "### * filter\n",
    "\n",
    "filter 함수는 주어진 함수에 대하여 true인 요소만을 가지고 나머지는 무시한다."
   ]
  },
  {
   "cell_type": "markdown",
   "id": "067d324a-24ec-490c-9abc-e651586ded6b",
   "metadata": {},
   "source": [
    "### * reduce\n",
    "\n",
    "reduce 함수는 요소를 줄여가면서 주어진 함수를 실행한다.\n",
    "\n",
    "Built-in 함수가 아니라서 functools라는 내부 모듈을 불러와야 한다\n",
    "\n",
    "예를 들어 아래 코드가 있다고 가정해 보자\n",
    "```python\n",
    "reduce(lambda x, y : x + y, [1,2,3,4,5])\n",
    "```\n",
    "이 코드는 아래와 같이 동작한다.\n",
    "\n",
    "`step 1`\n",
    "```\n",
    "x = 1, y = 2, x + y은 3\n",
    "```\n",
    "\n",
    "`step 2` : step 1의 결과가 x의 매개변수로 들어간다.\n",
    "```\n",
    "x = 3, y = 3, x + y은 6 \n",
    "```\n",
    "\n",
    "`step 3` : step 2의 결과가 x의 매개변수로 들어간다.\n",
    "```\n",
    "x = 6, y = 4, x + y은 10\n",
    "```\n",
    "\n",
    "`step 4` : step 3의 결과가 x의 매개변수로 들어간다.\n",
    "```\n",
    "x = 10, y = 5, x + y은 15\n",
    "```\n",
    "\n",
    "더 이상 수행할 요소가 없으므로 최종 결과값인 15가 반환된다."
   ]
  },
  {
   "cell_type": "code",
   "execution_count": 40,
   "id": "cc4835e5-fc80-4cee-8250-081ee904ef3a",
   "metadata": {},
   "outputs": [
    {
     "name": "stdout",
     "output_type": "stream",
     "text": [
      "result :  80\n"
     ]
    }
   ],
   "source": [
    "from functools import reduce\n",
    "\n",
    "# datas 요소에 10을 더하고 그 결과가 짝수인 요소들만 골라 모두 더하여라\n",
    "datas = [1, 2, 3, 4, 5, 6, 7, 8, 9, 10]\n",
    "\n",
    "datas = map(lambda x : x + 10, datas) # plusten\n",
    "datas = filter(lambda x : x % 2 == 0, datas) # selectEven\n",
    "datas = reduce(lambda x, y : x + y, datas) # addAll\n",
    "print(\"result : \", datas)"
   ]
  },
  {
   "cell_type": "markdown",
   "id": "a5fa8595-f59e-4b74-a439-864b58aa24b8",
   "metadata": {},
   "source": [
    "위 동작을 한줄로 표현하면 다음과 같다."
   ]
  },
  {
   "cell_type": "code",
   "execution_count": 41,
   "id": "15208031-c833-4d7c-963f-23b3afefea19",
   "metadata": {},
   "outputs": [
    {
     "name": "stdout",
     "output_type": "stream",
     "text": [
      "result :  80\n"
     ]
    }
   ],
   "source": [
    "from functools import reduce\n",
    "\n",
    "# datas 요소에 10을 더하고 그 결과가 짝수인 요소들만 골라 모두 더하여라\n",
    "datas = [1, 2, 3, 4, 5, 6, 7, 8, 9, 10]\n",
    "\n",
    "datas = reduce(lambda x, y : x + y, filter(lambda x : x % 2 == 0, map(lambda x : x + 10, datas)))\n",
    "print(\"result : \", datas)"
   ]
  },
  {
   "cell_type": "markdown",
   "id": "eb6e106f-dca8-4ddc-9379-b6d21c590aa6",
   "metadata": {},
   "source": [
    "<br>\n",
    "<br>\n",
    "<br>\n",
    "<br>\n",
    "<br>\n",
    "<br>\n",
    "<hr>\n",
    "<br>\n",
    "<br>\n",
    "<br>\n",
    "<br>\n",
    "<br>\n",
    "<br>"
   ]
  }
 ],
 "metadata": {
  "kernelspec": {
   "display_name": "Python 3 (ipykernel)",
   "language": "python",
   "name": "python3"
  },
  "language_info": {
   "codemirror_mode": {
    "name": "ipython",
    "version": 3
   },
   "file_extension": ".py",
   "mimetype": "text/x-python",
   "name": "python",
   "nbconvert_exporter": "python",
   "pygments_lexer": "ipython3",
   "version": "3.9.7"
  }
 },
 "nbformat": 4,
 "nbformat_minor": 5
}
