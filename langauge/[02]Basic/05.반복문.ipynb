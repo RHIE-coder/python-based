{
 "cells": [
  {
   "cell_type": "markdown",
   "id": "7f8cd2f6-a2af-4bd2-a91a-170d5a12792f",
   "metadata": {},
   "source": [
    "# 05. 반복문"
   ]
  },
  {
   "cell_type": "markdown",
   "id": "161810b4-cf56-4a56-b850-3c96175aa549",
   "metadata": {},
   "source": [
    "다음 a, b, c, d, e 학생들의 점수에 따라서 성적을 매기려고 하는 코드를 실행해보자"
   ]
  },
  {
   "cell_type": "code",
   "execution_count": 1,
   "id": "70273a9a-4bec-44f6-a749-06e4da5bd723",
   "metadata": {},
   "outputs": [],
   "source": [
    "a_student_score1 = 87\n",
    "b_student_score1 = 66\n",
    "c_student_score1 = 94\n",
    "d_student_score1 = 56\n",
    "e_student_score1 = 88"
   ]
  },
  {
   "cell_type": "code",
   "execution_count": 2,
   "id": "99658d77-7fa0-4d3d-8e25-b6107793eef2",
   "metadata": {},
   "outputs": [
    {
     "name": "stdout",
     "output_type": "stream",
     "text": [
      "우\n",
      "양\n",
      "수\n",
      "가\n",
      "우\n"
     ]
    }
   ],
   "source": [
    "score = a_student_score1\n",
    "\n",
    "if score > 90:\n",
    "    print(\"수\")\n",
    "elif score > 80:\n",
    "    print(\"우\")\n",
    "elif score > 70:\n",
    "    print(\"미\")\n",
    "elif score > 60:\n",
    "    print(\"양\")\n",
    "else:\n",
    "    print(\"가\")\n",
    "#-----------------------------------------#\n",
    "score = b_student_score1\n",
    "\n",
    "if score > 90:\n",
    "    print(\"수\")\n",
    "elif score > 80:\n",
    "    print(\"우\")\n",
    "elif score > 70:\n",
    "    print(\"미\")\n",
    "elif score > 60:\n",
    "    print(\"양\")\n",
    "else:\n",
    "    print(\"가\")\n",
    "#-----------------------------------------#\n",
    "score = c_student_score1\n",
    "\n",
    "if score > 90:\n",
    "    print(\"수\")\n",
    "elif score > 80:\n",
    "    print(\"우\")\n",
    "elif score > 70:\n",
    "    print(\"미\")\n",
    "elif score > 60:\n",
    "    print(\"양\")\n",
    "else:\n",
    "    print(\"가\")\n",
    "#-----------------------------------------#\n",
    "score = d_student_score1\n",
    "\n",
    "if score > 90:\n",
    "    print(\"수\")\n",
    "elif score > 80:\n",
    "    print(\"우\")\n",
    "elif score > 70:\n",
    "    print(\"미\")\n",
    "elif score > 60:\n",
    "    print(\"양\")\n",
    "else:\n",
    "    print(\"가\")\n",
    "#-----------------------------------------#\n",
    "score = e_student_score1\n",
    "\n",
    "if score > 90:\n",
    "    print(\"수\")\n",
    "elif score > 80:\n",
    "    print(\"우\")\n",
    "elif score > 70:\n",
    "    print(\"미\")\n",
    "elif score > 60:\n",
    "    print(\"양\")\n",
    "else:\n",
    "    print(\"가\")"
   ]
  },
  {
   "cell_type": "markdown",
   "id": "e4a5ecea-b0db-4091-b55e-bae9ab132c3a",
   "metadata": {},
   "source": [
    "좀 더 간단하게 하기 위해 변수 하나하나 할당하는 방식이 아닌 값들을 한번에 담는 파이썬의 자료구조 리스트(list)를 사용하여 표현해보자."
   ]
  },
  {
   "cell_type": "code",
   "execution_count": 3,
   "id": "af6bd47a-4f58-4fd2-9e07-c489260c427a",
   "metadata": {},
   "outputs": [
    {
     "name": "stdout",
     "output_type": "stream",
     "text": [
      "우\n",
      "양\n",
      "수\n",
      "가\n",
      "우\n"
     ]
    }
   ],
   "source": [
    "scores = [87, 66, 94, 56, 88] # 리스트(List)\n",
    "#-----------------------------------------#\n",
    "score = scores[0]\n",
    "\n",
    "if score > 90:\n",
    "    print(\"수\")\n",
    "elif score > 80:\n",
    "    print(\"우\")\n",
    "elif score > 70:\n",
    "    print(\"미\")\n",
    "elif score > 60:\n",
    "    print(\"양\")\n",
    "else:\n",
    "    print(\"가\")\n",
    "#-----------------------------------------#\n",
    "score = scores[1]\n",
    "\n",
    "if score > 90:\n",
    "    print(\"수\")\n",
    "elif score > 80:\n",
    "    print(\"우\")\n",
    "elif score > 70:\n",
    "    print(\"미\")\n",
    "elif score > 60:\n",
    "    print(\"양\")\n",
    "else:\n",
    "    print(\"가\")\n",
    "#-----------------------------------------#\n",
    "score = scores[2]\n",
    "\n",
    "if score > 90:\n",
    "    print(\"수\")\n",
    "elif score > 80:\n",
    "    print(\"우\")\n",
    "elif score > 70:\n",
    "    print(\"미\")\n",
    "elif score > 60:\n",
    "    print(\"양\")\n",
    "else:\n",
    "    print(\"가\")\n",
    "#-----------------------------------------#\n",
    "score = scores[3]\n",
    "\n",
    "if score > 90:\n",
    "    print(\"수\")\n",
    "elif score > 80:\n",
    "    print(\"우\")\n",
    "elif score > 70:\n",
    "    print(\"미\")\n",
    "elif score > 60:\n",
    "    print(\"양\")\n",
    "else:\n",
    "    print(\"가\")\n",
    "#-----------------------------------------#\n",
    "score = scores[4]\n",
    "\n",
    "if score > 90:\n",
    "    print(\"수\")\n",
    "elif score > 80:\n",
    "    print(\"우\")\n",
    "elif score > 70:\n",
    "    print(\"미\")\n",
    "elif score > 60:\n",
    "    print(\"양\")\n",
    "else:\n",
    "    print(\"가\")"
   ]
  },
  {
   "cell_type": "markdown",
   "id": "fafd98af-0e72-4bc8-9b19-f68516c0d5c0",
   "metadata": {},
   "source": [
    "## - for"
   ]
  },
  {
   "cell_type": "markdown",
   "id": "d52563fd-0ad6-415a-957a-9c1409637b9c",
   "metadata": {},
   "source": [
    "다음 코드가 계속 반복되고 있는 것을 볼 수 있다.\n",
    "\n",
    "```python\n",
    "if score > 90:\n",
    "    print(\"수\")\n",
    "elif score > 80:\n",
    "    print(\"우\")\n",
    "elif score > 70:\n",
    "    print(\"미\")\n",
    "elif score > 60:\n",
    "    print(\"양\")\n",
    "else:\n",
    "    print(\"가\")\n",
    "```\n",
    "\n",
    "똑같은 작업을 n번 할 때마다 똑같은 코드를 n번 작성하는 것은 비효율적이다.\n",
    "\n",
    "그래서 for문이 등장한다"
   ]
  },
  {
   "cell_type": "code",
   "execution_count": 4,
   "id": "9067ea86-bd60-4161-849b-c70673d71f06",
   "metadata": {},
   "outputs": [
    {
     "name": "stdout",
     "output_type": "stream",
     "text": [
      "우\n",
      "양\n",
      "수\n",
      "가\n",
      "우\n"
     ]
    }
   ],
   "source": [
    "scores = [87, 66, 94, 56, 88] # 리스트(List)\n",
    "\n",
    "for score in scores:\n",
    "    if score > 90:\n",
    "        print(\"수\")\n",
    "    elif score > 80:\n",
    "        print(\"우\")\n",
    "    elif score > 70:\n",
    "        print(\"미\")\n",
    "    elif score > 60:\n",
    "        print(\"양\")\n",
    "    else:\n",
    "        print(\"가\")"
   ]
  },
  {
   "cell_type": "markdown",
   "id": "29c37d61-eecc-4327-8c8b-58d6390ecb39",
   "metadata": {},
   "source": [
    "훨씬 보기 좋고 깔끔하다.\n",
    "\n",
    "`in` 연산자 뒤에 있는 scores의 값 요소들을 순서대로 가져와 처리하는 코드가 완성되었다.\n",
    "\n",
    "꼭 존재하고 있는 변수 뿐아니라 임의의 요소들을 그때 그때 지정하여 반복문을 돌릴 수도 있다."
   ]
  },
  {
   "cell_type": "code",
   "execution_count": 5,
   "id": "2705903d-3c95-4d99-a0b6-10126d7f6391",
   "metadata": {},
   "outputs": [
    {
     "name": "stdout",
     "output_type": "stream",
     "text": [
      "1 2 3 4 5 "
     ]
    }
   ],
   "source": [
    "for i in 1, 2, 3, 4, 5:\n",
    "    print(i, end=\" \");"
   ]
  },
  {
   "cell_type": "markdown",
   "id": "71b07b45-d97d-4bce-b45a-dbe02e1aef35",
   "metadata": {},
   "source": [
    "### * range()"
   ]
  },
  {
   "cell_type": "markdown",
   "id": "70fba2b3-afbd-4c71-89d1-901da778d4b4",
   "metadata": {},
   "source": [
    "이 함수를 사용하면 반복의 횟수 혹은 규칙적으로 증감하는 숫자를 토대로 하여 좀더 편리한 반복문을 짤 수 있다.\n",
    "\n",
    "마지막 숫자는 포함하지 않는다.\n",
    "\n",
    " - EX) `range(10)` : 0부터 9까지\n",
    " - EX) `range(1, 10)` : 1부터 9까지\n",
    " - EX) `range(1, 10, 2)` : 1부터 9까지 2씩 증가"
   ]
  },
  {
   "cell_type": "code",
   "execution_count": 6,
   "id": "9423dfe4-fad4-43b2-a7f0-3067212d144e",
   "metadata": {},
   "outputs": [
    {
     "name": "stdout",
     "output_type": "stream",
     "text": [
      "0 1 2 3 4 5 6 7 8 9 "
     ]
    }
   ],
   "source": [
    "for i in range(10):\n",
    "    print(i, end=\" \")"
   ]
  },
  {
   "cell_type": "code",
   "execution_count": 7,
   "id": "37acc688-36e9-4fbd-b642-e2c9f52e83e6",
   "metadata": {},
   "outputs": [
    {
     "name": "stdout",
     "output_type": "stream",
     "text": [
      "1 2 3 4 5 6 7 8 9 "
     ]
    }
   ],
   "source": [
    "for i in range(1, 10):\n",
    "    print(i, end=\" \")"
   ]
  },
  {
   "cell_type": "code",
   "execution_count": 8,
   "id": "d0e9e245-d56f-412d-9ea1-0d4ebc9a3890",
   "metadata": {},
   "outputs": [
    {
     "name": "stdout",
     "output_type": "stream",
     "text": [
      "1 3 5 7 9 "
     ]
    }
   ],
   "source": [
    "for i in range(1, 10, 2):\n",
    "    print(i, end=\" \")"
   ]
  },
  {
   "cell_type": "markdown",
   "id": "32db8fd7-3bfd-4155-89cd-ada0b42770a3",
   "metadata": {
    "tags": []
   },
   "source": [
    "- range()는 리스트가 아니라 iterate시 원하는 시퀀스 항목들을 순서대로 돌려주는 개체이나 실제로 리스트를 만들지는 않아서 공간이 절약된다.\n",
    "- 이러한 객체를 iterable이라고 한다"
   ]
  },
  {
   "cell_type": "code",
   "execution_count": 9,
   "id": "e3f93640-813a-41b5-b5f0-0c631c953520",
   "metadata": {},
   "outputs": [
    {
     "name": "stdout",
     "output_type": "stream",
     "text": [
      "range(0, 10)\n"
     ]
    }
   ],
   "source": [
    "# range(10) === [0, 1, 2, 3, 4, 5, 6, 7, 8, 9] ?\n",
    "print(range(10))"
   ]
  },
  {
   "cell_type": "markdown",
   "id": "0f5bd020-5568-4901-8a5f-b8fac47cf7b9",
   "metadata": {},
   "source": [
    "위의 표현과 같이 `range(10)`이라고 해서 리스트 `[0, 1, 2, 3, 4, 5, 6, 7, 8, 9]`가 만들어지는 것이 아니라 `range(10)`이라는 약속에 따라 시퀀스를 실행하겠다는 것을 나타낸다. ( 메모리 효율 )"
   ]
  },
  {
   "cell_type": "code",
   "execution_count": 10,
   "id": "8da14424-27f1-4d4f-97d8-4714cb02b561",
   "metadata": {},
   "outputs": [
    {
     "data": {
      "text/plain": [
       "[0, 1, 2, 3, 4, 5, 6, 7, 8, 9]"
      ]
     },
     "execution_count": 10,
     "metadata": {},
     "output_type": "execute_result"
    }
   ],
   "source": [
    "list(range(10))"
   ]
  },
  {
   "cell_type": "markdown",
   "id": "a5d08b51-dc7c-453a-9497-639648e0c133",
   "metadata": {},
   "source": [
    "## - while"
   ]
  },
  {
   "cell_type": "markdown",
   "id": "932c8a7f-52e0-4924-9dac-7b0e44af890a",
   "metadata": {},
   "source": [
    "for문 뿐만 아니라 while문을 통해서도 반복문을 실행할 수 있다.\n",
    "\n",
    "for문과의 차이가 있다면 while문 뒤에는 조건문만 온다는 점이다."
   ]
  },
  {
   "cell_type": "code",
   "execution_count": 11,
   "id": "6a86cd73-dfb9-4936-8203-1bdb8e60da26",
   "metadata": {},
   "outputs": [
    {
     "name": "stdout",
     "output_type": "stream",
     "text": [
      "0 1 2 3 4 5 6 7 8 9 "
     ]
    }
   ],
   "source": [
    "i = 0\n",
    "\n",
    "while i < 10:\n",
    "    print(i, end=\" \")\n",
    "    i += 1"
   ]
  },
  {
   "cell_type": "markdown",
   "id": "0b181fae-e4f0-4f98-ae84-4678270fb14a",
   "metadata": {},
   "source": [
    "## - continue & break"
   ]
  },
  {
   "cell_type": "markdown",
   "id": "89770a6e-47ab-4dda-a292-de18622de862",
   "metadata": {},
   "source": [
    "continue와 break의 공통점은 만일 프로그램이 이 키워드를 만나면 해당 영역(for문 실행 영역 혹은 while문 실행 영역)의 해당 반복 실행을 멈춘다는 점이다.\n",
    "\n",
    "차이점은 \n",
    " - continue는 다시 반복 실행을 위한 조건을 확인하여 다시 반복할건지 안할 건지 판단하지만\n",
    " - break는 그 자리에서 해당 반복문 실행을 종료시키고 다음 실행 명령으로 넘어가는 것이다."
   ]
  },
  {
   "cell_type": "code",
   "execution_count": 12,
   "id": "731cc6fc-1d5c-4754-a2ff-f876e7c1f07a",
   "metadata": {},
   "outputs": [
    {
     "name": "stdout",
     "output_type": "stream",
     "text": [
      "0 2 4 6 8 "
     ]
    }
   ],
   "source": [
    "for i in range(10):\n",
    "    if i % 2 != 0:\n",
    "        continue\n",
    "    print(i, end = \" \")"
   ]
  },
  {
   "cell_type": "markdown",
   "id": "d028d1ab-a826-4579-9883-89178b5adf96",
   "metadata": {},
   "source": [
    "i가 짝수라면 해당 반복은 더는 보지 않고 다음 반복으로 넘어간다"
   ]
  },
  {
   "cell_type": "code",
   "execution_count": 13,
   "id": "ddd19394-ad23-4fdd-8706-0c5435884be6",
   "metadata": {},
   "outputs": [
    {
     "name": "stdout",
     "output_type": "stream",
     "text": [
      "1 2 3 4 5 6 7 "
     ]
    }
   ],
   "source": [
    "i = 0\n",
    "\n",
    "while i < 10:\n",
    "    if i == 7:\n",
    "        break\n",
    "    i += 1\n",
    "    print(i, end = \" \")"
   ]
  },
  {
   "cell_type": "markdown",
   "id": "2f213a0c-84ab-4143-8ae4-dba7d89791dd",
   "metadata": {},
   "source": [
    "i가 7이라면 while문을 종료한다"
   ]
  },
  {
   "cell_type": "markdown",
   "id": "32c50147-bc4b-42e0-8aa6-7cc539c280fb",
   "metadata": {},
   "source": [
    "## - pass문"
   ]
  },
  {
   "cell_type": "markdown",
   "id": "4c259ad6-9dff-4044-89d2-71f608ed1b25",
   "metadata": {},
   "source": [
    "아직 어떻게 코드를 짤 것인지 정하지 않았지만 에러 발생없이 남겨두고 싶다면 pass문을 사용하면 된다."
   ]
  },
  {
   "cell_type": "code",
   "execution_count": 14,
   "id": "ec358d55-ad54-4fed-b235-3c6b40ba3694",
   "metadata": {},
   "outputs": [],
   "source": [
    "for i in range(100):\n",
    "    pass"
   ]
  },
  {
   "cell_type": "markdown",
   "id": "b2172924-774a-4957-a732-5456214a9edc",
   "metadata": {},
   "source": [
    "## - 파이썬의 특징과 주의할 점"
   ]
  },
  {
   "cell_type": "markdown",
   "id": "5df6bad2-ce39-4d53-946c-412204e0e35b",
   "metadata": {},
   "source": [
    "for문을 돌리기 위해 임시적으로 선언한 i가 for문이 끝나도 사용할 수가 있다."
   ]
  },
  {
   "cell_type": "code",
   "execution_count": 15,
   "id": "99c10551-b80a-41ec-84b1-22184dd39697",
   "metadata": {},
   "outputs": [
    {
     "name": "stdout",
     "output_type": "stream",
     "text": [
      "1\n",
      "2\n",
      "3\n",
      "i : 3\n"
     ]
    }
   ],
   "source": [
    "for i in [1, 2, 3]:\n",
    "    print(i)\n",
    "print(\"i :\", i)"
   ]
  },
  {
   "cell_type": "markdown",
   "id": "245bf347-62d4-4b2e-8513-1827a5def922",
   "metadata": {},
   "source": [
    "임시 변수가 살아있음으로 인한 에러 발생 및 잘못된 실행이 걱정된다면 사용이 끝난 임시 변수는 지워주면 된다."
   ]
  },
  {
   "cell_type": "code",
   "execution_count": 16,
   "id": "6cb28b5d-28ca-4760-b6ed-42f6665fdf7a",
   "metadata": {},
   "outputs": [
    {
     "name": "stdout",
     "output_type": "stream",
     "text": [
      "1\n",
      "2\n",
      "3\n"
     ]
    },
    {
     "ename": "NameError",
     "evalue": "name 'i' is not defined",
     "output_type": "error",
     "traceback": [
      "\u001b[1;31m---------------------------------------------------------------------------\u001b[0m",
      "\u001b[1;31mNameError\u001b[0m                                 Traceback (most recent call last)",
      "\u001b[1;32m~\\AppData\\Local\\Temp/ipykernel_16096/1102482243.py\u001b[0m in \u001b[0;36m<module>\u001b[1;34m\u001b[0m\n\u001b[0;32m      2\u001b[0m     \u001b[0mprint\u001b[0m\u001b[1;33m(\u001b[0m\u001b[0mi\u001b[0m\u001b[1;33m)\u001b[0m\u001b[1;33m\u001b[0m\u001b[1;33m\u001b[0m\u001b[0m\n\u001b[0;32m      3\u001b[0m \u001b[1;32mdel\u001b[0m \u001b[0mi\u001b[0m\u001b[1;33m\u001b[0m\u001b[1;33m\u001b[0m\u001b[0m\n\u001b[1;32m----> 4\u001b[1;33m \u001b[0mprint\u001b[0m\u001b[1;33m(\u001b[0m\u001b[0mi\u001b[0m\u001b[1;33m)\u001b[0m\u001b[1;33m\u001b[0m\u001b[1;33m\u001b[0m\u001b[0m\n\u001b[0m",
      "\u001b[1;31mNameError\u001b[0m: name 'i' is not defined"
     ]
    }
   ],
   "source": [
    "for i in [1, 2, 3]:\n",
    "    print(i)\n",
    "del i\n",
    "print(i)"
   ]
  },
  {
   "cell_type": "markdown",
   "id": "cc0db1b6-9b94-4daf-8ff6-ee19a7cbbbfe",
   "metadata": {},
   "source": [
    "<br>\n",
    "<br>\n",
    "<br>\n",
    "<br>\n",
    "<br>\n",
    "<br>\n",
    "<hr>\n",
    "<br>\n",
    "<br>\n",
    "<br>\n",
    "<br>\n",
    "<br>\n",
    "<br>"
   ]
  }
 ],
 "metadata": {
  "kernelspec": {
   "display_name": "Python 3 (ipykernel)",
   "language": "python",
   "name": "python3"
  },
  "language_info": {
   "codemirror_mode": {
    "name": "ipython",
    "version": 3
   },
   "file_extension": ".py",
   "mimetype": "text/x-python",
   "name": "python",
   "nbconvert_exporter": "python",
   "pygments_lexer": "ipython3",
   "version": "3.9.6"
  }
 },
 "nbformat": 4,
 "nbformat_minor": 5
}
