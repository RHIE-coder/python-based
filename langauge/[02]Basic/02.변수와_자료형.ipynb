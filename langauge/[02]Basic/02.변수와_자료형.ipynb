{
 "cells": [
  {
   "cell_type": "markdown",
   "id": "156919f2-bdc5-4095-823e-cf58e3b8a8fd",
   "metadata": {
    "tags": []
   },
   "source": [
    "# 02. 변수와 자료형"
   ]
  },
  {
   "cell_type": "markdown",
   "id": "fb7b1263-f0c7-45ad-b899-181fed55a6fa",
   "metadata": {
    "tags": []
   },
   "source": [
    "## - 자료형\n",
    "\n",
    " - int\n",
    " - float\n",
    " - string\n",
    " - boolean\n",
    " - list\n",
    " - dict\n",
    " - tuple\n",
    " - None\n",
    " \n",
    "\n",
    "long형은 존재하지 않는다"
   ]
  },
  {
   "cell_type": "markdown",
   "id": "3ab65b62-d59a-40b0-80a4-83704cda9405",
   "metadata": {},
   "source": [
    "### * type() : 자료형을 확인한다"
   ]
  },
  {
   "cell_type": "code",
   "execution_count": 1,
   "id": "27cd554e-6c35-426f-a543-4a071a6efffe",
   "metadata": {},
   "outputs": [
    {
     "data": {
      "text/plain": [
       "str"
      ]
     },
     "execution_count": 1,
     "metadata": {},
     "output_type": "execute_result"
    }
   ],
   "source": [
    "type(\"hello\")"
   ]
  },
  {
   "cell_type": "code",
   "execution_count": 2,
   "id": "ef2be76b-2c8b-4dfa-8c85-96d8b1caae45",
   "metadata": {},
   "outputs": [
    {
     "data": {
      "text/plain": [
       "int"
      ]
     },
     "execution_count": 2,
     "metadata": {},
     "output_type": "execute_result"
    }
   ],
   "source": [
    "type(10)"
   ]
  },
  {
   "cell_type": "markdown",
   "id": "1f869d76-54cd-4d21-80be-d70802769c46",
   "metadata": {},
   "source": [
    "## - 변수"
   ]
  },
  {
   "cell_type": "markdown",
   "id": "d952852a-be71-4c40-a1e1-a7f6863a607d",
   "metadata": {
    "tags": []
   },
   "source": [
    "### * 변수 할당"
   ]
  },
  {
   "cell_type": "code",
   "execution_count": 3,
   "id": "79943469-f31f-47f4-894e-57ac8e80f29a",
   "metadata": {},
   "outputs": [
    {
     "name": "stdout",
     "output_type": "stream",
     "text": [
      "10\n"
     ]
    }
   ],
   "source": [
    "a = 10\n",
    "print(a)"
   ]
  },
  {
   "cell_type": "code",
   "execution_count": 4,
   "id": "e25af2cd-efa0-4b66-aede-cdaebd9eacda",
   "metadata": {},
   "outputs": [
    {
     "name": "stdout",
     "output_type": "stream",
     "text": [
      "10 <class 'int'>\n",
      "hello <class 'str'>\n",
      "3.14 <class 'float'>\n"
     ]
    }
   ],
   "source": [
    "a, b, c = 10, \"hello\" ,3.14\n",
    "print(a, type(a))\n",
    "print(b, type(b))\n",
    "print(c, type(c))"
   ]
  },
  {
   "cell_type": "markdown",
   "id": "01a80b3d-7cf1-4641-bac5-019cf15a67b9",
   "metadata": {},
   "source": [
    "### * input()\n",
    "\n",
    "입력받기. string 타입."
   ]
  },
  {
   "cell_type": "code",
   "execution_count": 5,
   "id": "21c32752-d0d0-47e6-8d7f-078943c6e22e",
   "metadata": {},
   "outputs": [
    {
     "name": "stdin",
     "output_type": "stream",
     "text": [
      " 10\n"
     ]
    },
    {
     "name": "stdout",
     "output_type": "stream",
     "text": [
      "10 <class 'str'>\n"
     ]
    }
   ],
   "source": [
    "a = input()\n",
    "print(a, type(a))"
   ]
  },
  {
   "cell_type": "markdown",
   "id": "6d0102f2-3090-4b83-8c83-e3811013342a",
   "metadata": {},
   "source": [
    "### * 캐스팅 ( 자료형 변환 )"
   ]
  },
  {
   "cell_type": "code",
   "execution_count": 6,
   "id": "a6a60fe1-01b3-49ff-b8cc-b57ad6c9da94",
   "metadata": {},
   "outputs": [
    {
     "name": "stdin",
     "output_type": "stream",
     "text": [
      " 20\n"
     ]
    },
    {
     "name": "stdout",
     "output_type": "stream",
     "text": [
      "<class 'str'>\n",
      "<class 'int'>\n"
     ]
    }
   ],
   "source": [
    "a = input()\n",
    "print(type(a))\n",
    "a = int(a)\n",
    "print(type(a))"
   ]
  },
  {
   "cell_type": "markdown",
   "id": "b2152746-9955-4834-98d2-5b17e9ef04d2",
   "metadata": {},
   "source": [
    "### * del ( 삭제 )"
   ]
  },
  {
   "cell_type": "code",
   "execution_count": 7,
   "id": "4939fbf8-7573-4e5f-8294-c8d98b15d513",
   "metadata": {},
   "outputs": [
    {
     "name": "stdout",
     "output_type": "stream",
     "text": [
      "hello world\n"
     ]
    },
    {
     "ename": "NameError",
     "evalue": "name 'a' is not defined",
     "output_type": "error",
     "traceback": [
      "\u001b[1;31m---------------------------------------------------------------------------\u001b[0m",
      "\u001b[1;31mNameError\u001b[0m                                 Traceback (most recent call last)",
      "\u001b[1;32m~\\AppData\\Local\\Temp/ipykernel_8824/2564417195.py\u001b[0m in \u001b[0;36m<module>\u001b[1;34m\u001b[0m\n\u001b[0;32m      2\u001b[0m \u001b[0mprint\u001b[0m\u001b[1;33m(\u001b[0m\u001b[0ma\u001b[0m\u001b[1;33m)\u001b[0m\u001b[1;33m\u001b[0m\u001b[1;33m\u001b[0m\u001b[0m\n\u001b[0;32m      3\u001b[0m \u001b[1;32mdel\u001b[0m \u001b[0ma\u001b[0m\u001b[1;33m\u001b[0m\u001b[1;33m\u001b[0m\u001b[0m\n\u001b[1;32m----> 4\u001b[1;33m \u001b[0mprint\u001b[0m\u001b[1;33m(\u001b[0m\u001b[0ma\u001b[0m\u001b[1;33m)\u001b[0m\u001b[1;33m\u001b[0m\u001b[1;33m\u001b[0m\u001b[0m\n\u001b[0m",
      "\u001b[1;31mNameError\u001b[0m: name 'a' is not defined"
     ]
    }
   ],
   "source": [
    "a = \"hello world\"\n",
    "print(a)\n",
    "del a\n",
    "print(a)"
   ]
  },
  {
   "cell_type": "markdown",
   "id": "ffaaf23d-dd07-4dc1-abf0-936c756f9672",
   "metadata": {},
   "source": [
    "### * mutable and immutable\n",
    "\n",
    "데이터 타입에 따라 값이 변할 수 있는 mutable 방식과 값이 변할 수 없는 immutalbe 방식으로 나뉜다.\n",
    "\n",
    "다음 코드를 보면\n",
    "\n",
    "```python\n",
    "var = \"hello\"\n",
    "print(var) # output : \"hello\"\n",
    "var = \"hello world\"\n",
    "print(var) # output : \"hello world\"\n",
    "```\n",
    "\n",
    "출력해보면 var의 변수 값이 바뀐 것을 볼 수 있다.\n",
    "\n",
    "그런데 사실은 `\"hello\"`라는 값이 `\"hello world\"`라는 값으로 바뀐것이 아니라\n",
    "\n",
    "기존의 값(`\"hello\"`)은 메모리에 그대로 있고 `\"hello world\"`라는 값이 메모리에 새로 생겨나 그 값을 var이라는 변수가 가리킬 뿐이다.\n",
    "\n",
    "즉, `\"hello\"`라는 값은 여전히 메모리에 살아있고 var이 가리키지 않을 뿐이다.\n",
    "\n",
    "이후 가비지 컬랙터(Garbage Collector, GC)가 아무도 가리키지 않고 메모리에 홀로 덩그러니 남겨져 있는 이 `\"hello\"` 값을 없앤다."
   ]
  },
  {
   "cell_type": "markdown",
   "id": "668c7712-4ceb-4ccf-9935-b1ad0ac36956",
   "metadata": {},
   "source": [
    " - 예를 들어, 문자열과 정수는 immutable하다"
   ]
  },
  {
   "cell_type": "code",
   "execution_count": 8,
   "id": "8e4e3935-e8e0-4b7f-8083-e8acbba0be22",
   "metadata": {},
   "outputs": [
    {
     "name": "stdout",
     "output_type": "stream",
     "text": [
      "2473027136080 2473027136080\n",
      "2473027136080 2473027136400\n"
     ]
    }
   ],
   "source": [
    "num = 10\n",
    "copy_num = num\n",
    "print(id(num), id(copy_num)) # 두 개의 정수 값의 주소값이 같다.\n",
    "copy_num = 20\n",
    "print(id(num), id(copy_num)) # 두 개의 정수 값의 주소값이 다르다."
   ]
  },
  {
   "cell_type": "code",
   "execution_count": 9,
   "id": "566dc360-b71d-48be-9067-63a030f65eca",
   "metadata": {},
   "outputs": [
    {
     "name": "stdout",
     "output_type": "stream",
     "text": [
      "2473099947952 2473099947952\n",
      "2473099947952 2473099944752\n"
     ]
    }
   ],
   "source": [
    "string = \"Hi\"\n",
    "copy_string = string\n",
    "print(id(string), id(copy_string)) # 두 개의 문자열 값의 주소값이 같다.\n",
    "copy_string = \"Hello\"\n",
    "print(id(string), id(copy_string)) # 두 개의 문자열 값의 주소값이 다르다."
   ]
  },
  {
   "cell_type": "markdown",
   "id": "dbe8dd63-c540-4c07-a16f-dc68ad393056",
   "metadata": {},
   "source": [
    " - 예를 들어, 리스트는 mutable하다"
   ]
  },
  {
   "cell_type": "code",
   "execution_count": 10,
   "id": "0e7d2ed5-5d5e-45b8-bfdc-c6cc643679cd",
   "metadata": {},
   "outputs": [
    {
     "name": "stdout",
     "output_type": "stream",
     "text": [
      "[100, 2, 3, 'This is List'] [100, 2, 3, 'This is List']\n",
      "2473100118976 2473100118976\n"
     ]
    }
   ],
   "source": [
    "objs = [1, 2, 3, \"This is List\"]\n",
    "copy_objs = objs\n",
    "objs[0] = 100 # 첫번째 값을 100으로 변경\n",
    "print(objs, copy_objs) # 두 개 변수의 리스트 값이 모두 바뀌었다.\n",
    "print(id(objs), id(copy_objs)) # 두 개의 주소값이 같다."
   ]
  },
  {
   "cell_type": "markdown",
   "id": "ad0fdc9e-ca07-4f50-86b4-b3e6543502b1",
   "metadata": {},
   "source": [
    "<br>\n",
    "<br>\n",
    "<br>\n",
    "<br>\n",
    "<br>\n",
    "<br>\n",
    "<hr>\n",
    "<br>\n",
    "<br>\n",
    "<br>\n",
    "<br>\n",
    "<br>\n",
    "<br>"
   ]
  }
 ],
 "metadata": {
  "kernelspec": {
   "display_name": "Python 3 (ipykernel)",
   "language": "python",
   "name": "python3"
  },
  "language_info": {
   "codemirror_mode": {
    "name": "ipython",
    "version": 3
   },
   "file_extension": ".py",
   "mimetype": "text/x-python",
   "name": "python",
   "nbconvert_exporter": "python",
   "pygments_lexer": "ipython3",
   "version": "3.9.6"
  }
 },
 "nbformat": 4,
 "nbformat_minor": 5
}
