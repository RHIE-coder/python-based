{
 "cells": [
  {
   "cell_type": "markdown",
   "id": "d66ffc8d-b9c8-4fc4-84b9-a50a2902259e",
   "metadata": {},
   "source": [
    "# 07. 자료구조( List, Tuple, Set, Dictionary )"
   ]
  },
  {
   "cell_type": "markdown",
   "id": "7c694664-8c6d-42f5-8ef4-fc78bcc84b40",
   "metadata": {
    "tags": []
   },
   "source": [
    "## - List"
   ]
  },
  {
   "cell_type": "markdown",
   "id": "9bd135b9-9977-4459-807e-64c9d85a43d2",
   "metadata": {},
   "source": [
    "아래와 같은 자료구조를 리스트라고 한다. 여러 값들을 하나의 변수로 묶을 때 편리하다"
   ]
  },
  {
   "cell_type": "code",
   "execution_count": 1,
   "id": "81ce7413-7d4a-445b-9b0c-78c91d52090a",
   "metadata": {
    "tags": []
   },
   "outputs": [],
   "source": [
    "myList = [1, 2, 3, 4, 5, 6, 7]"
   ]
  },
  {
   "cell_type": "markdown",
   "id": "5e754d79-1619-4839-85c2-308d2e7dfe07",
   "metadata": {},
   "source": [
    "만일 3이라는 값을 가져오고 싶을 때는 myList의 3번째 값을 가져오라고 명령하면 된다.\n",
    "\n",
    "컴퓨터는 0부터 시작하고 각 요소를 앞에서부터 순서 매긴다(0, 1 , 2, 3, ...).\n",
    "\n",
    "이 번호를 인덱스(index)라고 한다.\n",
    "\n",
    "myList의 3번째 값을 가져오고 싶다면 index 2의 값을 가져오라고 하면 된다."
   ]
  },
  {
   "cell_type": "code",
   "execution_count": 2,
   "id": "f82a2f1c-c9cc-4785-aa5c-ba73d49e381e",
   "metadata": {},
   "outputs": [
    {
     "data": {
      "text/plain": [
       "3"
      ]
     },
     "execution_count": 2,
     "metadata": {},
     "output_type": "execute_result"
    }
   ],
   "source": [
    "myList[2]"
   ]
  },
  {
   "cell_type": "markdown",
   "id": "4c81697b-f7cb-4565-9e6a-b5f28f83e88e",
   "metadata": {},
   "source": [
    " - len()"
   ]
  },
  {
   "cell_type": "markdown",
   "id": "2a5bced0-c1d0-4558-abf5-87de93d81195",
   "metadata": {},
   "source": [
    "요소의 갯수를 파악할 수 있다(길이를 파악할 수 있다)."
   ]
  },
  {
   "cell_type": "code",
   "execution_count": 3,
   "id": "b8a83c06-9ab4-4f5e-9473-e11fecd5f105",
   "metadata": {},
   "outputs": [
    {
     "data": {
      "text/plain": [
       "7"
      ]
     },
     "execution_count": 3,
     "metadata": {},
     "output_type": "execute_result"
    }
   ],
   "source": [
    "len(myList)"
   ]
  },
  {
   "cell_type": "markdown",
   "id": "be21a796-7015-40a8-9a71-2096cae173a8",
   "metadata": {
    "tags": []
   },
   "source": [
    "### * 슬라이싱(slicing or slice)"
   ]
  },
  {
   "cell_type": "markdown",
   "id": "7b696f8f-230d-4d2b-a4a7-372f9a76ae22",
   "metadata": {},
   "source": [
    "`:`을 통해 슬라이싱하여 특정 범위의 리스트 값들을 얻을 수 있다. (맨 끝 숫자는 포함되지 않는다)"
   ]
  },
  {
   "cell_type": "code",
   "execution_count": 4,
   "id": "98e65f01-279f-44b8-a2eb-e8e708660661",
   "metadata": {},
   "outputs": [
    {
     "data": {
      "text/plain": [
       "[1, 2, 3]"
      ]
     },
     "execution_count": 4,
     "metadata": {},
     "output_type": "execute_result"
    }
   ],
   "source": [
    "myList[:3]"
   ]
  },
  {
   "cell_type": "code",
   "execution_count": 5,
   "id": "b2d9b2c9-9b6a-4eaa-afc9-e7296c4b99c6",
   "metadata": {},
   "outputs": [
    {
     "data": {
      "text/plain": [
       "[2, 3]"
      ]
     },
     "execution_count": 5,
     "metadata": {},
     "output_type": "execute_result"
    }
   ],
   "source": [
    "myList[1:3]"
   ]
  },
  {
   "cell_type": "code",
   "execution_count": 6,
   "id": "7a74b7aa-7b11-406e-8762-801976ad75da",
   "metadata": {},
   "outputs": [
    {
     "data": {
      "text/plain": [
       "[6, 7]"
      ]
     },
     "execution_count": 6,
     "metadata": {},
     "output_type": "execute_result"
    }
   ],
   "source": [
    "myList[5:]"
   ]
  },
  {
   "cell_type": "code",
   "execution_count": 7,
   "id": "930fad19-fda1-458e-9dc1-f4fa934507d6",
   "metadata": {},
   "outputs": [
    {
     "data": {
      "text/plain": [
       "[1, 2, 3, 4, 5, 6, 7]"
      ]
     },
     "execution_count": 7,
     "metadata": {},
     "output_type": "execute_result"
    }
   ],
   "source": [
    "myList[:] # 전체를 가져온다"
   ]
  },
  {
   "cell_type": "code",
   "execution_count": 8,
   "id": "56d6d374-1eda-49b0-a736-08229573da8a",
   "metadata": {},
   "outputs": [
    {
     "data": {
      "text/plain": [
       "[2, 4, 6]"
      ]
     },
     "execution_count": 8,
     "metadata": {},
     "output_type": "execute_result"
    }
   ],
   "source": [
    "myList[1:len(myList):2] # 어떤 step으로 특정 index를 슬라이싱 할 것인지 지정할 수도 있다."
   ]
  },
  {
   "cell_type": "code",
   "execution_count": 9,
   "id": "fb36d884-50c5-479b-8f86-9f68076cfcb3",
   "metadata": {},
   "outputs": [
    {
     "data": {
      "text/plain": [
       "[1, 2]"
      ]
     },
     "execution_count": 9,
     "metadata": {},
     "output_type": "execute_result"
    }
   ],
   "source": [
    "a = [1, 2, 3, 4, 5, 6]\n",
    "del a[2:] # del을 이용해 요소를 삭제할 수도 있다.\n",
    "a"
   ]
  },
  {
   "cell_type": "markdown",
   "id": "f99f4e33-6cad-4ffd-a3a1-e8a379d9c7b5",
   "metadata": {},
   "source": [
    "### * List Methods"
   ]
  },
  {
   "cell_type": "markdown",
   "id": "b0c53762-e38a-4c29-a2ab-d3f567334161",
   "metadata": {},
   "source": [
    "리스트 함수(메서드)는 아래와 같다.\n",
    "\n",
    "임의의 리스트를 생성해 어떻게 동작하는지 한번씩 확인해보자"
   ]
  },
  {
   "cell_type": "markdown",
   "id": "5c7c7b4c-f987-4559-bb4b-c78f7e90c788",
   "metadata": {
    "tags": []
   },
   "source": [
    "#### => list.append(x)\n",
    " - 리스트의 끝에 항목을 더합니다. a[len(a):] = [x] 와 동등합니다."
   ]
  },
  {
   "cell_type": "code",
   "execution_count": 10,
   "id": "49ba94a6-194a-4bc9-a427-9baf055a0924",
   "metadata": {},
   "outputs": [
    {
     "data": {
      "text/plain": [
       "[1, 2, 3, 4, 5, 6, 7]"
      ]
     },
     "execution_count": 10,
     "metadata": {},
     "output_type": "execute_result"
    }
   ],
   "source": [
    "a = [1, 2, 3, 4, 5, 6]\n",
    "a.append(7)\n",
    "a"
   ]
  },
  {
   "cell_type": "markdown",
   "id": "0c16ce98-5c5d-432c-a3f0-c43bb6f4aa36",
   "metadata": {
    "tags": []
   },
   "source": [
    "#### => list.extend(iterable)\n",
    " - 리스트의 끝에 이터러블의 모든 항목을 덧붙여서 확장합니다. a[len(a):] = iterable 와 동등합니다."
   ]
  },
  {
   "cell_type": "code",
   "execution_count": 11,
   "id": "a9ee8651-fbd2-4cd2-8f88-650574c462e5",
   "metadata": {},
   "outputs": [
    {
     "data": {
      "text/plain": [
       "[1, 2, 3, 4, 5, 6, 10, 11, 12, 13, 14]"
      ]
     },
     "execution_count": 11,
     "metadata": {},
     "output_type": "execute_result"
    }
   ],
   "source": [
    "a = [1, 2, 3, 4, 5, 6]\n",
    "a.extend(range(10,15)) # 10부터 14까지의 숫자를 확장해라\n",
    "a"
   ]
  },
  {
   "cell_type": "markdown",
   "id": "b7b1511e-b694-467e-8d8d-4eba5acefe55",
   "metadata": {
    "tags": []
   },
   "source": [
    "#### => list.insert(i, x)\n",
    " - 주어진 위치에 항목을 삽입합니다. 첫 번째 인자는 삽입되는 요소가 갖게 될 인덱스입니다. 그래서 a.insert(0, x) 는 리스트의 처음에 삽입하고, a.insert(len(a), x) 는 a.append(x) 와 동등합니다."
   ]
  },
  {
   "cell_type": "code",
   "execution_count": 12,
   "id": "375b4b85-d197-4e6e-970a-d922362f8fc7",
   "metadata": {},
   "outputs": [
    {
     "data": {
      "text/plain": [
       "[100, 1, 2, 3, 4, 5, 6]"
      ]
     },
     "execution_count": 12,
     "metadata": {},
     "output_type": "execute_result"
    }
   ],
   "source": [
    "a = [1, 2, 3, 4, 5, 6]\n",
    "a.insert(0, 100) # 0 인덱스 자리에 100을 집어넣으라\n",
    "a"
   ]
  },
  {
   "cell_type": "markdown",
   "id": "bc90bedc-1e4e-45ab-8930-ec047307703d",
   "metadata": {
    "tags": []
   },
   "source": [
    "#### => list.remove(x)\n",
    " - 리스트에서 값이 x 와 같은 첫 번째 항목을 삭제합니다. 그런 항목이 없으면 ValueError를 일으킵니다."
   ]
  },
  {
   "cell_type": "code",
   "execution_count": 13,
   "id": "ad8959e4-f8ae-49f6-ab0b-21bf1c75a011",
   "metadata": {},
   "outputs": [
    {
     "data": {
      "text/plain": [
       "[2, 100, 4, 100, 6]"
      ]
     },
     "execution_count": 13,
     "metadata": {},
     "output_type": "execute_result"
    }
   ],
   "source": [
    "a = [100, 2, 100, 4, 100, 6]\n",
    "a.remove(100) # 첫번쨰로 만난 100을 삭제\n",
    "a"
   ]
  },
  {
   "cell_type": "code",
   "execution_count": 14,
   "id": "0400dc9a-81e4-4d86-ad39-428a5777cb64",
   "metadata": {},
   "outputs": [
    {
     "data": {
      "text/plain": [
       "[2, 4, 100, 6]"
      ]
     },
     "execution_count": 14,
     "metadata": {},
     "output_type": "execute_result"
    }
   ],
   "source": [
    "a.remove(100) # 첫번쨰로 만난 100을 삭제\n",
    "a"
   ]
  },
  {
   "cell_type": "markdown",
   "id": "ffc5c924-9a32-434c-8b17-e3c9751c83ab",
   "metadata": {
    "tags": []
   },
   "source": [
    "#### => list.pop([i])\n",
    " - 리스트에서 주어진 위치에 있는 항목을 삭제하고, 그 항목을 돌려줍니다. 인덱스를 지정하지 않으면, a.pop() 은 리스트의 마지막 항목을 삭제하고 돌려줍니다. (메서드 시그니처에서 i 를 둘러싼 대괄호는 매개변수가 선택적임을 나타냅니다. 그 위치에 대괄호를 입력해야 한다는 뜻이 아닙니다. 이 표기법은 파이썬 라이브러리 레퍼런스에서 지주 등장합니다.)"
   ]
  },
  {
   "cell_type": "code",
   "execution_count": 15,
   "id": "486676d6-f5dd-4555-93b5-507e7d7b951a",
   "metadata": {},
   "outputs": [
    {
     "data": {
      "text/plain": [
       "[1, 2, 3, 4, 5]"
      ]
     },
     "execution_count": 15,
     "metadata": {},
     "output_type": "execute_result"
    }
   ],
   "source": [
    "a = [1, 2, 3, 4, 5, 6]\n",
    "a.pop()\n",
    "a"
   ]
  },
  {
   "cell_type": "markdown",
   "id": "e468dca8-c764-4ddf-8cdf-4393a994a8d1",
   "metadata": {
    "tags": []
   },
   "source": [
    "#### => list.clear()\n",
    " - 리스트의 모든 항목을 삭제합니다. del a[:] 와 동등합니다."
   ]
  },
  {
   "cell_type": "code",
   "execution_count": 16,
   "id": "10dc8b00-3a78-4596-9bd8-ae4a714e76fc",
   "metadata": {},
   "outputs": [
    {
     "data": {
      "text/plain": [
       "[]"
      ]
     },
     "execution_count": 16,
     "metadata": {},
     "output_type": "execute_result"
    }
   ],
   "source": [
    "a = [1, 2, 3, 4, 5, 6]\n",
    "a.clear()\n",
    "a"
   ]
  },
  {
   "cell_type": "markdown",
   "id": "8ce5b62e-c2bb-4ee5-b13e-035a187d2619",
   "metadata": {
    "tags": []
   },
   "source": [
    "#### => list.index(x[, start[, end]])\n",
    " - 리스트에 있는 항목 중 값이 x 와 같은 첫 번째 것의 0부터 시작하는 인덱스를 돌려줍니다. 그런 항목이 없으면 ValueError 를 일으킵니다.\n",
    " - 선택적인 인자 start 와 end 는 슬라이스 표기법처럼 해석되고, 검색을 리스트의 특별한 서브 시퀀스로 제한하는 데 사용됩니다. 돌려주는 인덱스는 start 인자가 아니라 전체 시퀀스의 시작을 기준으로 합니다."
   ]
  },
  {
   "cell_type": "code",
   "execution_count": 17,
   "id": "796d5cad-42e2-4303-ad9d-292584220c58",
   "metadata": {},
   "outputs": [
    {
     "name": "stdout",
     "output_type": "stream",
     "text": [
      "2\n"
     ]
    }
   ],
   "source": [
    "a = [100, 2, 100, 4, 100, 6]\n",
    "where = a.index(100, 1)\n",
    "print(where)"
   ]
  },
  {
   "cell_type": "code",
   "execution_count": 18,
   "id": "b15f9af4-521c-4e6f-9348-1ec65eb4ca28",
   "metadata": {},
   "outputs": [
    {
     "data": {
      "text/plain": [
       "100"
      ]
     },
     "execution_count": 18,
     "metadata": {},
     "output_type": "execute_result"
    }
   ],
   "source": [
    "a[where]"
   ]
  },
  {
   "cell_type": "code",
   "execution_count": 19,
   "id": "12ef0307-ce1e-4bc6-8a2d-e212a9d0f5f7",
   "metadata": {},
   "outputs": [
    {
     "data": {
      "text/plain": [
       "[100, 2, 4, 100, 6]"
      ]
     },
     "execution_count": 19,
     "metadata": {},
     "output_type": "execute_result"
    }
   ],
   "source": [
    "del a[where]\n",
    "a"
   ]
  },
  {
   "cell_type": "markdown",
   "id": "05565cb6-fb40-4924-9b4a-de6a6e06da4b",
   "metadata": {
    "tags": []
   },
   "source": [
    "#### => list.count(x)\n",
    " - 리스트에서 x 가 등장하는 횟수를 돌려줍니다."
   ]
  },
  {
   "cell_type": "code",
   "execution_count": 20,
   "id": "40f3f65a-d06f-4785-a961-1ab837307d0c",
   "metadata": {},
   "outputs": [
    {
     "data": {
      "text/plain": [
       "3"
      ]
     },
     "execution_count": 20,
     "metadata": {},
     "output_type": "execute_result"
    }
   ],
   "source": [
    "a = [100, 2, 100, 4, 100, 6]\n",
    "a.count(100)"
   ]
  },
  {
   "cell_type": "markdown",
   "id": "7cd985d7-1ba9-41d6-8888-296b0b5f8809",
   "metadata": {
    "tags": []
   },
   "source": [
    "#### => list.sort(*, key=None, reverse=False)\n",
    " - 리스트의 항목들을 제자리에서 정렬합니다 (인자들은 정렬 커스터마이제이션에 사용될 수 있습니다. 설명은 sorted() 를 보세요)."
   ]
  },
  {
   "cell_type": "code",
   "execution_count": 21,
   "id": "2e07b1b8-1fb3-4bef-b85c-40515f67b60d",
   "metadata": {},
   "outputs": [
    {
     "data": {
      "text/plain": [
       "[2, 8, 26, 33, 84, 90]"
      ]
     },
     "execution_count": 21,
     "metadata": {},
     "output_type": "execute_result"
    }
   ],
   "source": [
    "a = [33,26,8,90,84,2]\n",
    "a.sort()\n",
    "a"
   ]
  },
  {
   "cell_type": "code",
   "execution_count": 22,
   "id": "33827058-4578-4399-baac-54b6470652fb",
   "metadata": {},
   "outputs": [
    {
     "data": {
      "text/plain": [
       "[90, 84, 33, 26, 8, 2]"
      ]
     },
     "execution_count": 22,
     "metadata": {},
     "output_type": "execute_result"
    }
   ],
   "source": [
    "a = [33,26,8,90,84,2]\n",
    "a.sort(reverse=True)\n",
    "a"
   ]
  },
  {
   "cell_type": "markdown",
   "id": "d8183f7f-31ff-40c5-be13-db61e2c05c45",
   "metadata": {},
   "source": [
    " - sorted와 reversed를 이용한 정렬법"
   ]
  },
  {
   "cell_type": "code",
   "execution_count": 23,
   "id": "14caaf1d-8fcf-4e79-a311-d3436faf42e3",
   "metadata": {},
   "outputs": [
    {
     "name": "stdout",
     "output_type": "stream",
     "text": [
      "apple\n",
      "apple\n",
      "banana\n",
      "orange\n",
      "orange\n",
      "pear\n"
     ]
    }
   ],
   "source": [
    "basket = ['apple', 'orange', 'apple', 'pear', 'orange', 'banana']\n",
    "\n",
    "for i in sorted(basket):\n",
    "    print(i)"
   ]
  },
  {
   "cell_type": "code",
   "execution_count": 24,
   "id": "de2b223a-98b5-490c-a3f1-49cea0e7e9ca",
   "metadata": {},
   "outputs": [
    {
     "name": "stdout",
     "output_type": "stream",
     "text": [
      "9\n",
      "7\n",
      "5\n",
      "3\n",
      "1\n"
     ]
    }
   ],
   "source": [
    "for i in reversed(range(1, 10, 2)):\n",
    "    print(i)"
   ]
  },
  {
   "cell_type": "markdown",
   "id": "4623e0de-0e43-4d0c-9686-f60c9090af7a",
   "metadata": {},
   "source": [
    "정렬에 대한 더 다양한 기법은 아래 공식문서를 참고해주세요.\n",
    "\n",
    "[HOWTO 정렬](https://docs.python.org/ko/3/howto/sorting.html)"
   ]
  },
  {
   "cell_type": "markdown",
   "id": "ba88f679-9130-4d5a-bd4d-02238ad1883d",
   "metadata": {
    "tags": []
   },
   "source": [
    "#### => list.reverse()\n",
    " - 리스트의 요소들을 제자리에서 뒤집습니다.\n",
    " - 정렬이 아닙니다."
   ]
  },
  {
   "cell_type": "code",
   "execution_count": 25,
   "id": "af733d69-7953-4618-9259-bb8b47798728",
   "metadata": {},
   "outputs": [
    {
     "data": {
      "text/plain": [
       "[2, 84, 90, 8, 26, 33]"
      ]
     },
     "execution_count": 25,
     "metadata": {},
     "output_type": "execute_result"
    }
   ],
   "source": [
    "a = [33,26,8,90,84,2]\n",
    "a.reverse()\n",
    "a"
   ]
  },
  {
   "cell_type": "markdown",
   "id": "bcc46055-fefc-4b00-9b6c-7aa74e6a357d",
   "metadata": {
    "tags": []
   },
   "source": [
    "#### => list.copy()\n",
    " - 리스트의 얕은 사본을 돌려줍니다. a[:] 와 동등합니다."
   ]
  },
  {
   "cell_type": "markdown",
   "id": "e0392b94-eef9-4d3f-b9db-2258179cb155",
   "metadata": {
    "tags": []
   },
   "source": [
    "`Shallow Copy`, `Deep Copy`\n",
    "\n",
    "어떤 객체가 담은 값을 복사할 때 얇은 복사 방식과 깊은 복사 방식이 있다.\n",
    "\n",
    "얇은 복사 방식은 객채를 새로 할당하지 않고 해당 주소값을 가져와 주소값이 공유된다.\n",
    "\n",
    "깊은 복사 방식은 새로운 객체를 만들고 값들만 복사하여 할당하여 다른 주소값을 가지는 동시에 원본 데이터에 영향을 주지 않는다."
   ]
  },
  {
   "cell_type": "code",
   "execution_count": 26,
   "id": "eb4d0a02-6155-4116-a821-371db8fc407f",
   "metadata": {},
   "outputs": [
    {
     "name": "stdout",
     "output_type": "stream",
     "text": [
      "[100, 2, 3, 4, 5]\n",
      "[100, 2, 3, 4, 5]\n"
     ]
    }
   ],
   "source": [
    "a = [1, 2, 3, 4, 5]\n",
    "b = a # 주소값 공유\n",
    "b[0] = 100 # a[0]에도 영향이 간다\n",
    "print(a) # 원본에 영향을 주었다.\n",
    "print(b)"
   ]
  },
  {
   "cell_type": "code",
   "execution_count": 27,
   "id": "4a35b0a1-a28b-43f2-8e11-28d1f1c1eac3",
   "metadata": {},
   "outputs": [
    {
     "name": "stdout",
     "output_type": "stream",
     "text": [
      "[1, 2, 3, 4, 5]\n",
      "[100, 2, 3, 4, 5]\n"
     ]
    }
   ],
   "source": [
    "a = [1, 2, 3, 4, 5]\n",
    "b = a.copy() # copy()를 사용하면 다른 주소값에 할당하게 된다.\n",
    "b[0] = 100\n",
    "print(a)\n",
    "print(b)"
   ]
  },
  {
   "cell_type": "code",
   "execution_count": 28,
   "id": "79b3e1d7-b079-4878-aa28-e4ff1d06e0fc",
   "metadata": {},
   "outputs": [
    {
     "name": "stdout",
     "output_type": "stream",
     "text": [
      "[[100, 2], [3, 4]]\n",
      "[[100, 2], [3, 4]]\n"
     ]
    }
   ],
   "source": [
    "a = [[1, 2], [3, 4]]\n",
    "b = a.copy() # 그러나 copy()는 내부에 있는 객체 [1, 2] 그리고 [3, 4]의 주소값까지 해결하지는 못한다\n",
    "b[0][0] = 100\n",
    "print(a) # 즉, copy()는 일차원적인 배열에서만 깊은 복사 방식이 성립된다.\n",
    "print(b)"
   ]
  },
  {
   "cell_type": "code",
   "execution_count": 29,
   "id": "e4807e8f-24cd-41b1-a683-8d8863eaefea",
   "metadata": {},
   "outputs": [
    {
     "name": "stdout",
     "output_type": "stream",
     "text": [
      "[[1, 2], [3, 4]]\n",
      "[[100, 2], [3, 4]]\n"
     ]
    }
   ],
   "source": [
    "import copy # 다차원 배열에서 깊은 복사 방식을 구현하고 싶다면 copy 모듈을 사용하면 된다.\n",
    "a = [[1, 2], [3, 4]]\n",
    "b = copy.deepcopy(a)\n",
    "b[0][0] = 100\n",
    "print(a)\n",
    "print(b)"
   ]
  },
  {
   "cell_type": "markdown",
   "id": "591ced6f-6f35-444e-a0ce-1efa40082e1b",
   "metadata": {},
   "source": [
    "### * Stack"
   ]
  },
  {
   "cell_type": "markdown",
   "id": "4c3ee294-bad3-4de9-983c-b4ec93d46b19",
   "metadata": {},
   "source": [
    "선입선출 방식인 stack 자료구조 알고리즘은 아래와 같이 구현하면 된다."
   ]
  },
  {
   "cell_type": "code",
   "execution_count": 30,
   "id": "7cf52e11-784c-4b8e-8ad4-ce6928fc5690",
   "metadata": {},
   "outputs": [
    {
     "data": {
      "text/plain": [
       "[3, 4, 5, 6, 7]"
      ]
     },
     "execution_count": 30,
     "metadata": {},
     "output_type": "execute_result"
    }
   ],
   "source": [
    "stack = [3, 4, 5]\n",
    "stack.append(6)\n",
    "stack.append(7)\n",
    "stack"
   ]
  },
  {
   "cell_type": "code",
   "execution_count": 31,
   "id": "6153557f-9b45-4a20-b61b-b47ceb695f6b",
   "metadata": {},
   "outputs": [
    {
     "name": "stdout",
     "output_type": "stream",
     "text": [
      "[3, 4, 5, 6] removed :  7\n"
     ]
    }
   ],
   "source": [
    "removed = stack.pop()\n",
    "print(stack, \"removed : \", removed)"
   ]
  },
  {
   "cell_type": "markdown",
   "id": "c3c5feeb-1d59-4cde-8c82-5dc6cde46ad3",
   "metadata": {},
   "source": [
    "### * Queue"
   ]
  },
  {
   "cell_type": "markdown",
   "id": "53719be1-9305-4099-880f-248eb83c0537",
   "metadata": {},
   "source": [
    "queue는 선입후출의 자료구조 알고리즘 방식이다."
   ]
  },
  {
   "cell_type": "markdown",
   "id": "32b42370-6803-42ed-818b-c0b161b0d0a6",
   "metadata": {},
   "source": [
    "List 자료구조 특성상  큐(Queue)로 구현하면 성능이 떨어지므로 `collections.deque`를 사용한다."
   ]
  },
  {
   "cell_type": "markdown",
   "id": "7ff49786-288a-4a62-b621-5bd6a515f980",
   "metadata": {},
   "source": [
    "성능이 떨어지는 이유는 앞에 할당된 값 요소를 없애게 되면 뒤에 있는 요소들이 없어진 요소만큼 끌어오기 때문에 그만큼 속도가 느려진다."
   ]
  },
  {
   "cell_type": "code",
   "execution_count": 32,
   "id": "b3e32b75-c6b6-4a18-a80c-08820e84c0c0",
   "metadata": {},
   "outputs": [
    {
     "data": {
      "text/plain": [
       "deque([1, 2, 3, 4, 5])"
      ]
     },
     "execution_count": 32,
     "metadata": {},
     "output_type": "execute_result"
    }
   ],
   "source": [
    "from collections import deque\n",
    "queue = deque([1, 2, 3])\n",
    "queue.append(4)\n",
    "queue.append(5)\n",
    "queue"
   ]
  },
  {
   "cell_type": "code",
   "execution_count": 33,
   "id": "d9547160-6d11-4198-b080-13a539188dd9",
   "metadata": {},
   "outputs": [
    {
     "data": {
      "text/plain": [
       "deque([3, 4, 5])"
      ]
     },
     "execution_count": 33,
     "metadata": {},
     "output_type": "execute_result"
    }
   ],
   "source": [
    "queue.popleft()\n",
    "queue.popleft()\n",
    "queue"
   ]
  },
  {
   "cell_type": "markdown",
   "id": "801ddfb1-232b-49bc-a90d-dafc0330dde3",
   "metadata": {
    "tags": []
   },
   "source": [
    "### * Comprehensions\n",
    "\n",
    "컴프리핸션 방식은 자료구조를 생성할 때 유용한 방식이다."
   ]
  },
  {
   "cell_type": "markdown",
   "id": "8a134c84-5028-450f-85af-79231173800a",
   "metadata": {},
   "source": [
    " - for문을 이용한 리스트 생성 방식"
   ]
  },
  {
   "cell_type": "code",
   "execution_count": 34,
   "id": "5bbde9a8-66d1-4bfd-b072-cf5c8566913a",
   "metadata": {},
   "outputs": [
    {
     "data": {
      "text/plain": [
       "[0, 1, 4, 9, 16, 25, 36, 49, 64, 81]"
      ]
     },
     "execution_count": 34,
     "metadata": {},
     "output_type": "execute_result"
    }
   ],
   "source": [
    "squares = []\n",
    "for x in range(10):\n",
    "    squares.append(x**2)\n",
    "    \n",
    "squares"
   ]
  },
  {
   "cell_type": "markdown",
   "id": "0513ff9d-1a1a-40f9-adb0-7b351cdd22fb",
   "metadata": {},
   "source": [
    " - list() 함수와 map() 함수를 이용한 리스트 생성 방식"
   ]
  },
  {
   "cell_type": "code",
   "execution_count": 35,
   "id": "992d69d4-f65a-4e12-b4a3-a4e8b3d0f618",
   "metadata": {},
   "outputs": [
    {
     "data": {
      "text/plain": [
       "[0, 1, 4, 9, 16, 25, 36, 49, 64, 81]"
      ]
     },
     "execution_count": 35,
     "metadata": {},
     "output_type": "execute_result"
    }
   ],
   "source": [
    "list(map(lambda x: x**2, range(10)))"
   ]
  },
  {
   "cell_type": "markdown",
   "id": "f7851419-91fd-4a89-9b1d-e35d8af09cbc",
   "metadata": {},
   "source": [
    " - Comprehension 방식을 이용한 리스트 생성 방식"
   ]
  },
  {
   "cell_type": "code",
   "execution_count": 36,
   "id": "7c76d143-20c5-4db3-92b6-628bbd046ca7",
   "metadata": {},
   "outputs": [
    {
     "data": {
      "text/plain": [
       "[0, 1, 4, 9, 16, 25, 36, 49, 64, 81]"
      ]
     },
     "execution_count": 36,
     "metadata": {},
     "output_type": "execute_result"
    }
   ],
   "source": [
    "[x**2 for x in range(10)]"
   ]
  },
  {
   "cell_type": "markdown",
   "id": "5555d5ae-f328-4b97-b0f8-26717bc9e986",
   "metadata": {},
   "source": [
    "이중 for문과 조건문까지 있는 리스트 생성에 대한 컴프리핸션 방식은 다음과 같이 나타내면 된다."
   ]
  },
  {
   "cell_type": "code",
   "execution_count": 37,
   "id": "db80fa33-2652-4ba8-acc4-b4ae7db13081",
   "metadata": {},
   "outputs": [
    {
     "data": {
      "text/plain": [
       "[(1, 3), (1, 4), (2, 3), (2, 1), (2, 4), (3, 1), (3, 4)]"
      ]
     },
     "execution_count": 37,
     "metadata": {},
     "output_type": "execute_result"
    }
   ],
   "source": [
    "combs = []\n",
    "for x in [1, 2, 3]:\n",
    "    for y in [3, 1, 4]:\n",
    "        if x != y:\n",
    "            combs.append((x, y))\n",
    "            \n",
    "combs"
   ]
  },
  {
   "cell_type": "code",
   "execution_count": 38,
   "id": "be8847cb-e277-4b2f-9274-9984c97673b3",
   "metadata": {},
   "outputs": [
    {
     "data": {
      "text/plain": [
       "[(1, 3), (1, 4), (2, 3), (2, 1), (2, 4), (3, 1), (3, 4)]"
      ]
     },
     "execution_count": 38,
     "metadata": {},
     "output_type": "execute_result"
    }
   ],
   "source": [
    "[(x, y) for x in [1, 2, 3] for y in [3, 1, 4] if x != y]"
   ]
  },
  {
   "cell_type": "markdown",
   "id": "8dbeb6d0-e9b5-407c-b557-21940f6db108",
   "metadata": {},
   "source": [
    "사용 예시를 더보자."
   ]
  },
  {
   "cell_type": "markdown",
   "id": "aa6a53bb-7dd8-42e9-aeea-60339fd38576",
   "metadata": {},
   "source": [
    "`example 1`"
   ]
  },
  {
   "cell_type": "code",
   "execution_count": 39,
   "id": "c410ed1f-5e7c-4765-b357-d5243775e9e2",
   "metadata": {},
   "outputs": [],
   "source": [
    "vec = [-4, -2, 0, 2, 4]"
   ]
  },
  {
   "cell_type": "code",
   "execution_count": 40,
   "id": "ee584591-262f-431b-a6e3-59cee392fcf1",
   "metadata": {},
   "outputs": [
    {
     "data": {
      "text/plain": [
       "[-8, -4, 0, 4, 8]"
      ]
     },
     "execution_count": 40,
     "metadata": {},
     "output_type": "execute_result"
    }
   ],
   "source": [
    "[x*2 for x in vec]"
   ]
  },
  {
   "cell_type": "code",
   "execution_count": 41,
   "id": "554a07f0-2608-4188-849c-af0a747922bb",
   "metadata": {},
   "outputs": [
    {
     "data": {
      "text/plain": [
       "[0, 2, 4]"
      ]
     },
     "execution_count": 41,
     "metadata": {},
     "output_type": "execute_result"
    }
   ],
   "source": [
    "[x for x in vec if x >= 0]"
   ]
  },
  {
   "cell_type": "markdown",
   "id": "daeadb0c-0492-4d70-a8e3-91484542dd24",
   "metadata": {},
   "source": [
    "`example 2`"
   ]
  },
  {
   "cell_type": "code",
   "execution_count": 42,
   "id": "8e6756cd-2f43-4eb8-90a1-f74ce077fc6b",
   "metadata": {},
   "outputs": [],
   "source": [
    "vec = [[1, 2, 3], [4, 5, 6], [7, 8, 9]]"
   ]
  },
  {
   "cell_type": "code",
   "execution_count": 43,
   "id": "3b3f362e-6b75-4091-88d5-862b06f424c4",
   "metadata": {},
   "outputs": [
    {
     "data": {
      "text/plain": [
       "[1, 2, 3, 4, 5, 6, 7, 8, 9]"
      ]
     },
     "execution_count": 43,
     "metadata": {},
     "output_type": "execute_result"
    }
   ],
   "source": [
    "result=[]\n",
    "for elem in vec:\n",
    "    for num in elem:\n",
    "        result.append(num)\n",
    "\n",
    "result"
   ]
  },
  {
   "cell_type": "code",
   "execution_count": 44,
   "id": "0cc5806b-7b9b-4931-b02e-435e01d71eed",
   "metadata": {},
   "outputs": [
    {
     "data": {
      "text/plain": [
       "[1, 2, 3, 4, 5, 6, 7, 8, 9]"
      ]
     },
     "execution_count": 44,
     "metadata": {},
     "output_type": "execute_result"
    }
   ],
   "source": [
    "# Flatting list using list comprehensions\n",
    "[num for elem in vec for num in elem]"
   ]
  },
  {
   "cell_type": "markdown",
   "id": "b14610c0-61dc-49e2-bd76-3c50b7974936",
   "metadata": {},
   "source": [
    "`example 3`\n",
    "\n",
    "`zip()` : 두 목록을 한 번에 반복"
   ]
  },
  {
   "cell_type": "code",
   "execution_count": 45,
   "id": "02ff52f7-d3b5-4c0d-bd5e-048a792220e5",
   "metadata": {},
   "outputs": [],
   "source": [
    "matrix = [\n",
    "    [1, 2, 3, 4],\n",
    "    [5, 6, 7, 8],\n",
    "    [9, 10, 11, 12]\n",
    "]"
   ]
  },
  {
   "cell_type": "code",
   "execution_count": 46,
   "id": "4721bf31-9ece-4d3e-bb4a-f5db5549f7ec",
   "metadata": {},
   "outputs": [
    {
     "data": {
      "text/plain": [
       "[[1, 5, 9], [2, 6, 10], [3, 7, 11], [4, 8, 12]]"
      ]
     },
     "execution_count": 46,
     "metadata": {},
     "output_type": "execute_result"
    }
   ],
   "source": [
    "transposed = []\n",
    "for i in range(4):\n",
    "    transposed.append([row[i] for row in matrix])\n",
    "    \n",
    "transposed"
   ]
  },
  {
   "cell_type": "code",
   "execution_count": 47,
   "id": "87bafd93-46e9-4198-8b62-b670597e1002",
   "metadata": {},
   "outputs": [
    {
     "data": {
      "text/plain": [
       "[[1, 5, 9], [2, 6, 10], [3, 7, 11], [4, 8, 12]]"
      ]
     },
     "execution_count": 47,
     "metadata": {},
     "output_type": "execute_result"
    }
   ],
   "source": [
    "[[row[i] for row in matrix] for i in range(4)]"
   ]
  },
  {
   "cell_type": "code",
   "execution_count": 48,
   "id": "2e7ab782-6394-4265-999a-de7b4eba04e2",
   "metadata": {},
   "outputs": [
    {
     "data": {
      "text/plain": [
       "[(1, 5, 9), (2, 6, 10), (3, 7, 11), (4, 8, 12)]"
      ]
     },
     "execution_count": 48,
     "metadata": {},
     "output_type": "execute_result"
    }
   ],
   "source": [
    "list(zip(*matrix))"
   ]
  },
  {
   "cell_type": "markdown",
   "id": "8ca2d0d4-883e-4fdd-b733-e98a964e5244",
   "metadata": {},
   "source": [
    "### * 성능 향상을 위한 List 사용"
   ]
  },
  {
   "cell_type": "markdown",
   "id": "c9c82cec-7438-4d26-ba47-f99af2d5d563",
   "metadata": {},
   "source": [
    " - 기존 for문만을 사용할 때 다음과 같은 퍼포먼스가 나오고 임시변수 i도 없어지지 않았다"
   ]
  },
  {
   "cell_type": "code",
   "execution_count": 49,
   "id": "4ec97779-7e45-4e5e-8c27-ecfd7d659d42",
   "metadata": {},
   "outputs": [
    {
     "name": "stdout",
     "output_type": "stream",
     "text": [
      "실행하는데 걸린 시간 : 0.01900005340576172\n",
      "임시변수 i 사용여부: 99999\n"
     ]
    }
   ],
   "source": [
    "import time\n",
    "datas = []\n",
    "\n",
    "start = time.time()\n",
    "\n",
    "for i in range(100000):\n",
    "    datas.append(i * 2)\n",
    "\n",
    "end = time.time()\n",
    "\n",
    "print(\"실행하는데 걸린 시간 :\", end-start)\n",
    "print(\"임시변수 i 사용여부:\",i)\n",
    "del i"
   ]
  },
  {
   "cell_type": "markdown",
   "id": "557cf3f0-fdd8-485f-b1f8-13cd40783615",
   "metadata": {},
   "source": [
    " - 그러나 Comprehension 방식을 사용하면 퍼포먼스를 2배 정도 끌어 올릴 수 있다"
   ]
  },
  {
   "cell_type": "code",
   "execution_count": 50,
   "id": "ef0bb1a2-85ab-46de-b7b6-fd347464c43b",
   "metadata": {},
   "outputs": [
    {
     "name": "stdout",
     "output_type": "stream",
     "text": [
      "실행하는데 걸린 시간 : 0.015509366989135742\n"
     ]
    },
    {
     "ename": "NameError",
     "evalue": "name 'i' is not defined",
     "output_type": "error",
     "traceback": [
      "\u001b[1;31m---------------------------------------------------------------------------\u001b[0m",
      "\u001b[1;31mNameError\u001b[0m                                 Traceback (most recent call last)",
      "\u001b[1;32m~\\AppData\\Local\\Temp/ipykernel_22608/250716514.py\u001b[0m in \u001b[0;36m<module>\u001b[1;34m\u001b[0m\n\u001b[0;32m      8\u001b[0m \u001b[1;33m\u001b[0m\u001b[0m\n\u001b[0;32m      9\u001b[0m \u001b[0mprint\u001b[0m\u001b[1;33m(\u001b[0m\u001b[1;34m\"실행하는데 걸린 시간 :\"\u001b[0m\u001b[1;33m,\u001b[0m \u001b[0mend\u001b[0m\u001b[1;33m-\u001b[0m\u001b[0mstart\u001b[0m\u001b[1;33m)\u001b[0m\u001b[1;33m\u001b[0m\u001b[1;33m\u001b[0m\u001b[0m\n\u001b[1;32m---> 10\u001b[1;33m \u001b[0mprint\u001b[0m\u001b[1;33m(\u001b[0m\u001b[1;34m\"임시변수 i 사용여부:\"\u001b[0m\u001b[1;33m,\u001b[0m \u001b[0mi\u001b[0m\u001b[1;33m)\u001b[0m \u001b[1;31m# 임시 변수 i는 메모리에 없으므로 에러 발생\u001b[0m\u001b[1;33m\u001b[0m\u001b[1;33m\u001b[0m\u001b[0m\n\u001b[0m",
      "\u001b[1;31mNameError\u001b[0m: name 'i' is not defined"
     ]
    }
   ],
   "source": [
    "import time\n",
    "\n",
    "start = time.time()\n",
    "\n",
    "datas = [i * 2 for i in range(100000)]\n",
    "\n",
    "end = time.time()\n",
    "\n",
    "print(\"실행하는데 걸린 시간 :\", end-start)\n",
    "print(\"임시변수 i 사용여부:\", i) # 임시 변수 i는 메모리에 없으므로 에러 발생"
   ]
  },
  {
   "cell_type": "markdown",
   "id": "f2a86a9e-1494-4b21-833f-a274478ff69f",
   "metadata": {},
   "source": [
    " - map을 사용하여 list를 만드는 방식은 큰 퍼포먼스 향상을 기대하기 어렵다. "
   ]
  },
  {
   "cell_type": "code",
   "execution_count": 51,
   "id": "160ccd01-5542-498c-b42e-4ad884117a81",
   "metadata": {},
   "outputs": [
    {
     "name": "stdout",
     "output_type": "stream",
     "text": [
      "실행하는데 걸린 시간 : 0.023120403289794922\n"
     ]
    },
    {
     "ename": "NameError",
     "evalue": "name 'i' is not defined",
     "output_type": "error",
     "traceback": [
      "\u001b[1;31m---------------------------------------------------------------------------\u001b[0m",
      "\u001b[1;31mNameError\u001b[0m                                 Traceback (most recent call last)",
      "\u001b[1;32m~\\AppData\\Local\\Temp/ipykernel_22608/2551823912.py\u001b[0m in \u001b[0;36m<module>\u001b[1;34m\u001b[0m\n\u001b[0;32m      8\u001b[0m \u001b[1;33m\u001b[0m\u001b[0m\n\u001b[0;32m      9\u001b[0m \u001b[0mprint\u001b[0m\u001b[1;33m(\u001b[0m\u001b[1;34m\"실행하는데 걸린 시간 :\"\u001b[0m\u001b[1;33m,\u001b[0m \u001b[0mend\u001b[0m\u001b[1;33m-\u001b[0m\u001b[0mstart\u001b[0m\u001b[1;33m)\u001b[0m\u001b[1;33m\u001b[0m\u001b[1;33m\u001b[0m\u001b[0m\n\u001b[1;32m---> 10\u001b[1;33m \u001b[0mprint\u001b[0m\u001b[1;33m(\u001b[0m\u001b[1;34m\"임시변수 i 사용여부:\"\u001b[0m\u001b[1;33m,\u001b[0m \u001b[0mi\u001b[0m\u001b[1;33m)\u001b[0m\u001b[1;33m\u001b[0m\u001b[1;33m\u001b[0m\u001b[0m\n\u001b[0m",
      "\u001b[1;31mNameError\u001b[0m: name 'i' is not defined"
     ]
    }
   ],
   "source": [
    "import time\n",
    "\n",
    "start = time.time()\n",
    "\n",
    "datas = list(map(lambda i : i * 2, list(range(100000))))\n",
    "\n",
    "end = time.time()\n",
    "\n",
    "print(\"실행하는데 걸린 시간 :\", end-start)\n",
    "print(\"임시변수 i 사용여부:\", i)"
   ]
  },
  {
   "cell_type": "markdown",
   "id": "55704bef-1d59-4a16-88dd-cf45315618c8",
   "metadata": {},
   "source": [
    " - 그러나 map함수 자체는 내부적으로 메모리와 연산을 효율적으로 적용하는 함수다."
   ]
  },
  {
   "cell_type": "code",
   "execution_count": 52,
   "id": "4ca94776-ed63-439f-9ab5-840ccdb87b4e",
   "metadata": {},
   "outputs": [
    {
     "name": "stdout",
     "output_type": "stream",
     "text": [
      "실행하는데 걸린 시간 : 0.003988742828369141\n"
     ]
    },
    {
     "ename": "NameError",
     "evalue": "name 'i' is not defined",
     "output_type": "error",
     "traceback": [
      "\u001b[1;31m---------------------------------------------------------------------------\u001b[0m",
      "\u001b[1;31mNameError\u001b[0m                                 Traceback (most recent call last)",
      "\u001b[1;32m~\\AppData\\Local\\Temp/ipykernel_22608/1219781763.py\u001b[0m in \u001b[0;36m<module>\u001b[1;34m\u001b[0m\n\u001b[0;32m      8\u001b[0m \u001b[1;33m\u001b[0m\u001b[0m\n\u001b[0;32m      9\u001b[0m \u001b[0mprint\u001b[0m\u001b[1;33m(\u001b[0m\u001b[1;34m\"실행하는데 걸린 시간 :\"\u001b[0m\u001b[1;33m,\u001b[0m \u001b[0mend\u001b[0m\u001b[1;33m-\u001b[0m\u001b[0mstart\u001b[0m\u001b[1;33m)\u001b[0m\u001b[1;33m\u001b[0m\u001b[1;33m\u001b[0m\u001b[0m\n\u001b[1;32m---> 10\u001b[1;33m \u001b[0mprint\u001b[0m\u001b[1;33m(\u001b[0m\u001b[1;34m\"임시변수 i 사용여부:\"\u001b[0m\u001b[1;33m,\u001b[0m \u001b[0mi\u001b[0m\u001b[1;33m)\u001b[0m\u001b[1;33m\u001b[0m\u001b[1;33m\u001b[0m\u001b[0m\n\u001b[0m",
      "\u001b[1;31mNameError\u001b[0m: name 'i' is not defined"
     ]
    }
   ],
   "source": [
    "import time\n",
    "\n",
    "start = time.time()\n",
    "\n",
    "mapped_datas = map(lambda i : i * 2, list(range(100000)))\n",
    "\n",
    "end = time.time()\n",
    "\n",
    "print(\"실행하는데 걸린 시간 :\", end-start)\n",
    "print(\"임시변수 i 사용여부:\", i)"
   ]
  },
  {
   "cell_type": "markdown",
   "id": "0626059e-240e-4cde-829e-68dec39b1bf4",
   "metadata": {},
   "source": [
    "## - Tuple"
   ]
  },
  {
   "cell_type": "markdown",
   "id": "e7652af6-4ca3-46df-83bf-bc0063120e0a",
   "metadata": {},
   "source": [
    "List 자료구조와 비슷하지만 다른점이라면 List는 mutable하고 Tuple은 immutable하다.\n",
    "\n",
    "즉, 튜플은 리스트처럼 요소를 변경, 삭제 및 추가를 하지 못한다."
   ]
  },
  {
   "cell_type": "markdown",
   "id": "53b9ff99-80fd-4681-82af-e5c01e344456",
   "metadata": {},
   "source": [
    "아래와 같이 선언하게 되면 튜플이 만들어진다."
   ]
  },
  {
   "cell_type": "code",
   "execution_count": 53,
   "id": "07b9eaa4-9b33-42d3-abf2-d47b30ad9361",
   "metadata": {},
   "outputs": [
    {
     "data": {
      "text/plain": [
       "(1234, 'hello', 3.14)"
      ]
     },
     "execution_count": 53,
     "metadata": {},
     "output_type": "execute_result"
    }
   ],
   "source": [
    "t = 1234, \"hello\", 3.14\n",
    "t"
   ]
  },
  {
   "cell_type": "code",
   "execution_count": 54,
   "id": "c0855eb3-0cec-4837-b604-bd4637247600",
   "metadata": {},
   "outputs": [
    {
     "name": "stdout",
     "output_type": "stream",
     "text": [
      "()   len:0\n",
      "('hello',)   len:1\n"
     ]
    }
   ],
   "source": [
    "empty = ()\n",
    "singleton = 'hello', # 튜플 요소(Element)가 하나일 때는 맨 끝에 ,를 붙여줘야 한다.\n",
    "print(empty, len(empty), sep=\"   len:\")\n",
    "print(singleton, len(singleton), sep=\"   len:\")"
   ]
  },
  {
   "cell_type": "markdown",
   "id": "3bb5e910-d9d1-4f5f-af03-94a034ef7a50",
   "metadata": {},
   "source": [
    "아래와 같이 디스트럭팅(destructing) 방식으로 할당할 수 있다."
   ]
  },
  {
   "cell_type": "code",
   "execution_count": 55,
   "id": "8a1a8213-f4b4-4e97-8f66-c8eff6bf27a4",
   "metadata": {},
   "outputs": [],
   "source": [
    "x, y, z = t"
   ]
  },
  {
   "cell_type": "code",
   "execution_count": 56,
   "id": "c53ad298-27ea-4782-bd52-04c13ef1a9fc",
   "metadata": {},
   "outputs": [
    {
     "name": "stdout",
     "output_type": "stream",
     "text": [
      "1234\n",
      "hello\n",
      "3.14\n"
     ]
    }
   ],
   "source": [
    "print(x)\n",
    "print(y)\n",
    "print(z)"
   ]
  },
  {
   "cell_type": "markdown",
   "id": "685ae6bf-b702-4904-83f3-f3eb565371a8",
   "metadata": {},
   "source": [
    "## - Set"
   ]
  },
  {
   "cell_type": "markdown",
   "id": "0defcada-80c6-4a7c-8197-3b821aebea7a",
   "metadata": {},
   "source": [
    "Set 자료구조는 일종의 집합을 표현한 자료구조라고 보면 된다. 중복을 허용하지 않는다."
   ]
  },
  {
   "cell_type": "code",
   "execution_count": 57,
   "id": "b1b577a7-30df-49d6-8f33-4fc7639d83a0",
   "metadata": {},
   "outputs": [
    {
     "data": {
      "text/plain": [
       "{'a', 'b', 'c', 'd'}"
      ]
     },
     "execution_count": 57,
     "metadata": {},
     "output_type": "execute_result"
    }
   ],
   "source": [
    "basket = {'a', 'b', 'a', 'c', 'd', 'b'}\n",
    "basket"
   ]
  },
  {
   "cell_type": "code",
   "execution_count": 58,
   "id": "a6a5af55-16f2-460e-ba0a-c6682ac0f68b",
   "metadata": {},
   "outputs": [
    {
     "data": {
      "text/plain": [
       "True"
      ]
     },
     "execution_count": 58,
     "metadata": {},
     "output_type": "execute_result"
    }
   ],
   "source": [
    "'a' in basket # 자료구조에 in 연산을 사용하면 해당 값이 있는지 확인 가능"
   ]
  },
  {
   "cell_type": "code",
   "execution_count": 59,
   "id": "f96b0b4f-b313-4213-8e4e-61eecfbaf0a8",
   "metadata": {},
   "outputs": [
    {
     "name": "stdout",
     "output_type": "stream",
     "text": [
      "{'d', 'c', 'b', 'r', 'a'}\n",
      "{'z', 'm', 'c', 'l', 'a'}\n"
     ]
    }
   ],
   "source": [
    "a = set(\"abracadabra\")\n",
    "b = set(\"alacazam\")\n",
    "print(a)\n",
    "print(b)"
   ]
  },
  {
   "cell_type": "markdown",
   "id": "1f38e490-fc93-4de8-b8b8-e2ac3181aeed",
   "metadata": {},
   "source": [
    " - 차집합"
   ]
  },
  {
   "cell_type": "code",
   "execution_count": 60,
   "id": "dcaa0777-4fff-4ea7-8cfe-0e8c87a4ee4d",
   "metadata": {},
   "outputs": [
    {
     "data": {
      "text/plain": [
       "{'b', 'd', 'r'}"
      ]
     },
     "execution_count": 60,
     "metadata": {},
     "output_type": "execute_result"
    }
   ],
   "source": [
    "a - b"
   ]
  },
  {
   "cell_type": "markdown",
   "id": "1c0a71ee-bf75-4a0a-b30e-7efb398f04de",
   "metadata": {},
   "source": [
    "- 합집합"
   ]
  },
  {
   "cell_type": "code",
   "execution_count": 61,
   "id": "b5e708f6-ff9c-45e1-a37c-c694d86be3d7",
   "metadata": {},
   "outputs": [
    {
     "data": {
      "text/plain": [
       "{'a', 'b', 'c', 'd', 'l', 'm', 'r', 'z'}"
      ]
     },
     "execution_count": 61,
     "metadata": {},
     "output_type": "execute_result"
    }
   ],
   "source": [
    "a | b"
   ]
  },
  {
   "cell_type": "markdown",
   "id": "a72e05c9-eb08-4a33-a347-cfaa3e825d64",
   "metadata": {},
   "source": [
    "- 교집합"
   ]
  },
  {
   "cell_type": "code",
   "execution_count": 62,
   "id": "37c0cd81-fc91-4916-a10d-664adb61668c",
   "metadata": {},
   "outputs": [
    {
     "data": {
      "text/plain": [
       "{'a', 'c'}"
      ]
     },
     "execution_count": 62,
     "metadata": {},
     "output_type": "execute_result"
    }
   ],
   "source": [
    "a & b"
   ]
  },
  {
   "cell_type": "markdown",
   "id": "7d3cf608-cd7e-498b-99f3-125625b7c40c",
   "metadata": {},
   "source": [
    "- 교집합 결과의 여집합"
   ]
  },
  {
   "cell_type": "code",
   "execution_count": 63,
   "id": "64ddeb99-3842-40d9-8f53-4a8b367a5a68",
   "metadata": {},
   "outputs": [
    {
     "data": {
      "text/plain": [
       "{'b', 'd', 'l', 'm', 'r', 'z'}"
      ]
     },
     "execution_count": 63,
     "metadata": {},
     "output_type": "execute_result"
    }
   ],
   "source": [
    "a ^ b #letters in a or b but not both"
   ]
  },
  {
   "cell_type": "markdown",
   "id": "75659d77-2887-4681-ac5a-02c207c179f9",
   "metadata": {},
   "source": [
    " - 컴프리핸션"
   ]
  },
  {
   "cell_type": "code",
   "execution_count": 64,
   "id": "d9c812c6-237b-4ac0-aab6-422028e31863",
   "metadata": {},
   "outputs": [
    {
     "data": {
      "text/plain": [
       "{'d', 'r'}"
      ]
     },
     "execution_count": 64,
     "metadata": {},
     "output_type": "execute_result"
    }
   ],
   "source": [
    "{x for x in 'abracadabra' if x not in 'abc'}"
   ]
  },
  {
   "cell_type": "markdown",
   "id": "43f0c1d6-08ba-4028-82ba-855b7e5d17a1",
   "metadata": {},
   "source": [
    "## - Dictionary"
   ]
  },
  {
   "cell_type": "markdown",
   "id": "bc5421bb-a52a-47b6-93b8-d6b39a2be683",
   "metadata": {},
   "source": [
    "Dictionary 자료구조는 key-value쌍의 데이터들이 모인 것이다."
   ]
  },
  {
   "cell_type": "code",
   "execution_count": 65,
   "id": "90401c64-fde6-4d8d-b389-2c82a2de25fc",
   "metadata": {},
   "outputs": [],
   "source": [
    "tel = {'jack' : 4098, 'sape' : 4139}"
   ]
  },
  {
   "cell_type": "code",
   "execution_count": 66,
   "id": "6c6dfee6-d855-45d1-9766-0a0252025ca5",
   "metadata": {},
   "outputs": [
    {
     "data": {
      "text/plain": [
       "4098"
      ]
     },
     "execution_count": 66,
     "metadata": {},
     "output_type": "execute_result"
    }
   ],
   "source": [
    "tel['jack'] # value를 얻어올 때 해당 value의 key를 이용한다"
   ]
  },
  {
   "cell_type": "code",
   "execution_count": 67,
   "id": "413457cc-b691-48ba-8e53-c738baf508aa",
   "metadata": {},
   "outputs": [],
   "source": [
    "del tel['sape'] # 삭제"
   ]
  },
  {
   "cell_type": "code",
   "execution_count": 68,
   "id": "0eefed41-09fe-400c-9f97-e9c549e9b435",
   "metadata": {},
   "outputs": [],
   "source": [
    "tel['irv'] = 4127 # 추가 ( 만일 이미 있는 key라면 value변경 )"
   ]
  },
  {
   "cell_type": "code",
   "execution_count": 69,
   "id": "65bbeb31-42a0-485d-901f-ca6e52202d84",
   "metadata": {},
   "outputs": [
    {
     "data": {
      "text/plain": [
       "{'jack': 4098, 'irv': 4127}"
      ]
     },
     "execution_count": 69,
     "metadata": {},
     "output_type": "execute_result"
    }
   ],
   "source": [
    "tel"
   ]
  },
  {
   "cell_type": "code",
   "execution_count": 70,
   "id": "9033b0e1-9889-497e-ba11-71c062811a7d",
   "metadata": {},
   "outputs": [
    {
     "data": {
      "text/plain": [
       "['jack', 'irv']"
      ]
     },
     "execution_count": 70,
     "metadata": {},
     "output_type": "execute_result"
    }
   ],
   "source": [
    "list(tel) # 리스트화 시키면 key값들만 열거된다."
   ]
  },
  {
   "cell_type": "code",
   "execution_count": 71,
   "id": "a5ee0402-c6b8-42c3-aeb5-290a5598b946",
   "metadata": {},
   "outputs": [
    {
     "data": {
      "text/plain": [
       "{'sape': 4139, 'guido': 4127, 'jack': 4098}"
      ]
     },
     "execution_count": 71,
     "metadata": {},
     "output_type": "execute_result"
    }
   ],
   "source": [
    "dict([('sape', 4139), ('guido', 4127), ('jack', 4098)]) # 캐스팅"
   ]
  },
  {
   "cell_type": "code",
   "execution_count": 72,
   "id": "c523aaeb-eb3c-4d2f-99d3-97461ed6f2ad",
   "metadata": {},
   "outputs": [
    {
     "data": {
      "text/plain": [
       "{2: 4, 4: 16, 6: 36}"
      ]
     },
     "execution_count": 72,
     "metadata": {},
     "output_type": "execute_result"
    }
   ],
   "source": [
    "{x: x**2 for x in (2, 4, 6)} # 컴프리핸션"
   ]
  },
  {
   "cell_type": "code",
   "execution_count": 73,
   "id": "459991c7-c942-4bb7-a0fc-942a0267ca67",
   "metadata": {},
   "outputs": [
    {
     "data": {
      "text/plain": [
       "{'sape': 4139, 'guido': 4127, 'jack': 4098}"
      ]
     },
     "execution_count": 73,
     "metadata": {},
     "output_type": "execute_result"
    }
   ],
   "source": [
    "dict(sape=4139, guido=4127, jack=4098) # dict()를 이용한 Dictionary 자료구조 생성"
   ]
  },
  {
   "cell_type": "code",
   "execution_count": 74,
   "id": "67bb5f4c-79ca-4e27-806e-ee857742904e",
   "metadata": {},
   "outputs": [
    {
     "data": {
      "text/plain": [
       "{'a': 10, 'b': 'hello', 'c': 100, 'd': 'world'}"
      ]
     },
     "execution_count": 74,
     "metadata": {},
     "output_type": "execute_result"
    }
   ],
   "source": [
    "# Dictionary 구조 합치기\n",
    "d1 = dict(a=10, b=\"hello\")\n",
    "d2 = dict(c=3.14)\n",
    "d3 = dict(c=100, d=\"world\")\n",
    "\n",
    "d1 | d2 | d3"
   ]
  },
  {
   "cell_type": "markdown",
   "id": "3e89fb4c-911e-482e-a107-41e6be06328e",
   "metadata": {},
   "source": [
    "## - Looping Skills"
   ]
  },
  {
   "cell_type": "code",
   "execution_count": 75,
   "id": "cf4a486f-4056-4697-9935-572814ded344",
   "metadata": {},
   "outputs": [
    {
     "data": {
      "text/plain": [
       "[('name', 'lancelot'), ('quest', 'the holy grail'), ('favorite color', 'blue')]"
      ]
     },
     "execution_count": 75,
     "metadata": {},
     "output_type": "execute_result"
    }
   ],
   "source": [
    "questions = ['name', 'quest', 'favorite color']\n",
    "answers = ['lancelot', 'the holy grail', 'blue']\n",
    "\n",
    "result = []\n",
    "\n",
    "for i in range(3):\n",
    "    result.append((questions[i], answers[i]))\n",
    "\n",
    "result"
   ]
  },
  {
   "cell_type": "code",
   "execution_count": 76,
   "id": "ecc12c13-f986-482f-9603-b999ae502f4e",
   "metadata": {},
   "outputs": [
    {
     "name": "stdout",
     "output_type": "stream",
     "text": [
      "What is your name? It is lancelot.\n",
      "What is your quest? It is the holy grail.\n",
      "What is your favorite color? It is blue.\n"
     ]
    }
   ],
   "source": [
    "for q, a in [(questions[i], answers[i]) for i in range(3)]:\n",
    "    print('What is your {0}? It is {1}.'.format(q, a))"
   ]
  },
  {
   "cell_type": "code",
   "execution_count": 77,
   "id": "104cc688-ef69-4089-b377-c11a7f8f9f7b",
   "metadata": {},
   "outputs": [
    {
     "name": "stdout",
     "output_type": "stream",
     "text": [
      "What is your name? It is lancelot.\n",
      "What is your quest? It is the holy grail.\n",
      "What is your favorite color? It is blue.\n"
     ]
    }
   ],
   "source": [
    "for q, a in zip(questions, answers):\n",
    "    print('What is your {0}? It is {1}.'.format(q, a))"
   ]
  },
  {
   "cell_type": "code",
   "execution_count": 78,
   "id": "5392c00f-c728-40cd-b2a4-199e95cd87ef",
   "metadata": {},
   "outputs": [],
   "source": [
    "mem = dict(\n",
    "    name=\"John\",\n",
    "    age=20,\n",
    "    phone=\"010-1234-5678\"\n",
    ")"
   ]
  },
  {
   "cell_type": "code",
   "execution_count": 79,
   "id": "2de57382-ab0b-406f-ad4b-c1c0351416d1",
   "metadata": {},
   "outputs": [
    {
     "name": "stdout",
     "output_type": "stream",
     "text": [
      "name John\n",
      "age 20\n",
      "phone 010-1234-5678\n"
     ]
    }
   ],
   "source": [
    "for k, v in mem.items():\n",
    "    print(k, v)"
   ]
  },
  {
   "cell_type": "code",
   "execution_count": 80,
   "id": "f12ab419-b2bc-487b-8cac-7e2a1c3aa204",
   "metadata": {},
   "outputs": [
    {
     "name": "stdout",
     "output_type": "stream",
     "text": [
      "0 name\n",
      "1 age\n",
      "2 phone\n"
     ]
    }
   ],
   "source": [
    "for i, v in enumerate(mem): # 각 요소의 인덱스 번호 도출\n",
    "    print(i, v)"
   ]
  },
  {
   "cell_type": "code",
   "execution_count": 81,
   "id": "7f92614c-cb19-41fe-b39a-5be9cb95a67d",
   "metadata": {},
   "outputs": [
    {
     "data": {
      "text/plain": [
       "[56.2, 51.7, 55.3, 52.5, 47.8]"
      ]
     },
     "execution_count": 81,
     "metadata": {},
     "output_type": "execute_result"
    }
   ],
   "source": [
    "import math # 수학 관련 모듈\n",
    "raw_data = [56.2, float('NaN'), 51.7, 55.3, 52.5, float('NaN'), 47.8]\n",
    "filtered_data = [value for value in raw_data if not math.isnan(value)]\n",
    "filtered_data"
   ]
  },
  {
   "cell_type": "markdown",
   "id": "f601573b-0401-4869-b508-81b57cd80655",
   "metadata": {},
   "source": [
    "<br>\n",
    "<br>\n",
    "<br>\n",
    "<br>\n",
    "<br>\n",
    "<br>\n",
    "<hr>\n",
    "<br>\n",
    "<br>\n",
    "<br>\n",
    "<br>\n",
    "<br>\n",
    "<br>"
   ]
  }
 ],
 "metadata": {
  "kernelspec": {
   "display_name": "Python 3 (ipykernel)",
   "language": "python",
   "name": "python3"
  },
  "language_info": {
   "codemirror_mode": {
    "name": "ipython",
    "version": 3
   },
   "file_extension": ".py",
   "mimetype": "text/x-python",
   "name": "python",
   "nbconvert_exporter": "python",
   "pygments_lexer": "ipython3",
   "version": "3.9.7"
  }
 },
 "nbformat": 4,
 "nbformat_minor": 5
}
