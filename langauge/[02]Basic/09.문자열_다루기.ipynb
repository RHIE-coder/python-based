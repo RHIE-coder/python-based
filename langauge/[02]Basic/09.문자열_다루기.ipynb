{
 "cells": [
  {
   "cell_type": "markdown",
   "id": "415319ee-ce49-457d-b1de-f74514b2af36",
   "metadata": {
    "tags": []
   },
   "source": [
    "# 09. 문자열 다루기"
   ]
  },
  {
   "cell_type": "markdown",
   "id": "c705cc44-5933-43ff-bdd2-74b2380600fe",
   "metadata": {
    "tags": []
   },
   "source": [
    "## - Escape and Raw"
   ]
  },
  {
   "cell_type": "markdown",
   "id": "925b97a5-89a4-4317-ac11-78bb63217c2e",
   "metadata": {},
   "source": [
    "파이썬에서 문자열을 표현할 때 `\" ... \"` 혹은 `' ... '`을 사용한다.\n",
    "\n",
    "그래서 문법적으로 쓰이는 쌍따옴표(`\"`)나 홑따옴표(`'`)를 문자열로써 포함시키고 싶을 수 있다.\n",
    "\n",
    "Escape는 `\\`로 표현하고 프로그래밍 문법적 요소로 쓰이는 문자를 문자열로서 사용할 수 있게 해준다.\n",
    "\n",
    "raw는 `r`이란 단어를 맨 앞에 붙여줌으로써 문자열 안에 적힌 그대로 사용할 수 있게 도와준다"
   ]
  },
  {
   "cell_type": "code",
   "execution_count": 1,
   "id": "36464fa3-b9d2-4515-b3f0-d530ce012446",
   "metadata": {},
   "outputs": [
    {
     "name": "stdout",
     "output_type": "stream",
     "text": [
      "I'am \"Iron Man\"\n"
     ]
    }
   ],
   "source": [
    "print(\"I'am \\\"Iron Man\\\"\") #Escape"
   ]
  },
  {
   "cell_type": "code",
   "execution_count": 2,
   "id": "b5168072-ce1b-44f7-9e1f-c18929fde5fb",
   "metadata": {},
   "outputs": [
    {
     "name": "stdout",
     "output_type": "stream",
     "text": [
      "c:\\Program Files\\Python39\n"
     ]
    }
   ],
   "source": [
    "print(r'c:\\Program Files\\Python39') #Raw"
   ]
  },
  {
   "cell_type": "markdown",
   "id": "c8789e7f-f75d-4e31-921f-212671e1f67d",
   "metadata": {
    "tags": []
   },
   "source": [
    "## - 문자 합체와 반복"
   ]
  },
  {
   "cell_type": "code",
   "execution_count": 3,
   "id": "3ec0e3fd-316f-4266-bb71-7903a096de99",
   "metadata": {},
   "outputs": [
    {
     "data": {
      "text/plain": [
       "'Python'"
      ]
     },
     "execution_count": 3,
     "metadata": {},
     "output_type": "execute_result"
    }
   ],
   "source": [
    "'Py'\"thon\" #이런식으로 문자열을 합칠 수 있다."
   ]
  },
  {
   "cell_type": "code",
   "execution_count": 4,
   "id": "c6ffe6f7-372a-4a17-8d93-58dd3a4a4aa5",
   "metadata": {},
   "outputs": [
    {
     "data": {
      "text/plain": [
       "'문자열합치기'"
      ]
     },
     "execution_count": 4,
     "metadata": {},
     "output_type": "execute_result"
    }
   ],
   "source": [
    "'문''자열''합치기'"
   ]
  },
  {
   "cell_type": "code",
   "execution_count": 5,
   "id": "382f0439-fb37-440c-ae8f-a2b9f2013c68",
   "metadata": {},
   "outputs": [
    {
     "data": {
      "text/plain": [
       "'파이썬은문자열을다루기좋다'"
      ]
     },
     "execution_count": 5,
     "metadata": {},
     "output_type": "execute_result"
    }
   ],
   "source": [
    "\"파이썬\"\"은\"\"문자열을\"\"다루기\"\"좋다\""
   ]
  },
  {
   "cell_type": "code",
   "execution_count": 6,
   "id": "9b764dd9-f64d-4498-bc52-e31f5c73a9f3",
   "metadata": {},
   "outputs": [
    {
     "data": {
      "text/plain": [
       "'Put several strings within parentheses to have them joined together.'"
      ]
     },
     "execution_count": 6,
     "metadata": {},
     "output_type": "execute_result"
    }
   ],
   "source": [
    "#  - 두 개 이상의 문자열 리터럴 (즉, 따옴표로 둘러싸인 것들) 가 연속해서 나타나면 자동으로 이어 붙여집니다.\n",
    "text = ('Put several strings within parentheses '\n",
    "        'to have them joined together.')\n",
    "text"
   ]
  },
  {
   "cell_type": "markdown",
   "id": "37383a6d-c76f-4119-95a7-094f6c965b5c",
   "metadata": {},
   "source": [
    "이것은 오직 두 개의 리터럴에만 적용될 뿐 변수나 표현식에는 해당하지 않습니다: prefix 'thon' -- Error\n",
    "변수들끼리 혹은 변수와 문자열를 이어붙이려면 `+` 를 사용해야 합니다: prefix + 'thon'"
   ]
  },
  {
   "cell_type": "code",
   "execution_count": 7,
   "id": "bf90359f-dd0f-4a88-b1ac-6500dd34eff0",
   "metadata": {},
   "outputs": [
    {
     "ename": "SyntaxError",
     "evalue": "invalid syntax (Temp/ipykernel_10884/3139416424.py, line 2)",
     "output_type": "error",
     "traceback": [
      "\u001b[1;36m  File \u001b[1;32m\"C:\\Users\\quoti\\AppData\\Local\\Temp/ipykernel_10884/3139416424.py\"\u001b[1;36m, line \u001b[1;32m2\u001b[0m\n\u001b[1;33m    prefix\"thon\"\u001b[0m\n\u001b[1;37m          ^\u001b[0m\n\u001b[1;31mSyntaxError\u001b[0m\u001b[1;31m:\u001b[0m invalid syntax\n"
     ]
    }
   ],
   "source": [
    "prefix = \"py\"\n",
    "prefix\"thon\""
   ]
  },
  {
   "cell_type": "code",
   "execution_count": 8,
   "id": "22deb61b-8c1c-482c-acd3-774ddb346f37",
   "metadata": {},
   "outputs": [
    {
     "data": {
      "text/plain": [
       "'python'"
      ]
     },
     "execution_count": 8,
     "metadata": {},
     "output_type": "execute_result"
    }
   ],
   "source": [
    "prefix = \"py\"\n",
    "prefix + \"thon\""
   ]
  },
  {
   "cell_type": "markdown",
   "id": "0930e782-778d-4d1e-9e34-546f9df2da87",
   "metadata": {},
   "source": [
    "`*`를 통해 n번 반복할 수도 있다"
   ]
  },
  {
   "cell_type": "code",
   "execution_count": 9,
   "id": "d4e3e086-93e5-4548-bb1b-b6f7f1174eca",
   "metadata": {},
   "outputs": [
    {
     "data": {
      "text/plain": [
       "'Hi Hi Hi Welcome'"
      ]
     },
     "execution_count": 9,
     "metadata": {},
     "output_type": "execute_result"
    }
   ],
   "source": [
    "3 * 'Hi ' + 'Welcome'"
   ]
  },
  {
   "cell_type": "markdown",
   "id": "2c37bbca-695f-4506-8ad5-8919a27da7ed",
   "metadata": {},
   "source": [
    "## - 문자열 확인"
   ]
  },
  {
   "cell_type": "markdown",
   "id": "c1cda49a-fa7c-4c80-8f86-4f660c0cdb8d",
   "metadata": {},
   "source": [
    "### * len()"
   ]
  },
  {
   "cell_type": "code",
   "execution_count": 10,
   "id": "2c372682-237e-431d-83b2-a1b858c62fa1",
   "metadata": {},
   "outputs": [
    {
     "data": {
      "text/plain": [
       "34"
      ]
     },
     "execution_count": 10,
     "metadata": {},
     "output_type": "execute_result"
    }
   ],
   "source": [
    "s = 'supercalifragilisticexpialidocious' \n",
    "len(s) # 문자열의 길이를 돌려줌"
   ]
  },
  {
   "cell_type": "markdown",
   "id": "95e06096-e705-460c-a9f7-fbaeaa1dd13d",
   "metadata": {},
   "source": [
    "### * in"
   ]
  },
  {
   "cell_type": "code",
   "execution_count": 11,
   "id": "a34e3158-6661-4835-881c-4280624ac4ce",
   "metadata": {},
   "outputs": [
    {
     "data": {
      "text/plain": [
       "True"
      ]
     },
     "execution_count": 11,
     "metadata": {},
     "output_type": "execute_result"
    }
   ],
   "source": [
    "'Py' in 'Python' # include"
   ]
  },
  {
   "cell_type": "markdown",
   "id": "89956e67-d1f8-4031-8e30-714c59a2731a",
   "metadata": {},
   "source": [
    "## - 문자열 Literal 확장"
   ]
  },
  {
   "cell_type": "markdown",
   "id": "55a7162b-aeb1-4ac4-a258-817114768fdb",
   "metadata": {},
   "source": [
    "### * `''' '''` || `\"\"\" \"\"\"`"
   ]
  },
  {
   "cell_type": "code",
   "execution_count": 12,
   "id": "0f3eb07a-6d44-488a-9676-4135fcacfb37",
   "metadata": {},
   "outputs": [
    {
     "name": "stdout",
     "output_type": "stream",
     "text": [
      "\n",
      "Usage: python\n",
      "    --version\n",
      "\n"
     ]
    }
   ],
   "source": [
    "print('''\n",
    "Usage: python\n",
    "    --version\n",
    "''') "
   ]
  },
  {
   "cell_type": "code",
   "execution_count": 13,
   "id": "e558f76d-4e48-4f94-a25f-b06809f62bd5",
   "metadata": {},
   "outputs": [
    {
     "name": "stdout",
     "output_type": "stream",
     "text": [
      "Usage: python\n",
      "    --version\n",
      "\n"
     ]
    }
   ],
   "source": [
    "# 개행 없애기\n",
    "print(\"\"\"\\\n",
    "Usage: python\n",
    "    --version\n",
    "\"\"\") "
   ]
  },
  {
   "cell_type": "markdown",
   "id": "2b181e3d-93a6-453f-a109-fb9cceaa899a",
   "metadata": {},
   "source": [
    "### * 인덱스"
   ]
  },
  {
   "cell_type": "code",
   "execution_count": 14,
   "id": "96ba0480-d008-4624-bc08-6932da7f5762",
   "metadata": {},
   "outputs": [
    {
     "name": "stdout",
     "output_type": "stream",
     "text": [
      "P\n",
      "n\n"
     ]
    }
   ],
   "source": [
    "# 문자 인덱스\n",
    "word = 'Python'\n",
    "print(word[0])\n",
    "print(word[-1]) # 0과 -0은 같음. 맨 끝 숫자는 -1"
   ]
  },
  {
   "cell_type": "code",
   "execution_count": 15,
   "id": "f42bccc8-8284-40d6-8090-dffe3e472d19",
   "metadata": {},
   "outputs": [
    {
     "name": "stdout",
     "output_type": "stream",
     "text": [
      "Python\n",
      "Py\n"
     ]
    }
   ],
   "source": [
    "print(word[:2] + word[2:])\n",
    "print(word[:2] )"
   ]
  },
  {
   "cell_type": "code",
   "execution_count": 16,
   "id": "cfa09e1c-860a-47d8-bf64-b98087d60ace",
   "metadata": {},
   "outputs": [
    {
     "ename": "IndexError",
     "evalue": "string index out of range",
     "output_type": "error",
     "traceback": [
      "\u001b[1;31m---------------------------------------------------------------------------\u001b[0m",
      "\u001b[1;31mIndexError\u001b[0m                                Traceback (most recent call last)",
      "\u001b[1;32m~\\AppData\\Local\\Temp/ipykernel_10884/1331520550.py\u001b[0m in \u001b[0;36m<module>\u001b[1;34m\u001b[0m\n\u001b[1;32m----> 1\u001b[1;33m \u001b[0mword\u001b[0m\u001b[1;33m[\u001b[0m\u001b[1;36m100\u001b[0m\u001b[1;33m]\u001b[0m \u001b[1;31m# 문자 인덱스를 넘을 시 에러\u001b[0m\u001b[1;33m\u001b[0m\u001b[1;33m\u001b[0m\u001b[0m\n\u001b[0m",
      "\u001b[1;31mIndexError\u001b[0m: string index out of range"
     ]
    }
   ],
   "source": [
    "word[100] # 문자 인덱스를 넘을 시 에러"
   ]
  },
  {
   "cell_type": "code",
   "execution_count": 17,
   "id": "ff7a6e6d-fdd9-4a8e-8e7d-eaa2e050bab4",
   "metadata": {},
   "outputs": [
    {
     "data": {
      "text/plain": [
       "'on'"
      ]
     },
     "execution_count": 17,
     "metadata": {},
     "output_type": "execute_result"
    }
   ],
   "source": [
    "# 하지만, 범위를 벗어나는 슬라이스 인덱스는 슬라이싱할 때 부드럽게 처리됨\n",
    "word[4:42]"
   ]
  },
  {
   "cell_type": "markdown",
   "id": "c21a11bc-f5fa-4465-afe0-459b4e127483",
   "metadata": {},
   "source": [
    "### * 문자열은 immutable하다"
   ]
  },
  {
   "cell_type": "markdown",
   "id": "ebb36ad3-17ec-4200-afbc-5abddeeff296",
   "metadata": {},
   "source": [
    "파이썬 문자열은 변경할 수 없다 — 불변(immutable) 이라고 합니다. 그래서 문자열의 인덱스로 참조한 위치에 대입하려고 하면 에러를 일으킵니다:"
   ]
  },
  {
   "cell_type": "code",
   "execution_count": 18,
   "id": "e32bf1a1-d2dc-42af-89b6-9ecf6af5d76c",
   "metadata": {},
   "outputs": [
    {
     "ename": "TypeError",
     "evalue": "'str' object does not support item assignment",
     "output_type": "error",
     "traceback": [
      "\u001b[1;31m---------------------------------------------------------------------------\u001b[0m",
      "\u001b[1;31mTypeError\u001b[0m                                 Traceback (most recent call last)",
      "\u001b[1;32m~\\AppData\\Local\\Temp/ipykernel_10884/2664689217.py\u001b[0m in \u001b[0;36m<module>\u001b[1;34m\u001b[0m\n\u001b[1;32m----> 1\u001b[1;33m \u001b[0mword\u001b[0m\u001b[1;33m[\u001b[0m\u001b[1;36m0\u001b[0m\u001b[1;33m]\u001b[0m \u001b[1;33m=\u001b[0m \u001b[1;34m'J'\u001b[0m\u001b[1;33m\u001b[0m\u001b[1;33m\u001b[0m\u001b[0m\n\u001b[0m",
      "\u001b[1;31mTypeError\u001b[0m: 'str' object does not support item assignment"
     ]
    }
   ],
   "source": [
    "word[0] = 'J'"
   ]
  },
  {
   "cell_type": "markdown",
   "id": "bb4d3773-cf09-4497-a368-326a0f92f625",
   "metadata": {},
   "source": [
    "다른 문자열이 필요하면, 새로 만들어야 합니다:"
   ]
  },
  {
   "cell_type": "code",
   "execution_count": 19,
   "id": "4492361b-c003-4914-b360-8e8c79d2177e",
   "metadata": {},
   "outputs": [
    {
     "data": {
      "text/plain": [
       "'Jython'"
      ]
     },
     "execution_count": 19,
     "metadata": {},
     "output_type": "execute_result"
    }
   ],
   "source": [
    "'J' + word[1:]"
   ]
  },
  {
   "cell_type": "markdown",
   "id": "0b528904-1ac7-43bf-a205-1a27a9e0f675",
   "metadata": {},
   "source": [
    "## - 문자 메서드"
   ]
  },
  {
   "cell_type": "markdown",
   "id": "60607e84-a79a-4db2-81f2-0f4b42ea0069",
   "metadata": {},
   "source": [
    "### * str.capitalize()\n",
    " - 첫 문자가 대문자이고 나머지가 소문자인 문자열의 복사본을 돌려줍니다. "
   ]
  },
  {
   "cell_type": "code",
   "execution_count": 20,
   "id": "ed6ce2f2-e0e9-48b4-8293-b6551419098a",
   "metadata": {},
   "outputs": [
    {
     "data": {
      "text/plain": [
       "'Hello world'"
      ]
     },
     "execution_count": 20,
     "metadata": {},
     "output_type": "execute_result"
    }
   ],
   "source": [
    "word = \"hello world\"\n",
    "word.capitalize()"
   ]
  },
  {
   "cell_type": "markdown",
   "id": "059007ee-f02a-4c8f-a8ca-c3ea743e3990",
   "metadata": {},
   "source": [
    "### * str.center(width[, fillchar])\n",
    " - 길이 width 인 문자열의 가운데에 정렬한 값을 돌려줍니다. \n",
    " - 지정된 fillchar (기본값은 ASCII 스페이스)을 사용하여 채웁니다. \n",
    " - width 가 len(s) 보다 작거나 같은 경우 원래 문자열이 반환됩니다."
   ]
  },
  {
   "cell_type": "code",
   "execution_count": 21,
   "id": "8f9a4ad3-d2ac-497f-b754-9b2daa3eb979",
   "metadata": {},
   "outputs": [
    {
     "name": "stdout",
     "output_type": "stream",
     "text": [
      "I Love Python\n",
      "     I Love Python     \n",
      "-----I Love Python-----\n"
     ]
    }
   ],
   "source": [
    "word = \"I Love Python\"\n",
    "print(word)\n",
    "print(word.center(len(word)+10))\n",
    "print(word.center(len(word)+10, '-'))"
   ]
  },
  {
   "cell_type": "markdown",
   "id": "efc0aa0d-b69d-426b-84bb-ff20c0c1e156",
   "metadata": {},
   "source": [
    "### * str.encode(encoding=\"utf-8\", errors=\"strict\")\n",
    " - 문자열의 바이트열 객체로 인코딩된 버전을 돌려줍니다. 기본 인코딩은 'utf-8' 입니다.\n",
    " - errors 의 기본값은 'strict' 인데, 인코딩 오류가 있으면 UnicodeError 를 일으키라는 뜻\n",
    " - 다른 가능한 값은 'ignore', 'replace', 'xmlcharrefreplace', 'backslashreplace' 와 codecs.register_error() 를 통해 등록된 다른 이름들"
   ]
  },
  {
   "cell_type": "code",
   "execution_count": 22,
   "id": "abcf8b00-7cb9-4918-be68-4adfabc15b59",
   "metadata": {},
   "outputs": [
    {
     "name": "stdout",
     "output_type": "stream",
     "text": [
      "b'something'\n"
     ]
    },
    {
     "data": {
      "text/plain": [
       "bytes"
      ]
     },
     "execution_count": 22,
     "metadata": {},
     "output_type": "execute_result"
    }
   ],
   "source": [
    "result = \"something\".encode(encoding=\"utf-8\", errors=\"strict\")\n",
    "print(result)\n",
    "type(result)"
   ]
  },
  {
   "cell_type": "markdown",
   "id": "38032712-7576-4aec-9b51-bf5bfc07c668",
   "metadata": {},
   "source": [
    "### * str.endswith(suffix[, start[, end]])\n",
    " - 문자열이 지정된 suffix 로 끝나면 True 를 돌려주고, 그렇지 않으면 False 를 돌려줍니다. \n",
    " - 선택적 start 가 제공되면 그 위치에서 검사를 시작\n",
    " - 선택적 end 를 사용하면 해당 위치에서 비교를 중단\n",
    "#### str.startswith(prefix[, start[, end]]) 도 같은 원리로 동작하고 지정된 prefix로 시작하면 True를 반환"
   ]
  },
  {
   "cell_type": "code",
   "execution_count": 23,
   "id": "a332eb79-c7e0-4a38-b5d7-de40373408b9",
   "metadata": {},
   "outputs": [
    {
     "name": "stdout",
     "output_type": "stream",
     "text": [
      "True\n",
      "False\n",
      "ab True\n"
     ]
    }
   ],
   "source": [
    "word = \"abcd\"\n",
    "print(word.endswith('d'))\n",
    "print(word.endswith('e'))\n",
    "print(word[0:2], word.endswith('b',0,2))"
   ]
  },
  {
   "cell_type": "markdown",
   "id": "6a3c9cfc-3719-4f5a-b9e7-34cb5037a092",
   "metadata": {},
   "source": [
    "### * str.expandtabs(tabsize=8)\n",
    "\n",
    "TAB을 나타내는 이스케이프(Escape) 문자 `\\t`가 있는 자리에서 얼마나 띄어쓸것인지 지정\n",
    "\n",
    "기본값은 8"
   ]
  },
  {
   "cell_type": "code",
   "execution_count": 24,
   "id": "4ded493d-1ebb-4073-86bb-fd909cf1fccc",
   "metadata": {},
   "outputs": [
    {
     "data": {
      "text/plain": [
       "'01        012       0123      01234'"
      ]
     },
     "execution_count": 24,
     "metadata": {},
     "output_type": "execute_result"
    }
   ],
   "source": [
    "'01\\t012\\t0123\\t01234'.expandtabs(10)"
   ]
  },
  {
   "cell_type": "markdown",
   "id": "9985d93b-6b6a-476a-8662-a73c171a28f4",
   "metadata": {},
   "source": [
    "### * str.count(sub[, start[, end]])\n",
    " - 범위 [start, end] 에서 부분 문자열 sub 가 중첩되지 않고 등장하는 횟수를 돌려줍니다. "
   ]
  },
  {
   "cell_type": "code",
   "execution_count": 25,
   "id": "f1af8008-56b4-4871-8881-39fe050229bc",
   "metadata": {},
   "outputs": [
    {
     "data": {
      "text/plain": [
       "4"
      ]
     },
     "execution_count": 25,
     "metadata": {},
     "output_type": "execute_result"
    }
   ],
   "source": [
    "word = \"the count function returns number of some words\"\n",
    "word.count('u')"
   ]
  },
  {
   "cell_type": "markdown",
   "id": "c746d756-aef6-459f-bf40-b245e8fa25a1",
   "metadata": {},
   "source": [
    "### * str.format(`*args`, `**kwargs`)\n",
    " - 문자열 포맷 연산을 수행\n",
    " - `kwargs`는 keyword arguments를 의미한다"
   ]
  },
  {
   "cell_type": "code",
   "execution_count": 26,
   "id": "fd7743af-360b-4506-831c-4b8cb6281d0e",
   "metadata": {},
   "outputs": [
    {
     "data": {
      "text/plain": [
       "'The sum of 1 + 2 is 3'"
      ]
     },
     "execution_count": 26,
     "metadata": {},
     "output_type": "execute_result"
    }
   ],
   "source": [
    "\"The sum of 1 + 2 is {0}\".format(1+2)"
   ]
  },
  {
   "cell_type": "code",
   "execution_count": 27,
   "id": "2090b3eb-a073-4e32-912d-a051c2ee6b4b",
   "metadata": {},
   "outputs": [
    {
     "data": {
      "text/plain": [
       "'ABC was born in DDD'"
      ]
     },
     "execution_count": 27,
     "metadata": {},
     "output_type": "execute_result"
    }
   ],
   "source": [
    "'{name} was born in {country}'.format(name=\"ABC\", country=\"DDD\")"
   ]
  },
  {
   "cell_type": "code",
   "execution_count": 28,
   "id": "c28077a8-8f70-4b56-a5e5-8ccae28e4eed",
   "metadata": {},
   "outputs": [
    {
     "name": "stdout",
     "output_type": "stream",
     "text": [
      "Python has 002 quote types.\n"
     ]
    }
   ],
   "source": [
    "print('%(language)s has %(number)03d quote types.' %{'language': \"Python\", \"number\": 2})"
   ]
  },
  {
   "cell_type": "markdown",
   "id": "a318f0fd-1f9e-4e28-ae26-0f1775d74e4e",
   "metadata": {},
   "source": [
    "### * str.isdecimal()\n",
    " - int형으로 캐스팅 할 수 있는지 확인"
   ]
  },
  {
   "cell_type": "code",
   "execution_count": 29,
   "id": "b19222f9-22a4-4255-9a5e-3a9ccaf61f44",
   "metadata": {},
   "outputs": [
    {
     "name": "stdout",
     "output_type": "stream",
     "text": [
      "True\n",
      "False\n"
     ]
    }
   ],
   "source": [
    "word=\"123\"\n",
    "print(word.isdecimal())\n",
    "\n",
    "word=\"안녕\"\n",
    "print(word.isdecimal())"
   ]
  },
  {
   "cell_type": "markdown",
   "id": "2e32023d-b3a4-4092-b696-7eaeec19e4de",
   "metadata": {},
   "source": [
    "### * str.find(sub[,start[,end]])\n",
    " - index()를 사용하면 부분 문자열을 찾을 수 없는 경우 ValueError을 일으킬 수 있습니다."
   ]
  },
  {
   "cell_type": "code",
   "execution_count": 30,
   "id": "cfd80d61-205a-4309-9706-45e4db17cbf9",
   "metadata": {},
   "outputs": [
    {
     "data": {
      "text/plain": [
       "7"
      ]
     },
     "execution_count": 30,
     "metadata": {},
     "output_type": "execute_result"
    }
   ],
   "source": [
    "\"Python is awesome programming langauge\".find(\"is\")"
   ]
  },
  {
   "cell_type": "markdown",
   "id": "67cbfe50-f622-4a28-8461-05aa1061de7f",
   "metadata": {},
   "source": [
    "### * str.replace(old, new[, count])\n",
    " - 모든 부분 문자열 old 가 new 로 치환된 문자열의 복사본을 돌려줍니다. \n",
    " - 선택적 인자 count 가 주어지면, 앞의 count 개만 치환됩니다."
   ]
  },
  {
   "cell_type": "code",
   "execution_count": 31,
   "id": "87fcebd1-96c1-411f-880b-8c61687b777c",
   "metadata": {},
   "outputs": [
    {
     "data": {
      "text/plain": [
       "'newWord newWord newWord newWord newWord newWord'"
      ]
     },
     "execution_count": 31,
     "metadata": {},
     "output_type": "execute_result"
    }
   ],
   "source": [
    "\"oldWord oldWord oldWord oldWord oldWord oldWord\".replace(\"oldWord\", \"newWord\")"
   ]
  },
  {
   "cell_type": "code",
   "execution_count": 32,
   "id": "8fab33a1-41eb-4e20-a319-c2e3efeaf90b",
   "metadata": {},
   "outputs": [
    {
     "data": {
      "text/plain": [
       "'newWord newWord oldWord oldWord oldWord oldWord'"
      ]
     },
     "execution_count": 32,
     "metadata": {},
     "output_type": "execute_result"
    }
   ],
   "source": [
    "\"oldWord oldWord oldWord oldWord oldWord oldWord\".replace(\"oldWord\", \"newWord\", 2)"
   ]
  },
  {
   "cell_type": "markdown",
   "id": "5c32cd5a-437b-4353-b948-c8402d2d63d4",
   "metadata": {},
   "source": [
    "### * str.join(iterable)"
   ]
  },
  {
   "cell_type": "code",
   "execution_count": 33,
   "id": "1efd4cc9-3410-4009-92d9-c29cff62e16f",
   "metadata": {},
   "outputs": [
    {
     "data": {
      "text/plain": [
       "'python : java : JS : go : processing : C#'"
      ]
     },
     "execution_count": 33,
     "metadata": {},
     "output_type": "execute_result"
    }
   ],
   "source": [
    "\" : \".join([\"python\", \"java\", \"JS\", \"go\", \"processing\",\"C#\"])"
   ]
  },
  {
   "cell_type": "markdown",
   "id": "995ac459-3618-41d6-8973-8c7c14827bb6",
   "metadata": {},
   "source": [
    "### * str.strip([chars])\n",
    "#### str.lstrip([chars])은 왼쪽만\n",
    "#### str.rstrip([chars])은 오른쪽만\n",
    "\n",
    " - 선행 문자가 제거된 문자열의 복사본을 돌려줍니다.\n",
    " - chars 인자는 제거할 문자 집합을 지정하는 문자열입니다. \n",
    " - 생략되거나 None 이라면, chars 인자의 기본값은 공백을 제거하도록 합니다. chars 인자는 접두사가 아닙니다;"
   ]
  },
  {
   "cell_type": "code",
   "execution_count": 34,
   "id": "80dfbd89-3743-4606-a040-4ca9301eb182",
   "metadata": {},
   "outputs": [
    {
     "data": {
      "text/plain": [
       "'---Hello---'"
      ]
     },
     "execution_count": 34,
     "metadata": {},
     "output_type": "execute_result"
    }
   ],
   "source": [
    "' ---Hello--- '.strip()"
   ]
  },
  {
   "cell_type": "code",
   "execution_count": 35,
   "id": "534fece7-bfbe-44c1-84a4-7760d7e697f6",
   "metadata": {},
   "outputs": [
    {
     "data": {
      "text/plain": [
       "'Hello'"
      ]
     },
     "execution_count": 35,
     "metadata": {},
     "output_type": "execute_result"
    }
   ],
   "source": [
    "' ---Hello--- '.strip().strip('---')"
   ]
  },
  {
   "cell_type": "code",
   "execution_count": 36,
   "id": "98007a06-725b-4d57-ac2a-68e5fe726182",
   "metadata": {},
   "outputs": [
    {
     "data": {
      "text/plain": [
       "'spacious   '"
      ]
     },
     "execution_count": 36,
     "metadata": {},
     "output_type": "execute_result"
    }
   ],
   "source": [
    "'   spacious   '.lstrip()"
   ]
  },
  {
   "cell_type": "code",
   "execution_count": 37,
   "id": "324596d3-e3f9-4007-a743-d834775d1531",
   "metadata": {},
   "outputs": [
    {
     "data": {
      "text/plain": [
       "'example'"
      ]
     },
     "execution_count": 37,
     "metadata": {},
     "output_type": "execute_result"
    }
   ],
   "source": [
    "'www.example.com'.lstrip('www.').rstrip('.com')"
   ]
  },
  {
   "cell_type": "markdown",
   "id": "3524bd0b-2b7d-4693-8a43-d510901e18c1",
   "metadata": {},
   "source": [
    "### * str.split(sep=None, maxsplit=-1)\n",
    " - sep 를 구분자 문자열로 사용하여 문자열에 있는 단어들의 `리스트`를 돌려줍니다. \n",
    " - maxsplit 이 주어지면 최대 maxsplit 번의 분할이 수행됩니다 (따라서, 리스트는 최대 maxsplit+1 개의 요소를 가지게 됩니다)\n",
    " - maxsplit 이 지정되지 않았거나 -1 이라면 분할 수에 제한이 없습니다"
   ]
  },
  {
   "cell_type": "code",
   "execution_count": 38,
   "id": "b4a8f816-f998-4662-86fa-136c900a8d2a",
   "metadata": {},
   "outputs": [
    {
     "data": {
      "text/plain": [
       "['1', '2', '3']"
      ]
     },
     "execution_count": 38,
     "metadata": {},
     "output_type": "execute_result"
    }
   ],
   "source": [
    "'1,2,3'.split(',')"
   ]
  },
  {
   "cell_type": "code",
   "execution_count": 39,
   "id": "d29807d8-51cd-423e-970e-eb7b8b769653",
   "metadata": {},
   "outputs": [
    {
     "data": {
      "text/plain": [
       "['1', '2,3']"
      ]
     },
     "execution_count": 39,
     "metadata": {},
     "output_type": "execute_result"
    }
   ],
   "source": [
    "'1,2,3'.split(',', maxsplit=1)"
   ]
  },
  {
   "cell_type": "markdown",
   "id": "5c14ce79-d8b5-4cbf-bda8-6add851f1879",
   "metadata": {},
   "source": [
    "## - 문자 포맷팅"
   ]
  },
  {
   "cell_type": "markdown",
   "id": "9a75ec86-5334-46e8-9965-6b6d83bede1e",
   "metadata": {},
   "source": [
    "다양한 문자 포맷팅(formatting) 방식이 있다."
   ]
  },
  {
   "cell_type": "markdown",
   "id": "0b5d29e6-f7e1-400a-8eed-5371fc45ff36",
   "metadata": {},
   "source": [
    " - `!r`과 `!s`"
   ]
  },
  {
   "cell_type": "code",
   "execution_count": 40,
   "id": "e4b9fdcf-d044-460f-abe3-a71c4c9b57d8",
   "metadata": {},
   "outputs": [
    {
     "name": "stdout",
     "output_type": "stream",
     "text": [
      "repr() shows quotes: 'test1'; str() doesn't: test2\n"
     ]
    }
   ],
   "source": [
    "word = \"repr() shows quotes: {!r}; str() doesn't: {!s}\".format('test1', 'test2')\n",
    "print(word)"
   ]
  },
  {
   "cell_type": "code",
   "execution_count": 41,
   "id": "1479230f-b192-405c-a533-e193796eb2a2",
   "metadata": {},
   "outputs": [
    {
     "name": "stdout",
     "output_type": "stream",
     "text": [
      "repr() shows quotes: test1; str() doesn't: test2\n"
     ]
    }
   ],
   "source": [
    "word = \"repr() shows quotes: {}; str() doesn't: {}\".format('test1', 'test2')\n",
    "print(word) # `{}`라고만 표현하면 quotes없이 문자열이 표현된다"
   ]
  },
  {
   "cell_type": "markdown",
   "id": "ef752400-745f-4972-8616-fb1640f38431",
   "metadata": {},
   "source": [
    " - 공백 포맷팅"
   ]
  },
  {
   "cell_type": "code",
   "execution_count": 42,
   "id": "5e2ba39f-4db4-41ff-a5e7-a8c7b183d0d6",
   "metadata": {},
   "outputs": [
    {
     "data": {
      "text/plain": [
       "'left aligned                  '"
      ]
     },
     "execution_count": 42,
     "metadata": {},
     "output_type": "execute_result"
    }
   ],
   "source": [
    "'{:<30}'.format('left aligned')"
   ]
  },
  {
   "cell_type": "code",
   "execution_count": 43,
   "id": "a1d718f4-ea5e-4125-aaf1-87da009180b9",
   "metadata": {},
   "outputs": [
    {
     "data": {
      "text/plain": [
       "'                 right aligned'"
      ]
     },
     "execution_count": 43,
     "metadata": {},
     "output_type": "execute_result"
    }
   ],
   "source": [
    "'{:>30}'.format('right aligned')"
   ]
  },
  {
   "cell_type": "code",
   "execution_count": 44,
   "id": "2e51eebb-26f2-4609-94f4-f0e5a9f40dc4",
   "metadata": {},
   "outputs": [
    {
     "data": {
      "text/plain": [
       "'           centered           '"
      ]
     },
     "execution_count": 44,
     "metadata": {},
     "output_type": "execute_result"
    }
   ],
   "source": [
    "'{:^30}'.format('centered')"
   ]
  },
  {
   "cell_type": "code",
   "execution_count": 45,
   "id": "88968016-3816-44ce-9705-368ac9596dbe",
   "metadata": {},
   "outputs": [
    {
     "data": {
      "text/plain": [
       "'***********centered***********'"
      ]
     },
     "execution_count": 45,
     "metadata": {},
     "output_type": "execute_result"
    }
   ],
   "source": [
    "'{:*^30}'.format('centered')  # use '*' as a fill char"
   ]
  },
  {
   "cell_type": "markdown",
   "id": "d4ebc9e1-1d06-495d-8398-2d9f27524578",
   "metadata": {},
   "source": [
    " - 숫자 표현 형식 포맷팅"
   ]
  },
  {
   "cell_type": "code",
   "execution_count": 46,
   "id": "e3924192-8204-477b-8f0b-69a859ca7df2",
   "metadata": {},
   "outputs": [
    {
     "data": {
      "text/plain": [
       "'1,234,567,890'"
      ]
     },
     "execution_count": 46,
     "metadata": {},
     "output_type": "execute_result"
    }
   ],
   "source": [
    "'{:,}'.format(1234567890)"
   ]
  },
  {
   "cell_type": "code",
   "execution_count": 47,
   "id": "258904de-a780-4d1f-923f-c7b6d9a7559d",
   "metadata": {},
   "outputs": [
    {
     "data": {
      "text/plain": [
       "'Correct answers: 86.36%'"
      ]
     },
     "execution_count": 47,
     "metadata": {},
     "output_type": "execute_result"
    }
   ],
   "source": [
    "points = 19\n",
    "total = 22\n",
    "'Correct answers: {:.2%}'.format(points/total)"
   ]
  },
  {
   "cell_type": "code",
   "execution_count": 48,
   "id": "823704e5-9641-4702-a216-ec02fab77017",
   "metadata": {},
   "outputs": [
    {
     "name": "stdout",
     "output_type": "stream",
     "text": [
      "   42572654 YES votes  49.67%\n"
     ]
    }
   ],
   "source": [
    "yes_votes = 42_572_654 # 실제값은 42572654이지만 어떤 단위의 숫자인지 알아보기 쉽다.\n",
    "no_votes = 43_132_495\n",
    "percentage = yes_votes / (yes_votes + no_votes)\n",
    "print('{:-11} YES votes  {:2.2%}'.format(yes_votes, percentage)) # {:-11} == {:>11}"
   ]
  },
  {
   "cell_type": "markdown",
   "id": "0472974e-5399-4565-9b84-99959883ef62",
   "metadata": {
    "tags": []
   },
   "source": [
    " - 튜플을 통한 포맷팅"
   ]
  },
  {
   "cell_type": "code",
   "execution_count": 49,
   "id": "bdd79a6c-63d3-42fa-a4c8-ad3938d18edc",
   "metadata": {},
   "outputs": [
    {
     "data": {
      "text/plain": [
       "'X: 3;  Y: 5'"
      ]
     },
     "execution_count": 49,
     "metadata": {},
     "output_type": "execute_result"
    }
   ],
   "source": [
    "coord = (3, 5)\n",
    "'X: {0[0]};  Y: {0[1]}'.format(coord)"
   ]
  },
  {
   "cell_type": "markdown",
   "id": "14b45a73-f91a-49c1-929b-d45cdf260536",
   "metadata": {},
   "source": [
    " - 딕셔너리를 통한 포맷팅"
   ]
  },
  {
   "cell_type": "code",
   "execution_count": 50,
   "id": "a17a82a8-406e-4338-a4e1-1efd7730a4d2",
   "metadata": {},
   "outputs": [
    {
     "data": {
      "text/plain": [
       "'Coordinates: 37.24N, -115.81W'"
      ]
     },
     "execution_count": 50,
     "metadata": {},
     "output_type": "execute_result"
    }
   ],
   "source": [
    "coord = {'latitude': '37.24N', 'longitude': '-115.81W'}\n",
    "'Coordinates: {latitude}, {longitude}'.format(**coord)"
   ]
  },
  {
   "cell_type": "code",
   "execution_count": 51,
   "id": "c7b9e59c-10f6-4d11-8b76-09decef725d3",
   "metadata": {},
   "outputs": [
    {
     "name": "stdout",
     "output_type": "stream",
     "text": [
      "Sjoerd     ==>       4127\n",
      "Jack       ==>       4098\n",
      "Dcab       ==>       7678\n"
     ]
    }
   ],
   "source": [
    "table = {'Sjoerd': 4127, 'Jack': 4098, 'Dcab': 7678}\n",
    "for name, phone in table.items():\n",
    "    print(f'{name:10} ==> {phone:10d}')"
   ]
  },
  {
   "cell_type": "code",
   "execution_count": 52,
   "id": "7a6cc868-2ab5-444b-aae5-bedbedb1069e",
   "metadata": {},
   "outputs": [
    {
     "name": "stdout",
     "output_type": "stream",
     "text": [
      "Jack: 4098; Sjoerd: 4127; Dcab: 8637678\n"
     ]
    }
   ],
   "source": [
    "table = {'Sjoerd': 4127, 'Jack': 4098, 'Dcab': 8637678}\n",
    "print('Jack: {Jack:d}; Sjoerd: {Sjoerd:d}; Dcab: {Dcab:d}'.format(**table))"
   ]
  },
  {
   "cell_type": "code",
   "execution_count": 53,
   "id": "745b7d6b-d397-40c3-9061-14d0a4a5cf83",
   "metadata": {},
   "outputs": [
    {
     "data": {
      "text/plain": [
       "'Results of the 2016 Hackerton'"
      ]
     },
     "execution_count": 53,
     "metadata": {},
     "output_type": "execute_result"
    }
   ],
   "source": [
    "year, event = 2016, 'Hackerton'\n",
    "f'Results of the {year} {event}'"
   ]
  },
  {
   "cell_type": "markdown",
   "id": "97221eb5-9424-4043-9593-7061bd457dfc",
   "metadata": {},
   "source": [
    " - 날짜 형식 포맷팅"
   ]
  },
  {
   "cell_type": "code",
   "execution_count": 54,
   "id": "3318c755-4463-4c3c-82b5-ad92a46c8800",
   "metadata": {},
   "outputs": [
    {
     "name": "stdout",
     "output_type": "stream",
     "text": [
      "2010-07-04 12:15:58\n",
      "<class 'datetime.datetime'>\n",
      "2010-07-04 12:15:58\n",
      "<class 'str'>\n"
     ]
    }
   ],
   "source": [
    "import datetime\n",
    "d = datetime.datetime(2010, 7, 4, 12, 15, 58)\n",
    "print(d)\n",
    "print(type(d)) # 객체 자료형보기\n",
    "result = '{:%Y-%m-%d %H:%M:%S}'.format(d)\n",
    "print(result)\n",
    "print(type(result))"
   ]
  },
  {
   "cell_type": "markdown",
   "id": "7af9e5e0-9afb-4c39-a9ff-25915d4b0eeb",
   "metadata": {},
   "source": [
    "<br>\n",
    "<br>\n",
    "<br>\n",
    "<br>\n",
    "<br>\n",
    "<br>\n",
    "<hr>\n",
    "<br>\n",
    "<br>\n",
    "<br>\n",
    "<br>\n",
    "<br>\n",
    "<br>"
   ]
  }
 ],
 "metadata": {
  "kernelspec": {
   "display_name": "Python 3 (ipykernel)",
   "language": "python",
   "name": "python3"
  },
  "language_info": {
   "codemirror_mode": {
    "name": "ipython",
    "version": 3
   },
   "file_extension": ".py",
   "mimetype": "text/x-python",
   "name": "python",
   "nbconvert_exporter": "python",
   "pygments_lexer": "ipython3",
   "version": "3.9.7"
  }
 },
 "nbformat": 4,
 "nbformat_minor": 5
}
