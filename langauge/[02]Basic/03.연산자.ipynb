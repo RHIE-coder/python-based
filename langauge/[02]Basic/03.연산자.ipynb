{
 "cells": [
  {
   "cell_type": "markdown",
   "id": "da8ab984-3774-41b5-a82a-004491fdf118",
   "metadata": {
    "tags": []
   },
   "source": [
    "# 03. 연산자"
   ]
  },
  {
   "cell_type": "markdown",
   "id": "d9a69a8d-f48b-45e8-8eb4-6a53ceb706ed",
   "metadata": {},
   "source": [
    "## - 산술연산 `+`, `-`, `*`, `**`, `/`, `//`, `%`"
   ]
  },
  {
   "cell_type": "markdown",
   "id": "2ffe9566-3075-4e49-99ba-d77f8f1de09e",
   "metadata": {},
   "source": [
    " - 더하기"
   ]
  },
  {
   "cell_type": "code",
   "execution_count": 1,
   "id": "7a312c67-d638-4b38-89a8-bba589207af1",
   "metadata": {},
   "outputs": [
    {
     "data": {
      "text/plain": [
       "8"
      ]
     },
     "execution_count": 1,
     "metadata": {},
     "output_type": "execute_result"
    }
   ],
   "source": [
    "3 + 5"
   ]
  },
  {
   "cell_type": "markdown",
   "id": "54475b76-1f96-44cc-986e-df54931eae04",
   "metadata": {},
   "source": [
    " - 빼기"
   ]
  },
  {
   "cell_type": "code",
   "execution_count": 2,
   "id": "b9f83b48-a34a-4e4a-8f63-ce1aa2b5ac3e",
   "metadata": {},
   "outputs": [
    {
     "data": {
      "text/plain": [
       "7"
      ]
     },
     "execution_count": 2,
     "metadata": {},
     "output_type": "execute_result"
    }
   ],
   "source": [
    "10 - 3"
   ]
  },
  {
   "cell_type": "markdown",
   "id": "1c20a0cc-a765-4fd1-be80-797047fce0d2",
   "metadata": {},
   "source": [
    " - 곱하기"
   ]
  },
  {
   "cell_type": "code",
   "execution_count": 3,
   "id": "5de24499-d135-4790-8799-8111b8e73a5e",
   "metadata": {},
   "outputs": [
    {
     "data": {
      "text/plain": [
       "80"
      ]
     },
     "execution_count": 3,
     "metadata": {},
     "output_type": "execute_result"
    }
   ],
   "source": [
    "40 * 2"
   ]
  },
  {
   "cell_type": "markdown",
   "id": "1902fa30-937c-49e5-84a9-11d5e1709bac",
   "metadata": {},
   "source": [
    " - n제곱"
   ]
  },
  {
   "cell_type": "code",
   "execution_count": 4,
   "id": "54fccee2-1001-4f44-a8d8-7d9c74c9fe69",
   "metadata": {},
   "outputs": [
    {
     "data": {
      "text/plain": [
       "8"
      ]
     },
     "execution_count": 4,
     "metadata": {},
     "output_type": "execute_result"
    }
   ],
   "source": [
    "2 ** 3"
   ]
  },
  {
   "cell_type": "markdown",
   "id": "d828cfa1-0c35-42be-8c9f-7bf4dfc0fc3d",
   "metadata": {},
   "source": [
    " - 나누기(소수의 몫)"
   ]
  },
  {
   "cell_type": "code",
   "execution_count": 5,
   "id": "d0650231-e41b-4366-b68e-eef5b72862a3",
   "metadata": {},
   "outputs": [
    {
     "data": {
      "text/plain": [
       "3.3333333333333335"
      ]
     },
     "execution_count": 5,
     "metadata": {},
     "output_type": "execute_result"
    }
   ],
   "source": [
    "10 / 3"
   ]
  },
  {
   "cell_type": "markdown",
   "id": "ac7960f2-0abc-4c2a-a211-f6893ecb7f8e",
   "metadata": {},
   "source": [
    " - 나누기(정수의 몫)"
   ]
  },
  {
   "cell_type": "code",
   "execution_count": 6,
   "id": "c0e9222f-4490-4bc9-851a-eaf7ef073a23",
   "metadata": {},
   "outputs": [
    {
     "data": {
      "text/plain": [
       "3"
      ]
     },
     "execution_count": 6,
     "metadata": {},
     "output_type": "execute_result"
    }
   ],
   "source": [
    "10 // 3"
   ]
  },
  {
   "cell_type": "markdown",
   "id": "00852801-14ba-41df-aaf7-4fbabe295412",
   "metadata": {},
   "source": [
    " - 나누기(나머지)"
   ]
  },
  {
   "cell_type": "code",
   "execution_count": 7,
   "id": "7a865c5a-aa0d-47d8-8ac1-5abfc2edc84e",
   "metadata": {},
   "outputs": [
    {
     "data": {
      "text/plain": [
       "1"
      ]
     },
     "execution_count": 7,
     "metadata": {},
     "output_type": "execute_result"
    }
   ],
   "source": [
    "10 % 3"
   ]
  },
  {
   "cell_type": "markdown",
   "id": "65a7b946-167c-4630-848c-cda9fa267372",
   "metadata": {
    "tags": []
   },
   "source": [
    "## - 할당연산 `+=`, `-=`, `*=`, `**=`, `/=`, `//=`, `%=`"
   ]
  },
  {
   "cell_type": "markdown",
   "id": "859f2547-20f2-4e64-aefb-1d93a1fad932",
   "metadata": {},
   "source": [
    " - 더하기"
   ]
  },
  {
   "cell_type": "code",
   "execution_count": 8,
   "id": "fd2f8303-7480-49a1-acb8-92a537613e4c",
   "metadata": {
    "tags": []
   },
   "outputs": [
    {
     "name": "stdout",
     "output_type": "stream",
     "text": [
      "50\n"
     ]
    }
   ],
   "source": [
    "num = 10\n",
    "num = num + 20\n",
    "num += 20\n",
    "print(num)"
   ]
  },
  {
   "cell_type": "markdown",
   "id": "7d26992a-0eb4-4f19-9ae2-8e97b5bc2d2d",
   "metadata": {},
   "source": [
    " - 빼기"
   ]
  },
  {
   "cell_type": "code",
   "execution_count": 9,
   "id": "8fb0a134-80c6-4ad4-8398-cbb166445056",
   "metadata": {},
   "outputs": [
    {
     "name": "stdout",
     "output_type": "stream",
     "text": [
      "10\n"
     ]
    }
   ],
   "source": [
    "num = 20\n",
    "num -= 10\n",
    "print(num)"
   ]
  },
  {
   "cell_type": "markdown",
   "id": "227a64ad-3ac8-4137-aa51-59f953a676cd",
   "metadata": {},
   "source": [
    " - 곱하기"
   ]
  },
  {
   "cell_type": "code",
   "execution_count": 10,
   "id": "e1926d1a-1bc3-40c5-8464-e2c077a24b0e",
   "metadata": {},
   "outputs": [
    {
     "name": "stdout",
     "output_type": "stream",
     "text": [
      "100\n"
     ]
    }
   ],
   "source": [
    "num = 10\n",
    "num *= 10\n",
    "print(num)"
   ]
  },
  {
   "cell_type": "markdown",
   "id": "9876228c-720b-4d3f-89ad-d7bbb830ea65",
   "metadata": {},
   "source": [
    " - n제곱"
   ]
  },
  {
   "cell_type": "code",
   "execution_count": 11,
   "id": "26cae6fd-adac-4ef1-a0e2-fab0c15f40be",
   "metadata": {},
   "outputs": [
    {
     "name": "stdout",
     "output_type": "stream",
     "text": [
      "1000\n"
     ]
    }
   ],
   "source": [
    "num = 10\n",
    "num **= 3\n",
    "print(num)"
   ]
  },
  {
   "cell_type": "markdown",
   "id": "1bf7fc18-d937-46d4-8710-1db761630f06",
   "metadata": {},
   "source": [
    " - 나누기(소수의 몫)"
   ]
  },
  {
   "cell_type": "code",
   "execution_count": 12,
   "id": "4b5a4c16-33a5-4374-926b-04db249cbfe7",
   "metadata": {},
   "outputs": [
    {
     "name": "stdout",
     "output_type": "stream",
     "text": [
      "3.3333333333333335\n"
     ]
    }
   ],
   "source": [
    "num = 10\n",
    "num /= 3\n",
    "print(num)"
   ]
  },
  {
   "cell_type": "markdown",
   "id": "b6e49dd2-117f-4eae-8319-b691b7ff27d9",
   "metadata": {},
   "source": [
    " - 나누기(정수의 몫)"
   ]
  },
  {
   "cell_type": "code",
   "execution_count": 13,
   "id": "6c645daa-3848-4db8-b781-c90004cb7b24",
   "metadata": {},
   "outputs": [
    {
     "name": "stdout",
     "output_type": "stream",
     "text": [
      "3\n"
     ]
    }
   ],
   "source": [
    "num = 10\n",
    "num //= 3\n",
    "print(num)"
   ]
  },
  {
   "cell_type": "markdown",
   "id": "5406b25d-f219-4521-9e1a-cae13f87723f",
   "metadata": {},
   "source": [
    " - 나누기(나머지)"
   ]
  },
  {
   "cell_type": "code",
   "execution_count": 14,
   "id": "21d737e5-c7d2-4a57-ac56-b875874b08ad",
   "metadata": {},
   "outputs": [
    {
     "name": "stdout",
     "output_type": "stream",
     "text": [
      "1\n"
     ]
    }
   ],
   "source": [
    "num = 10\n",
    "num %= 3\n",
    "print(num)"
   ]
  },
  {
   "cell_type": "markdown",
   "id": "9d04de95-e03c-48e3-a06a-bb05f932256c",
   "metadata": {},
   "source": [
    "파이썬에는 증감연산 `++`, `--` 이 없다"
   ]
  },
  {
   "cell_type": "markdown",
   "id": "dbb37a66-4193-476d-8e54-871eb1795403",
   "metadata": {},
   "source": [
    "## - 비교연산 `<=`, `>=`, `<`, `>`, `==`, `!=`"
   ]
  },
  {
   "cell_type": "markdown",
   "id": "4d0740b6-454c-4375-a984-51607f57e4b1",
   "metadata": {},
   "source": [
    "왼쪽 기준으로 비교하면 된다.\n",
    " - `==` : 같다\n",
    " - `!=` : 같지 않다"
   ]
  },
  {
   "cell_type": "code",
   "execution_count": 15,
   "id": "573b0bc5-606a-48c9-981a-0ee7d18d2a61",
   "metadata": {},
   "outputs": [
    {
     "data": {
      "text/plain": [
       "True"
      ]
     },
     "execution_count": 15,
     "metadata": {},
     "output_type": "execute_result"
    }
   ],
   "source": [
    "5 <= 5"
   ]
  },
  {
   "cell_type": "code",
   "execution_count": 16,
   "id": "e178cff6-add5-450b-9453-b5ffb7f0db81",
   "metadata": {},
   "outputs": [
    {
     "data": {
      "text/plain": [
       "False"
      ]
     },
     "execution_count": 16,
     "metadata": {},
     "output_type": "execute_result"
    }
   ],
   "source": [
    "5 < 5"
   ]
  },
  {
   "cell_type": "code",
   "execution_count": 17,
   "id": "3d8cdb3f-a658-4312-aac1-ed0329b5fcdb",
   "metadata": {},
   "outputs": [
    {
     "data": {
      "text/plain": [
       "True"
      ]
     },
     "execution_count": 17,
     "metadata": {},
     "output_type": "execute_result"
    }
   ],
   "source": [
    "4 > 2"
   ]
  },
  {
   "cell_type": "code",
   "execution_count": 18,
   "id": "5e4b8f55-33fa-416e-b257-7efb9636645b",
   "metadata": {},
   "outputs": [
    {
     "data": {
      "text/plain": [
       "True"
      ]
     },
     "execution_count": 18,
     "metadata": {},
     "output_type": "execute_result"
    }
   ],
   "source": [
    "3 >= 0"
   ]
  },
  {
   "cell_type": "code",
   "execution_count": 19,
   "id": "c417d3c0-a7c9-42ea-a400-bf4b5f0dd8bb",
   "metadata": {},
   "outputs": [
    {
     "data": {
      "text/plain": [
       "True"
      ]
     },
     "execution_count": 19,
     "metadata": {},
     "output_type": "execute_result"
    }
   ],
   "source": [
    "10 == 10"
   ]
  },
  {
   "cell_type": "code",
   "execution_count": 20,
   "id": "bf4f7b12-f0c5-405a-97d0-19ec286981c4",
   "metadata": {},
   "outputs": [
    {
     "data": {
      "text/plain": [
       "False"
      ]
     },
     "execution_count": 20,
     "metadata": {},
     "output_type": "execute_result"
    }
   ],
   "source": [
    "1 != 1"
   ]
  },
  {
   "cell_type": "markdown",
   "id": "a6f39c13-5ed8-400f-8362-147d649bf4d7",
   "metadata": {},
   "source": [
    "## - 식별(Identity)연산 `is`, `is not`\n",
    "\n",
    "값을 비교하는 것이 아니라 메모리 주소값을 비교\n",
    "\n",
    "파이썬은 정수 -5~256까지 이미 객체를 만들어 보관(메모리 주소가 일정함)\n",
    "\n",
    "string도 짧은 문자열은 같은 주소에 할당되나, 긴 문자열은 다른 주소에 할당됨"
   ]
  },
  {
   "cell_type": "code",
   "execution_count": 21,
   "id": "b1e7cfa3-8bca-4ce6-87bc-e15096c53ddd",
   "metadata": {},
   "outputs": [
    {
     "name": "stdout",
     "output_type": "stream",
     "text": [
      "True\n",
      "True\n",
      "1428084184528\n",
      "1428084184528\n"
     ]
    }
   ],
   "source": [
    "# == 와 is의 차이\n",
    "x = 100\n",
    "y = 100\n",
    "print(x == y)\n",
    "print(x is y)\n",
    "print(id(x)) #주소값 확인 id()\n",
    "print(id(y))"
   ]
  },
  {
   "cell_type": "code",
   "execution_count": 22,
   "id": "6a540a0c-bb80-4906-9555-3219c56ced55",
   "metadata": {},
   "outputs": [
    {
     "name": "stdout",
     "output_type": "stream",
     "text": [
      "True\n",
      "False\n",
      "1428155970864\n",
      "1428155970256\n"
     ]
    }
   ],
   "source": [
    "x = 257\n",
    "y = 257\n",
    "print(x == y)\n",
    "print(x is y)\n",
    "print(id(x))\n",
    "print(id(y))"
   ]
  },
  {
   "cell_type": "markdown",
   "id": "a8cb5503-7625-44d0-969f-71c2935a6d56",
   "metadata": {},
   "source": [
    "## - 논리 연산 `and`, `or`, `not`"
   ]
  },
  {
   "cell_type": "code",
   "execution_count": 23,
   "id": "76f45ac6-4ea6-4dab-a903-250bf7b01206",
   "metadata": {},
   "outputs": [
    {
     "name": "stdout",
     "output_type": "stream",
     "text": [
      "True\n",
      "False\n",
      "False\n",
      "False\n"
     ]
    }
   ],
   "source": [
    "print(True and True)\n",
    "print(True and False)\n",
    "print(False and True)\n",
    "print(False and False)"
   ]
  },
  {
   "cell_type": "code",
   "execution_count": 24,
   "id": "75e62ffe-e363-4491-b2f8-13df37fafa26",
   "metadata": {},
   "outputs": [
    {
     "name": "stdout",
     "output_type": "stream",
     "text": [
      "True\n",
      "True\n",
      "True\n",
      "False\n"
     ]
    }
   ],
   "source": [
    "print(True or True)\n",
    "print(True or False)\n",
    "print(False or True)\n",
    "print(False or False)"
   ]
  },
  {
   "cell_type": "code",
   "execution_count": 25,
   "id": "8270dc42-fa8f-4991-9d2c-21575a4dad0d",
   "metadata": {},
   "outputs": [
    {
     "data": {
      "text/plain": [
       "False"
      ]
     },
     "execution_count": 25,
     "metadata": {},
     "output_type": "execute_result"
    }
   ],
   "source": [
    "not True"
   ]
  },
  {
   "cell_type": "markdown",
   "id": "252bdb6c-bda6-4502-aa1a-9c2769833e7f",
   "metadata": {},
   "source": [
    "## - 비트연산 `<<`, `>>`, `^`, `|`, `&`, `~`"
   ]
  },
  {
   "cell_type": "markdown",
   "id": "84ca79ad-4c0e-407b-9909-f4d3014bfde4",
   "metadata": {},
   "source": [
    "0과 1로 이루어진 bit 연산을 수행할 때 사용하는 연산자들인데, 당장 쓸일도 없고 많이 사용하지도 않는다.\n",
    "\n",
    "나중에 필요할 때 어떻게 사용하는지 찾아보고 이번장에는 PASS~!"
   ]
  },
  {
   "cell_type": "code",
   "execution_count": 26,
   "id": "15f83447-17d2-4e61-9829-3f14b6d048ba",
   "metadata": {},
   "outputs": [],
   "source": [
    "# PASS"
   ]
  },
  {
   "cell_type": "markdown",
   "id": "9e747652-8d0f-4315-a463-eb423af153bf",
   "metadata": {},
   "source": [
    "### * 진법 활용 \n",
    " - `bin()` : 2진법\n",
    " - `oct()` : 8진법\n",
    " - `hex()` : 16진법"
   ]
  },
  {
   "cell_type": "code",
   "execution_count": 27,
   "id": "2eceefcf-21f1-4262-90eb-88d14cdf1c51",
   "metadata": {},
   "outputs": [
    {
     "data": {
      "text/plain": [
       "('0b1010', '0o12', '0xa')"
      ]
     },
     "execution_count": 27,
     "metadata": {},
     "output_type": "execute_result"
    }
   ],
   "source": [
    "bin(10), oct(10), hex(10)"
   ]
  },
  {
   "cell_type": "markdown",
   "id": "da95e13f-7f02-4540-8fa7-aca17653f152",
   "metadata": {},
   "source": [
    " - `0b` : 2진법 표기\n",
    " - `0o` : 8진법 표기\n",
    " - `0x` : 16진법 표기\n",
    " \n",
    "아래 `int()`를 통해 각 진법의 숫자 표현 체계를 우리에게 익숙한 10진법 숫자로 받을 수 있다."
   ]
  },
  {
   "cell_type": "code",
   "execution_count": 28,
   "id": "84aab1a4-7767-4c4f-959b-4b5382dbf8de",
   "metadata": {},
   "outputs": [
    {
     "data": {
      "text/plain": [
       "(10, 10, 10)"
      ]
     },
     "execution_count": 28,
     "metadata": {},
     "output_type": "execute_result"
    }
   ],
   "source": [
    "int('0b1010', 2), int('0o12', 8), int('0xa', 16)"
   ]
  },
  {
   "cell_type": "markdown",
   "id": "b6dad2c0-fede-4272-b575-8c3a8a0fe040",
   "metadata": {},
   "source": [
    "<br>\n",
    "<br>\n",
    "<br>\n",
    "<br>\n",
    "<br>\n",
    "<br>\n",
    "<hr>\n",
    "<br>\n",
    "<br>\n",
    "<br>\n",
    "<br>\n",
    "<br>\n",
    "<br>"
   ]
  }
 ],
 "metadata": {
  "kernelspec": {
   "display_name": "Python 3 (ipykernel)",
   "language": "python",
   "name": "python3"
  },
  "language_info": {
   "codemirror_mode": {
    "name": "ipython",
    "version": 3
   },
   "file_extension": ".py",
   "mimetype": "text/x-python",
   "name": "python",
   "nbconvert_exporter": "python",
   "pygments_lexer": "ipython3",
   "version": "3.9.6"
  }
 },
 "nbformat": 4,
 "nbformat_minor": 5
}
